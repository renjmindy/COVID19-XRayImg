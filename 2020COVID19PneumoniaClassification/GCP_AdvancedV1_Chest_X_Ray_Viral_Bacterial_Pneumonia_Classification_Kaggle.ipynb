{
  "nbformat": 4,
  "nbformat_minor": 0,
  "metadata": {
    "colab": {
      "name": "AdvancedV1 Chest X-Ray Viral Bacterial Pneumonia Classification Kaggle.ipynb",
      "provenance": [],
      "collapsed_sections": []
    },
    "kernelspec": {
      "name": "python3",
      "display_name": "Python 3"
    },
    "language_info": {
      "name": "python"
    },
    "accelerator": "TPU"
  },
  "cells": [
    {
      "cell_type": "code",
      "metadata": {
        "id": "2YEKImJmJtIC"
      },
      "source": [
        "!pip3 install -q tqdm "
      ],
      "execution_count": 2,
      "outputs": []
    },
    {
      "cell_type": "code",
      "metadata": {
        "id": "kn1XMlgPMjKE"
      },
      "source": [
        "!pip3 install -q imgaug"
      ],
      "execution_count": 3,
      "outputs": []
    },
    {
      "cell_type": "code",
      "metadata": {
        "id": "J3jhM-ADbO7X"
      },
      "source": [
        "import random\n",
        "import math\n",
        "import json\n",
        "from imgaug import augmenters as iaa\n",
        "from tqdm import tqdm \n",
        "import glob\n",
        "from google.colab import files\n",
        "from google.colab import drive\n",
        "import time\n",
        "import datetime\n",
        "from datetime import date\n",
        "import os, sys, shutil\n",
        "import matplotlib.pyplot as plt\n",
        "import matplotlib.image as mpimg\n",
        "%matplotlib inline\n",
        "import itertools\n",
        "import scipy\n",
        "import numpy as np\n",
        "import pandas as pd\n",
        "import pickle\n",
        "from PIL import Image\n",
        "from scipy import ndimage\n",
        "from sklearn.preprocessing import LabelBinarizer, StandardScaler, OneHotEncoder\n",
        "from sklearn.impute import SimpleImputer\n",
        "from sklearn.model_selection import train_test_split, cross_val_predict\n",
        "from sklearn.metrics import accuracy_score, precision_score, recall_score, f1_score, mean_squared_error\n",
        "from sklearn.metrics import roc_auc_score, roc_curve, auc, classification_report, confusion_matrix, plot_confusion_matrix\n",
        "from sklearn.multiclass import OneVsRestClassifier\n",
        "from keras.utils.np_utils import to_categorical\n",
        "from keras.preprocessing.text import Tokenizer\n",
        "from keras.preprocessing.image import array_to_img, img_to_array, load_img\n",
        "from keras import regularizers\n",
        "from keras import optimizers\n",
        "from keras.models import load_model\n",
        "from keras.wrappers.scikit_learn import KerasRegressor\n",
        "\n",
        "import tensorflow as tf\n",
        "from tensorflow.keras.models import Sequential\n",
        "from tensorflow.keras.layers import Dense, Conv2D, Flatten, Dropout, MaxPooling2D\n",
        "from tensorflow.keras.preprocessing.image import ImageDataGenerator\n",
        "\n",
        "np.random.seed(123)\n",
        "original_start = datetime.datetime.now()\n",
        "start = datetime.datetime.now()\n",
        "\n",
        "import warnings\n",
        "warnings.filterwarnings('ignore')"
      ],
      "execution_count": 4,
      "outputs": []
    },
    {
      "cell_type": "code",
      "metadata": {
        "id": "NoNCsw47M5lm",
        "colab": {
          "base_uri": "https://localhost:8080/"
        },
        "outputId": "ab652623-318b-4564-ac12-2af9ccf9f946"
      },
      "source": [
        "!ls"
      ],
      "execution_count": 5,
      "outputs": [
        {
          "output_type": "stream",
          "text": [
            "sample_data\n"
          ],
          "name": "stdout"
        }
      ]
    },
    {
      "cell_type": "code",
      "metadata": {
        "id": "LoUz1Cl2NXsf",
        "colab": {
          "base_uri": "https://localhost:8080/"
        },
        "outputId": "b1615155-6d2e-471d-b9f1-ae902e978eee"
      },
      "source": [
        "# directory of the project\n",
        "drive.mount('/content/gdrive')\n",
        "!mkdir /content/gdrive/My\\ Drive/Kaggle\n",
        "os.environ['KAGGLE_CONFIG_DIR'] = \"/content/gdrive/My Drive/Kaggle\""
      ],
      "execution_count": 6,
      "outputs": [
        {
          "output_type": "stream",
          "text": [
            "Mounted at /content/gdrive\n",
            "mkdir: cannot create directory ‘/content/gdrive/My Drive/Kaggle’: File exists\n"
          ],
          "name": "stdout"
        }
      ]
    },
    {
      "cell_type": "code",
      "metadata": {
        "id": "D91gHfF-SJCV",
        "colab": {
          "base_uri": "https://localhost:8080/"
        },
        "outputId": "4c938672-6e49-4b96-e5cc-a9cc414252d1"
      },
      "source": [
        "%cd /content/gdrive/My Drive/Kaggle"
      ],
      "execution_count": 7,
      "outputs": [
        {
          "output_type": "stream",
          "text": [
            "/content/gdrive/My Drive/Kaggle\n"
          ],
          "name": "stdout"
        }
      ]
    },
    {
      "cell_type": "code",
      "metadata": {
        "id": "Buz9v8X4sK2c",
        "colab": {
          "base_uri": "https://localhost:8080/"
        },
        "outputId": "2283c94f-bd01-41db-ae54-434d3f6fe85b"
      },
      "source": [
        "!ls"
      ],
      "execution_count": 8,
      "outputs": [
        {
          "output_type": "stream",
          "text": [
            "chest_xray\n"
          ],
          "name": "stdout"
        }
      ]
    },
    {
      "cell_type": "code",
      "metadata": {
        "id": "zF13vqxKv3vX"
      },
      "source": [
        "# Root directory of the project\n",
        "ROOT_DIR = os.path.abspath('/content/gdrive/My Drive/Kaggle')"
      ],
      "execution_count": 9,
      "outputs": []
    },
    {
      "cell_type": "code",
      "metadata": {
        "id": "6cudPghgUFHS",
        "colab": {
          "base_uri": "https://localhost:8080/"
        },
        "outputId": "8d7dab07-682e-4db4-d4ef-a30c29c01d14"
      },
      "source": [
        "os.chdir(ROOT_DIR)\n",
        "!ls"
      ],
      "execution_count": 10,
      "outputs": [
        {
          "output_type": "stream",
          "text": [
            "chest_xray\n"
          ],
          "name": "stdout"
        }
      ]
    },
    {
      "cell_type": "code",
      "metadata": {
        "id": "NV1PUJkCwXDk",
        "colab": {
          "base_uri": "https://localhost:8080/"
        },
        "outputId": "af615272-e640-4c92-cbed-85ffdb47f622"
      },
      "source": [
        "# Directory to save logs and trained model\n",
        "MODEL_DIR = os.path.join(ROOT_DIR, 'chest_xray')\n",
        "os.chdir(MODEL_DIR)\n",
        "!pwd\n",
        "!ls"
      ],
      "execution_count": 11,
      "outputs": [
        {
          "output_type": "stream",
          "text": [
            "/content/gdrive/My Drive/Kaggle/chest_xray\n",
            "BACTERIAL  chest_xray  __MACOSX  NORMAL  test  train  val  VIRAL\n"
          ],
          "name": "stdout"
        }
      ]
    },
    {
      "cell_type": "code",
      "metadata": {
        "id": "jNnnkSJmOsf4"
      },
      "source": [
        "train_dir = os.path.join(MODEL_DIR, 'train')\n",
        "test_dir = os.path.join(MODEL_DIR, 'test')\n",
        "val_dir = os.path.join(MODEL_DIR, 'val')"
      ],
      "execution_count": 12,
      "outputs": []
    },
    {
      "cell_type": "code",
      "metadata": {
        "colab": {
          "base_uri": "https://localhost:8080/"
        },
        "id": "NP4Zts12d5u7",
        "outputId": "9f35d782-6f15-45e9-cc81-29a1e164575d"
      },
      "source": [
        "os.chdir(train_dir)\n",
        "!ls ./VIRAL/ | head -10"
      ],
      "execution_count": 13,
      "outputs": [
        {
          "output_type": "stream",
          "text": [
            "person1000_virus_1681.jpeg\n",
            "person1003_virus_1685.jpeg\n",
            "person1004_virus_1686.jpeg\n",
            "person1005_virus_1688.jpeg\n",
            "person1007_virus_1690.jpeg\n",
            "person1008_virus_1691.jpeg\n",
            "person1009_virus_1694.jpeg\n",
            "person100_virus_184.jpeg\n",
            "person1010_virus_1695.jpeg\n",
            "person1015_virus_1701.jpeg\n"
          ],
          "name": "stdout"
        }
      ]
    },
    {
      "cell_type": "code",
      "metadata": {
        "colab": {
          "base_uri": "https://localhost:8080/"
        },
        "id": "Ab7xSqPiet59",
        "outputId": "312c8886-6f29-48f2-dfaf-b7929b29a69d"
      },
      "source": [
        "os.chdir(test_dir)\n",
        "!ls ./BACTERIAL/ | tail -10"
      ],
      "execution_count": 14,
      "outputs": [
        {
          "output_type": "stream",
          "text": [
            "person70_bacteria_343.jpeg\n",
            "person70_bacteria_344.jpeg\n",
            "person70_bacteria_345.jpeg\n",
            "person70_bacteria_346.jpeg\n",
            "person710_bacteria_2611.jpeg\n",
            "person711_bacteria_2612.jpeg\n",
            "person712_bacteria_2613.jpeg\n",
            "person713_bacteria_2614.jpeg\n",
            "person714_bacteria_2615.jpeg\n",
            "person716_bacteria_2617.jpeg\n"
          ],
          "name": "stdout"
        }
      ]
    },
    {
      "cell_type": "code",
      "metadata": {
        "id": "-WlNayhsXOsm"
      },
      "source": [
        "batch_size = 100\n",
        "IMG_SHAPE = 150 \n",
        "epochs = 40\n",
        "\n",
        "image_gen = ImageDataGenerator(rescale=1./255)"
      ],
      "execution_count": 13,
      "outputs": []
    },
    {
      "cell_type": "code",
      "metadata": {
        "id": "V9pZZvUfWZAM",
        "colab": {
          "base_uri": "https://localhost:8080/"
        },
        "outputId": "25977369-ba41-485c-f734-ac7b76609927"
      },
      "source": [
        "# get all the data in the directory split/train and reshape them\n",
        "print('training data:')\n",
        "train_data_gen = image_gen.flow_from_directory(batch_size=batch_size,\n",
        "                                               directory=train_dir,\n",
        "                                               shuffle=True, \n",
        "                                               target_size=(IMG_SHAPE, IMG_SHAPE),\n",
        "                                               class_mode='categorical')"
      ],
      "execution_count": 14,
      "outputs": [
        {
          "output_type": "stream",
          "text": [
            "training data:\n",
            "Found 4684 images belonging to 3 classes.\n"
          ],
          "name": "stdout"
        }
      ]
    },
    {
      "cell_type": "code",
      "metadata": {
        "id": "PBwNlew_axPm",
        "colab": {
          "base_uri": "https://localhost:8080/"
        },
        "outputId": "7b7b40da-d712-4cf3-b319-6a0c054670e0"
      },
      "source": [
        "# get all the data in the directory split/validation and reshape them\n",
        "print('validating data:')\n",
        "val_data_gen = image_gen.flow_from_directory(batch_size=batch_size,\n",
        "                                             directory=val_dir, \n",
        "                                             target_size=(IMG_SHAPE, IMG_SHAPE),\n",
        "                                             class_mode='categorical',\n",
        "                                             shuffle=False)"
      ],
      "execution_count": 15,
      "outputs": [
        {
          "output_type": "stream",
          "text": [
            "validating data:\n",
            "Found 582 images belonging to 3 classes.\n"
          ],
          "name": "stdout"
        }
      ]
    },
    {
      "cell_type": "code",
      "metadata": {
        "id": "wbpgwWMCstUD",
        "colab": {
          "base_uri": "https://localhost:8080/"
        },
        "outputId": "b868f2de-564e-4fa9-f7c3-3df905dbdb21"
      },
      "source": [
        "train_data_gen.class_indices"
      ],
      "execution_count": 16,
      "outputs": [
        {
          "output_type": "execute_result",
          "data": {
            "text/plain": [
              "{'BACTERIAL': 0, 'NORMAL': 1, 'VIRAL': 2}"
            ]
          },
          "metadata": {
            "tags": []
          },
          "execution_count": 16
        }
      ]
    },
    {
      "cell_type": "code",
      "metadata": {
        "id": "XWm6T1XpU8XE",
        "colab": {
          "base_uri": "https://localhost:8080/"
        },
        "outputId": "db4296b2-ed9b-4e95-924d-4a300289e2aa"
      },
      "source": [
        "baseline = Sequential()\n",
        "baseline.add(Flatten(input_shape=(IMG_SHAPE, IMG_SHAPE, 3)))\n",
        "baseline.add(Dense(20, activation=tf.nn.relu)) \n",
        "baseline.add(Dense(7, activation=tf.nn.relu))\n",
        "baseline.add(Dense(5, activation=tf.nn.relu))\n",
        "baseline.add(Dense(3, activation=tf.nn.softmax))\n",
        "baseline.summary()"
      ],
      "execution_count": 20,
      "outputs": [
        {
          "output_type": "stream",
          "text": [
            "Model: \"sequential\"\n",
            "_________________________________________________________________\n",
            "Layer (type)                 Output Shape              Param #   \n",
            "=================================================================\n",
            "flatten (Flatten)            (None, 67500)             0         \n",
            "_________________________________________________________________\n",
            "dense (Dense)                (None, 20)                1350020   \n",
            "_________________________________________________________________\n",
            "dense_1 (Dense)              (None, 7)                 147       \n",
            "_________________________________________________________________\n",
            "dense_2 (Dense)              (None, 5)                 40        \n",
            "_________________________________________________________________\n",
            "dense_3 (Dense)              (None, 3)                 18        \n",
            "=================================================================\n",
            "Total params: 1,350,225\n",
            "Trainable params: 1,350,225\n",
            "Non-trainable params: 0\n",
            "_________________________________________________________________\n"
          ],
          "name": "stdout"
        }
      ]
    },
    {
      "cell_type": "code",
      "metadata": {
        "id": "GSUtrysxcoux"
      },
      "source": [
        "baseline.compile(optimizer=optimizers.RMSprop(lr=1e-4), \n",
        "              loss='categorical_crossentropy', \n",
        "              metrics=['accuracy'])"
      ],
      "execution_count": 21,
      "outputs": []
    },
    {
      "cell_type": "code",
      "metadata": {
        "colab": {
          "base_uri": "https://localhost:8080/"
        },
        "id": "mMKBqVP-uR4w",
        "outputId": "1c81e498-44c1-4c11-9287-61fc7ea44a86"
      },
      "source": [
        "train_data_gen.n"
      ],
      "execution_count": 17,
      "outputs": [
        {
          "output_type": "execute_result",
          "data": {
            "text/plain": [
              "4684"
            ]
          },
          "metadata": {
            "tags": []
          },
          "execution_count": 17
        }
      ]
    },
    {
      "cell_type": "code",
      "metadata": {
        "colab": {
          "base_uri": "https://localhost:8080/"
        },
        "id": "Oy1XwJLFuUxL",
        "outputId": "3206d603-fc5f-4411-bd47-8a45640b144f"
      },
      "source": [
        "val_data_gen.n"
      ],
      "execution_count": 18,
      "outputs": [
        {
          "output_type": "execute_result",
          "data": {
            "text/plain": [
              "582"
            ]
          },
          "metadata": {
            "tags": []
          },
          "execution_count": 18
        }
      ]
    },
    {
      "cell_type": "code",
      "metadata": {
        "id": "iNmxnxxIpdRn",
        "colab": {
          "base_uri": "https://localhost:8080/"
        },
        "outputId": "2f922b4b-1d5f-4955-f98d-03ebd66fd56f"
      },
      "source": [
        "print('program starts, current time:')\n",
        "print(start)\n",
        "histoire = baseline.fit_generator(\n",
        "    train_data_gen,\n",
        "    steps_per_epoch=int(np.ceil(train_data_gen.n / float(batch_size))),\n",
        "    epochs=epochs,\n",
        "    validation_data=val_data_gen,\n",
        "    validation_steps=int(np.ceil(val_data_gen.n / float(batch_size)))\n",
        ")\n",
        "end = datetime.datetime.now()\n",
        "print('program ends, current time:')\n",
        "print(end)\n",
        "elapsed = end - start\n",
        "print('Training took a total of {}'.format(elapsed))"
      ],
      "execution_count": 24,
      "outputs": [
        {
          "output_type": "stream",
          "text": [
            "program starts, current time:\n",
            "2021-05-29 23:12:08.635456\n",
            "Epoch 1/40\n",
            "47/47 [==============================] - 1015s 22s/step - loss: 1.1252 - accuracy: 0.4661 - val_loss: 1.0974 - val_accuracy: 0.4759\n",
            "Epoch 2/40\n",
            "47/47 [==============================] - 66s 1s/step - loss: 1.0968 - accuracy: 0.4748 - val_loss: 1.0962 - val_accuracy: 0.4759\n",
            "Epoch 3/40\n",
            "47/47 [==============================] - 65s 1s/step - loss: 1.0957 - accuracy: 0.4748 - val_loss: 1.0951 - val_accuracy: 0.4759\n",
            "Epoch 4/40\n",
            "47/47 [==============================] - 65s 1s/step - loss: 1.0946 - accuracy: 0.4748 - val_loss: 1.0939 - val_accuracy: 0.4759\n",
            "Epoch 5/40\n",
            "47/47 [==============================] - 65s 1s/step - loss: 1.0934 - accuracy: 0.4748 - val_loss: 1.0928 - val_accuracy: 0.4759\n",
            "Epoch 6/40\n",
            "47/47 [==============================] - 65s 1s/step - loss: 1.0924 - accuracy: 0.4748 - val_loss: 1.0918 - val_accuracy: 0.4759\n",
            "Epoch 7/40\n",
            "47/47 [==============================] - 65s 1s/step - loss: 1.0913 - accuracy: 0.4748 - val_loss: 1.0907 - val_accuracy: 0.4759\n",
            "Epoch 8/40\n",
            "47/47 [==============================] - 66s 1s/step - loss: 1.0903 - accuracy: 0.4748 - val_loss: 1.0896 - val_accuracy: 0.4759\n",
            "Epoch 9/40\n",
            "47/47 [==============================] - 66s 1s/step - loss: 1.0892 - accuracy: 0.4748 - val_loss: 1.0886 - val_accuracy: 0.4759\n",
            "Epoch 10/40\n",
            "47/47 [==============================] - 66s 1s/step - loss: 1.0882 - accuracy: 0.4748 - val_loss: 1.0876 - val_accuracy: 0.4759\n",
            "Epoch 11/40\n",
            "47/47 [==============================] - 66s 1s/step - loss: 1.0872 - accuracy: 0.4748 - val_loss: 1.0866 - val_accuracy: 0.4759\n",
            "Epoch 12/40\n",
            "47/47 [==============================] - 65s 1s/step - loss: 1.0862 - accuracy: 0.4748 - val_loss: 1.0856 - val_accuracy: 0.4759\n",
            "Epoch 13/40\n",
            "47/47 [==============================] - 65s 1s/step - loss: 1.0853 - accuracy: 0.4748 - val_loss: 1.0847 - val_accuracy: 0.4759\n",
            "Epoch 14/40\n",
            "47/47 [==============================] - 65s 1s/step - loss: 1.0843 - accuracy: 0.4748 - val_loss: 1.0837 - val_accuracy: 0.4759\n",
            "Epoch 15/40\n",
            "47/47 [==============================] - 65s 1s/step - loss: 1.0834 - accuracy: 0.4748 - val_loss: 1.0828 - val_accuracy: 0.4759\n",
            "Epoch 16/40\n",
            "47/47 [==============================] - 66s 1s/step - loss: 1.0825 - accuracy: 0.4748 - val_loss: 1.0819 - val_accuracy: 0.4759\n",
            "Epoch 17/40\n",
            "47/47 [==============================] - 66s 1s/step - loss: 1.0816 - accuracy: 0.4748 - val_loss: 1.0810 - val_accuracy: 0.4759\n",
            "Epoch 18/40\n",
            "47/47 [==============================] - 65s 1s/step - loss: 1.0807 - accuracy: 0.4748 - val_loss: 1.0801 - val_accuracy: 0.4759\n",
            "Epoch 19/40\n",
            "47/47 [==============================] - 65s 1s/step - loss: 1.0799 - accuracy: 0.4748 - val_loss: 1.0793 - val_accuracy: 0.4759\n",
            "Epoch 20/40\n",
            "47/47 [==============================] - 65s 1s/step - loss: 1.0791 - accuracy: 0.4748 - val_loss: 1.0785 - val_accuracy: 0.4759\n",
            "Epoch 21/40\n",
            "47/47 [==============================] - 65s 1s/step - loss: 1.0783 - accuracy: 0.4748 - val_loss: 1.0777 - val_accuracy: 0.4759\n",
            "Epoch 22/40\n",
            "47/47 [==============================] - 65s 1s/step - loss: 1.0775 - accuracy: 0.4748 - val_loss: 1.0769 - val_accuracy: 0.4759\n",
            "Epoch 23/40\n",
            "47/47 [==============================] - 65s 1s/step - loss: 1.0767 - accuracy: 0.4748 - val_loss: 1.0761 - val_accuracy: 0.4759\n",
            "Epoch 24/40\n",
            "47/47 [==============================] - 66s 1s/step - loss: 1.0759 - accuracy: 0.4748 - val_loss: 1.0753 - val_accuracy: 0.4759\n",
            "Epoch 25/40\n",
            "47/47 [==============================] - 66s 1s/step - loss: 1.0752 - accuracy: 0.4748 - val_loss: 1.0745 - val_accuracy: 0.4759\n",
            "Epoch 26/40\n",
            "47/47 [==============================] - 66s 1s/step - loss: 1.0744 - accuracy: 0.4748 - val_loss: 1.0738 - val_accuracy: 0.4759\n",
            "Epoch 27/40\n",
            "47/47 [==============================] - 66s 1s/step - loss: 1.0737 - accuracy: 0.4748 - val_loss: 1.0731 - val_accuracy: 0.4759\n",
            "Epoch 28/40\n",
            "47/47 [==============================] - 66s 1s/step - loss: 1.0730 - accuracy: 0.4748 - val_loss: 1.0724 - val_accuracy: 0.4759\n",
            "Epoch 29/40\n",
            "47/47 [==============================] - 66s 1s/step - loss: 1.0724 - accuracy: 0.4748 - val_loss: 1.0718 - val_accuracy: 0.4759\n",
            "Epoch 30/40\n",
            "47/47 [==============================] - 66s 1s/step - loss: 1.0717 - accuracy: 0.4748 - val_loss: 1.0711 - val_accuracy: 0.4759\n",
            "Epoch 31/40\n",
            "47/47 [==============================] - 66s 1s/step - loss: 1.0711 - accuracy: 0.4748 - val_loss: 1.0705 - val_accuracy: 0.4759\n",
            "Epoch 32/40\n",
            "47/47 [==============================] - 66s 1s/step - loss: 1.0705 - accuracy: 0.4748 - val_loss: 1.0699 - val_accuracy: 0.4759\n",
            "Epoch 33/40\n",
            "47/47 [==============================] - 68s 1s/step - loss: 1.0699 - accuracy: 0.4748 - val_loss: 1.0693 - val_accuracy: 0.4759\n",
            "Epoch 34/40\n",
            "47/47 [==============================] - 69s 1s/step - loss: 1.0693 - accuracy: 0.4748 - val_loss: 1.0687 - val_accuracy: 0.4759\n",
            "Epoch 35/40\n",
            "47/47 [==============================] - 68s 1s/step - loss: 1.0687 - accuracy: 0.4748 - val_loss: 1.0681 - val_accuracy: 0.4759\n",
            "Epoch 36/40\n",
            "47/47 [==============================] - 67s 1s/step - loss: 1.0682 - accuracy: 0.4748 - val_loss: 1.0676 - val_accuracy: 0.4759\n",
            "Epoch 37/40\n",
            "47/47 [==============================] - 67s 1s/step - loss: 1.0676 - accuracy: 0.4748 - val_loss: 1.0670 - val_accuracy: 0.4759\n",
            "Epoch 38/40\n",
            "47/47 [==============================] - 67s 1s/step - loss: 1.0671 - accuracy: 0.4748 - val_loss: 1.0665 - val_accuracy: 0.4759\n",
            "Epoch 39/40\n",
            "47/47 [==============================] - 67s 1s/step - loss: 1.0666 - accuracy: 0.4748 - val_loss: 1.0660 - val_accuracy: 0.4759\n",
            "Epoch 40/40\n",
            "47/47 [==============================] - 68s 1s/step - loss: 1.0661 - accuracy: 0.4748 - val_loss: 1.0655 - val_accuracy: 0.4759\n",
            "program ends, current time:\n",
            "2021-05-30 00:21:08.127613\n",
            "Training took a total of 1:08:59.492157\n"
          ],
          "name": "stdout"
        }
      ]
    },
    {
      "cell_type": "code",
      "metadata": {
        "id": "dTkI4MdI_jYB",
        "colab": {
          "base_uri": "https://localhost:8080/"
        },
        "outputId": "9a6e84f2-70e2-49a6-9e36-fac916601489"
      },
      "source": [
        "histoire.history.keys()"
      ],
      "execution_count": 25,
      "outputs": [
        {
          "output_type": "execute_result",
          "data": {
            "text/plain": [
              "dict_keys(['loss', 'accuracy', 'val_loss', 'val_accuracy'])"
            ]
          },
          "metadata": {
            "tags": []
          },
          "execution_count": 25
        }
      ]
    },
    {
      "cell_type": "code",
      "metadata": {
        "id": "OJpLzOWk_k3U"
      },
      "source": [
        "def visualize_training_results(results):\n",
        "\n",
        "    history = results.history\n",
        "    epochs_range = range(epochs)    \n",
        "    \n",
        "    plt.figure(figsize=(12,4))\n",
        "    plt.subplot(1, 2, 1)\n",
        "    plt.plot(epochs_range, history['val_loss'], label='Validation Loss')\n",
        "    plt.plot(epochs_range, history['loss'], label='Training Loss')\n",
        "    plt.legend(loc='upper right')\n",
        "    plt.title('Training and Validation Loss')\n",
        "    plt.xlabel('Epochs')\n",
        "    plt.ylabel('Loss')\n",
        "    \n",
        "    plt.subplot(1, 2, 2)\n",
        "    plt.plot(epochs_range, history['val_accuracy'], label='Validation Accuracy')\n",
        "    plt.plot(epochs_range, history['accuracy'], label='Training Accuracy')\n",
        "    plt.legend(loc='lower right')\n",
        "    plt.title('Training and Validation Accuracy')\n",
        "    plt.xlabel('Epochs')\n",
        "    plt.ylabel('Accuracy')\n",
        "    plt.show()"
      ],
      "execution_count": 19,
      "outputs": []
    },
    {
      "cell_type": "code",
      "metadata": {
        "id": "MvhawKDY_oR7",
        "colab": {
          "base_uri": "https://localhost:8080/",
          "height": 295
        },
        "outputId": "d370dfdb-4a92-4c0d-fc80-95295eec2d25"
      },
      "source": [
        "visualize_training_results(histoire)"
      ],
      "execution_count": 27,
      "outputs": [
        {
          "output_type": "display_data",
          "data": {
            "image/png": "[encoded data removed]",
            "text/plain": [
              "<Figure size 864x288 with 2 Axes>"
            ]
          },
          "metadata": {
            "tags": [],
            "needs_background": "light"
          }
        }
      ]
    },
    {
      "cell_type": "code",
      "metadata": {
        "colab": {
          "base_uri": "https://localhost:8080/"
        },
        "id": "BS_rS-lbmKci",
        "outputId": "adf268bd-86f1-4b7f-a0df-aa250f5c55fc"
      },
      "source": [
        "# get all the data in the directory split/test and reshape them\n",
        "test_data_gen = image_gen.flow_from_directory(batch_size=batch_size,\n",
        "                                              directory=test_dir,\n",
        "                                              target_size=(IMG_SHAPE, IMG_SHAPE),\n",
        "                                              class_mode='categorical',\n",
        "                                              shuffle=False)"
      ],
      "execution_count": 25,
      "outputs": [
        {
          "output_type": "stream",
          "text": [
            "Found 587 images belonging to 3 classes.\n"
          ],
          "name": "stdout"
        }
      ]
    },
    {
      "cell_type": "code",
      "metadata": {
        "colab": {
          "base_uri": "https://localhost:8080/"
        },
        "id": "Vhdjb8SGnEqc",
        "outputId": "dec696f0-222a-41b9-838f-5cc55132d3db"
      },
      "source": [
        "test_loss, test_acc = baseline.evaluate_generator(test_data_gen, steps=int(np.ceil(test_data_gen.n / float(batch_size))))\n",
        "y_hat_test = baseline.predict_generator(test_data_gen, steps=int(np.ceil(test_data_gen.n / float(batch_size))))\n",
        "print('Generated {} predictions'.format(len(y_hat_test)))\n",
        "print('test acc:', test_acc)\n",
        "print('test loss:', test_loss)"
      ],
      "execution_count": 29,
      "outputs": [
        {
          "output_type": "stream",
          "text": [
            "Generated 587 predictions\n",
            "test acc: 0.4735945463180542\n",
            "test loss: 1.0662494897842407\n"
          ],
          "name": "stdout"
        }
      ]
    },
    {
      "cell_type": "code",
      "metadata": {
        "id": "rIN-Ec1nTONQ"
      },
      "source": [
        "model = Sequential()\n",
        "model.add(Conv2D(32, (3, 3), activation=tf.nn.relu, input_shape=(IMG_SHAPE, IMG_SHAPE, 3)))\n",
        "model.add(MaxPooling2D((2, 2)))\n",
        "model.add(Conv2D(64, (3, 3), activation=tf.nn.relu))\n",
        "model.add(MaxPooling2D((2, 2)))\n",
        "model.add(Conv2D(128, (3, 3), activation=tf.nn.relu))\n",
        "model.add(MaxPooling2D((2, 2)))\n",
        "model.add(Conv2D(128, (3, 3), activation=tf.nn.relu))\n",
        "model.add(MaxPooling2D((2, 2)))\n",
        "model.add(Flatten())\n",
        "model.add(Dense(64, activation=tf.nn.relu))\n",
        "model.add(Dense(128, activation=tf.nn.relu))\n",
        "model.add(Dense(256, activation=tf.nn.relu))\n",
        "model.add(Dense(512, activation=tf.nn.relu))\n",
        "model.add(Dense(3, activation=tf.nn.softmax))\n",
        "\n",
        "model.compile(optimizer=optimizers.RMSprop(lr=1e-4), \n",
        "              loss='categorical_crossentropy', \n",
        "              metrics=['accuracy'])"
      ],
      "execution_count": 28,
      "outputs": []
    },
    {
      "cell_type": "code",
      "metadata": {
        "colab": {
          "base_uri": "https://localhost:8080/"
        },
        "id": "PyRVHGL-T5kI",
        "outputId": "bdfaaf68-1f6f-4466-e33a-bbde200484cd"
      },
      "source": [
        "epochs = 25\n",
        "\n",
        "print('program starts, current time:')\n",
        "print(start)\n",
        "history = model.fit_generator(train_data_gen,\n",
        "                              steps_per_epoch=int(np.ceil(train_data_gen.n / float(batch_size))),\n",
        "                              epochs=epochs,\n",
        "                              validation_data=val_data_gen,\n",
        "                              validation_steps=int(np.ceil(val_data_gen.n / float(batch_size)))\n",
        "                              )\n",
        "end = datetime.datetime.now()\n",
        "print('program ends, current time:')\n",
        "print(end)\n",
        "elapsed = end - start\n",
        "print('Training took a total of {}'.format(elapsed))"
      ],
      "execution_count": 29,
      "outputs": [
        {
          "output_type": "stream",
          "text": [
            "program starts, current time:\n",
            "2021-05-30 17:26:39.613883\n",
            "Epoch 1/25\n",
            "47/47 [==============================] - 263s 6s/step - loss: 1.0279 - accuracy: 0.4930 - val_loss: 0.9577 - val_accuracy: 0.4914\n",
            "Epoch 2/25\n",
            "47/47 [==============================] - 271s 6s/step - loss: 0.8646 - accuracy: 0.6132 - val_loss: 0.7797 - val_accuracy: 0.6443\n",
            "Epoch 3/25\n",
            "47/47 [==============================] - 263s 6s/step - loss: 0.7555 - accuracy: 0.6563 - val_loss: 0.6745 - val_accuracy: 0.6821\n",
            "Epoch 4/25\n",
            "47/47 [==============================] - 262s 6s/step - loss: 0.7001 - accuracy: 0.6821 - val_loss: 0.7028 - val_accuracy: 0.6804\n",
            "Epoch 5/25\n",
            "47/47 [==============================] - 262s 6s/step - loss: 0.6526 - accuracy: 0.7037 - val_loss: 0.7710 - val_accuracy: 0.6478\n",
            "Epoch 6/25\n",
            "47/47 [==============================] - 261s 6s/step - loss: 0.6214 - accuracy: 0.7218 - val_loss: 0.5483 - val_accuracy: 0.7835\n",
            "Epoch 7/25\n",
            "47/47 [==============================] - 260s 6s/step - loss: 0.5868 - accuracy: 0.7483 - val_loss: 0.6197 - val_accuracy: 0.7474\n",
            "Epoch 8/25\n",
            "47/47 [==============================] - 260s 6s/step - loss: 0.5581 - accuracy: 0.7577 - val_loss: 0.6108 - val_accuracy: 0.7663\n",
            "Epoch 9/25\n",
            "47/47 [==============================] - 260s 6s/step - loss: 0.5441 - accuracy: 0.7733 - val_loss: 0.4841 - val_accuracy: 0.8024\n",
            "Epoch 10/25\n",
            "47/47 [==============================] - 261s 6s/step - loss: 0.5261 - accuracy: 0.7780 - val_loss: 0.4947 - val_accuracy: 0.7921\n",
            "Epoch 11/25\n",
            "47/47 [==============================] - 259s 5s/step - loss: 0.5080 - accuracy: 0.7908 - val_loss: 0.4751 - val_accuracy: 0.8110\n",
            "Epoch 12/25\n",
            "47/47 [==============================] - 259s 5s/step - loss: 0.4978 - accuracy: 0.7918 - val_loss: 0.4810 - val_accuracy: 0.8041\n",
            "Epoch 13/25\n",
            "47/47 [==============================] - 259s 5s/step - loss: 0.4941 - accuracy: 0.7899 - val_loss: 0.4496 - val_accuracy: 0.8213\n",
            "Epoch 14/25\n",
            "47/47 [==============================] - 260s 6s/step - loss: 0.4769 - accuracy: 0.7974 - val_loss: 0.5029 - val_accuracy: 0.7973\n",
            "Epoch 15/25\n",
            "47/47 [==============================] - 260s 6s/step - loss: 0.4746 - accuracy: 0.8017 - val_loss: 0.4536 - val_accuracy: 0.8093\n",
            "Epoch 16/25\n",
            "47/47 [==============================] - 258s 5s/step - loss: 0.4598 - accuracy: 0.8079 - val_loss: 0.4380 - val_accuracy: 0.8247\n",
            "Epoch 17/25\n",
            "47/47 [==============================] - 259s 5s/step - loss: 0.4480 - accuracy: 0.8068 - val_loss: 0.4321 - val_accuracy: 0.8179\n",
            "Epoch 18/25\n",
            "47/47 [==============================] - 259s 5s/step - loss: 0.4457 - accuracy: 0.8091 - val_loss: 0.4586 - val_accuracy: 0.8007\n",
            "Epoch 19/25\n",
            "47/47 [==============================] - 259s 5s/step - loss: 0.4401 - accuracy: 0.8136 - val_loss: 0.4316 - val_accuracy: 0.8162\n",
            "Epoch 20/25\n",
            "47/47 [==============================] - 268s 6s/step - loss: 0.4274 - accuracy: 0.8164 - val_loss: 0.4310 - val_accuracy: 0.8179\n",
            "Epoch 21/25\n",
            "47/47 [==============================] - 261s 6s/step - loss: 0.4271 - accuracy: 0.8162 - val_loss: 0.4775 - val_accuracy: 0.8041\n",
            "Epoch 22/25\n",
            "47/47 [==============================] - 267s 6s/step - loss: 0.4181 - accuracy: 0.8196 - val_loss: 0.4963 - val_accuracy: 0.8041\n",
            "Epoch 23/25\n",
            "47/47 [==============================] - 260s 6s/step - loss: 0.4098 - accuracy: 0.8245 - val_loss: 0.4677 - val_accuracy: 0.8110\n",
            "Epoch 24/25\n",
            "47/47 [==============================] - 260s 6s/step - loss: 0.4038 - accuracy: 0.8292 - val_loss: 0.4126 - val_accuracy: 0.8316\n",
            "Epoch 25/25\n",
            "47/47 [==============================] - 260s 6s/step - loss: 0.3966 - accuracy: 0.8335 - val_loss: 0.4091 - val_accuracy: 0.8419\n",
            "program ends, current time:\n",
            "2021-05-30 23:39:59.153388\n",
            "Training took a total of 6:13:19.539505\n"
          ],
          "name": "stdout"
        }
      ]
    },
    {
      "cell_type": "code",
      "metadata": {
        "colab": {
          "base_uri": "https://localhost:8080/",
          "height": 295
        },
        "id": "L5I_2POlT5x2",
        "outputId": "a34f8b66-6f35-421a-a483-0c07f778038a"
      },
      "source": [
        "visualize_training_results(history)"
      ],
      "execution_count": 30,
      "outputs": [
        {
          "output_type": "display_data",
          "data": {
            "image/png": "[encoded data removed]",
            "text/plain": [
              "<Figure size 864x288 with 2 Axes>"
            ]
          },
          "metadata": {
            "tags": [],
            "needs_background": "light"
          }
        }
      ]
    },
    {
      "cell_type": "code",
      "metadata": {
        "id": "srCRIPHBj-rB"
      },
      "source": [
        "# Your code here; save the model for future reference \n",
        "saved_model = model.save('cnn_'+str(date.today())+'.h5')"
      ],
      "execution_count": 31,
      "outputs": []
    },
    {
      "cell_type": "code",
      "metadata": {
        "id": "8H8JagVtT57U"
      },
      "source": [
        "test_loss, test_acc = model.evaluate_generator(test_data_gen, \n",
        "                                               steps=int(np.ceil(test_data_gen.n / float(batch_size))))"
      ],
      "execution_count": 32,
      "outputs": []
    },
    {
      "cell_type": "code",
      "metadata": {
        "colab": {
          "base_uri": "https://localhost:8080/"
        },
        "id": "RMzeKnG4Z0tL",
        "outputId": "2f164535-758a-4739-f87c-668a5f8cbb3d"
      },
      "source": [
        "predictions = model.predict_generator(test_data_gen, steps=int(np.ceil(test_data_gen.n / float(batch_size))))\n",
        "print('Generated {} predictions'.format(len(predictions)))\n",
        "print('test acc:', test_acc)\n",
        "print('test loss:', test_loss)"
      ],
      "execution_count": 33,
      "outputs": [
        {
          "output_type": "stream",
          "text": [
            "Generated 587 predictions\n",
            "test acc: 0.8126064538955688\n",
            "test loss: 0.4850582480430603\n"
          ],
          "name": "stdout"
        }
      ]
    },
    {
      "cell_type": "code",
      "metadata": {
        "colab": {
          "base_uri": "https://localhost:8080/"
        },
        "id": "boQQYnnzPXKO",
        "outputId": "d8f4a0dd-d07b-4c94-e0b1-48f84ad32b82"
      },
      "source": [
        "print(type(predictions))\n",
        "print(predictions.shape)\n",
        "print(predictions[0])\n",
        "print(np.argmax(predictions[0]))"
      ],
      "execution_count": 34,
      "outputs": [
        {
          "output_type": "stream",
          "text": [
            "<class 'numpy.ndarray'>\n",
            "(587, 3)\n",
            "[0.9017192  0.00108107 0.09719973]\n",
            "0\n"
          ],
          "name": "stdout"
        }
      ]
    },
    {
      "cell_type": "code",
      "metadata": {
        "colab": {
          "base_uri": "https://localhost:8080/"
        },
        "id": "8jYtN49H5DKN",
        "outputId": "99883189-1445-4428-91dd-c735a84e50c6"
      },
      "source": [
        "y_hat_test = np.argmax(predictions, axis=-1)\n",
        "print(y_hat_test.shape)\n",
        "print(y_hat_test)"
      ],
      "execution_count": 35,
      "outputs": [
        {
          "output_type": "stream",
          "text": [
            "(587,)\n",
            "[0 0 0 0 0 0 0 0 0 0 0 0 0 0 0 0 0 0 0 0 0 0 0 0 0 0 0 0 0 0 0 0 0 0 0 0 0\n",
            " 0 0 0 0 0 0 0 0 0 0 0 0 0 0 0 2 0 0 0 0 0 0 0 0 2 0 0 0 0 0 0 0 0 0 0 0 0\n",
            " 0 0 0 2 0 0 0 0 0 0 0 0 0 0 0 0 0 0 0 0 0 0 0 0 0 0 0 0 0 0 0 0 0 0 0 0 2\n",
            " 0 0 0 0 0 0 0 0 2 0 0 0 0 0 0 0 2 2 0 0 0 1 0 0 0 0 0 0 0 0 0 0 0 0 0 0 0\n",
            " 0 0 0 2 1 0 0 0 0 0 0 0 0 0 0 0 0 0 0 0 0 0 0 0 0 0 0 0 0 0 0 0 0 0 0 0 0\n",
            " 0 0 0 0 0 0 0 0 0 0 0 0 0 0 2 0 0 0 0 0 0 0 0 0 0 0 0 0 0 0 0 0 0 0 0 0 0\n",
            " 0 0 0 0 0 0 0 0 0 1 0 0 0 0 0 0 0 0 0 0 0 0 0 0 0 0 0 0 2 0 0 0 0 0 0 0 0\n",
            " 2 1 0 0 0 0 0 0 0 0 0 0 0 0 0 0 0 0 0 1 1 1 1 1 1 1 1 1 1 1 1 1 1 1 1 1 1\n",
            " 1 1 1 1 1 1 1 1 1 1 1 1 1 1 1 1 1 1 1 1 1 1 1 1 1 1 1 1 1 1 1 1 1 1 1 1 1\n",
            " 2 1 2 1 1 1 1 1 1 1 1 1 1 1 1 1 1 1 1 1 1 1 1 1 1 1 1 1 0 1 1 1 1 1 1 1 1\n",
            " 1 1 1 1 1 1 1 1 1 1 1 1 1 1 1 1 1 1 1 1 1 1 1 1 2 1 1 1 1 1 1 1 1 1 1 1 1\n",
            " 1 1 1 1 1 1 1 1 1 1 1 1 1 0 1 1 1 1 1 1 1 1 1 1 1 1 1 1 1 1 2 2 2 0 2 2 2\n",
            " 2 0 2 2 2 2 2 2 0 0 2 2 2 2 2 2 2 2 2 2 0 0 0 0 2 2 2 2 2 2 2 2 2 2 2 2 2\n",
            " 0 2 0 0 0 0 0 0 0 1 2 0 0 0 1 0 0 0 0 0 2 0 0 0 2 0 0 0 2 1 2 0 2 0 2 0 2\n",
            " 0 0 0 0 2 0 2 0 0 0 0 0 0 0 0 0 0 2 0 2 0 2 2 2 0 0 0 0 0 0 0 0 0 0 0 0 0\n",
            " 0 0 1 0 1 1 0 0 0 0 1 0 2 1 0 0 0 0 2 2 0 2 1 0 2 2 1 0 0 2 2 0]\n"
          ],
          "name": "stdout"
        }
      ]
    },
    {
      "cell_type": "code",
      "metadata": {
        "colab": {
          "base_uri": "https://localhost:8080/"
        },
        "id": "VXBPYF8krbfN",
        "outputId": "073f66d1-8727-43b9-f9ef-93f78f9aea35"
      },
      "source": [
        "test_generator = image_gen.flow_from_directory(directory=test_dir, \n",
        "                                               target_size=(IMG_SHAPE, IMG_SHAPE), \n",
        "                                               batch_size = test_data_gen.n,\n",
        "                                               class_mode='categorical',\n",
        "                                               shuffle=False)"
      ],
      "execution_count": 37,
      "outputs": [
        {
          "output_type": "stream",
          "text": [
            "Found 587 images belonging to 3 classes.\n"
          ],
          "name": "stdout"
        }
      ]
    },
    {
      "cell_type": "code",
      "metadata": {
        "colab": {
          "base_uri": "https://localhost:8080/"
        },
        "id": "-8hQrjvdr5C_",
        "outputId": "5321bb8c-c7ba-410a-a7bc-f74cbae909fe"
      },
      "source": [
        "test_images, test_labels = next(test_generator)\n",
        "print(test_labels.shape)"
      ],
      "execution_count": 38,
      "outputs": [
        {
          "output_type": "stream",
          "text": [
            "(587, 3)\n"
          ],
          "name": "stdout"
        }
      ]
    },
    {
      "cell_type": "code",
      "metadata": {
        "colab": {
          "base_uri": "https://localhost:8080/"
        },
        "id": "6068IQWU__jX",
        "outputId": "b1ca313d-57ea-4d9f-901b-3af6d37ffa8b"
      },
      "source": [
        "y_test = np.argmax(test_labels, axis=-1)\n",
        "print(y_test.shape)\n",
        "print(y_test)"
      ],
      "execution_count": 39,
      "outputs": [
        {
          "output_type": "stream",
          "text": [
            "(587,)\n",
            "[0 0 0 0 0 0 0 0 0 0 0 0 0 0 0 0 0 0 0 0 0 0 0 0 0 0 0 0 0 0 0 0 0 0 0 0 0\n",
            " 0 0 0 0 0 0 0 0 0 0 0 0 0 0 0 0 0 0 0 0 0 0 0 0 0 0 0 0 0 0 0 0 0 0 0 0 0\n",
            " 0 0 0 0 0 0 0 0 0 0 0 0 0 0 0 0 0 0 0 0 0 0 0 0 0 0 0 0 0 0 0 0 0 0 0 0 0\n",
            " 0 0 0 0 0 0 0 0 0 0 0 0 0 0 0 0 0 0 0 0 0 0 0 0 0 0 0 0 0 0 0 0 0 0 0 0 0\n",
            " 0 0 0 0 0 0 0 0 0 0 0 0 0 0 0 0 0 0 0 0 0 0 0 0 0 0 0 0 0 0 0 0 0 0 0 0 0\n",
            " 0 0 0 0 0 0 0 0 0 0 0 0 0 0 0 0 0 0 0 0 0 0 0 0 0 0 0 0 0 0 0 0 0 0 0 0 0\n",
            " 0 0 0 0 0 0 0 0 0 0 0 0 0 0 0 0 0 0 0 0 0 0 0 0 0 0 0 0 0 0 0 0 0 0 0 0 0\n",
            " 0 0 0 0 0 0 0 0 0 0 0 0 0 0 0 0 0 0 0 1 1 1 1 1 1 1 1 1 1 1 1 1 1 1 1 1 1\n",
            " 1 1 1 1 1 1 1 1 1 1 1 1 1 1 1 1 1 1 1 1 1 1 1 1 1 1 1 1 1 1 1 1 1 1 1 1 1\n",
            " 1 1 1 1 1 1 1 1 1 1 1 1 1 1 1 1 1 1 1 1 1 1 1 1 1 1 1 1 1 1 1 1 1 1 1 1 1\n",
            " 1 1 1 1 1 1 1 1 1 1 1 1 1 1 1 1 1 1 1 1 1 1 1 1 1 1 1 1 1 1 1 1 1 1 1 1 1\n",
            " 1 1 1 1 1 1 1 1 1 1 1 1 1 1 1 1 1 1 1 1 1 1 1 1 1 1 1 1 1 1 2 2 2 2 2 2 2\n",
            " 2 2 2 2 2 2 2 2 2 2 2 2 2 2 2 2 2 2 2 2 2 2 2 2 2 2 2 2 2 2 2 2 2 2 2 2 2\n",
            " 2 2 2 2 2 2 2 2 2 2 2 2 2 2 2 2 2 2 2 2 2 2 2 2 2 2 2 2 2 2 2 2 2 2 2 2 2\n",
            " 2 2 2 2 2 2 2 2 2 2 2 2 2 2 2 2 2 2 2 2 2 2 2 2 2 2 2 2 2 2 2 2 2 2 2 2 2\n",
            " 2 2 2 2 2 2 2 2 2 2 2 2 2 2 2 2 2 2 2 2 2 2 2 2 2 2 2 2 2 2 2 2]\n"
          ],
          "name": "stdout"
        }
      ]
    },
    {
      "cell_type": "code",
      "metadata": {
        "colab": {
          "base_uri": "https://localhost:8080/"
        },
        "id": "FcX3tAy-Qifg",
        "outputId": "a3474b45-51f0-43c6-ca80-4865541c1d5e"
      },
      "source": [
        "print(test_images.shape)\n",
        "test_img = test_images.reshape(test_images.shape[0], -1)\n",
        "print(test_img.shape)\n",
        "print(test_labels.shape)\n",
        "print(test_labels)\n",
        "print(test_labels[0])"
      ],
      "execution_count": 40,
      "outputs": [
        {
          "output_type": "stream",
          "text": [
            "(587, 150, 150, 3)\n",
            "(587, 67500)\n",
            "(587, 3)\n",
            "[[1. 0. 0.]\n",
            " [1. 0. 0.]\n",
            " [1. 0. 0.]\n",
            " ...\n",
            " [0. 0. 1.]\n",
            " [0. 0. 1.]\n",
            " [0. 0. 1.]]\n",
            "[1. 0. 0.]\n"
          ],
          "name": "stdout"
        }
      ]
    },
    {
      "cell_type": "code",
      "metadata": {
        "colab": {
          "base_uri": "https://localhost:8080/"
        },
        "id": "N0lEvSn5XH8g",
        "outputId": "73ee3c66-cbaf-45e3-a3b7-b1bcd2d0d062"
      },
      "source": [
        "print(model.evaluate(test_images, test_labels))"
      ],
      "execution_count": 41,
      "outputs": [
        {
          "output_type": "stream",
          "text": [
            "19/19 [==============================] - 7s 347ms/step - loss: 0.4851 - accuracy: 0.8126\n",
            "[0.4850582480430603, 0.8126064538955688]\n"
          ],
          "name": "stdout"
        }
      ]
    },
    {
      "cell_type": "code",
      "metadata": {
        "colab": {
          "base_uri": "https://localhost:8080/"
        },
        "id": "CR9HFDZlTezC",
        "outputId": "82fab4ed-00a8-4973-ac35-fe8201fc8ee6"
      },
      "source": [
        "ppredictions = model.predict(test_images)\n",
        "print(type(ppredictions))\n",
        "print(ppredictions.shape)\n",
        "print(model.predict_classes(test_images))\n",
        "\n",
        "print(test_generator.classes)\n",
        "print(list(test_generator.class_indices.keys()))\n",
        "\n",
        "print(ppredictions[0])\n",
        "print(np.argmax(ppredictions[0]))\n",
        "yp_hat_test = np.argmax(ppredictions, axis=-1)\n",
        "print(yp_hat_test.shape)\n",
        "print(yp_hat_test)"
      ],
      "execution_count": 42,
      "outputs": [
        {
          "output_type": "stream",
          "text": [
            "<class 'numpy.ndarray'>\n",
            "(587, 3)\n",
            "[0 0 0 0 0 0 0 0 0 0 0 0 0 0 0 0 0 0 0 0 0 0 0 0 0 0 0 0 0 0 0 0 0 0 0 0 0\n",
            " 0 0 0 0 0 0 0 0 0 0 0 0 0 0 0 2 0 0 0 0 0 0 0 0 2 0 0 0 0 0 0 0 0 0 0 0 0\n",
            " 0 0 0 2 0 0 0 0 0 0 0 0 0 0 0 0 0 0 0 0 0 0 0 0 0 0 0 0 0 0 0 0 0 0 0 0 2\n",
            " 0 0 0 0 0 0 0 0 2 0 0 0 0 0 0 0 2 2 0 0 0 1 0 0 0 0 0 0 0 0 0 0 0 0 0 0 0\n",
            " 0 0 0 2 1 0 0 0 0 0 0 0 0 0 0 0 0 0 0 0 0 0 0 0 0 0 0 0 0 0 0 0 0 0 0 0 0\n",
            " 0 0 0 0 0 0 0 0 0 0 0 0 0 0 2 0 0 0 0 0 0 0 0 0 0 0 0 0 0 0 0 0 0 0 0 0 0\n",
            " 0 0 0 0 0 0 0 0 0 1 0 0 0 0 0 0 0 0 0 0 0 0 0 0 0 0 0 0 2 0 0 0 0 0 0 0 0\n",
            " 2 1 0 0 0 0 0 0 0 0 0 0 0 0 0 0 0 0 0 1 1 1 1 1 1 1 1 1 1 1 1 1 1 1 1 1 1\n",
            " 1 1 1 1 1 1 1 1 1 1 1 1 1 1 1 1 1 1 1 1 1 1 1 1 1 1 1 1 1 1 1 1 1 1 1 1 1\n",
            " 2 1 2 1 1 1 1 1 1 1 1 1 1 1 1 1 1 1 1 1 1 1 1 1 1 1 1 1 0 1 1 1 1 1 1 1 1\n",
            " 1 1 1 1 1 1 1 1 1 1 1 1 1 1 1 1 1 1 1 1 1 1 1 1 2 1 1 1 1 1 1 1 1 1 1 1 1\n",
            " 1 1 1 1 1 1 1 1 1 1 1 1 1 0 1 1 1 1 1 1 1 1 1 1 1 1 1 1 1 1 2 2 2 0 2 2 2\n",
            " 2 0 2 2 2 2 2 2 0 0 2 2 2 2 2 2 2 2 2 2 0 0 0 0 2 2 2 2 2 2 2 2 2 2 2 2 2\n",
            " 0 2 0 0 0 0 0 0 0 1 2 0 0 0 1 0 0 0 0 0 2 0 0 0 2 0 0 0 2 1 2 0 2 0 2 0 2\n",
            " 0 0 0 0 2 0 2 0 0 0 0 0 0 0 0 0 0 2 0 2 0 2 2 2 0 0 0 0 0 0 0 0 0 0 0 0 0\n",
            " 0 0 1 0 1 1 0 0 0 0 1 0 2 1 0 0 0 0 2 2 0 2 1 0 2 2 1 0 0 2 2 0]\n",
            "[0 0 0 0 0 0 0 0 0 0 0 0 0 0 0 0 0 0 0 0 0 0 0 0 0 0 0 0 0 0 0 0 0 0 0 0 0\n",
            " 0 0 0 0 0 0 0 0 0 0 0 0 0 0 0 0 0 0 0 0 0 0 0 0 0 0 0 0 0 0 0 0 0 0 0 0 0\n",
            " 0 0 0 0 0 0 0 0 0 0 0 0 0 0 0 0 0 0 0 0 0 0 0 0 0 0 0 0 0 0 0 0 0 0 0 0 0\n",
            " 0 0 0 0 0 0 0 0 0 0 0 0 0 0 0 0 0 0 0 0 0 0 0 0 0 0 0 0 0 0 0 0 0 0 0 0 0\n",
            " 0 0 0 0 0 0 0 0 0 0 0 0 0 0 0 0 0 0 0 0 0 0 0 0 0 0 0 0 0 0 0 0 0 0 0 0 0\n",
            " 0 0 0 0 0 0 0 0 0 0 0 0 0 0 0 0 0 0 0 0 0 0 0 0 0 0 0 0 0 0 0 0 0 0 0 0 0\n",
            " 0 0 0 0 0 0 0 0 0 0 0 0 0 0 0 0 0 0 0 0 0 0 0 0 0 0 0 0 0 0 0 0 0 0 0 0 0\n",
            " 0 0 0 0 0 0 0 0 0 0 0 0 0 0 0 0 0 0 0 1 1 1 1 1 1 1 1 1 1 1 1 1 1 1 1 1 1\n",
            " 1 1 1 1 1 1 1 1 1 1 1 1 1 1 1 1 1 1 1 1 1 1 1 1 1 1 1 1 1 1 1 1 1 1 1 1 1\n",
            " 1 1 1 1 1 1 1 1 1 1 1 1 1 1 1 1 1 1 1 1 1 1 1 1 1 1 1 1 1 1 1 1 1 1 1 1 1\n",
            " 1 1 1 1 1 1 1 1 1 1 1 1 1 1 1 1 1 1 1 1 1 1 1 1 1 1 1 1 1 1 1 1 1 1 1 1 1\n",
            " 1 1 1 1 1 1 1 1 1 1 1 1 1 1 1 1 1 1 1 1 1 1 1 1 1 1 1 1 1 1 2 2 2 2 2 2 2\n",
            " 2 2 2 2 2 2 2 2 2 2 2 2 2 2 2 2 2 2 2 2 2 2 2 2 2 2 2 2 2 2 2 2 2 2 2 2 2\n",
            " 2 2 2 2 2 2 2 2 2 2 2 2 2 2 2 2 2 2 2 2 2 2 2 2 2 2 2 2 2 2 2 2 2 2 2 2 2\n",
            " 2 2 2 2 2 2 2 2 2 2 2 2 2 2 2 2 2 2 2 2 2 2 2 2 2 2 2 2 2 2 2 2 2 2 2 2 2\n",
            " 2 2 2 2 2 2 2 2 2 2 2 2 2 2 2 2 2 2 2 2 2 2 2 2 2 2 2 2 2 2 2 2]\n",
            "['BACTERIAL', 'NORMAL', 'VIRAL']\n",
            "[0.9017192  0.00108107 0.09719973]\n",
            "0\n",
            "(587,)\n",
            "[0 0 0 0 0 0 0 0 0 0 0 0 0 0 0 0 0 0 0 0 0 0 0 0 0 0 0 0 0 0 0 0 0 0 0 0 0\n",
            " 0 0 0 0 0 0 0 0 0 0 0 0 0 0 0 2 0 0 0 0 0 0 0 0 2 0 0 0 0 0 0 0 0 0 0 0 0\n",
            " 0 0 0 2 0 0 0 0 0 0 0 0 0 0 0 0 0 0 0 0 0 0 0 0 0 0 0 0 0 0 0 0 0 0 0 0 2\n",
            " 0 0 0 0 0 0 0 0 2 0 0 0 0 0 0 0 2 2 0 0 0 1 0 0 0 0 0 0 0 0 0 0 0 0 0 0 0\n",
            " 0 0 0 2 1 0 0 0 0 0 0 0 0 0 0 0 0 0 0 0 0 0 0 0 0 0 0 0 0 0 0 0 0 0 0 0 0\n",
            " 0 0 0 0 0 0 0 0 0 0 0 0 0 0 2 0 0 0 0 0 0 0 0 0 0 0 0 0 0 0 0 0 0 0 0 0 0\n",
            " 0 0 0 0 0 0 0 0 0 1 0 0 0 0 0 0 0 0 0 0 0 0 0 0 0 0 0 0 2 0 0 0 0 0 0 0 0\n",
            " 2 1 0 0 0 0 0 0 0 0 0 0 0 0 0 0 0 0 0 1 1 1 1 1 1 1 1 1 1 1 1 1 1 1 1 1 1\n",
            " 1 1 1 1 1 1 1 1 1 1 1 1 1 1 1 1 1 1 1 1 1 1 1 1 1 1 1 1 1 1 1 1 1 1 1 1 1\n",
            " 2 1 2 1 1 1 1 1 1 1 1 1 1 1 1 1 1 1 1 1 1 1 1 1 1 1 1 1 0 1 1 1 1 1 1 1 1\n",
            " 1 1 1 1 1 1 1 1 1 1 1 1 1 1 1 1 1 1 1 1 1 1 1 1 2 1 1 1 1 1 1 1 1 1 1 1 1\n",
            " 1 1 1 1 1 1 1 1 1 1 1 1 1 0 1 1 1 1 1 1 1 1 1 1 1 1 1 1 1 1 2 2 2 0 2 2 2\n",
            " 2 0 2 2 2 2 2 2 0 0 2 2 2 2 2 2 2 2 2 2 0 0 0 0 2 2 2 2 2 2 2 2 2 2 2 2 2\n",
            " 0 2 0 0 0 0 0 0 0 1 2 0 0 0 1 0 0 0 0 0 2 0 0 0 2 0 0 0 2 1 2 0 2 0 2 0 2\n",
            " 0 0 0 0 2 0 2 0 0 0 0 0 0 0 0 0 0 2 0 2 0 2 2 2 0 0 0 0 0 0 0 0 0 0 0 0 0\n",
            " 0 0 1 0 1 1 0 0 0 0 1 0 2 1 0 0 0 0 2 2 0 2 1 0 2 2 1 0 0 2 2 0]\n"
          ],
          "name": "stdout"
        }
      ]
    },
    {
      "cell_type": "code",
      "metadata": {
        "colab": {
          "base_uri": "https://localhost:8080/"
        },
        "id": "565_rx2cWe6V",
        "outputId": "6ec2fbe0-18ae-43a4-d3b7-fb27d54edbe1"
      },
      "source": [
        "y = [yp_hat_test[i] for i in range(len(yp_hat_test)) if yp_hat_test[i] == y_hat_test[i]]\n",
        "print(round(len(y)/len(yp_hat_test), 3))"
      ],
      "execution_count": 43,
      "outputs": [
        {
          "output_type": "stream",
          "text": [
            "1.0\n"
          ],
          "name": "stdout"
        }
      ]
    },
    {
      "cell_type": "code",
      "metadata": {
        "colab": {
          "base_uri": "https://localhost:8080/"
        },
        "id": "ENBv9EQERUYh",
        "outputId": "8c478dc3-cd0c-454c-cdcc-3d7085534a25"
      },
      "source": [
        "accuracy_model = round(accuracy_score(y_test, yp_hat_test), 3)\n",
        "print(accuracy_model)\n",
        "#print(round(accuracy_score(test_labels, ppredictions), 3))"
      ],
      "execution_count": 46,
      "outputs": [
        {
          "output_type": "stream",
          "text": [
            "0.813\n"
          ],
          "name": "stdout"
        }
      ]
    },
    {
      "cell_type": "code",
      "metadata": {
        "colab": {
          "base_uri": "https://localhost:8080/"
        },
        "id": "OsyEUiBKZopO",
        "outputId": "be4bfa42-09c5-410c-8da8-70e69e39059f"
      },
      "source": [
        "precision_model = round(precision_score(y_test, yp_hat_test, average='micro'), 3)\n",
        "print(precision_model)\n",
        "#print(round(precision_score(test_labels, ppredictions, average='micro'), 3))"
      ],
      "execution_count": 47,
      "outputs": [
        {
          "output_type": "stream",
          "text": [
            "0.813\n"
          ],
          "name": "stdout"
        }
      ]
    },
    {
      "cell_type": "code",
      "metadata": {
        "id": "d3cCpLLYdMKd",
        "colab": {
          "base_uri": "https://localhost:8080/"
        },
        "outputId": "0ed0b48c-06ea-43ee-e22d-4155603f6ec4"
      },
      "source": [
        "recall_model = round(recall_score(y_test, yp_hat_test, average='micro'), 3)\n",
        "print(recall_model)\n",
        "#print(round(recall_score(test_labels, ppredictions, average='micro'), 3))"
      ],
      "execution_count": 48,
      "outputs": [
        {
          "output_type": "stream",
          "text": [
            "0.813\n"
          ],
          "name": "stdout"
        }
      ]
    },
    {
      "cell_type": "code",
      "metadata": {
        "id": "1OZRuK0bdcT-",
        "colab": {
          "base_uri": "https://localhost:8080/"
        },
        "outputId": "1a3d56b3-f2f2-410c-dfa7-d11f458ee31a"
      },
      "source": [
        "f1_model = round(f1_score(y_test, yp_hat_test, average='micro'), 3)\n",
        "print(f1_model)\n",
        "#print(round(f1_score(test_labels, ppredictions, average='micro'), 3))"
      ],
      "execution_count": 49,
      "outputs": [
        {
          "output_type": "stream",
          "text": [
            "0.813\n"
          ],
          "name": "stdout"
        }
      ]
    },
    {
      "cell_type": "code",
      "metadata": {
        "id": "m788KsPlfQqo",
        "colab": {
          "base_uri": "https://localhost:8080/"
        },
        "outputId": "0779210c-5f3a-4fce-87bb-086046d2cbb2"
      },
      "source": [
        "auc_value_model = roc_auc_score(test_labels, ppredictions, multi_class='ovr', average='micro')\n",
        "auc_value_model"
      ],
      "execution_count": 50,
      "outputs": [
        {
          "output_type": "execute_result",
          "data": {
            "text/plain": [
              "0.9340197464078311"
            ]
          },
          "metadata": {
            "tags": []
          },
          "execution_count": 50
        }
      ]
    },
    {
      "cell_type": "code",
      "metadata": {
        "id": "ZXRIFnsGdwc1"
      },
      "source": [
        "fpr_model, tpr_model, threshold_model = roc_curve(y_test, yp_hat_test)"
      ],
      "execution_count": null,
      "outputs": []
    },
    {
      "cell_type": "code",
      "metadata": {
        "id": "SrV4TQe1AS1e"
      },
      "source": [
        "roc_auc_model = auc(fpr_model, tpr_model)"
      ],
      "execution_count": null,
      "outputs": []
    },
    {
      "cell_type": "code",
      "metadata": {
        "id": "qhihZWEsAeHB"
      },
      "source": [
        "plt.figure()\n",
        "lw=2\n",
        "plt.plot(fpr_model, tpr_model, color='darkorange', lw=lw, label='ROC curve (area=%.2f)' %auc_value_model)\n",
        "plt.plot([0, 1], [0, 1], color='navy', lw=lw, linestyle='--')\n",
        "plt.xlim([0.0, 1.0])\n",
        "plt.ylim([0.0, 1.05])\n",
        "plt.xlabel('False Positive (FP) Rate')\n",
        "plt.ylabel('True Positive (TP) Rate')\n",
        "plt.title('Receiver operating characteristic for CNN')\n",
        "plt.legend(loc='lower right')\n",
        "plt.show()"
      ],
      "execution_count": null,
      "outputs": []
    },
    {
      "cell_type": "code",
      "metadata": {
        "id": "dVGNbgkrTkFW"
      },
      "source": [
        ""
      ],
      "execution_count": null,
      "outputs": []
    }
  ]
}