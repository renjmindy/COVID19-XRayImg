{
 "cells": [
  {
   "cell_type": "markdown",
   "metadata": {},
   "source": [
    "## Final Project Submission\n",
    "\n",
    "Please fill out:\n",
    "* Student name: Mindy Jen\n",
    "* Student pace: full time, ds-ft-online-05262020\n",
    "* Scheduled project review date/time: Sep. 24th, 2020/12:45-13:30 (CDT)\n",
    "* Instructor name: Yish Lim\n",
    "* Blog post URL: [Mod4_Blog](https://renjmindy.github.io/diagnosis_of_covid-19_alike_viral_pneumonia)\n",
    "* fine data: [Kaggle](https://www.kaggle.com/paultimothymooney/chest-xray-pneumonia)\n",
    "* full data: [Mendeley](https://data.mendeley.com/datasets/rscbjbr9sj/3)"
   ]
  },
  {
   "cell_type": "code",
   "execution_count": 1,
   "metadata": {},
   "outputs": [],
   "source": [
    "import time\n",
    "import datetime\n",
    "from datetime import date\n",
    "import os, shutil\n",
    "import matplotlib.pyplot as plt\n",
    "import matplotlib.image as mpimg\n",
    "%matplotlib inline\n",
    "import itertools\n",
    "import scipy\n",
    "import numpy as np\n",
    "import pandas as pd\n",
    "import pickle\n",
    "from PIL import Image\n",
    "from scipy import ndimage\n",
    "from sklearn.preprocessing import LabelBinarizer, StandardScaler, OneHotEncoder\n",
    "from sklearn.impute import SimpleImputer\n",
    "from sklearn.model_selection import train_test_split, cross_val_predict\n",
    "from sklearn.metrics import accuracy_score, precision_score, recall_score, f1_score, mean_squared_error\n",
    "from sklearn.metrics import roc_auc_score, roc_curve, auc, classification_report, confusion_matrix, plot_confusion_matrix\n",
    "from sklearn.multiclass import OneVsRestClassifier\n",
    "from keras.utils.np_utils import to_categorical\n",
    "from keras.preprocessing.text import Tokenizer\n",
    "from keras.preprocessing.image import ImageDataGenerator, array_to_img, img_to_array, load_img\n",
    "from keras import models\n",
    "from keras import layers\n",
    "from keras import regularizers\n",
    "from keras import optimizers\n",
    "from keras.models import load_model\n",
    "from keras.wrappers.scikit_learn import KerasRegressor\n",
    "\n",
    "np.random.seed(123)\n",
    "original_start = datetime.datetime.now()\n",
    "start = datetime.datetime.now()\n",
    "\n",
    "import warnings\n",
    "warnings.filterwarnings('ignore')"
   ]
  },
  {
   "cell_type": "code",
   "execution_count": 2,
   "metadata": {},
   "outputs": [],
   "source": [
    "new_dir = 'split/'\n",
    "\n",
    "train_folder = os.path.join(new_dir, 'train')\n",
    "train_update_folder = os.path.join(new_dir, 'train_oct2020')\n",
    "train_pneumonia = os.path.join(train_folder, 'PNEUMONIA')\n",
    "train_normal = os.path.join(train_folder, 'NORMAL')\n",
    "train_update_pneumonia = os.path.join(train_update_folder, 'PNEUMONIA_oct2020')\n",
    "train_update_normal = os.path.join(train_update_folder, 'NORMAL_oct2020')\n",
    "\n",
    "test_folder = os.path.join(new_dir, 'test')\n",
    "test_update_folder = os.path.join(new_dir, 'test_oct2020')\n",
    "test_pneumonia = os.path.join(test_folder, 'PNEUMONIA')\n",
    "test_normal = os.path.join(test_folder, 'NORMAL')\n",
    "test_update_pneumonia = os.path.join(test_update_folder, 'PNEUMONIA_oct2020')\n",
    "test_update_normal = os.path.join(test_update_folder, 'NORMAL_oct2020')\n",
    "\n",
    "val_folder = os.path.join(new_dir, 'validation')\n",
    "val_update_folder = os.path.join(new_dir, 'validation_oct2020')\n",
    "val_pneumonia = os.path.join(val_folder, 'PNEUMONIA')\n",
    "val_normal = os.path.join(val_folder, 'NORMAL')\n",
    "val_update_pneumonia = os.path.join(val_update_folder, 'PNEUMONIA_oct2020')\n",
    "val_update_normal = os.path.join(val_update_folder, 'NORMAL_oct2020')"
   ]
  },
  {
   "cell_type": "code",
   "execution_count": 3,
   "metadata": {},
   "outputs": [
    {
     "name": "stdout",
     "output_type": "stream",
     "text": [
      "training data:\n",
      "Found 2438 images belonging to 2 classes.\n"
     ]
    }
   ],
   "source": [
    "# get all the data in the directory split/train (3,418 images), and reshape them\n",
    "print('training data:')\n",
    "train_generator = ImageDataGenerator(rescale=1./255).flow_from_directory(\n",
    "    # This is the target directory\n",
    "    train_update_folder, \n",
    "    #classes=['NORMAL_oct2020','PNEUMONIA_oct2020'],\n",
    "    # All images will be resized to 210x210\n",
    "    target_size=(210, 210), \n",
    "    batch_size = 2438)\n",
    "    #, \n",
    "    # Since we use binary_crossentropy loss, we need binary labels\n",
    "    #class_mode='binary')"
   ]
  },
  {
   "cell_type": "code",
   "execution_count": 4,
   "metadata": {},
   "outputs": [
    {
     "name": "stdout",
     "output_type": "stream",
     "text": [
      "validating data:\n",
      "Found 364 images belonging to 2 classes.\n"
     ]
    }
   ],
   "source": [
    "# get all the data in the directory split/validation (427 images), and reshape them\n",
    "print('validating data:')\n",
    "val_generator = ImageDataGenerator(rescale=1./255).flow_from_directory(\n",
    "    val_update_folder,\n",
    "    #classes=['NORMAL_oct2020','PNEUMONIA_oct2020'],\n",
    "    target_size=(210, 210), \n",
    "    batch_size = 364)\n",
    "    #,\n",
    "    #class_mode='binary')\n",
    "    #,\n",
    "    #shuffle=False)"
   ]
  },
  {
   "cell_type": "code",
   "execution_count": 5,
   "metadata": {},
   "outputs": [
    {
     "name": "stdout",
     "output_type": "stream",
     "text": [
      "testing data:\n",
      "Found 274 images belonging to 2 classes.\n"
     ]
    }
   ],
   "source": [
    "# get all the data in the directory split/test (427 images), and reshape them\n",
    "print('testing data:')\n",
    "test_generator = ImageDataGenerator(rescale=1./255).flow_from_directory(\n",
    "    test_update_folder,\n",
    "    #classes=['NORMAL_oct2020','PNEUMONIA_oct2020'],\n",
    "    target_size=(210, 210), \n",
    "    batch_size = 274,\n",
    "    #class_mode='binary',\n",
    "    shuffle=False) "
   ]
  },
  {
   "cell_type": "code",
   "execution_count": 6,
   "metadata": {},
   "outputs": [],
   "source": [
    "# create the data sets\n",
    "train_images, train_labels = next(train_generator)\n",
    "test_images, test_labels = next(test_generator)\n",
    "val_images, val_labels = next(val_generator)"
   ]
  },
  {
   "cell_type": "code",
   "execution_count": 7,
   "metadata": {},
   "outputs": [
    {
     "name": "stdout",
     "output_type": "stream",
     "text": [
      "(2438, 210, 210, 3)\n",
      "(274, 210, 210, 3)\n",
      "(364, 210, 210, 3)\n",
      "(2438, 2)\n",
      "(274, 2)\n",
      "(364, 2)\n"
     ]
    }
   ],
   "source": [
    "print(train_images.shape)\n",
    "print(test_images.shape)\n",
    "print(val_images.shape)\n",
    "print(train_labels.shape)\n",
    "print(test_labels.shape)\n",
    "print(val_labels.shape)"
   ]
  },
  {
   "cell_type": "code",
   "execution_count": 8,
   "metadata": {},
   "outputs": [
    {
     "name": "stdout",
     "output_type": "stream",
     "text": [
      "(2438, 1)\n",
      "(274, 1)\n",
      "(364, 1)\n"
     ]
    }
   ],
   "source": [
    "train_y = np.reshape(train_labels[:,0], (train_labels.shape[0],1))\n",
    "test_y = np.reshape(test_labels[:,0], (test_labels.shape[0],1))\n",
    "val_y = np.reshape(val_labels[:,0], (val_labels.shape[0],1))\n",
    "\n",
    "print(train_y.shape)\n",
    "print(test_y.shape)\n",
    "print(val_y.shape)"
   ]
  },
  {
   "cell_type": "code",
   "execution_count": 9,
   "metadata": {},
   "outputs": [
    {
     "data": {
      "text/plain": [
       "array([[1., 0.],\n",
       "       [1., 0.],\n",
       "       [0., 1.],\n",
       "       ...,\n",
       "       [0., 1.],\n",
       "       [1., 0.],\n",
       "       [0., 1.]], dtype=float32)"
      ]
     },
     "execution_count": 9,
     "metadata": {},
     "output_type": "execute_result"
    }
   ],
   "source": [
    "train_labels"
   ]
  },
  {
   "cell_type": "code",
   "execution_count": 10,
   "metadata": {},
   "outputs": [
    {
     "data": {
      "text/plain": [
       "{'NORMAL_oct2020': 0, 'PNEUMONIA_oct2020': 1}"
      ]
     },
     "execution_count": 10,
     "metadata": {},
     "output_type": "execute_result"
    }
   ],
   "source": [
    "train_generator.class_indices"
   ]
  },
  {
   "cell_type": "code",
   "execution_count": 11,
   "metadata": {},
   "outputs": [
    {
     "name": "stdout",
     "output_type": "stream",
     "text": [
      "0.5\n",
      "0.5\n",
      "0.37637362637362637\n"
     ]
    }
   ],
   "source": [
    "# PNEUMONIA\n",
    "print(train_y[train_y==0].shape[0]/train_y.shape[0])\n",
    "print(test_y[test_y==0].shape[0]/test_y.shape[0])\n",
    "print(val_y[val_y==0].shape[0]/val_y.shape[0])"
   ]
  },
  {
   "cell_type": "code",
   "execution_count": 12,
   "metadata": {},
   "outputs": [
    {
     "name": "stdout",
     "output_type": "stream",
     "text": [
      "0.5\n",
      "0.5\n",
      "0.6236263736263736\n"
     ]
    }
   ],
   "source": [
    "# NORMAL\n",
    "print(train_y[train_y==1].shape[0]/train_y.shape[0])\n",
    "print(test_y[test_y==1].shape[0]/test_y.shape[0])\n",
    "print(val_y[val_y==1].shape[0]/val_y.shape[0])"
   ]
  },
  {
   "cell_type": "code",
   "execution_count": 13,
   "metadata": {},
   "outputs": [],
   "source": [
    "def visualize_training_results(results):\n",
    "    history = results.history\n",
    "    plt.figure()\n",
    "    plt.plot(history['val_loss'])\n",
    "    plt.plot(history['loss'])\n",
    "    plt.legend(['val_loss', 'loss'])\n",
    "    plt.title('Loss')\n",
    "    plt.xlabel('Epochs')\n",
    "    plt.ylabel('Loss')\n",
    "    plt.show()\n",
    "    \n",
    "    plt.figure()\n",
    "    plt.plot(history['val_accuracy'])\n",
    "    plt.plot(history['accuracy'])\n",
    "    plt.legend(['val_acc', 'acc'])\n",
    "    plt.title('Accuracy')\n",
    "    plt.xlabel('Epochs')\n",
    "    plt.ylabel('Accuracy')\n",
    "    plt.show()"
   ]
  },
  {
   "cell_type": "markdown",
   "metadata": {},
   "source": [
    "## Designing CNN Model w/ Early Stopping\n",
    "\n",
    "Now it's time to design your CNN using Keras! Remember a few things when doing this: \n",
    "\n",
    "- You should alternate convolutional and pooling layers\n",
    "- You should have later layers have a larger number of parameters in order to detect more abstract patterns\n",
    "- Add some final dense layers to add a classifier to the convolutional base \n",
    "- Compile this model "
   ]
  },
  {
   "cell_type": "code",
   "execution_count": 14,
   "metadata": {},
   "outputs": [],
   "source": [
    "# Your code here; design and compile the model\n",
    "model = models.Sequential()\n",
    "model.add(layers.Conv2D(32, (3, 3), activation='relu', padding='valid', \n",
    "                        kernel_regularizer=regularizers.l1_l2(l1=1e-6, l2=1e-3), input_shape=(210, 210, 3)))\n",
    "model.add(layers.MaxPooling2D((2, 2)))\n",
    "model.add(layers.Conv2D(64, (3, 3), activation='relu', padding='valid',\n",
    "                        kernel_regularizer=regularizers.l1_l2(l1=1e-6, l2=1e-3)))\n",
    "model.add(layers.MaxPooling2D((2, 2)))\n",
    "model.add(layers.Conv2D(128, (3, 3), activation='relu', padding='valid',\n",
    "                        kernel_regularizer=regularizers.l1_l2(l1=1e-6, l2=1e-3)))\n",
    "model.add(layers.MaxPooling2D((2, 2)))\n",
    "model.add(layers.Conv2D(128, (3, 3), activation='relu', padding='valid',\n",
    "                        kernel_regularizer=regularizers.l1_l2(l1=1e-6, l2=1e-3)))\n",
    "model.add(layers.MaxPooling2D((2, 2)))\n",
    "model.add(layers.Flatten())\n",
    "model.add(layers.Dense(512, activation='relu'))\n",
    "model.add(layers.Dropout(0.2))\n",
    "model.add(layers.Dense(1, activation='sigmoid'))"
   ]
  },
  {
   "cell_type": "code",
   "execution_count": 15,
   "metadata": {},
   "outputs": [
    {
     "name": "stdout",
     "output_type": "stream",
     "text": [
      "Model: \"sequential\"\n",
      "_________________________________________________________________\n",
      "Layer (type)                 Output Shape              Param #   \n",
      "=================================================================\n",
      "conv2d (Conv2D)              (None, 208, 208, 32)      896       \n",
      "_________________________________________________________________\n",
      "max_pooling2d (MaxPooling2D) (None, 104, 104, 32)      0         \n",
      "_________________________________________________________________\n",
      "conv2d_1 (Conv2D)            (None, 102, 102, 64)      18496     \n",
      "_________________________________________________________________\n",
      "max_pooling2d_1 (MaxPooling2 (None, 51, 51, 64)        0         \n",
      "_________________________________________________________________\n",
      "conv2d_2 (Conv2D)            (None, 49, 49, 128)       73856     \n",
      "_________________________________________________________________\n",
      "max_pooling2d_2 (MaxPooling2 (None, 24, 24, 128)       0         \n",
      "_________________________________________________________________\n",
      "conv2d_3 (Conv2D)            (None, 22, 22, 128)       147584    \n",
      "_________________________________________________________________\n",
      "max_pooling2d_3 (MaxPooling2 (None, 11, 11, 128)       0         \n",
      "_________________________________________________________________\n",
      "flatten (Flatten)            (None, 15488)             0         \n",
      "_________________________________________________________________\n",
      "dense (Dense)                (None, 512)               7930368   \n",
      "_________________________________________________________________\n",
      "dropout (Dropout)            (None, 512)               0         \n",
      "_________________________________________________________________\n",
      "dense_1 (Dense)              (None, 1)                 513       \n",
      "=================================================================\n",
      "Total params: 8,171,713\n",
      "Trainable params: 8,171,713\n",
      "Non-trainable params: 0\n",
      "_________________________________________________________________\n"
     ]
    }
   ],
   "source": [
    "model.summary()"
   ]
  },
  {
   "cell_type": "markdown",
   "metadata": {},
   "source": [
    "* Import `EarlyStopping` and `ModelCheckpoint` from keras.callbacks\n",
    "* Define a list, `early_stopping`:\n",
    "    * Monitor `val_loss` and continue training for 10 epochs before stopping\n",
    "    * Save the best model while monitoring `val_loss`"
   ]
  },
  {
   "cell_type": "code",
   "execution_count": 16,
   "metadata": {},
   "outputs": [],
   "source": [
    "# Import EarlyStopping and ModelCheckpoint\n",
    "from keras.callbacks import EarlyStopping, ModelCheckpoint\n",
    "\n",
    "# Define the callbacks\n",
    "early_stopping = [EarlyStopping(monitor='val_loss', patience=10), \n",
    "                  ModelCheckpoint(filepath='./cnn1_chest_xray_ALL_data_BestModel_'+str(date.today())+'.h5', \n",
    "                                  monitor='val_loss', save_best_only=True)]"
   ]
  },
  {
   "cell_type": "code",
   "execution_count": 17,
   "metadata": {},
   "outputs": [],
   "source": [
    "model.compile(loss='binary_crossentropy', optimizer=optimizers.Adam(), metrics=['accuracy'])"
   ]
  },
  {
   "cell_type": "markdown",
   "metadata": {},
   "source": [
    "## Training and Evaluating the Model\n",
    "\n",
    "Remember that training deep networks is resource intensive: depending on the size of the data, even a CNN with 3-4 successive convolutional and pooling layers is apt to take hours to train on a high-end laptop. Using 30 epochs and 8 layers (alternating between convolutional and pooling), my model took about 14 hours to run on a 9 years old macbook pro (Late 2011, macOS High Sierra, v.10.13.6). That is, I set my model to run the training epochs overnight.  "
   ]
  },
  {
   "cell_type": "code",
   "execution_count": 18,
   "metadata": {
    "scrolled": false
   },
   "outputs": [
    {
     "name": "stdout",
     "output_type": "stream",
     "text": [
      "program starts, current time:\n",
      "2020-10-15 19:37:22.788488\n",
      "Epoch 1/200\n",
      "10/10 [==============================] - 1853s 185s/step - loss: 0.9912 - accuracy: 0.5369 - val_loss: 0.8911 - val_accuracy: 0.4121\n",
      "Epoch 2/200\n",
      "10/10 [==============================] - 1104s 110s/step - loss: 0.7618 - accuracy: 0.6891 - val_loss: 0.5604 - val_accuracy: 0.8022\n",
      "Epoch 3/200\n",
      "10/10 [==============================] - 755s 75s/step - loss: 0.5565 - accuracy: 0.8347 - val_loss: 0.4079 - val_accuracy: 0.9148\n",
      "Epoch 4/200\n",
      "10/10 [==============================] - 702s 70s/step - loss: 0.4362 - accuracy: 0.8843 - val_loss: 0.4181 - val_accuracy: 0.8956\n",
      "Epoch 5/200\n",
      "10/10 [==============================] - 709s 71s/step - loss: 0.4036 - accuracy: 0.8983 - val_loss: 0.3551 - val_accuracy: 0.9176\n",
      "Epoch 6/200\n",
      "10/10 [==============================] - 696s 70s/step - loss: 0.3671 - accuracy: 0.9163 - val_loss: 0.2885 - val_accuracy: 0.9341\n",
      "Epoch 7/200\n",
      "10/10 [==============================] - 714s 71s/step - loss: 0.3075 - accuracy: 0.9327 - val_loss: 0.2627 - val_accuracy: 0.9451\n",
      "Epoch 8/200\n",
      "10/10 [==============================] - 1062s 106s/step - loss: 0.2966 - accuracy: 0.9336 - val_loss: 0.3062 - val_accuracy: 0.9258\n",
      "Epoch 9/200\n",
      "10/10 [==============================] - 1484s 148s/step - loss: 0.2808 - accuracy: 0.9372 - val_loss: 0.2284 - val_accuracy: 0.9560\n",
      "Epoch 10/200\n",
      "10/10 [==============================] - 1236s 124s/step - loss: 0.2773 - accuracy: 0.9397 - val_loss: 0.2614 - val_accuracy: 0.9396\n",
      "Epoch 11/200\n",
      "10/10 [==============================] - 1122s 112s/step - loss: 0.2566 - accuracy: 0.9422 - val_loss: 0.2163 - val_accuracy: 0.9588\n",
      "Epoch 12/200\n",
      "10/10 [==============================] - 751s 75s/step - loss: 0.2417 - accuracy: 0.9475 - val_loss: 0.2326 - val_accuracy: 0.9478\n",
      "Epoch 13/200\n",
      "10/10 [==============================] - 737s 74s/step - loss: 0.2334 - accuracy: 0.9541 - val_loss: 0.2133 - val_accuracy: 0.9505\n",
      "Epoch 14/200\n",
      "10/10 [==============================] - 714s 71s/step - loss: 0.2272 - accuracy: 0.9516 - val_loss: 0.2090 - val_accuracy: 0.9588\n",
      "Epoch 15/200\n",
      "10/10 [==============================] - 1298s 130s/step - loss: 0.2233 - accuracy: 0.9516 - val_loss: 0.2039 - val_accuracy: 0.9560\n",
      "Epoch 16/200\n",
      "10/10 [==============================] - 1842s 184s/step - loss: 0.2297 - accuracy: 0.9541 - val_loss: 0.2295 - val_accuracy: 0.9451\n",
      "Epoch 17/200\n",
      "10/10 [==============================] - 2058s 206s/step - loss: 0.2032 - accuracy: 0.9602 - val_loss: 0.1954 - val_accuracy: 0.9588\n",
      "Epoch 18/200\n",
      "10/10 [==============================] - 1818s 182s/step - loss: 0.2018 - accuracy: 0.9606 - val_loss: 0.2223 - val_accuracy: 0.9423\n",
      "Epoch 19/200\n",
      "10/10 [==============================] - 1624s 162s/step - loss: 0.1949 - accuracy: 0.9668 - val_loss: 0.2132 - val_accuracy: 0.9478\n",
      "Epoch 20/200\n",
      "10/10 [==============================] - 891s 89s/step - loss: 0.1790 - accuracy: 0.9721 - val_loss: 0.2055 - val_accuracy: 0.9505\n",
      "Epoch 21/200\n",
      "10/10 [==============================] - 777s 78s/step - loss: 0.1644 - accuracy: 0.9770 - val_loss: 0.2319 - val_accuracy: 0.9478\n",
      "Epoch 22/200\n",
      "10/10 [==============================] - 768s 77s/step - loss: 0.1709 - accuracy: 0.9688 - val_loss: 0.2042 - val_accuracy: 0.9588\n",
      "Epoch 23/200\n",
      "10/10 [==============================] - 735s 73s/step - loss: 0.1843 - accuracy: 0.9623 - val_loss: 0.2046 - val_accuracy: 0.9451\n",
      "Epoch 24/200\n",
      "10/10 [==============================] - 742s 74s/step - loss: 0.1726 - accuracy: 0.9676 - val_loss: 0.1908 - val_accuracy: 0.9560\n",
      "Epoch 25/200\n",
      "10/10 [==============================] - 1199s 120s/step - loss: 0.1606 - accuracy: 0.9750 - val_loss: 0.2868 - val_accuracy: 0.9341\n",
      "Epoch 26/200\n",
      "10/10 [==============================] - 1462s 146s/step - loss: 0.1569 - accuracy: 0.9742 - val_loss: 0.2066 - val_accuracy: 0.9533\n",
      "Epoch 27/200\n",
      "10/10 [==============================] - 1132s 113s/step - loss: 0.1571 - accuracy: 0.9721 - val_loss: 0.1818 - val_accuracy: 0.9588\n",
      "Epoch 28/200\n",
      "10/10 [==============================] - 1644s 164s/step - loss: 0.1388 - accuracy: 0.9811 - val_loss: 0.1981 - val_accuracy: 0.9560\n",
      "Epoch 29/200\n",
      "10/10 [==============================] - 942s 94s/step - loss: 0.1244 - accuracy: 0.9881 - val_loss: 0.2115 - val_accuracy: 0.9478\n",
      "Epoch 30/200\n",
      "10/10 [==============================] - 1650s 165s/step - loss: 0.1278 - accuracy: 0.9815 - val_loss: 0.2287 - val_accuracy: 0.9451\n",
      "Epoch 31/200\n",
      "10/10 [==============================] - 1023s 102s/step - loss: 0.1232 - accuracy: 0.9861 - val_loss: 0.2221 - val_accuracy: 0.9478\n",
      "Epoch 32/200\n",
      "10/10 [==============================] - 773s 77s/step - loss: 0.1147 - accuracy: 0.9889 - val_loss: 0.2465 - val_accuracy: 0.9423\n",
      "Epoch 33/200\n",
      "10/10 [==============================] - 716s 72s/step - loss: 0.1133 - accuracy: 0.9861 - val_loss: 0.2118 - val_accuracy: 0.9478\n",
      "Epoch 34/200\n",
      "10/10 [==============================] - 686s 69s/step - loss: 0.1197 - accuracy: 0.9885 - val_loss: 0.2028 - val_accuracy: 0.9533\n",
      "Epoch 35/200\n",
      "10/10 [==============================] - 681s 68s/step - loss: 0.1311 - accuracy: 0.9762 - val_loss: 0.2078 - val_accuracy: 0.9615\n",
      "Epoch 36/200\n",
      "10/10 [==============================] - 1106s 111s/step - loss: 0.1133 - accuracy: 0.9873 - val_loss: 0.2272 - val_accuracy: 0.9478\n",
      "Epoch 37/200\n",
      "10/10 [==============================] - 1437s 144s/step - loss: 0.1018 - accuracy: 0.9918 - val_loss: 0.2175 - val_accuracy: 0.9423\n",
      "program ends, current time:\n",
      "2020-10-16 08:09:33.794855\n",
      "Training took a total of 12:32:11.006367\n"
     ]
    }
   ],
   "source": [
    "# Set the model to train \n",
    "# ⏰ This cell may take several hours to run \n",
    "start = datetime.datetime.now()\n",
    "print('program starts, current time:')\n",
    "print(start)\n",
    "history = model.fit(train_images, train_y, epochs=200, callbacks=early_stopping, \n",
    "                    batch_size=250, validation_data=(val_images, val_y))\n",
    "end = datetime.datetime.now()\n",
    "print('program ends, current time:')\n",
    "print(end)\n",
    "elapsed = end - start\n",
    "print('Training took a total of {}'.format(elapsed))"
   ]
  },
  {
   "cell_type": "code",
   "execution_count": null,
   "metadata": {},
   "outputs": [],
   "source": [
    "#!pip install pydot"
   ]
  },
  {
   "cell_type": "code",
   "execution_count": null,
   "metadata": {},
   "outputs": [],
   "source": [
    "#from keras.utils.vis_utils import plot_model\n",
    "#plot_model(model, to_file='model_plot_CNN.png', show_shapes=True, show_layer_names=True)"
   ]
  },
  {
   "cell_type": "code",
   "execution_count": null,
   "metadata": {},
   "outputs": [],
   "source": [
    "#from IPython.display import Image, SVG\n",
    "#Image(filename='model_plot_CNN.png')\n",
    "##SVG(keras.utils.vis_utils.model_to_dot(model).create(prog=dot, format=svg))"
   ]
  },
  {
   "cell_type": "markdown",
   "metadata": {},
   "source": [
    "## CNN Model Evaluation : Accuracy, ROC Curve and AUC \n",
    "\n",
    "Now use the test set to perform an evaluation on the model of choice. "
   ]
  },
  {
   "cell_type": "code",
   "execution_count": 19,
   "metadata": {},
   "outputs": [],
   "source": [
    "# Load the best (saved) model\n",
    "saved_model = load_model('./cnn1_chest_xray_ALL_data_BestModel_2020-10-15.h5')"
   ]
  },
  {
   "cell_type": "code",
   "execution_count": 20,
   "metadata": {},
   "outputs": [
    {
     "name": "stdout",
     "output_type": "stream",
     "text": [
      "77/77 [==============================] - 91s 1s/step - loss: 0.0929 - accuracy: 0.9979\n"
     ]
    }
   ],
   "source": [
    "results_train = model.evaluate(train_images, train_y)"
   ]
  },
  {
   "cell_type": "code",
   "execution_count": 21,
   "metadata": {},
   "outputs": [
    {
     "name": "stdout",
     "output_type": "stream",
     "text": [
      "9/9 [==============================] - 10s 1s/step - loss: 0.4639 - accuracy: 0.9088\n"
     ]
    }
   ],
   "source": [
    "results_test = model.evaluate(test_images, test_y)"
   ]
  },
  {
   "cell_type": "code",
   "execution_count": 22,
   "metadata": {},
   "outputs": [
    {
     "name": "stdout",
     "output_type": "stream",
     "text": [
      "77/77 [==============================] - 148s 2s/step - loss: 0.1291 - accuracy: 0.9881\n"
     ]
    }
   ],
   "source": [
    "best_results_train = saved_model.evaluate(train_images, train_y)"
   ]
  },
  {
   "cell_type": "code",
   "execution_count": 23,
   "metadata": {},
   "outputs": [
    {
     "name": "stdout",
     "output_type": "stream",
     "text": [
      "9/9 [==============================] - 16s 2s/step - loss: 0.3888 - accuracy: 0.9051\n"
     ]
    }
   ],
   "source": [
    "best_results_test = saved_model.evaluate(test_images, test_y)"
   ]
  },
  {
   "cell_type": "code",
   "execution_count": 24,
   "metadata": {},
   "outputs": [
    {
     "data": {
      "text/plain": [
       "[0.09288112074136734, 0.9979491233825684]"
      ]
     },
     "execution_count": 24,
     "metadata": {},
     "output_type": "execute_result"
    }
   ],
   "source": [
    "results_train"
   ]
  },
  {
   "cell_type": "code",
   "execution_count": 25,
   "metadata": {},
   "outputs": [
    {
     "data": {
      "text/plain": [
       "[0.46389785408973694, 0.9087591171264648]"
      ]
     },
     "execution_count": 25,
     "metadata": {},
     "output_type": "execute_result"
    }
   ],
   "source": [
    "results_test"
   ]
  },
  {
   "cell_type": "code",
   "execution_count": 26,
   "metadata": {},
   "outputs": [
    {
     "data": {
      "text/plain": [
       "[0.12906377017498016, 0.9881049990653992]"
      ]
     },
     "execution_count": 26,
     "metadata": {},
     "output_type": "execute_result"
    }
   ],
   "source": [
    "best_results_train"
   ]
  },
  {
   "cell_type": "code",
   "execution_count": 27,
   "metadata": {},
   "outputs": [
    {
     "data": {
      "text/plain": [
       "[0.3887743651866913, 0.9051094651222229]"
      ]
     },
     "execution_count": 27,
     "metadata": {},
     "output_type": "execute_result"
    }
   ],
   "source": [
    "best_results_test"
   ]
  },
  {
   "cell_type": "code",
   "execution_count": 28,
   "metadata": {},
   "outputs": [
    {
     "data": {
      "image/png": "[encoded data removed]",
      "text/plain": [
       "<Figure size 432x288 with 1 Axes>"
      ]
     },
     "metadata": {
      "needs_background": "light"
     },
     "output_type": "display_data"
    },
    {
     "data": {
      "image/png": "[encoded data removed]",
      "text/plain": [
       "<Figure size 432x288 with 1 Axes>"
      ]
     },
     "metadata": {
      "needs_background": "light"
     },
     "output_type": "display_data"
    }
   ],
   "source": [
    "visualize_training_results(history)"
   ]
  },
  {
   "cell_type": "markdown",
   "metadata": {},
   "source": [
    "Make predictions on the validation data set. When using generators to make predictions, we must first turn off shuffle (the same as what we have done with creating the validation data-set)."
   ]
  },
  {
   "cell_type": "code",
   "execution_count": 29,
   "metadata": {
    "scrolled": false
   },
   "outputs": [],
   "source": [
    "preds = saved_model.predict(test_images)"
   ]
  },
  {
   "cell_type": "code",
   "execution_count": 30,
   "metadata": {},
   "outputs": [
    {
     "data": {
      "text/plain": [
       "numpy.ndarray"
      ]
     },
     "execution_count": 30,
     "metadata": {},
     "output_type": "execute_result"
    }
   ],
   "source": [
    "type(preds)"
   ]
  },
  {
   "cell_type": "code",
   "execution_count": 31,
   "metadata": {},
   "outputs": [
    {
     "data": {
      "text/plain": [
       "(274, 1)"
      ]
     },
     "execution_count": 31,
     "metadata": {},
     "output_type": "execute_result"
    }
   ],
   "source": [
    "preds.shape"
   ]
  },
  {
   "cell_type": "code",
   "execution_count": 32,
   "metadata": {},
   "outputs": [
    {
     "data": {
      "text/plain": [
       "(274, 1)"
      ]
     },
     "execution_count": 32,
     "metadata": {},
     "output_type": "execute_result"
    }
   ],
   "source": [
    "test_y.shape"
   ]
  },
  {
   "cell_type": "code",
   "execution_count": 33,
   "metadata": {},
   "outputs": [
    {
     "name": "stdout",
     "output_type": "stream",
     "text": [
      "WARNING:tensorflow:From <ipython-input-33-29ccf7d8e665>:1: Sequential.predict_classes (from tensorflow.python.keras.engine.sequential) is deprecated and will be removed after 2021-01-01.\n",
      "Instructions for updating:\n",
      "Please use instead:* `np.argmax(model.predict(x), axis=-1)`,   if your model does multi-class classification   (e.g. if it uses a `softmax` last-layer activation).* `(model.predict(x) > 0.5).astype(\"int32\")`,   if your model does binary classification   (e.g. if it uses a `sigmoid` last-layer activation).\n"
     ]
    }
   ],
   "source": [
    "pred_class = model.predict_classes(test_images)"
   ]
  },
  {
   "cell_type": "code",
   "execution_count": 34,
   "metadata": {
    "scrolled": false
   },
   "outputs": [
    {
     "data": {
      "text/plain": [
       "(274, 1)"
      ]
     },
     "execution_count": 34,
     "metadata": {},
     "output_type": "execute_result"
    }
   ],
   "source": [
    "pred_class.shape"
   ]
  },
  {
   "cell_type": "code",
   "execution_count": 35,
   "metadata": {},
   "outputs": [
    {
     "data": {
      "text/plain": [
       "(274, 1)"
      ]
     },
     "execution_count": 35,
     "metadata": {},
     "output_type": "execute_result"
    }
   ],
   "source": [
    "pred_binary_class = (model.predict(test_images) > 0.5).astype(\"int32\")\n",
    "pred_binary_class.shape"
   ]
  },
  {
   "cell_type": "code",
   "execution_count": 36,
   "metadata": {},
   "outputs": [
    {
     "name": "stdout",
     "output_type": "stream",
     "text": [
      "[0 0 0 0 0 0 0 0 0 0 0 0 0 0 0 0 0 0 0 0 0 0 0 0 0 0 0 0 0 0 0 0 0 0 0 0 0\n",
      " 0 0 0 0 0 0 0 0 0 0 0 0 0 0 0 0 0 0 0 0 0 0 0 0 0 0 0 0 0 0 0 0 0 0 0 0 0\n",
      " 0 0 0 0 0 0 0 0 0 0 0 0 0 0 0 0 0 0 0 0 0 0 0 0 0 0 0 0 0 0 0 0 0 0 0 0 0\n",
      " 0 0 0 0 0 0 0 0 0 0 0 0 0 0 0 0 0 0 0 0 0 0 0 0 0 0 1 1 1 1 1 1 1 1 1 1 1\n",
      " 1 1 1 1 1 1 1 1 1 1 1 1 1 1 1 1 1 1 1 1 1 1 1 1 1 1 1 1 1 1 1 1 1 1 1 1 1\n",
      " 1 1 1 1 1 1 1 1 1 1 1 1 1 1 1 1 1 1 1 1 1 1 1 1 1 1 1 1 1 1 1 1 1 1 1 1 1\n",
      " 1 1 1 1 1 1 1 1 1 1 1 1 1 1 1 1 1 1 1 1 1 1 1 1 1 1 1 1 1 1 1 1 1 1 1 1 1\n",
      " 1 1 1 1 1 1 1 1 1 1 1 1 1 1 1]\n"
     ]
    },
    {
     "data": {
      "text/plain": [
       "['NORMAL_oct2020', 'PNEUMONIA_oct2020']"
      ]
     },
     "execution_count": 36,
     "metadata": {},
     "output_type": "execute_result"
    }
   ],
   "source": [
    "# test set\n",
    "true_classes = test_generator.classes\n",
    "print(true_classes)\n",
    "class_labels = list(test_generator.class_indices.keys())\n",
    "class_labels"
   ]
  },
  {
   "cell_type": "code",
   "execution_count": 37,
   "metadata": {},
   "outputs": [
    {
     "data": {
      "text/plain": [
       "0.9051094890510949"
      ]
     },
     "execution_count": 37,
     "metadata": {},
     "output_type": "execute_result"
    }
   ],
   "source": [
    "accuracy = accuracy_score(test_y, preds.round())\n",
    "accuracy"
   ]
  },
  {
   "cell_type": "code",
   "execution_count": 38,
   "metadata": {},
   "outputs": [
    {
     "data": {
      "text/plain": [
       "0.8490566037735849"
      ]
     },
     "execution_count": 38,
     "metadata": {},
     "output_type": "execute_result"
    }
   ],
   "source": [
    "precision = precision_score(test_y, preds.round())\n",
    "precision"
   ]
  },
  {
   "cell_type": "code",
   "execution_count": 39,
   "metadata": {},
   "outputs": [
    {
     "data": {
      "text/plain": [
       "0.9854014598540146"
      ]
     },
     "execution_count": 39,
     "metadata": {},
     "output_type": "execute_result"
    }
   ],
   "source": [
    "recall = recall_score(test_y, preds.round())\n",
    "recall"
   ]
  },
  {
   "cell_type": "code",
   "execution_count": 40,
   "metadata": {},
   "outputs": [
    {
     "data": {
      "text/plain": [
       "0.9121621621621622"
      ]
     },
     "execution_count": 40,
     "metadata": {},
     "output_type": "execute_result"
    }
   ],
   "source": [
    "f1 = f1_score(test_y, preds.round())\n",
    "f1"
   ]
  },
  {
   "cell_type": "code",
   "execution_count": 41,
   "metadata": {},
   "outputs": [
    {
     "data": {
      "text/plain": [
       "0.9823112579253024"
      ]
     },
     "execution_count": 41,
     "metadata": {},
     "output_type": "execute_result"
    }
   ],
   "source": [
    "auc_value = roc_auc_score(test_y, preds)\n",
    "auc_value"
   ]
  },
  {
   "cell_type": "code",
   "execution_count": 42,
   "metadata": {},
   "outputs": [],
   "source": [
    "fpr, tpr, threshold = roc_curve(test_y, preds)"
   ]
  },
  {
   "cell_type": "code",
   "execution_count": 43,
   "metadata": {},
   "outputs": [],
   "source": [
    "roc_auc = auc(fpr, tpr)"
   ]
  },
  {
   "cell_type": "code",
   "execution_count": 44,
   "metadata": {},
   "outputs": [
    {
     "data": {
      "image/png": "[encoded data removed]",
      "text/plain": [
       "<Figure size 432x288 with 1 Axes>"
      ]
     },
     "metadata": {
      "needs_background": "light"
     },
     "output_type": "display_data"
    }
   ],
   "source": [
    "plt.figure()\n",
    "lw=2\n",
    "plt.plot(fpr, tpr, color='darkorange', lw=lw, label='ROC curve (area=%.2f)' %auc_value)\n",
    "plt.plot([0, 1], [0, 1], color='navy', lw=lw, linestyle='--')\n",
    "plt.xlim([0.0, 1.0])\n",
    "plt.ylim([0.0, 1.05])\n",
    "plt.xlabel('False Positive Rate')\n",
    "plt.ylabel('True Positive Rate')\n",
    "plt.title('Receiver operating characteristic')\n",
    "plt.legend(loc='lower right')\n",
    "plt.show()"
   ]
  },
  {
   "cell_type": "code",
   "execution_count": 45,
   "metadata": {},
   "outputs": [
    {
     "name": "stdout",
     "output_type": "stream",
     "text": [
      "                   precision    recall  f1-score   support\n",
      "\n",
      "   NORMAL_oct2020       0.98      0.82      0.90       137\n",
      "PNEUMONIA_oct2020       0.85      0.99      0.91       137\n",
      "\n",
      "         accuracy                           0.91       274\n",
      "        macro avg       0.92      0.91      0.90       274\n",
      "     weighted avg       0.92      0.91      0.90       274\n",
      "\n"
     ]
    }
   ],
   "source": [
    "report = classification_report(test_y, preds.round(), target_names=class_labels)\n",
    "print(report)"
   ]
  },
  {
   "cell_type": "code",
   "execution_count": 46,
   "metadata": {},
   "outputs": [
    {
     "name": "stdout",
     "output_type": "stream",
     "text": [
      "[[113  24]\n",
      " [  2 135]]\n"
     ]
    }
   ],
   "source": [
    "cnf_matrix = confusion_matrix(y_true=test_y, y_pred=preds.round())\n",
    "np.set_printoptions(precision=2)\n",
    "print(cnf_matrix)"
   ]
  },
  {
   "cell_type": "code",
   "execution_count": 47,
   "metadata": {},
   "outputs": [],
   "source": [
    "def plot_confusion_matrix(cm, classes,\n",
    "                          normalize=False,\n",
    "                          title='Confusion matrix',\n",
    "                          cmap=plt.cm.Greens):\n",
    "    \"\"\"\n",
    "    This function prints and plots the confusion matrix.\n",
    "    Normalization can be applied by setting `normalize=True`.\n",
    "    \"\"\"\n",
    "    plt.imshow(cm, interpolation='nearest', cmap=cmap)\n",
    "    plt.title(title)\n",
    "    plt.colorbar()\n",
    "    tick_marks = np.arange(len(classes))\n",
    "    plt.xticks(tick_marks, classes, rotation=45)\n",
    "    plt.yticks(tick_marks, classes)\n",
    "\n",
    "    if normalize:\n",
    "        cm = cm.astype('float') / cm.sum(axis=1)[:, np.newaxis]\n",
    "        print(\"Normalized confusion matrix\")\n",
    "    else:\n",
    "        print('Confusion matrix, without normalization')\n",
    "\n",
    "    print(cm)\n",
    "\n",
    "    thresh = cm.max() / 2.\n",
    "    for i, j in itertools.product(range(cm.shape[0]), range(cm.shape[1])):\n",
    "        plt.text(j, i, np.round(cm[i, j],2),\n",
    "                 horizontalalignment=\"center\",\n",
    "                 color=\"white\" if cm[i, j] > thresh else \"black\")\n",
    "\n",
    "    plt.tight_layout()\n",
    "    plt.ylabel('True label')\n",
    "    plt.xlabel('Predicted label')"
   ]
  },
  {
   "cell_type": "code",
   "execution_count": 48,
   "metadata": {},
   "outputs": [],
   "source": [
    "cm_plot_labels = ['NORMAL','PNEUMONIA']"
   ]
  },
  {
   "cell_type": "code",
   "execution_count": 49,
   "metadata": {},
   "outputs": [
    {
     "name": "stdout",
     "output_type": "stream",
     "text": [
      "Confusion matrix, without normalization\n",
      "[[113  24]\n",
      " [  2 135]]\n"
     ]
    },
    {
     "data": {
      "image/png": "[encoded data removed]",
      "text/plain": [
       "<Figure size 432x288 with 2 Axes>"
      ]
     },
     "metadata": {
      "needs_background": "light"
     },
     "output_type": "display_data"
    }
   ],
   "source": [
    "plt.figure()\n",
    "plot_confusion_matrix(cnf_matrix, classes=cm_plot_labels, title='Confusion matrix, without normalization')\n",
    "plt.show()"
   ]
  },
  {
   "cell_type": "code",
   "execution_count": 50,
   "metadata": {},
   "outputs": [
    {
     "name": "stdout",
     "output_type": "stream",
     "text": [
      "Normalized confusion matrix\n",
      "[[0.82 0.18]\n",
      " [0.01 0.99]]\n"
     ]
    },
    {
     "data": {
      "image/png": "[encoded data removed]",
      "text/plain": [
       "<Figure size 432x288 with 2 Axes>"
      ]
     },
     "metadata": {
      "needs_background": "light"
     },
     "output_type": "display_data"
    }
   ],
   "source": [
    "plt.figure()\n",
    "plot_confusion_matrix(cnf_matrix, classes=cm_plot_labels, normalize=True, title='Normalized confusion matrix')\n",
    "plt.show()"
   ]
  },
  {
   "cell_type": "markdown",
   "metadata": {},
   "source": [
    "## Saving history in CSV"
   ]
  },
  {
   "cell_type": "code",
   "execution_count": 51,
   "metadata": {},
   "outputs": [],
   "source": [
    "# convert the history.history dict to a pandas DataFrame:     \n",
    "hist_df = pd.DataFrame(history.history) \n",
    "\n",
    "# save to csv: \n",
    "hist_csv_file = 'cnn1_chest_xray_ALL_data_BestModel'+str(date.today())+'_history.csv'\n",
    "with open(hist_csv_file, mode='w') as f:\n",
    "    hist_df.to_csv(f) \n",
    "    \n",
    "# or save to json:  \n",
    "hist_json_file = 'cnn1_chest_xray_ALL_data_BestModel'+str(date.today())+'_history.json'\n",
    "with open(hist_json_file, mode='w') as f:\n",
    "    hist_df.to_json(f)"
   ]
  },
  {
   "cell_type": "markdown",
   "metadata": {},
   "source": [
    "## Saving history in PICKLE"
   ]
  },
  {
   "cell_type": "code",
   "execution_count": 52,
   "metadata": {},
   "outputs": [],
   "source": [
    "with open('/Users/macbookpro/dsc-building-a-cnn-from-scratch-onl01-dtsc-ft-052620/trainHistoryDict', 'wb') as file_pi:\n",
    "        pickle.dump(history.history, file_pi)"
   ]
  },
  {
   "cell_type": "code",
   "execution_count": null,
   "metadata": {},
   "outputs": [],
   "source": []
  }
 ],
 "metadata": {
  "kernelspec": {
   "display_name": "Python 3",
   "language": "python",
   "name": "python3"
  },
  "language_info": {
   "codemirror_mode": {
    "name": "ipython",
    "version": 3
   },
   "file_extension": ".py",
   "mimetype": "text/x-python",
   "name": "python",
   "nbconvert_exporter": "python",
   "pygments_lexer": "ipython3",
   "version": "3.7.6"
  },
  "toc": {
   "base_numbering": 1,
   "nav_menu": {},
   "number_sections": true,
   "sideBar": true,
   "skip_h1_title": false,
   "title_cell": "Table of Contents",
   "title_sidebar": "Contents",
   "toc_cell": false,
   "toc_position": {},
   "toc_section_display": true,
   "toc_window_display": false
  }
 },
 "nbformat": 4,
 "nbformat_minor": 2
}
