{
 "cells": [
  {
   "cell_type": "markdown",
   "metadata": {},
   "source": [
    "## Final Project Submission\n",
    "\n",
    "Please fill out:\n",
    "* Student name: Mindy Jen\n",
    "* Student pace: full time, ds-ft-online-05262020\n",
    "* Scheduled project review date/time: Sep. 24th, 2020/12:45-13:30 (CDT)\n",
    "* Instructor name: Yish Lim\n",
    "* Blog post URL: [Mod4_Blog](https://renjmindy.github.io/diagnosis_of_covid-19_alike_viral_pneumonia)\n",
    "* fine data: [Kaggle](https://www.kaggle.com/paultimothymooney/chest-xray-pneumonia)\n",
    "* full data: [Mendeley](https://data.mendeley.com/datasets/rscbjbr9sj/3)"
   ]
  },
  {
   "cell_type": "code",
   "execution_count": 1,
   "metadata": {},
   "outputs": [],
   "source": [
    "import time\n",
    "import datetime\n",
    "from datetime import date\n",
    "import os, shutil\n",
    "import matplotlib.pyplot as plt\n",
    "import matplotlib.image as mpimg\n",
    "%matplotlib inline\n",
    "import scipy\n",
    "import numpy as np\n",
    "from PIL import Image\n",
    "from scipy import ndimage\n",
    "from sklearn.preprocessing import LabelBinarizer, StandardScaler, OneHotEncoder\n",
    "from sklearn.impute import SimpleImputer\n",
    "from sklearn.model_selection import train_test_split, cross_val_predict\n",
    "from sklearn.metrics import mean_squared_error\n",
    "from keras.utils.np_utils import to_categorical\n",
    "from keras.preprocessing.text import Tokenizer\n",
    "from keras.preprocessing.image import ImageDataGenerator, array_to_img, img_to_array, load_img\n",
    "from keras import models\n",
    "from keras import layers\n",
    "from keras import regularizers\n",
    "from keras import optimizers\n",
    "from keras.wrappers.scikit_learn import KerasRegressor\n",
    "\n",
    "np.random.seed(123)\n",
    "original_start = datetime.datetime.now()\n",
    "start = datetime.datetime.now()\n",
    "\n",
    "import warnings\n",
    "warnings.filterwarnings('ignore')"
   ]
  },
  {
   "cell_type": "code",
   "execution_count": 2,
   "metadata": {},
   "outputs": [],
   "source": [
    "new_dir = 'split/'\n",
    "\n",
    "train_folder = os.path.join(new_dir, 'train')\n",
    "train_pneumonia = os.path.join(train_folder, 'PNEUMONIA')\n",
    "train_normal = os.path.join(train_folder, 'NORMAL')\n",
    "\n",
    "test_folder = os.path.join(new_dir, 'test')\n",
    "test_pneumonia = os.path.join(test_folder, 'PNEUMONIA')\n",
    "test_normal = os.path.join(test_folder, 'NORMAL')\n",
    "\n",
    "val_folder = os.path.join(new_dir, 'validation')\n",
    "val_pneumonia = os.path.join(val_folder, 'PNEUMONIA')\n",
    "val_normal = os.path.join(val_folder, 'NORMAL')"
   ]
  },
  {
   "cell_type": "code",
   "execution_count": 3,
   "metadata": {},
   "outputs": [
    {
     "name": "stdout",
     "output_type": "stream",
     "text": [
      "training data:\n",
      "Found 4685 images belonging to 2 classes.\n"
     ]
    }
   ],
   "source": [
    "# get all the data in the directory split/train (3,418 images), and reshape them\n",
    "print('training data:')\n",
    "train_generator = ImageDataGenerator(rescale=1./255).flow_from_directory(\n",
    "    # This is the target directory\n",
    "    train_folder, \n",
    "    # All images will be resized to 150x150\n",
    "    target_size=(210, 210), batch_size = 4685)\n",
    "    #, \n",
    "    # Since we use binary_crossentropy loss, we need binary labels\n",
    "    #class_mode='binary')"
   ]
  },
  {
   "cell_type": "code",
   "execution_count": 4,
   "metadata": {},
   "outputs": [
    {
     "name": "stdout",
     "output_type": "stream",
     "text": [
      "validating data:\n",
      "Found 586 images belonging to 2 classes.\n"
     ]
    }
   ],
   "source": [
    "# get all the data in the directory split/validation (427 images), and reshape them\n",
    "print('validating data:')\n",
    "val_generator = ImageDataGenerator(rescale=1./255).flow_from_directory(\n",
    "    val_folder, \n",
    "    target_size=(210, 210), batch_size = 585)\n",
    "    #,\n",
    "    #class_mode='binary')"
   ]
  },
  {
   "cell_type": "code",
   "execution_count": 5,
   "metadata": {},
   "outputs": [
    {
     "name": "stdout",
     "output_type": "stream",
     "text": [
      "testing data:\n",
      "Found 585 images belonging to 2 classes.\n"
     ]
    }
   ],
   "source": [
    "# get all the data in the directory split/test (427 images), and reshape them\n",
    "print('testing data:')\n",
    "test_generator = ImageDataGenerator(rescale=1./255).flow_from_directory(\n",
    "    test_folder, \n",
    "    target_size=(210, 210), batch_size = 585)\n",
    "    #,\n",
    "    #class_mode='binary') "
   ]
  },
  {
   "cell_type": "code",
   "execution_count": 6,
   "metadata": {},
   "outputs": [],
   "source": [
    "# create the data sets\n",
    "train_images, train_labels = next(train_generator)\n",
    "test_images, test_labels = next(test_generator)\n",
    "val_images, val_labels = next(val_generator)"
   ]
  },
  {
   "cell_type": "code",
   "execution_count": 7,
   "metadata": {},
   "outputs": [],
   "source": [
    "train_y = np.reshape(train_labels[:,0], (train_labels.shape[0],1))\n",
    "test_y = np.reshape(test_labels[:,0], (test_labels.shape[0],1))\n",
    "val_y = np.reshape(val_labels[:,0], (val_labels.shape[0],1))"
   ]
  },
  {
   "cell_type": "code",
   "execution_count": 8,
   "metadata": {},
   "outputs": [],
   "source": [
    "def visualize_training_results(results):\n",
    "    history = results.history\n",
    "    plt.figure()\n",
    "    plt.plot(history['val_loss'])\n",
    "    plt.plot(history['loss'])\n",
    "    plt.legend(['val_loss', 'loss'])\n",
    "    plt.title('Loss')\n",
    "    plt.xlabel('Epochs')\n",
    "    plt.ylabel('Loss')\n",
    "    plt.show()\n",
    "    \n",
    "    plt.figure()\n",
    "    plt.plot(history['val_accuracy'])\n",
    "    plt.plot(history['accuracy'])\n",
    "    plt.legend(['val_acc', 'acc'])\n",
    "    plt.title('Accuracy')\n",
    "    plt.xlabel('Epochs')\n",
    "    plt.ylabel('Accuracy')\n",
    "    plt.show()"
   ]
  },
  {
   "cell_type": "markdown",
   "metadata": {},
   "source": [
    "## Designing CNN Model w/ L2 Regularization\n",
    "\n",
    "Now it's time to design your CNN using Keras! Remember a few things when doing this: \n",
    "\n",
    "- You should alternate convolutional and pooling layers\n",
    "- You should have later layers have a larger number of parameters in order to detect more abstract patterns\n",
    "- Add some final dense layers to add a classifier to the convolutional base \n",
    "- Add L2 regularization to all four convolutional layers with 0.0000005 as the `lambda_coeff`\n",
    "- Compile this model "
   ]
  },
  {
   "cell_type": "code",
   "execution_count": 9,
   "metadata": {},
   "outputs": [],
   "source": [
    "# Your code here; design and compile the model\n",
    "model = models.Sequential()\n",
    "model.add(layers.Conv2D(32, (3, 3), activation='relu', kernel_regularizer=regularizers.l2(0.0000005), input_shape=(210, 210, 3)))\n",
    "model.add(layers.MaxPooling2D((2, 2)))\n",
    "model.add(layers.Conv2D(64, (3, 3), activation='relu', kernel_regularizer=regularizers.l2(0.0000005)))\n",
    "model.add(layers.MaxPooling2D((2, 2)))\n",
    "model.add(layers.Conv2D(128, (3, 3), activation='relu', kernel_regularizer=regularizers.l2(0.0000005)))\n",
    "model.add(layers.MaxPooling2D((2, 2)))\n",
    "model.add(layers.Conv2D(128, (3, 3), activation='relu', kernel_regularizer=regularizers.l2(0.0000005)))\n",
    "model.add(layers.MaxPooling2D((2, 2)))\n",
    "model.add(layers.Flatten())\n",
    "model.add(layers.Dense(512, activation='relu'))\n",
    "model.add(layers.Dense(1, activation='sigmoid'))"
   ]
  },
  {
   "cell_type": "code",
   "execution_count": 10,
   "metadata": {},
   "outputs": [],
   "source": [
    "model.compile(loss='binary_crossentropy', optimizer=optimizers.RMSprop(lr=2e-5), metrics=['accuracy'])"
   ]
  },
  {
   "cell_type": "markdown",
   "metadata": {},
   "source": [
    "## Training and Evaluating the Model\n",
    "\n",
    "Remember that training deep networks is resource intensive: depending on the size of the data, even a CNN with 3-4 successive convolutional and pooling layers is apt to take hours to train on a high-end laptop. Using 30 epochs and 8 layers (alternating between convolutional and pooling), my model took about 14 hours to run on a 9 years old macbook pro (Late 2011, macOS High Sierra, v.10.13.6). That is, I set my model to run the training epochs overnight.  "
   ]
  },
  {
   "cell_type": "code",
   "execution_count": 11,
   "metadata": {
    "scrolled": false
   },
   "outputs": [
    {
     "name": "stdout",
     "output_type": "stream",
     "text": [
      "program starts, current time:\n",
      "2020-09-21 06:36:26.315077\n",
      "Epoch 1/40\n",
      "47/47 [==============================] - 1134s 24s/step - loss: 0.5693 - accuracy: 0.7285 - val_loss: 0.5192 - val_accuracy: 0.7299\n",
      "Epoch 2/40\n",
      "47/47 [==============================] - 911s 19s/step - loss: 0.4749 - accuracy: 0.7644 - val_loss: 0.4171 - val_accuracy: 0.7966\n",
      "Epoch 3/40\n",
      "47/47 [==============================] - 859s 18s/step - loss: 0.3845 - accuracy: 0.8412 - val_loss: 0.3394 - val_accuracy: 0.8855\n",
      "Epoch 4/40\n",
      "47/47 [==============================] - 864s 18s/step - loss: 0.3247 - accuracy: 0.8785 - val_loss: 0.3580 - val_accuracy: 0.8718\n",
      "Epoch 5/40\n",
      "47/47 [==============================] - 847s 18s/step - loss: 0.2850 - accuracy: 0.8918 - val_loss: 0.2873 - val_accuracy: 0.8838\n",
      "Epoch 6/40\n",
      "47/47 [==============================] - 862s 18s/step - loss: 0.2553 - accuracy: 0.9014 - val_loss: 0.2806 - val_accuracy: 0.8889\n",
      "Epoch 7/40\n",
      "47/47 [==============================] - 925s 20s/step - loss: 0.2364 - accuracy: 0.9076 - val_loss: 0.2615 - val_accuracy: 0.9026\n",
      "Epoch 8/40\n",
      "47/47 [==============================] - 867s 18s/step - loss: 0.2233 - accuracy: 0.9136 - val_loss: 0.2494 - val_accuracy: 0.9077\n",
      "Epoch 9/40\n",
      "47/47 [==============================] - 822s 17s/step - loss: 0.2051 - accuracy: 0.9255 - val_loss: 0.2154 - val_accuracy: 0.9179\n",
      "Epoch 10/40\n",
      "47/47 [==============================] - 816s 17s/step - loss: 0.1927 - accuracy: 0.9289 - val_loss: 0.2092 - val_accuracy: 0.9111\n",
      "Epoch 11/40\n",
      "47/47 [==============================] - 819s 17s/step - loss: 0.1844 - accuracy: 0.9330 - val_loss: 0.1993 - val_accuracy: 0.9214\n",
      "Epoch 12/40\n",
      "47/47 [==============================] - 829s 18s/step - loss: 0.1775 - accuracy: 0.9340 - val_loss: 0.1999 - val_accuracy: 0.9299\n",
      "Epoch 13/40\n",
      "47/47 [==============================] - 849s 18s/step - loss: 0.1685 - accuracy: 0.9353 - val_loss: 0.2034 - val_accuracy: 0.9231\n",
      "Epoch 14/40\n",
      "47/47 [==============================] - 842s 18s/step - loss: 0.1622 - accuracy: 0.9436 - val_loss: 0.2651 - val_accuracy: 0.9026\n",
      "Epoch 15/40\n",
      "47/47 [==============================] - 848s 18s/step - loss: 0.1612 - accuracy: 0.9387 - val_loss: 0.2338 - val_accuracy: 0.9128\n",
      "Epoch 16/40\n",
      "47/47 [==============================] - 859s 18s/step - loss: 0.1534 - accuracy: 0.9411 - val_loss: 0.1798 - val_accuracy: 0.9333\n",
      "Epoch 17/40\n",
      "47/47 [==============================] - 866s 18s/step - loss: 0.1519 - accuracy: 0.9434 - val_loss: 0.1710 - val_accuracy: 0.9299\n",
      "Epoch 18/40\n",
      "47/47 [==============================] - 877s 19s/step - loss: 0.1459 - accuracy: 0.9432 - val_loss: 0.1767 - val_accuracy: 0.9316\n",
      "Epoch 19/40\n",
      "47/47 [==============================] - 893s 19s/step - loss: 0.1477 - accuracy: 0.9436 - val_loss: 0.1771 - val_accuracy: 0.9316\n",
      "Epoch 20/40\n",
      "47/47 [==============================] - 900s 19s/step - loss: 0.1406 - accuracy: 0.9486 - val_loss: 0.1672 - val_accuracy: 0.9333\n",
      "Epoch 21/40\n",
      "47/47 [==============================] - 912s 19s/step - loss: 0.1386 - accuracy: 0.9486 - val_loss: 0.1672 - val_accuracy: 0.9368\n",
      "Epoch 22/40\n",
      "47/47 [==============================] - 924s 20s/step - loss: 0.1401 - accuracy: 0.9488 - val_loss: 0.1739 - val_accuracy: 0.9316\n",
      "Epoch 23/40\n",
      "47/47 [==============================] - 924s 20s/step - loss: 0.1337 - accuracy: 0.9513 - val_loss: 0.1772 - val_accuracy: 0.9333\n",
      "Epoch 24/40\n",
      "47/47 [==============================] - 935s 20s/step - loss: 0.1307 - accuracy: 0.9507 - val_loss: 0.1703 - val_accuracy: 0.9350\n",
      "Epoch 25/40\n",
      "47/47 [==============================] - 934s 20s/step - loss: 0.1258 - accuracy: 0.9520 - val_loss: 0.1632 - val_accuracy: 0.9385\n",
      "Epoch 26/40\n",
      "47/47 [==============================] - 965s 21s/step - loss: 0.1252 - accuracy: 0.9545 - val_loss: 0.1621 - val_accuracy: 0.9402\n",
      "Epoch 27/40\n",
      "47/47 [==============================] - 1027s 22s/step - loss: 0.1238 - accuracy: 0.9530 - val_loss: 0.1607 - val_accuracy: 0.9368\n",
      "Epoch 28/40\n",
      "47/47 [==============================] - 969s 21s/step - loss: 0.1180 - accuracy: 0.9580 - val_loss: 0.1719 - val_accuracy: 0.9350\n",
      "Epoch 29/40\n",
      "47/47 [==============================] - 962s 20s/step - loss: 0.1218 - accuracy: 0.9543 - val_loss: 0.1646 - val_accuracy: 0.9402\n",
      "Epoch 30/40\n",
      "47/47 [==============================] - 966s 21s/step - loss: 0.1169 - accuracy: 0.9543 - val_loss: 0.1669 - val_accuracy: 0.9316\n",
      "Epoch 31/40\n",
      "47/47 [==============================] - 954s 20s/step - loss: 0.1146 - accuracy: 0.9584 - val_loss: 0.1739 - val_accuracy: 0.9368\n",
      "Epoch 32/40\n",
      "47/47 [==============================] - 948s 20s/step - loss: 0.1137 - accuracy: 0.9588 - val_loss: 0.1679 - val_accuracy: 0.9299\n",
      "Epoch 33/40\n",
      "47/47 [==============================] - 947s 20s/step - loss: 0.1110 - accuracy: 0.9605 - val_loss: 0.1526 - val_accuracy: 0.9368\n",
      "Epoch 34/40\n",
      "47/47 [==============================] - 938s 20s/step - loss: 0.1106 - accuracy: 0.9603 - val_loss: 0.1660 - val_accuracy: 0.9419\n",
      "Epoch 35/40\n",
      "47/47 [==============================] - 941s 20s/step - loss: 0.1094 - accuracy: 0.9605 - val_loss: 0.1593 - val_accuracy: 0.9402\n",
      "Epoch 36/40\n",
      "47/47 [==============================] - 957s 20s/step - loss: 0.1073 - accuracy: 0.9569 - val_loss: 0.1605 - val_accuracy: 0.9316\n",
      "Epoch 37/40\n",
      "47/47 [==============================] - 947s 20s/step - loss: 0.1047 - accuracy: 0.9597 - val_loss: 0.1622 - val_accuracy: 0.9402\n",
      "Epoch 38/40\n",
      "47/47 [==============================] - 934s 20s/step - loss: 0.1069 - accuracy: 0.9601 - val_loss: 0.1756 - val_accuracy: 0.9368\n",
      "Epoch 39/40\n",
      "47/47 [==============================] - 942s 20s/step - loss: 0.1012 - accuracy: 0.9646 - val_loss: 0.1699 - val_accuracy: 0.9419\n",
      "Epoch 40/40\n",
      "47/47 [==============================] - 1036s 22s/step - loss: 0.1019 - accuracy: 0.9612 - val_loss: 0.1608 - val_accuracy: 0.9402\n",
      "program ends, current time:\n",
      "2020-09-21 16:58:50.008580\n",
      "Training took a total of 10:22:23.693503\n"
     ]
    }
   ],
   "source": [
    "# Set the model to train \n",
    "# ⏰ This cell may take several hours to run \n",
    "start = datetime.datetime.now()\n",
    "print('program starts, current time:')\n",
    "print(start)\n",
    "history = model.fit(train_images, train_y, epochs=40, batch_size=100, validation_data=(val_images, val_y))\n",
    "end = datetime.datetime.now()\n",
    "print('program ends, current time:')\n",
    "print(end)\n",
    "elapsed = end - start\n",
    "print('Training took a total of {}'.format(elapsed))"
   ]
  },
  {
   "cell_type": "markdown",
   "metadata": {},
   "source": [
    "## CNN Model Evaluation\n",
    "\n",
    "Now use the test set to perform an evaluation on the model of choice. "
   ]
  },
  {
   "cell_type": "code",
   "execution_count": 12,
   "metadata": {},
   "outputs": [
    {
     "name": "stdout",
     "output_type": "stream",
     "text": [
      "147/147 [==============================] - 165s 1s/step - loss: 0.0925 - accuracy: 0.9661\n"
     ]
    }
   ],
   "source": [
    "results_train = model.evaluate(train_images, train_y)"
   ]
  },
  {
   "cell_type": "code",
   "execution_count": 13,
   "metadata": {},
   "outputs": [
    {
     "name": "stdout",
     "output_type": "stream",
     "text": [
      "19/19 [==============================] - 23s 1s/step - loss: 0.0780 - accuracy: 0.9726\n"
     ]
    }
   ],
   "source": [
    "results_test = model.evaluate(test_images, test_y)"
   ]
  },
  {
   "cell_type": "code",
   "execution_count": 14,
   "metadata": {},
   "outputs": [
    {
     "data": {
      "text/plain": [
       "[0.09248476475477219, 0.9660618901252747]"
      ]
     },
     "execution_count": 14,
     "metadata": {},
     "output_type": "execute_result"
    }
   ],
   "source": [
    "results_train"
   ]
  },
  {
   "cell_type": "code",
   "execution_count": 15,
   "metadata": {},
   "outputs": [
    {
     "data": {
      "text/plain": [
       "[0.07801366597414017, 0.9726495742797852]"
      ]
     },
     "execution_count": 15,
     "metadata": {},
     "output_type": "execute_result"
    }
   ],
   "source": [
    "results_test"
   ]
  },
  {
   "cell_type": "code",
   "execution_count": 16,
   "metadata": {},
   "outputs": [
    {
     "data": {
      "image/png": "[encoded data removed]",
      "text/plain": [
       "<Figure size 432x288 with 1 Axes>"
      ]
     },
     "metadata": {
      "needs_background": "light"
     },
     "output_type": "display_data"
    },
    {
     "data": {
      "image/png": "[encoded data removed]",
      "text/plain": [
       "<Figure size 432x288 with 1 Axes>"
      ]
     },
     "metadata": {
      "needs_background": "light"
     },
     "output_type": "display_data"
    }
   ],
   "source": [
    "visualize_training_results(history)"
   ]
  },
  {
   "cell_type": "markdown",
   "metadata": {},
   "source": [
    "## Saving CNN Model"
   ]
  },
  {
   "cell_type": "code",
   "execution_count": 18,
   "metadata": {},
   "outputs": [],
   "source": [
    "# Your code here; save the model for future reference \n",
    "model.save('cnn1_chest_xray_ALL_data_L2reg_'+str(date.today())+'.h5')"
   ]
  },
  {
   "cell_type": "markdown",
   "metadata": {},
   "source": [
    "## Saving history in CSV"
   ]
  },
  {
   "cell_type": "code",
   "execution_count": 19,
   "metadata": {},
   "outputs": [],
   "source": [
    "import pandas as pd\n",
    "# convert the history.history dict to a pandas DataFrame:     \n",
    "hist_df = pd.DataFrame(history.history) \n",
    "# or save to csv: \n",
    "hist_csv_file = 'cnn1_chest_xray_ALL_data_L2reg'+str(date.today())+'_history.csv'\n",
    "with open(hist_csv_file, mode='w') as f:\n",
    "    hist_df.to_csv(f)"
   ]
  },
  {
   "cell_type": "code",
   "execution_count": null,
   "metadata": {},
   "outputs": [],
   "source": []
  }
 ],
 "metadata": {
  "kernelspec": {
   "display_name": "Python 3",
   "language": "python",
   "name": "python3"
  },
  "language_info": {
   "codemirror_mode": {
    "name": "ipython",
    "version": 3
   },
   "file_extension": ".py",
   "mimetype": "text/x-python",
   "name": "python",
   "nbconvert_exporter": "python",
   "pygments_lexer": "ipython3",
   "version": "3.7.6"
  },
  "toc": {
   "base_numbering": 1,
   "nav_menu": {},
   "number_sections": true,
   "sideBar": true,
   "skip_h1_title": false,
   "title_cell": "Table of Contents",
   "title_sidebar": "Contents",
   "toc_cell": false,
   "toc_position": {},
   "toc_section_display": true,
   "toc_window_display": false
  }
 },
 "nbformat": 4,
 "nbformat_minor": 2
}
