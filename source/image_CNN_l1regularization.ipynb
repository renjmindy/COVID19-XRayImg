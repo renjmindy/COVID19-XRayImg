{
 "cells": [
  {
   "cell_type": "markdown",
   "metadata": {},
   "source": [
    "## Final Project Submission\n",
    "\n",
    "Please fill out:\n",
    "* Student name: Mindy Jen\n",
    "* Student pace: full time, ds-ft-online-05262020\n",
    "* Scheduled project review date/time: Sep. 24th, 2020/12:45-13:30 (CDT)\n",
    "* Instructor name: Yish Lim\n",
    "* Blog post URL: [Mod4_Blog](https://renjmindy.github.io/diagnosis_of_covid-19_alike_viral_pneumonia)\n",
    "* fine data: [Kaggle](https://www.kaggle.com/paultimothymooney/chest-xray-pneumonia)\n",
    "* full data: [Mendeley](https://data.mendeley.com/datasets/rscbjbr9sj/3)"
   ]
  },
  {
   "cell_type": "code",
   "execution_count": 1,
   "metadata": {},
   "outputs": [],
   "source": [
    "import time\n",
    "import datetime\n",
    "from datetime import date\n",
    "import os, shutil\n",
    "import matplotlib.pyplot as plt\n",
    "import matplotlib.image as mpimg\n",
    "%matplotlib inline\n",
    "import scipy\n",
    "import numpy as np\n",
    "from PIL import Image\n",
    "from scipy import ndimage\n",
    "from sklearn.preprocessing import LabelBinarizer, StandardScaler, OneHotEncoder\n",
    "from sklearn.impute import SimpleImputer\n",
    "from sklearn.model_selection import train_test_split, cross_val_predict\n",
    "from sklearn.metrics import mean_squared_error\n",
    "from keras.utils.np_utils import to_categorical\n",
    "from keras.preprocessing.text import Tokenizer\n",
    "from keras.preprocessing.image import ImageDataGenerator, array_to_img, img_to_array, load_img\n",
    "from keras import models\n",
    "from keras import layers\n",
    "from keras import regularizers\n",
    "from keras import optimizers\n",
    "from keras.wrappers.scikit_learn import KerasRegressor\n",
    "\n",
    "np.random.seed(123)\n",
    "original_start = datetime.datetime.now()\n",
    "start = datetime.datetime.now()\n",
    "\n",
    "import warnings\n",
    "warnings.filterwarnings('ignore')"
   ]
  },
  {
   "cell_type": "code",
   "execution_count": 2,
   "metadata": {},
   "outputs": [],
   "source": [
    "new_dir = 'split/'\n",
    "\n",
    "train_folder = os.path.join(new_dir, 'train')\n",
    "train_pneumonia = os.path.join(train_folder, 'PNEUMONIA')\n",
    "train_normal = os.path.join(train_folder, 'NORMAL')\n",
    "\n",
    "test_folder = os.path.join(new_dir, 'test')\n",
    "test_pneumonia = os.path.join(test_folder, 'PNEUMONIA')\n",
    "test_normal = os.path.join(test_folder, 'NORMAL')\n",
    "\n",
    "val_folder = os.path.join(new_dir, 'validation')\n",
    "val_pneumonia = os.path.join(val_folder, 'PNEUMONIA')\n",
    "val_normal = os.path.join(val_folder, 'NORMAL')"
   ]
  },
  {
   "cell_type": "code",
   "execution_count": 3,
   "metadata": {},
   "outputs": [
    {
     "name": "stdout",
     "output_type": "stream",
     "text": [
      "training data:\n",
      "Found 4685 images belonging to 2 classes.\n"
     ]
    }
   ],
   "source": [
    "# get all the data in the directory split/train (3,418 images), and reshape them\n",
    "print('training data:')\n",
    "train_generator = ImageDataGenerator(rescale=1./255).flow_from_directory(\n",
    "    # This is the target directory\n",
    "    train_folder, \n",
    "    # All images will be resized to 150x150\n",
    "    target_size=(210, 210), batch_size = 4685)\n",
    "    #, \n",
    "    # Since we use binary_crossentropy loss, we need binary labels\n",
    "    #class_mode='binary')"
   ]
  },
  {
   "cell_type": "code",
   "execution_count": 4,
   "metadata": {},
   "outputs": [
    {
     "name": "stdout",
     "output_type": "stream",
     "text": [
      "validating data:\n",
      "Found 586 images belonging to 2 classes.\n"
     ]
    }
   ],
   "source": [
    "# get all the data in the directory split/validation (427 images), and reshape them\n",
    "print('validating data:')\n",
    "val_generator = ImageDataGenerator(rescale=1./255).flow_from_directory(\n",
    "    val_folder, \n",
    "    target_size=(210, 210), batch_size = 585)\n",
    "    #,\n",
    "    #class_mode='binary')"
   ]
  },
  {
   "cell_type": "code",
   "execution_count": 5,
   "metadata": {},
   "outputs": [
    {
     "name": "stdout",
     "output_type": "stream",
     "text": [
      "testing data:\n",
      "Found 585 images belonging to 2 classes.\n"
     ]
    }
   ],
   "source": [
    "# get all the data in the directory split/test (427 images), and reshape them\n",
    "print('testing data:')\n",
    "test_generator = ImageDataGenerator(rescale=1./255).flow_from_directory(\n",
    "    test_folder, \n",
    "    target_size=(210, 210), batch_size = 585)\n",
    "    #,\n",
    "    #class_mode='binary') "
   ]
  },
  {
   "cell_type": "code",
   "execution_count": 6,
   "metadata": {},
   "outputs": [],
   "source": [
    "# create the data sets\n",
    "train_images, train_labels = next(train_generator)\n",
    "test_images, test_labels = next(test_generator)\n",
    "val_images, val_labels = next(val_generator)"
   ]
  },
  {
   "cell_type": "code",
   "execution_count": 7,
   "metadata": {},
   "outputs": [],
   "source": [
    "train_y = np.reshape(train_labels[:,0], (train_labels.shape[0],1))\n",
    "test_y = np.reshape(test_labels[:,0], (test_labels.shape[0],1))\n",
    "val_y = np.reshape(val_labels[:,0], (val_labels.shape[0],1))"
   ]
  },
  {
   "cell_type": "code",
   "execution_count": 8,
   "metadata": {},
   "outputs": [],
   "source": [
    "def visualize_training_results(results):\n",
    "    history = results.history\n",
    "    plt.figure()\n",
    "    plt.plot(history['val_loss'])\n",
    "    plt.plot(history['loss'])\n",
    "    plt.legend(['val_loss', 'loss'])\n",
    "    plt.title('Loss')\n",
    "    plt.xlabel('Epochs')\n",
    "    plt.ylabel('Loss')\n",
    "    plt.show()\n",
    "    \n",
    "    plt.figure()\n",
    "    plt.plot(history['val_accuracy'])\n",
    "    plt.plot(history['accuracy'])\n",
    "    plt.legend(['val_acc', 'acc'])\n",
    "    plt.title('Accuracy')\n",
    "    plt.xlabel('Epochs')\n",
    "    plt.ylabel('Accuracy')\n",
    "    plt.show()"
   ]
  },
  {
   "cell_type": "markdown",
   "metadata": {},
   "source": [
    "## Designing CNN Model w/ L1 Regularization\n",
    "\n",
    "Now it's time to design your CNN using Keras! Remember a few things when doing this: \n",
    "\n",
    "- You should alternate convolutional and pooling layers\n",
    "- You should have later layers have a larger number of parameters in order to detect more abstract patterns\n",
    "- Add some final dense layers to add a classifier to the convolutional base \n",
    "- Add L1 regularization to all four convolutional layers with 0.0000005 (5e-7) as the `lambda_coeff`\n",
    "- Compile this model "
   ]
  },
  {
   "cell_type": "code",
   "execution_count": 21,
   "metadata": {},
   "outputs": [],
   "source": [
    "# Your code here; design and compile the model\n",
    "model = models.Sequential()\n",
    "model.add(layers.Conv2D(32, (3, 3), activation='relu', kernel_regularizer=regularizers.l1(0.0000005), input_shape=(210, 210, 3)))\n",
    "model.add(layers.MaxPooling2D((2, 2)))\n",
    "model.add(layers.Conv2D(64, (3, 3), activation='relu', kernel_regularizer=regularizers.l1(0.0000005)))\n",
    "model.add(layers.MaxPooling2D((2, 2)))\n",
    "model.add(layers.Conv2D(128, (3, 3), activation='relu', kernel_regularizer=regularizers.l1(0.0000005)))\n",
    "model.add(layers.MaxPooling2D((2, 2)))\n",
    "model.add(layers.Conv2D(128, (3, 3), activation='relu', kernel_regularizer=regularizers.l1(0.0000005)))\n",
    "model.add(layers.MaxPooling2D((2, 2)))\n",
    "model.add(layers.Flatten())\n",
    "model.add(layers.Dense(512, activation='relu'))\n",
    "model.add(layers.Dense(1, activation='sigmoid'))"
   ]
  },
  {
   "cell_type": "code",
   "execution_count": 22,
   "metadata": {},
   "outputs": [],
   "source": [
    "model.compile(loss='binary_crossentropy', optimizer=optimizers.RMSprop(lr=2e-5), metrics=['accuracy'])"
   ]
  },
  {
   "cell_type": "markdown",
   "metadata": {},
   "source": [
    "## Training and Evaluating the Model\n",
    "\n",
    "Remember that training deep networks is resource intensive: depending on the size of the data, even a CNN with 3-4 successive convolutional and pooling layers is apt to take hours to train on a high-end laptop. Using 30 epochs and 8 layers (alternating between convolutional and pooling), my model took about 14 hours to run on a 9 years old macbook pro (Late 2011, macOS High Sierra, v.10.13.6). That is, I set my model to run the training epochs overnight.  "
   ]
  },
  {
   "cell_type": "code",
   "execution_count": 23,
   "metadata": {
    "scrolled": false
   },
   "outputs": [
    {
     "name": "stdout",
     "output_type": "stream",
     "text": [
      "program starts, current time:\n",
      "2020-09-20 14:44:31.774742\n",
      "Epoch 1/40\n",
      "47/47 [==============================] - 973s 21s/step - loss: 0.5692 - accuracy: 0.7206 - val_loss: 0.5258 - val_accuracy: 0.7385\n",
      "Epoch 2/40\n",
      "47/47 [==============================] - 900s 19s/step - loss: 0.4727 - accuracy: 0.7669 - val_loss: 0.4153 - val_accuracy: 0.8000\n",
      "Epoch 3/40\n",
      "47/47 [==============================] - 890s 19s/step - loss: 0.3831 - accuracy: 0.8467 - val_loss: 0.3577 - val_accuracy: 0.8308\n",
      "Epoch 4/40\n",
      "47/47 [==============================] - 885s 19s/step - loss: 0.3192 - accuracy: 0.8852 - val_loss: 0.3100 - val_accuracy: 0.8786\n",
      "Epoch 5/40\n",
      "47/47 [==============================] - 934s 20s/step - loss: 0.2843 - accuracy: 0.8924 - val_loss: 0.3301 - val_accuracy: 0.8769\n",
      "Epoch 6/40\n",
      "47/47 [==============================] - 914s 19s/step - loss: 0.2601 - accuracy: 0.8993 - val_loss: 0.2588 - val_accuracy: 0.9128\n",
      "Epoch 7/40\n",
      "47/47 [==============================] - 893s 19s/step - loss: 0.2384 - accuracy: 0.9133 - val_loss: 0.2465 - val_accuracy: 0.9111\n",
      "Epoch 8/40\n",
      "47/47 [==============================] - 883s 19s/step - loss: 0.2234 - accuracy: 0.9146 - val_loss: 0.2611 - val_accuracy: 0.9043\n",
      "Epoch 9/40\n",
      "47/47 [==============================] - 888s 19s/step - loss: 0.2110 - accuracy: 0.9215 - val_loss: 0.2618 - val_accuracy: 0.9060\n",
      "Epoch 10/40\n",
      "47/47 [==============================] - 881s 19s/step - loss: 0.1963 - accuracy: 0.9270 - val_loss: 0.2542 - val_accuracy: 0.9060\n",
      "Epoch 11/40\n",
      "47/47 [==============================] - 885s 19s/step - loss: 0.1921 - accuracy: 0.9264 - val_loss: 0.2085 - val_accuracy: 0.9197\n",
      "Epoch 12/40\n",
      "47/47 [==============================] - 881s 19s/step - loss: 0.1816 - accuracy: 0.9362 - val_loss: 0.2022 - val_accuracy: 0.9179\n",
      "Epoch 13/40\n",
      "47/47 [==============================] - 937s 20s/step - loss: 0.1706 - accuracy: 0.9385 - val_loss: 0.2057 - val_accuracy: 0.9316\n",
      "Epoch 14/40\n",
      "47/47 [==============================] - 1007s 21s/step - loss: 0.1750 - accuracy: 0.9345 - val_loss: 0.1877 - val_accuracy: 0.9197\n",
      "Epoch 15/40\n",
      "47/47 [==============================] - 959s 20s/step - loss: 0.1597 - accuracy: 0.9430 - val_loss: 0.1868 - val_accuracy: 0.9214\n",
      "Epoch 16/40\n",
      "47/47 [==============================] - 913s 19s/step - loss: 0.1606 - accuracy: 0.9422 - val_loss: 0.2170 - val_accuracy: 0.9265\n",
      "Epoch 17/40\n",
      "47/47 [==============================] - 907s 19s/step - loss: 0.1584 - accuracy: 0.9379 - val_loss: 0.2093 - val_accuracy: 0.9248\n",
      "Epoch 18/40\n",
      "47/47 [==============================] - 906s 19s/step - loss: 0.1553 - accuracy: 0.9441 - val_loss: 0.1749 - val_accuracy: 0.9299\n",
      "Epoch 19/40\n",
      "47/47 [==============================] - 907s 19s/step - loss: 0.1452 - accuracy: 0.9456 - val_loss: 0.2102 - val_accuracy: 0.9282\n",
      "Epoch 20/40\n",
      "47/47 [==============================] - 908s 19s/step - loss: 0.1476 - accuracy: 0.9447 - val_loss: 0.1799 - val_accuracy: 0.9282\n",
      "Epoch 21/40\n",
      "47/47 [==============================] - 962s 20s/step - loss: 0.1454 - accuracy: 0.9471 - val_loss: 0.1800 - val_accuracy: 0.9299\n",
      "Epoch 22/40\n",
      "47/47 [==============================] - 947s 20s/step - loss: 0.1440 - accuracy: 0.9496 - val_loss: 0.1760 - val_accuracy: 0.9316\n",
      "Epoch 23/40\n",
      "47/47 [==============================] - 914s 19s/step - loss: 0.1391 - accuracy: 0.9503 - val_loss: 0.1974 - val_accuracy: 0.9316\n",
      "Epoch 24/40\n",
      "47/47 [==============================] - 901s 19s/step - loss: 0.1389 - accuracy: 0.9486 - val_loss: 0.1746 - val_accuracy: 0.9316\n",
      "Epoch 25/40\n",
      "47/47 [==============================] - 900s 19s/step - loss: 0.1321 - accuracy: 0.9560 - val_loss: 0.1680 - val_accuracy: 0.9350\n",
      "Epoch 26/40\n",
      "47/47 [==============================] - 896s 19s/step - loss: 0.1365 - accuracy: 0.9494 - val_loss: 0.1652 - val_accuracy: 0.9350\n",
      "Epoch 27/40\n",
      "47/47 [==============================] - 893s 19s/step - loss: 0.1306 - accuracy: 0.9526 - val_loss: 0.1647 - val_accuracy: 0.9385\n",
      "Epoch 28/40\n",
      "47/47 [==============================] - 900s 19s/step - loss: 0.1288 - accuracy: 0.9541 - val_loss: 0.1668 - val_accuracy: 0.9402\n",
      "Epoch 29/40\n",
      "47/47 [==============================] - 899s 19s/step - loss: 0.1279 - accuracy: 0.9541 - val_loss: 0.1614 - val_accuracy: 0.9419\n",
      "Epoch 30/40\n",
      "47/47 [==============================] - 901s 19s/step - loss: 0.1254 - accuracy: 0.9545 - val_loss: 0.2187 - val_accuracy: 0.9231\n",
      "Epoch 31/40\n",
      "47/47 [==============================] - 895s 19s/step - loss: 0.1242 - accuracy: 0.9545 - val_loss: 0.1770 - val_accuracy: 0.9333\n",
      "Epoch 32/40\n",
      "47/47 [==============================] - 892s 19s/step - loss: 0.1224 - accuracy: 0.9582 - val_loss: 0.1640 - val_accuracy: 0.9419\n",
      "Epoch 33/40\n",
      "47/47 [==============================] - 891s 19s/step - loss: 0.1191 - accuracy: 0.9580 - val_loss: 0.1668 - val_accuracy: 0.9385\n",
      "Epoch 34/40\n",
      "47/47 [==============================] - 890s 19s/step - loss: 0.1163 - accuracy: 0.9607 - val_loss: 0.1643 - val_accuracy: 0.9333\n",
      "Epoch 35/40\n",
      "47/47 [==============================] - 894s 19s/step - loss: 0.1172 - accuracy: 0.9586 - val_loss: 0.1661 - val_accuracy: 0.9368\n",
      "Epoch 36/40\n",
      "47/47 [==============================] - 889s 19s/step - loss: 0.1144 - accuracy: 0.9584 - val_loss: 0.1608 - val_accuracy: 0.9402\n",
      "Epoch 37/40\n",
      "47/47 [==============================] - 902s 19s/step - loss: 0.1145 - accuracy: 0.9571 - val_loss: 0.1717 - val_accuracy: 0.9350\n",
      "Epoch 38/40\n",
      "47/47 [==============================] - 886s 19s/step - loss: 0.1099 - accuracy: 0.9607 - val_loss: 0.1751 - val_accuracy: 0.9385\n",
      "Epoch 39/40\n",
      "47/47 [==============================] - 883s 19s/step - loss: 0.1084 - accuracy: 0.9637 - val_loss: 0.1660 - val_accuracy: 0.9402\n",
      "Epoch 40/40\n",
      "47/47 [==============================] - 874s 19s/step - loss: 0.1104 - accuracy: 0.9614 - val_loss: 0.1896 - val_accuracy: 0.9282\n",
      "program ends, current time:\n",
      "2020-09-21 01:02:17.742572\n",
      "Training took a total of 10:17:45.967830\n"
     ]
    }
   ],
   "source": [
    "# Set the model to train \n",
    "# ⏰ This cell may take several hours to run \n",
    "start = datetime.datetime.now()\n",
    "print('program starts, current time:')\n",
    "print(start)\n",
    "history = model.fit(train_images, train_y, epochs=40, batch_size=100, validation_data=(val_images, val_y))\n",
    "end = datetime.datetime.now()\n",
    "print('program ends, current time:')\n",
    "print(end)\n",
    "elapsed = end - start\n",
    "print('Training took a total of {}'.format(elapsed))"
   ]
  },
  {
   "cell_type": "markdown",
   "metadata": {},
   "source": [
    "## CNN Model Evaluation\n",
    "\n",
    "Now use the test set to perform an evaluation on the model of choice. "
   ]
  },
  {
   "cell_type": "code",
   "execution_count": 24,
   "metadata": {},
   "outputs": [
    {
     "name": "stdout",
     "output_type": "stream",
     "text": [
      "147/147 [==============================] - 164s 1s/step - loss: 0.1227 - accuracy: 0.9580\n"
     ]
    }
   ],
   "source": [
    "results_train = model.evaluate(train_images, train_y)"
   ]
  },
  {
   "cell_type": "code",
   "execution_count": 25,
   "metadata": {},
   "outputs": [
    {
     "name": "stdout",
     "output_type": "stream",
     "text": [
      "19/19 [==============================] - 23s 1s/step - loss: 0.0879 - accuracy: 0.9726\n"
     ]
    }
   ],
   "source": [
    "results_test = model.evaluate(test_images, test_y)"
   ]
  },
  {
   "cell_type": "code",
   "execution_count": 26,
   "metadata": {},
   "outputs": [
    {
     "data": {
      "text/plain": [
       "[0.12268026173114777, 0.9579508900642395]"
      ]
     },
     "execution_count": 26,
     "metadata": {},
     "output_type": "execute_result"
    }
   ],
   "source": [
    "results_train"
   ]
  },
  {
   "cell_type": "code",
   "execution_count": 27,
   "metadata": {},
   "outputs": [
    {
     "data": {
      "text/plain": [
       "[0.08792818337678909, 0.9726495742797852]"
      ]
     },
     "execution_count": 27,
     "metadata": {},
     "output_type": "execute_result"
    }
   ],
   "source": [
    "results_test"
   ]
  },
  {
   "cell_type": "code",
   "execution_count": 28,
   "metadata": {},
   "outputs": [
    {
     "data": {
      "image/png": "[encoded data removed]",
      "text/plain": [
       "<Figure size 432x288 with 1 Axes>"
      ]
     },
     "metadata": {
      "needs_background": "light"
     },
     "output_type": "display_data"
    },
    {
     "data": {
      "image/png": "[encoded data removed]",
      "text/plain": [
       "<Figure size 432x288 with 1 Axes>"
      ]
     },
     "metadata": {
      "needs_background": "light"
     },
     "output_type": "display_data"
    }
   ],
   "source": [
    "visualize_training_results(history)"
   ]
  },
  {
   "cell_type": "markdown",
   "metadata": {},
   "source": [
    "## Saving CNN Model"
   ]
  },
  {
   "cell_type": "code",
   "execution_count": 29,
   "metadata": {},
   "outputs": [],
   "source": [
    "# Your code here; save the model for future reference \n",
    "model.save('cnn1_chest_xray_ALL_data_L1reg_'+str(date.today())+'.h5')"
   ]
  },
  {
   "cell_type": "markdown",
   "metadata": {},
   "source": [
    "## Saving history in CSV"
   ]
  },
  {
   "cell_type": "code",
   "execution_count": 30,
   "metadata": {},
   "outputs": [],
   "source": [
    "import pandas as pd\n",
    "# convert the history.history dict to a pandas DataFrame:     \n",
    "hist_df = pd.DataFrame(history.history) \n",
    "# or save to csv: \n",
    "hist_csv_file = 'cnn1_chest_xray_ALL_data_L1reg'+str(date.today())+'_history.csv'\n",
    "with open(hist_csv_file, mode='w') as f:\n",
    "    hist_df.to_csv(f)"
   ]
  },
  {
   "cell_type": "code",
   "execution_count": null,
   "metadata": {},
   "outputs": [],
   "source": []
  }
 ],
 "metadata": {
  "kernelspec": {
   "display_name": "Python 3",
   "language": "python",
   "name": "python3"
  },
  "language_info": {
   "codemirror_mode": {
    "name": "ipython",
    "version": 3
   },
   "file_extension": ".py",
   "mimetype": "text/x-python",
   "name": "python",
   "nbconvert_exporter": "python",
   "pygments_lexer": "ipython3",
   "version": "3.7.6"
  },
  "toc": {
   "base_numbering": 1,
   "nav_menu": {},
   "number_sections": true,
   "sideBar": true,
   "skip_h1_title": false,
   "title_cell": "Table of Contents",
   "title_sidebar": "Contents",
   "toc_cell": false,
   "toc_position": {},
   "toc_section_display": true,
   "toc_window_display": false
  }
 },
 "nbformat": 4,
 "nbformat_minor": 2
}
