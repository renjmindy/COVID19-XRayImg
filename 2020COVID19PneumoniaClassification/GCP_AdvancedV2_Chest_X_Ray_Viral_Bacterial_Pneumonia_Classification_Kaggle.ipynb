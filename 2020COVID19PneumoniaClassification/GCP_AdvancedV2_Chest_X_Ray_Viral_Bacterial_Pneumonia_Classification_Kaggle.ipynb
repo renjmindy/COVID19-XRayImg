{
  "nbformat": 4,
  "nbformat_minor": 0,
  "metadata": {
    "colab": {
      "name": "AdvancedV2 Chest X-Ray Viral Bacterial Pneumonia Classification Kaggle.ipynb",
      "provenance": [],
      "collapsed_sections": []
    },
    "kernelspec": {
      "name": "python3",
      "display_name": "Python 3"
    },
    "language_info": {
      "name": "python"
    }
  },
  "cells": [
    {
      "cell_type": "code",
      "metadata": {
        "id": "2YEKImJmJtIC"
      },
      "source": [
        "!pip3 install -q tqdm "
      ],
      "execution_count": 1,
      "outputs": []
    },
    {
      "cell_type": "code",
      "metadata": {
        "id": "kn1XMlgPMjKE"
      },
      "source": [
        "!pip3 install -q imgaug"
      ],
      "execution_count": 2,
      "outputs": []
    },
    {
      "cell_type": "code",
      "metadata": {
        "id": "J3jhM-ADbO7X"
      },
      "source": [
        "import random\n",
        "import math\n",
        "import json\n",
        "from imgaug import augmenters as iaa\n",
        "from tqdm import tqdm \n",
        "import glob\n",
        "from google.colab import files\n",
        "from google.colab import drive\n",
        "import time\n",
        "import datetime\n",
        "from datetime import date\n",
        "import os, sys, shutil\n",
        "import matplotlib.pyplot as plt\n",
        "import matplotlib.image as mpimg\n",
        "%matplotlib inline\n",
        "import itertools\n",
        "import scipy\n",
        "import numpy as np\n",
        "import pandas as pd\n",
        "import pickle\n",
        "from PIL import Image\n",
        "from scipy import ndimage\n",
        "from sklearn.preprocessing import LabelBinarizer, StandardScaler, OneHotEncoder\n",
        "from sklearn.impute import SimpleImputer\n",
        "from sklearn.model_selection import train_test_split, cross_val_predict\n",
        "from sklearn.metrics import accuracy_score, precision_score, recall_score, f1_score, mean_squared_error\n",
        "from sklearn.metrics import roc_auc_score, roc_curve, auc, classification_report, confusion_matrix, plot_confusion_matrix\n",
        "from sklearn.multiclass import OneVsRestClassifier\n",
        "from keras.utils.np_utils import to_categorical\n",
        "from keras.preprocessing.text import Tokenizer\n",
        "from keras.preprocessing.image import array_to_img, img_to_array, load_img\n",
        "from keras import regularizers\n",
        "from keras import optimizers\n",
        "from keras.models import load_model\n",
        "from keras.wrappers.scikit_learn import KerasRegressor\n",
        "\n",
        "import tensorflow as tf\n",
        "from tensorflow.keras.models import Sequential\n",
        "from tensorflow.keras.layers import Dense, Conv2D, Flatten, Dropout, MaxPooling2D\n",
        "from tensorflow.keras.preprocessing.image import ImageDataGenerator\n",
        "\n",
        "np.random.seed(123)\n",
        "original_start = datetime.datetime.now()\n",
        "start = datetime.datetime.now()\n",
        "\n",
        "import warnings\n",
        "warnings.filterwarnings('ignore')"
      ],
      "execution_count": 3,
      "outputs": []
    },
    {
      "cell_type": "code",
      "metadata": {
        "id": "NoNCsw47M5lm",
        "colab": {
          "base_uri": "https://localhost:8080/"
        },
        "outputId": "fb4a1efb-20a3-4631-cb0c-ce87cb48a1c8"
      },
      "source": [
        "!ls"
      ],
      "execution_count": 4,
      "outputs": [
        {
          "output_type": "stream",
          "text": [
            "sample_data\n"
          ],
          "name": "stdout"
        }
      ]
    },
    {
      "cell_type": "code",
      "metadata": {
        "id": "LoUz1Cl2NXsf",
        "colab": {
          "base_uri": "https://localhost:8080/"
        },
        "outputId": "207c8490-94a0-4735-824d-e6e3047072b1"
      },
      "source": [
        "# directory of the project\n",
        "drive.mount('/content/gdrive')\n",
        "!mkdir /content/gdrive/My\\ Drive/Kaggle\n",
        "os.environ['KAGGLE_CONFIG_DIR'] = \"/content/gdrive/My Drive/Kaggle\""
      ],
      "execution_count": 5,
      "outputs": [
        {
          "output_type": "stream",
          "text": [
            "Mounted at /content/gdrive\n",
            "mkdir: cannot create directory ‘/content/gdrive/My Drive/Kaggle’: File exists\n"
          ],
          "name": "stdout"
        }
      ]
    },
    {
      "cell_type": "code",
      "metadata": {
        "id": "D91gHfF-SJCV",
        "colab": {
          "base_uri": "https://localhost:8080/"
        },
        "outputId": "025d94f8-40d3-47d0-a891-32b998f1bb20"
      },
      "source": [
        "%cd /content/gdrive/My Drive/Kaggle"
      ],
      "execution_count": 6,
      "outputs": [
        {
          "output_type": "stream",
          "text": [
            "/content/gdrive/My Drive/Kaggle\n"
          ],
          "name": "stdout"
        }
      ]
    },
    {
      "cell_type": "code",
      "metadata": {
        "id": "Buz9v8X4sK2c",
        "colab": {
          "base_uri": "https://localhost:8080/"
        },
        "outputId": "33d9b90f-d033-4046-c8ff-e41de3ad3d3c"
      },
      "source": [
        "!ls"
      ],
      "execution_count": 7,
      "outputs": [
        {
          "output_type": "stream",
          "text": [
            "chest_xray\n"
          ],
          "name": "stdout"
        }
      ]
    },
    {
      "cell_type": "code",
      "metadata": {
        "id": "zF13vqxKv3vX"
      },
      "source": [
        "# Root directory of the project\n",
        "ROOT_DIR = os.path.abspath('/content/gdrive/My Drive/Kaggle')"
      ],
      "execution_count": 8,
      "outputs": []
    },
    {
      "cell_type": "code",
      "metadata": {
        "id": "6cudPghgUFHS",
        "colab": {
          "base_uri": "https://localhost:8080/"
        },
        "outputId": "6d59e23c-0e96-44c5-fdff-cc2fa58f1687"
      },
      "source": [
        "os.chdir(ROOT_DIR)\n",
        "!ls"
      ],
      "execution_count": 9,
      "outputs": [
        {
          "output_type": "stream",
          "text": [
            "chest_xray\n"
          ],
          "name": "stdout"
        }
      ]
    },
    {
      "cell_type": "code",
      "metadata": {
        "id": "NV1PUJkCwXDk",
        "colab": {
          "base_uri": "https://localhost:8080/"
        },
        "outputId": "30646d4e-cffb-4efb-fd1f-80c5345a6354"
      },
      "source": [
        "# Directory to save logs and trained model\n",
        "MODEL_DIR = os.path.join(ROOT_DIR, 'chest_xray')\n",
        "os.chdir(MODEL_DIR)\n",
        "!pwd\n",
        "!ls"
      ],
      "execution_count": 10,
      "outputs": [
        {
          "output_type": "stream",
          "text": [
            "/content/gdrive/My Drive/Kaggle/chest_xray\n",
            "BACTERIAL   cnn_2021-05-30.h5  __MACOSX  test\tval\n",
            "chest_xray  cnn_2021-06-03.h5  NORMAL\t train\tVIRAL\n"
          ],
          "name": "stdout"
        }
      ]
    },
    {
      "cell_type": "code",
      "metadata": {
        "id": "jNnnkSJmOsf4"
      },
      "source": [
        "train_dir = os.path.join(MODEL_DIR, 'train')\n",
        "test_dir = os.path.join(MODEL_DIR, 'test')\n",
        "val_dir = os.path.join(MODEL_DIR, 'val')"
      ],
      "execution_count": 11,
      "outputs": []
    },
    {
      "cell_type": "code",
      "metadata": {
        "colab": {
          "base_uri": "https://localhost:8080/"
        },
        "id": "NP4Zts12d5u7",
        "outputId": "e04f5d77-b4dd-4840-affc-5d60ef225bac"
      },
      "source": [
        "os.chdir(train_dir)\n",
        "!ls ./VIRAL/ | head -10"
      ],
      "execution_count": 12,
      "outputs": [
        {
          "output_type": "stream",
          "text": [
            "person1000_virus_1681.jpeg\n",
            "person1003_virus_1685.jpeg\n",
            "person1004_virus_1686.jpeg\n",
            "person1005_virus_1688.jpeg\n",
            "person1007_virus_1690.jpeg\n",
            "person1008_virus_1691.jpeg\n",
            "person1009_virus_1694.jpeg\n",
            "person100_virus_184.jpeg\n",
            "person1010_virus_1695.jpeg\n",
            "person1015_virus_1701.jpeg\n"
          ],
          "name": "stdout"
        }
      ]
    },
    {
      "cell_type": "code",
      "metadata": {
        "colab": {
          "base_uri": "https://localhost:8080/"
        },
        "id": "Ab7xSqPiet59",
        "outputId": "eda940b2-4515-4e5f-9353-dccadd7d4b34"
      },
      "source": [
        "os.chdir(test_dir)\n",
        "!ls ./BACTERIAL/ | tail -10"
      ],
      "execution_count": 13,
      "outputs": [
        {
          "output_type": "stream",
          "text": [
            "person70_bacteria_343.jpeg\n",
            "person70_bacteria_344.jpeg\n",
            "person70_bacteria_345.jpeg\n",
            "person70_bacteria_346.jpeg\n",
            "person710_bacteria_2611.jpeg\n",
            "person711_bacteria_2612.jpeg\n",
            "person712_bacteria_2613.jpeg\n",
            "person713_bacteria_2614.jpeg\n",
            "person714_bacteria_2615.jpeg\n",
            "person716_bacteria_2617.jpeg\n"
          ],
          "name": "stdout"
        }
      ]
    },
    {
      "cell_type": "code",
      "metadata": {
        "id": "-WlNayhsXOsm"
      },
      "source": [
        "batch_size = 100\n",
        "IMG_SHAPE = 150 \n",
        "epochs = 30\n",
        "\n",
        "image_gen = ImageDataGenerator(rescale=1./255)"
      ],
      "execution_count": 12,
      "outputs": []
    },
    {
      "cell_type": "code",
      "metadata": {
        "id": "V9pZZvUfWZAM",
        "colab": {
          "base_uri": "https://localhost:8080/"
        },
        "outputId": "8339e4cc-4179-4a68-e776-fbe169d58295"
      },
      "source": [
        "# get all the data in the directory split/train and reshape them\n",
        "print('training data:')\n",
        "train_data_gen = image_gen.flow_from_directory(batch_size=batch_size,\n",
        "                                               directory=train_dir,\n",
        "                                               shuffle=True, \n",
        "                                               target_size=(IMG_SHAPE, IMG_SHAPE),\n",
        "                                               class_mode='categorical')"
      ],
      "execution_count": 13,
      "outputs": [
        {
          "output_type": "stream",
          "text": [
            "training data:\n",
            "Found 4684 images belonging to 3 classes.\n"
          ],
          "name": "stdout"
        }
      ]
    },
    {
      "cell_type": "code",
      "metadata": {
        "id": "PBwNlew_axPm",
        "colab": {
          "base_uri": "https://localhost:8080/"
        },
        "outputId": "a38bfc23-7bfe-42e7-d4b2-82411ff6250a"
      },
      "source": [
        "# get all the data in the directory split/validation and reshape them\n",
        "print('validating data:')\n",
        "val_data_gen = image_gen.flow_from_directory(batch_size=batch_size,\n",
        "                                             directory=val_dir, \n",
        "                                             target_size=(IMG_SHAPE, IMG_SHAPE),\n",
        "                                             class_mode='categorical',\n",
        "                                             shuffle=False)"
      ],
      "execution_count": 14,
      "outputs": [
        {
          "output_type": "stream",
          "text": [
            "validating data:\n",
            "Found 582 images belonging to 3 classes.\n"
          ],
          "name": "stdout"
        }
      ]
    },
    {
      "cell_type": "code",
      "metadata": {
        "id": "gU7DSQ1bhZJL"
      },
      "source": [
        "model = Sequential()\n",
        "model.add(Conv2D(32, (3,3), padding='same', activation=tf.nn.relu, input_shape=(IMG_SHAPE, IMG_SHAPE, 3)))\n",
        "model.add(MaxPooling2D(pool_size=(2, 2)))\n",
        "model.add(Conv2D(64, (3,3), padding='same', activation=tf.nn.relu))\n",
        "model.add(MaxPooling2D(pool_size=(2, 2)))\n",
        "model.add(Conv2D(128, (3,3), padding='same', activation=tf.nn.relu))\n",
        "model.add(MaxPooling2D(pool_size=(2, 2)))\n",
        "model.add(Conv2D(128, (3,3), padding='same', activation=tf.nn.relu))\n",
        "model.add(MaxPooling2D(pool_size=(2, 2)))\n",
        "model.add(Flatten())\n",
        "model.add(Dropout(0.25))\n",
        "model.add(Dense(512, activation=tf.nn.relu))\n",
        "model.add(Dropout(0.25))\n",
        "model.add(Dense(3, activation=tf.nn.softmax))\n",
        "\n",
        "model.compile(optimizer=optimizers.RMSprop(lr=1e-4), \n",
        "              loss='categorical_crossentropy', \n",
        "              metrics=['accuracy'])"
      ],
      "execution_count": 15,
      "outputs": []
    },
    {
      "cell_type": "code",
      "metadata": {
        "id": "WIkmUEMmAbho",
        "colab": {
          "base_uri": "https://localhost:8080/"
        },
        "outputId": "8a79b250-f102-4ace-f7b2-635f7288e1a6"
      },
      "source": [
        "model.summary()"
      ],
      "execution_count": 16,
      "outputs": [
        {
          "output_type": "stream",
          "text": [
            "Model: \"sequential\"\n",
            "_________________________________________________________________\n",
            "Layer (type)                 Output Shape              Param #   \n",
            "=================================================================\n",
            "conv2d (Conv2D)              (None, 150, 150, 32)      896       \n",
            "_________________________________________________________________\n",
            "max_pooling2d (MaxPooling2D) (None, 75, 75, 32)        0         \n",
            "_________________________________________________________________\n",
            "conv2d_1 (Conv2D)            (None, 75, 75, 64)        18496     \n",
            "_________________________________________________________________\n",
            "max_pooling2d_1 (MaxPooling2 (None, 37, 37, 64)        0         \n",
            "_________________________________________________________________\n",
            "conv2d_2 (Conv2D)            (None, 37, 37, 128)       73856     \n",
            "_________________________________________________________________\n",
            "max_pooling2d_2 (MaxPooling2 (None, 18, 18, 128)       0         \n",
            "_________________________________________________________________\n",
            "conv2d_3 (Conv2D)            (None, 18, 18, 128)       147584    \n",
            "_________________________________________________________________\n",
            "max_pooling2d_3 (MaxPooling2 (None, 9, 9, 128)         0         \n",
            "_________________________________________________________________\n",
            "flatten (Flatten)            (None, 10368)             0         \n",
            "_________________________________________________________________\n",
            "dropout (Dropout)            (None, 10368)             0         \n",
            "_________________________________________________________________\n",
            "dense (Dense)                (None, 512)               5308928   \n",
            "_________________________________________________________________\n",
            "dropout_1 (Dropout)          (None, 512)               0         \n",
            "_________________________________________________________________\n",
            "dense_1 (Dense)              (None, 3)                 1539      \n",
            "=================================================================\n",
            "Total params: 5,551,299\n",
            "Trainable params: 5,551,299\n",
            "Non-trainable params: 0\n",
            "_________________________________________________________________\n"
          ],
          "name": "stdout"
        }
      ]
    },
    {
      "cell_type": "code",
      "metadata": {
        "id": "wbpgwWMCstUD",
        "colab": {
          "base_uri": "https://localhost:8080/"
        },
        "outputId": "1e1d0d77-0a5f-41dc-e378-0d323c742be1"
      },
      "source": [
        "train_data_gen.class_indices"
      ],
      "execution_count": 17,
      "outputs": [
        {
          "output_type": "execute_result",
          "data": {
            "text/plain": [
              "{'BACTERIAL': 0, 'NORMAL': 1, 'VIRAL': 2}"
            ]
          },
          "metadata": {
            "tags": []
          },
          "execution_count": 17
        }
      ]
    },
    {
      "cell_type": "code",
      "metadata": {
        "colab": {
          "base_uri": "https://localhost:8080/"
        },
        "id": "mMKBqVP-uR4w",
        "outputId": "dbe8e5ec-e74f-40f3-8255-da5e86e17820"
      },
      "source": [
        "train_data_gen.n"
      ],
      "execution_count": 18,
      "outputs": [
        {
          "output_type": "execute_result",
          "data": {
            "text/plain": [
              "4684"
            ]
          },
          "metadata": {
            "tags": []
          },
          "execution_count": 18
        }
      ]
    },
    {
      "cell_type": "code",
      "metadata": {
        "colab": {
          "base_uri": "https://localhost:8080/"
        },
        "id": "Oy1XwJLFuUxL",
        "outputId": "508e1485-73ae-4ff4-8f4f-a39529a7b857"
      },
      "source": [
        "val_data_gen.n"
      ],
      "execution_count": 19,
      "outputs": [
        {
          "output_type": "execute_result",
          "data": {
            "text/plain": [
              "582"
            ]
          },
          "metadata": {
            "tags": []
          },
          "execution_count": 19
        }
      ]
    },
    {
      "cell_type": "code",
      "metadata": {
        "colab": {
          "base_uri": "https://localhost:8080/"
        },
        "id": "IdTKf2nQknlu",
        "outputId": "7847f2ca-f565-45e3-f31c-97227165f372"
      },
      "source": [
        "print('program starts, current time:')\n",
        "print(start)\n",
        "history = model.fit_generator(train_data_gen,\n",
        "                              steps_per_epoch=int(np.ceil(train_data_gen.n / float(batch_size))),\n",
        "                              epochs=epochs,\n",
        "                              validation_data=val_data_gen,\n",
        "                              validation_steps=int(np.ceil(val_data_gen.n / float(batch_size)))\n",
        "                              )\n",
        "end = datetime.datetime.now()\n",
        "print('program ends, current time:')\n",
        "print(end)\n",
        "elapsed = end - start\n",
        "print('Training took a total of {}'.format(elapsed))"
      ],
      "execution_count": 20,
      "outputs": [
        {
          "output_type": "stream",
          "text": [
            "program starts, current time:\n",
            "2021-06-03 15:43:36.701734\n",
            "Epoch 1/30\n",
            "47/47 [==============================] - 2244s 48s/step - loss: 0.9274 - accuracy: 0.5615 - val_loss: 0.6778 - val_accuracy: 0.6942\n",
            "Epoch 2/30\n",
            "47/47 [==============================] - 241s 5s/step - loss: 0.6641 - accuracy: 0.7295 - val_loss: 0.5229 - val_accuracy: 0.7938\n",
            "Epoch 3/30\n",
            "47/47 [==============================] - 233s 5s/step - loss: 0.5861 - accuracy: 0.7581 - val_loss: 0.5674 - val_accuracy: 0.7440\n",
            "Epoch 4/30\n",
            "47/47 [==============================] - 232s 5s/step - loss: 0.5493 - accuracy: 0.7728 - val_loss: 0.5051 - val_accuracy: 0.7835\n",
            "Epoch 5/30\n",
            "47/47 [==============================] - 232s 5s/step - loss: 0.5288 - accuracy: 0.7782 - val_loss: 0.4474 - val_accuracy: 0.8093\n",
            "Epoch 6/30\n",
            "47/47 [==============================] - 232s 5s/step - loss: 0.5037 - accuracy: 0.7925 - val_loss: 0.4284 - val_accuracy: 0.8213\n",
            "Epoch 7/30\n",
            "47/47 [==============================] - 231s 5s/step - loss: 0.4927 - accuracy: 0.7914 - val_loss: 0.4327 - val_accuracy: 0.8351\n",
            "Epoch 8/30\n",
            "47/47 [==============================] - 231s 5s/step - loss: 0.4844 - accuracy: 0.7974 - val_loss: 0.4082 - val_accuracy: 0.8316\n",
            "Epoch 9/30\n",
            "47/47 [==============================] - 230s 5s/step - loss: 0.4706 - accuracy: 0.7997 - val_loss: 0.4957 - val_accuracy: 0.7990\n",
            "Epoch 10/30\n",
            "47/47 [==============================] - 231s 5s/step - loss: 0.4604 - accuracy: 0.8029 - val_loss: 0.4138 - val_accuracy: 0.8162\n",
            "Epoch 11/30\n",
            "47/47 [==============================] - 230s 5s/step - loss: 0.4589 - accuracy: 0.8055 - val_loss: 0.4301 - val_accuracy: 0.8213\n",
            "Epoch 12/30\n",
            "47/47 [==============================] - 231s 5s/step - loss: 0.4468 - accuracy: 0.8104 - val_loss: 0.4396 - val_accuracy: 0.8213\n",
            "Epoch 13/30\n",
            "47/47 [==============================] - 229s 5s/step - loss: 0.4432 - accuracy: 0.8130 - val_loss: 0.3903 - val_accuracy: 0.8316\n",
            "Epoch 14/30\n",
            "47/47 [==============================] - 230s 5s/step - loss: 0.4300 - accuracy: 0.8126 - val_loss: 0.4088 - val_accuracy: 0.8385\n",
            "Epoch 15/30\n",
            "47/47 [==============================] - 232s 5s/step - loss: 0.4277 - accuracy: 0.8147 - val_loss: 0.3835 - val_accuracy: 0.8454\n",
            "Epoch 16/30\n",
            "47/47 [==============================] - 230s 5s/step - loss: 0.4174 - accuracy: 0.8228 - val_loss: 0.3989 - val_accuracy: 0.8144\n",
            "Epoch 17/30\n",
            "47/47 [==============================] - 230s 5s/step - loss: 0.4153 - accuracy: 0.8230 - val_loss: 0.4197 - val_accuracy: 0.8196\n",
            "Epoch 18/30\n",
            "47/47 [==============================] - 229s 5s/step - loss: 0.4034 - accuracy: 0.8245 - val_loss: 0.4343 - val_accuracy: 0.8419\n",
            "Epoch 19/30\n",
            "47/47 [==============================] - 227s 5s/step - loss: 0.3996 - accuracy: 0.8273 - val_loss: 0.4308 - val_accuracy: 0.8179\n",
            "Epoch 20/30\n",
            "47/47 [==============================] - 226s 5s/step - loss: 0.3904 - accuracy: 0.8388 - val_loss: 0.3926 - val_accuracy: 0.8196\n",
            "Epoch 21/30\n",
            "47/47 [==============================] - 229s 5s/step - loss: 0.3869 - accuracy: 0.8316 - val_loss: 0.3945 - val_accuracy: 0.8282\n",
            "Epoch 22/30\n",
            "47/47 [==============================] - 232s 5s/step - loss: 0.3813 - accuracy: 0.8405 - val_loss: 0.4498 - val_accuracy: 0.8299\n",
            "Epoch 23/30\n",
            "47/47 [==============================] - 229s 5s/step - loss: 0.3703 - accuracy: 0.8442 - val_loss: 0.4125 - val_accuracy: 0.8058\n",
            "Epoch 24/30\n",
            "47/47 [==============================] - 230s 5s/step - loss: 0.3652 - accuracy: 0.8422 - val_loss: 0.3849 - val_accuracy: 0.8402\n",
            "Epoch 25/30\n",
            "47/47 [==============================] - 231s 5s/step - loss: 0.3571 - accuracy: 0.8480 - val_loss: 0.4018 - val_accuracy: 0.8351\n",
            "Epoch 26/30\n",
            "47/47 [==============================] - 232s 5s/step - loss: 0.3495 - accuracy: 0.8520 - val_loss: 0.3863 - val_accuracy: 0.8540\n",
            "Epoch 27/30\n",
            "47/47 [==============================] - 232s 5s/step - loss: 0.3468 - accuracy: 0.8506 - val_loss: 0.3771 - val_accuracy: 0.8368\n",
            "Epoch 28/30\n",
            "47/47 [==============================] - 232s 5s/step - loss: 0.3407 - accuracy: 0.8561 - val_loss: 0.3895 - val_accuracy: 0.8522\n",
            "Epoch 29/30\n",
            "47/47 [==============================] - 232s 5s/step - loss: 0.3331 - accuracy: 0.8580 - val_loss: 0.3930 - val_accuracy: 0.8265\n",
            "Epoch 30/30\n",
            "47/47 [==============================] - 230s 5s/step - loss: 0.3225 - accuracy: 0.8623 - val_loss: 0.3861 - val_accuracy: 0.8488\n",
            "program ends, current time:\n",
            "2021-06-03 18:23:15.511253\n",
            "Training took a total of 2:39:38.809519\n"
          ],
          "name": "stdout"
        }
      ]
    },
    {
      "cell_type": "code",
      "metadata": {
        "id": "OJpLzOWk_k3U"
      },
      "source": [
        "def visualize_training_results(results):\n",
        "\n",
        "    history = results.history\n",
        "    epochs_range = range(epochs)    \n",
        "    \n",
        "    plt.figure(figsize=(12,4))\n",
        "    plt.subplot(1, 2, 1)\n",
        "    plt.plot(epochs_range, history['val_loss'], label='Validation Loss')\n",
        "    plt.plot(epochs_range, history['loss'], label='Training Loss')\n",
        "    plt.legend(loc='upper right')\n",
        "    plt.title('Training and Validation Loss')\n",
        "    plt.xlabel('Epochs')\n",
        "    plt.ylabel('Loss')\n",
        "    \n",
        "    plt.subplot(1, 2, 2)\n",
        "    plt.plot(epochs_range, history['val_accuracy'], label='Validation Accuracy')\n",
        "    plt.plot(epochs_range, history['accuracy'], label='Training Accuracy')\n",
        "    plt.legend(loc='lower right')\n",
        "    plt.title('Training and Validation Accuracy')\n",
        "    plt.xlabel('Epochs')\n",
        "    plt.ylabel('Accuracy')\n",
        "    plt.show()"
      ],
      "execution_count": 21,
      "outputs": []
    },
    {
      "cell_type": "code",
      "metadata": {
        "id": "gg8k3bL0kwgY",
        "colab": {
          "base_uri": "https://localhost:8080/",
          "height": 295
        },
        "outputId": "330a1b48-22dd-457c-976b-b74ea3dac7c8"
      },
      "source": [
        "visualize_training_results(history)"
      ],
      "execution_count": 22,
      "outputs": [
        {
          "output_type": "display_data",
          "data": {
            "image/png": "[encoded data removed]",
            "text/plain": [
              "<Figure size 864x288 with 2 Axes>"
            ]
          },
          "metadata": {
            "tags": [],
            "needs_background": "light"
          }
        }
      ]
    },
    {
      "cell_type": "code",
      "metadata": {
        "colab": {
          "base_uri": "https://localhost:8080/"
        },
        "id": "BS_rS-lbmKci",
        "outputId": "a2a125e3-fc19-4db3-f93c-0b7d93510824"
      },
      "source": [
        "# get all the data in the directory split/test and reshape them\n",
        "test_data_gen = image_gen.flow_from_directory(batch_size=batch_size,\n",
        "                                              directory=test_dir,\n",
        "                                              target_size=(IMG_SHAPE, IMG_SHAPE),\n",
        "                                              class_mode='categorical',\n",
        "                                              shuffle=False)"
      ],
      "execution_count": 23,
      "outputs": [
        {
          "output_type": "stream",
          "text": [
            "Found 587 images belonging to 3 classes.\n"
          ],
          "name": "stdout"
        }
      ]
    },
    {
      "cell_type": "code",
      "metadata": {
        "id": "xOykJhQ-VwJ2"
      },
      "source": [
        "cnn_model = load_model('./cnn_'+str(date.today())+'.h5')"
      ],
      "execution_count": 24,
      "outputs": []
    },
    {
      "cell_type": "code",
      "metadata": {
        "id": "8H8JagVtT57U"
      },
      "source": [
        "test_loss, test_acc = cnn_model.evaluate_generator(test_data_gen, \n",
        "                                               steps=int(np.ceil(test_data_gen.n / float(batch_size))))"
      ],
      "execution_count": 26,
      "outputs": []
    },
    {
      "cell_type": "code",
      "metadata": {
        "colab": {
          "base_uri": "https://localhost:8080/"
        },
        "id": "RMzeKnG4Z0tL",
        "outputId": "4621678e-68ac-44d7-9ec1-6d21f7e4ff38"
      },
      "source": [
        "predictions = cnn_model.predict_generator(test_data_gen, steps=int(np.ceil(test_data_gen.n / float(batch_size))))\n",
        "print('Generated {} predictions'.format(len(predictions)))\n",
        "print('test acc:', test_acc)\n",
        "print('test loss:', test_loss)"
      ],
      "execution_count": 27,
      "outputs": [
        {
          "output_type": "stream",
          "text": [
            "Generated 587 predictions\n",
            "test acc: 0.8109028935432434\n",
            "test loss: 0.5119852423667908\n"
          ],
          "name": "stdout"
        }
      ]
    },
    {
      "cell_type": "code",
      "metadata": {
        "colab": {
          "base_uri": "https://localhost:8080/"
        },
        "id": "boQQYnnzPXKO",
        "outputId": "f83cf925-f5df-4e26-9282-c9ed79332b56"
      },
      "source": [
        "print(type(predictions))\n",
        "print(predictions.shape)\n",
        "print(predictions[0])\n",
        "print(np.argmax(predictions[0]))"
      ],
      "execution_count": 28,
      "outputs": [
        {
          "output_type": "stream",
          "text": [
            "<class 'numpy.ndarray'>\n",
            "(587, 3)\n",
            "[0.7594691  0.14865986 0.09187105]\n",
            "0\n"
          ],
          "name": "stdout"
        }
      ]
    },
    {
      "cell_type": "code",
      "metadata": {
        "colab": {
          "base_uri": "https://localhost:8080/"
        },
        "id": "8jYtN49H5DKN",
        "outputId": "b878c6ab-e4af-4e60-dad7-ce0618286eac"
      },
      "source": [
        "y_hat_test = np.argmax(predictions, axis=-1)\n",
        "print(y_hat_test.shape)\n",
        "print(y_hat_test)"
      ],
      "execution_count": 29,
      "outputs": [
        {
          "output_type": "stream",
          "text": [
            "(587,)\n",
            "[0 2 0 0 0 2 0 0 0 2 1 2 0 2 0 2 0 0 0 0 0 0 0 0 2 0 0 0 0 0 0 0 0 0 0 2 0\n",
            " 2 0 2 2 0 0 0 0 0 0 0 0 0 0 0 0 0 0 1 0 1 0 1 1 0 2 0 0 1 0 1 1 0 0 0 0 2\n",
            " 2 0 2 1 0 2 2 1 0 0 2 2 0 0 0 0 0 0 0 0 0 0 0 0 0 0 0 0 0 0 0 0 0 0 0 0 0\n",
            " 0 0 0 0 0 0 0 0 0 0 0 0 0 0 0 0 0 0 0 0 0 0 0 0 0 0 0 0 2 0 0 0 0 0 0 0 0\n",
            " 2 0 0 0 0 0 0 0 0 0 0 0 0 0 0 0 0 0 0 0 0 0 0 0 0 0 0 0 0 0 0 0 0 0 0 0 0\n",
            " 0 0 0 0 0 0 0 0 0 0 0 0 0 0 0 0 0 0 0 0 0 0 0 0 0 0 0 0 0 0 0 0 0 0 1 0 0\n",
            " 0 0 0 0 0 0 0 0 0 0 0 0 0 0 0 0 0 1 0 0 0 0 0 0 0 0 0 0 0 0 0 0 0 0 0 0 0\n",
            " 0 0 0 0 0 0 0 0 0 0 0 0 0 0 0 0 0 0 0 0 0 0 0 0 0 0 0 2 0 0 0 0 0 0 0 0 0\n",
            " 0 0 0 0 0 0 0 0 0 0 0 0 0 0 0 0 0 0 0 0 0 0 1 0 0 0 0 0 0 0 0 0 0 0 0 0 0\n",
            " 0 0 0 0 0 0 0 0 0 0 0 0 0 0 0 0 0 0 0 0 0 0 0 0 0 0 0 0 0 0 0 0 1 1 1 1 1\n",
            " 1 1 1 1 1 1 1 1 1 1 1 1 1 1 1 1 1 1 1 1 1 1 1 1 1 1 1 1 1 1 1 1 1 1 1 1 1\n",
            " 1 1 1 1 1 1 2 1 1 1 1 1 1 2 1 2 1 1 1 1 1 1 1 1 1 1 1 1 1 1 1 1 1 1 1 1 1\n",
            " 1 1 1 1 0 1 1 1 1 1 1 1 1 1 1 1 1 1 2 1 1 1 1 1 1 1 1 1 2 1 1 1 1 1 1 1 1\n",
            " 2 1 1 1 1 1 1 1 1 1 1 1 1 1 1 1 1 1 1 1 1 1 1 1 1 1 1 1 1 1 1 1 1 1 1 1 1\n",
            " 1 1 1 1 1 1 2 2 2 0 2 2 2 2 0 2 2 2 0 2 2 2 0 2 2 2 2 2 2 2 2 2 2 0 0 0 0\n",
            " 2 2 2 2 2 2 0 0 0 2 0 2 2 0 2 0 0 0 0 0 0 0 1 1 0 0 0 1 0 0 0 0]\n"
          ],
          "name": "stdout"
        }
      ]
    },
    {
      "cell_type": "code",
      "metadata": {
        "colab": {
          "base_uri": "https://localhost:8080/"
        },
        "id": "VXBPYF8krbfN",
        "outputId": "56fd6091-0a72-4524-ad0f-9eafbbd365b2"
      },
      "source": [
        "test_generator = image_gen.flow_from_directory(directory=test_dir, \n",
        "                                               target_size=(IMG_SHAPE, IMG_SHAPE), \n",
        "                                               batch_size = test_data_gen.n,\n",
        "                                               class_mode='categorical',\n",
        "                                               shuffle=False)"
      ],
      "execution_count": 30,
      "outputs": [
        {
          "output_type": "stream",
          "text": [
            "Found 587 images belonging to 3 classes.\n"
          ],
          "name": "stdout"
        }
      ]
    },
    {
      "cell_type": "code",
      "metadata": {
        "colab": {
          "base_uri": "https://localhost:8080/"
        },
        "id": "-8hQrjvdr5C_",
        "outputId": "78a2c300-6901-4c7a-b298-489c0560efef"
      },
      "source": [
        "test_images, test_labels = next(test_generator)\n",
        "print(test_labels.shape)"
      ],
      "execution_count": 31,
      "outputs": [
        {
          "output_type": "stream",
          "text": [
            "(587, 3)\n"
          ],
          "name": "stdout"
        }
      ]
    },
    {
      "cell_type": "code",
      "metadata": {
        "colab": {
          "base_uri": "https://localhost:8080/"
        },
        "id": "6068IQWU__jX",
        "outputId": "ca070620-d191-48bd-fd73-afff4d0ffba4"
      },
      "source": [
        "y_test = np.argmax(test_labels, axis=-1)\n",
        "print(y_test.shape)\n",
        "print(y_test)"
      ],
      "execution_count": 32,
      "outputs": [
        {
          "output_type": "stream",
          "text": [
            "(587,)\n",
            "[0 0 0 0 0 0 0 0 0 0 0 0 0 0 0 0 0 0 0 0 0 0 0 0 0 0 0 0 0 0 0 0 0 0 0 0 0\n",
            " 0 0 0 0 0 0 0 0 0 0 0 0 0 0 0 0 0 0 0 0 0 0 0 0 0 0 0 0 0 0 0 0 0 0 0 0 0\n",
            " 0 0 0 0 0 0 0 0 0 0 0 0 0 0 0 0 0 0 0 0 0 0 0 0 0 0 0 0 0 0 0 0 0 0 0 0 0\n",
            " 0 0 0 0 0 0 0 0 0 0 0 0 0 0 0 0 0 0 0 0 0 0 0 0 0 0 0 0 0 0 0 0 0 0 0 0 0\n",
            " 0 0 0 0 0 0 0 0 0 0 0 0 0 0 0 0 0 0 0 0 0 0 0 0 0 0 0 0 0 0 0 0 0 0 0 0 0\n",
            " 0 0 0 0 0 0 0 0 0 0 0 0 0 0 0 0 0 0 0 0 0 0 0 0 0 0 0 0 0 0 0 0 0 0 0 0 0\n",
            " 0 0 0 0 0 0 0 0 0 0 0 0 0 0 0 0 0 0 0 0 0 0 0 0 0 0 0 0 0 0 0 0 0 0 0 0 0\n",
            " 0 0 0 0 0 0 0 0 0 0 0 0 0 0 0 0 0 0 0 1 1 1 1 1 1 1 1 1 1 1 1 1 1 1 1 1 1\n",
            " 1 1 1 1 1 1 1 1 1 1 1 1 1 1 1 1 1 1 1 1 1 1 1 1 1 1 1 1 1 1 1 1 1 1 1 1 1\n",
            " 1 1 1 1 1 1 1 1 1 1 1 1 1 1 1 1 1 1 1 1 1 1 1 1 1 1 1 1 1 1 1 1 1 1 1 1 1\n",
            " 1 1 1 1 1 1 1 1 1 1 1 1 1 1 1 1 1 1 1 1 1 1 1 1 1 1 1 1 1 1 1 1 1 1 1 1 1\n",
            " 1 1 1 1 1 1 1 1 1 1 1 1 1 1 1 1 1 1 1 1 1 1 1 1 1 1 1 1 1 1 2 2 2 2 2 2 2\n",
            " 2 2 2 2 2 2 2 2 2 2 2 2 2 2 2 2 2 2 2 2 2 2 2 2 2 2 2 2 2 2 2 2 2 2 2 2 2\n",
            " 2 2 2 2 2 2 2 2 2 2 2 2 2 2 2 2 2 2 2 2 2 2 2 2 2 2 2 2 2 2 2 2 2 2 2 2 2\n",
            " 2 2 2 2 2 2 2 2 2 2 2 2 2 2 2 2 2 2 2 2 2 2 2 2 2 2 2 2 2 2 2 2 2 2 2 2 2\n",
            " 2 2 2 2 2 2 2 2 2 2 2 2 2 2 2 2 2 2 2 2 2 2 2 2 2 2 2 2 2 2 2 2]\n"
          ],
          "name": "stdout"
        }
      ]
    },
    {
      "cell_type": "code",
      "metadata": {
        "colab": {
          "base_uri": "https://localhost:8080/"
        },
        "id": "FcX3tAy-Qifg",
        "outputId": "06daf5d1-b7e4-459a-9728-befa0674006f"
      },
      "source": [
        "print(test_images.shape)\n",
        "test_img = test_images.reshape(test_images.shape[0], -1)\n",
        "print(test_img.shape)\n",
        "print(test_labels.shape)\n",
        "print(test_labels)\n",
        "print(test_labels[0])"
      ],
      "execution_count": 33,
      "outputs": [
        {
          "output_type": "stream",
          "text": [
            "(587, 150, 150, 3)\n",
            "(587, 67500)\n",
            "(587, 3)\n",
            "[[1. 0. 0.]\n",
            " [1. 0. 0.]\n",
            " [1. 0. 0.]\n",
            " ...\n",
            " [0. 0. 1.]\n",
            " [0. 0. 1.]\n",
            " [0. 0. 1.]]\n",
            "[1. 0. 0.]\n"
          ],
          "name": "stdout"
        }
      ]
    },
    {
      "cell_type": "code",
      "metadata": {
        "colab": {
          "base_uri": "https://localhost:8080/"
        },
        "id": "N0lEvSn5XH8g",
        "outputId": "7028bf13-627f-47fd-cbee-4e633cfa7006"
      },
      "source": [
        "print(cnn_model.evaluate(test_images, test_labels))"
      ],
      "execution_count": 34,
      "outputs": [
        {
          "output_type": "stream",
          "text": [
            "19/19 [==============================] - 6s 303ms/step - loss: 0.5120 - accuracy: 0.8109\n",
            "[0.5119852423667908, 0.8109028935432434]\n"
          ],
          "name": "stdout"
        }
      ]
    },
    {
      "cell_type": "code",
      "metadata": {
        "colab": {
          "base_uri": "https://localhost:8080/"
        },
        "id": "CR9HFDZlTezC",
        "outputId": "c1c9a6b5-e8ce-4c78-9c85-4bae78724ea6"
      },
      "source": [
        "ppredictions = cnn_model.predict(test_images)\n",
        "print(type(ppredictions))\n",
        "print(ppredictions.shape)\n",
        "print(cnn_model.predict_classes(test_images))\n",
        "\n",
        "print(test_generator.classes)\n",
        "print(list(test_generator.class_indices.keys()))\n",
        "\n",
        "print(ppredictions[0])\n",
        "print(np.argmax(ppredictions[0]))\n",
        "yp_hat_test = np.argmax(ppredictions, axis=-1)\n",
        "print(yp_hat_test.shape)\n",
        "print(yp_hat_test)"
      ],
      "execution_count": 42,
      "outputs": [
        {
          "output_type": "stream",
          "text": [
            "<class 'numpy.ndarray'>\n",
            "(587, 3)\n",
            "[0 0 0 0 0 0 0 0 0 0 0 0 0 0 0 0 0 0 0 0 0 0 0 0 0 0 0 0 0 0 0 0 0 0 0 0 0\n",
            " 0 0 0 0 0 0 0 0 0 0 0 0 0 0 0 2 0 0 0 0 0 0 0 0 2 0 0 0 0 0 0 0 0 0 0 0 0\n",
            " 0 0 0 0 0 0 0 0 0 0 0 0 0 0 0 0 0 0 0 0 0 0 0 0 0 0 0 0 0 0 0 0 0 0 0 0 0\n",
            " 0 0 0 0 0 0 0 0 0 0 0 0 0 0 0 0 0 0 0 0 0 1 0 0 0 0 0 0 0 0 0 0 0 0 0 0 0\n",
            " 0 0 0 0 1 0 0 0 0 0 0 0 0 0 0 0 0 0 0 0 0 0 0 0 0 0 0 0 0 0 0 0 0 0 0 0 0\n",
            " 0 0 0 0 0 0 0 0 0 0 0 0 0 0 2 0 0 0 0 0 0 0 0 0 0 0 0 0 0 0 0 0 0 0 0 0 0\n",
            " 0 0 0 0 0 0 0 0 0 1 0 0 0 0 0 0 0 0 0 0 0 0 0 0 0 0 0 0 0 0 0 0 0 0 0 0 0\n",
            " 0 0 0 0 0 0 0 0 0 0 0 0 0 0 0 0 0 0 0 1 1 1 1 1 1 1 1 1 1 1 1 1 1 1 1 1 1\n",
            " 1 1 1 1 1 1 1 1 1 1 1 1 1 1 1 1 1 1 1 1 1 1 1 1 1 1 1 1 1 1 2 1 1 1 1 1 1\n",
            " 2 1 2 1 1 1 1 1 1 1 1 1 1 1 1 1 1 1 1 1 1 1 1 1 1 1 1 1 0 1 1 1 1 1 1 1 1\n",
            " 1 1 1 1 1 2 1 1 1 1 1 1 1 1 1 2 1 1 1 1 1 1 1 1 2 1 1 1 1 1 1 1 1 1 1 1 1\n",
            " 1 1 1 1 1 1 1 1 1 1 1 1 1 1 1 1 1 1 1 1 1 1 1 1 1 1 1 1 1 1 2 2 2 0 2 2 2\n",
            " 2 0 2 2 2 0 2 2 2 0 2 2 2 2 2 2 2 2 2 2 0 0 0 0 2 2 2 2 2 2 0 0 0 2 0 2 2\n",
            " 0 2 0 0 0 0 0 0 0 1 1 0 0 0 1 0 0 0 0 0 2 0 0 0 2 0 0 0 2 1 2 0 2 0 2 0 0\n",
            " 0 0 0 0 0 0 2 0 0 0 0 0 0 0 0 0 0 2 0 2 0 2 2 0 0 0 0 0 0 0 0 0 0 0 0 0 0\n",
            " 1 0 1 0 1 1 0 2 0 0 1 0 1 1 0 0 0 0 2 2 0 2 1 0 2 2 1 0 0 2 2 0]\n",
            "[0 0 0 0 0 0 0 0 0 0 0 0 0 0 0 0 0 0 0 0 0 0 0 0 0 0 0 0 0 0 0 0 0 0 0 0 0\n",
            " 0 0 0 0 0 0 0 0 0 0 0 0 0 0 0 0 0 0 0 0 0 0 0 0 0 0 0 0 0 0 0 0 0 0 0 0 0\n",
            " 0 0 0 0 0 0 0 0 0 0 0 0 0 0 0 0 0 0 0 0 0 0 0 0 0 0 0 0 0 0 0 0 0 0 0 0 0\n",
            " 0 0 0 0 0 0 0 0 0 0 0 0 0 0 0 0 0 0 0 0 0 0 0 0 0 0 0 0 0 0 0 0 0 0 0 0 0\n",
            " 0 0 0 0 0 0 0 0 0 0 0 0 0 0 0 0 0 0 0 0 0 0 0 0 0 0 0 0 0 0 0 0 0 0 0 0 0\n",
            " 0 0 0 0 0 0 0 0 0 0 0 0 0 0 0 0 0 0 0 0 0 0 0 0 0 0 0 0 0 0 0 0 0 0 0 0 0\n",
            " 0 0 0 0 0 0 0 0 0 0 0 0 0 0 0 0 0 0 0 0 0 0 0 0 0 0 0 0 0 0 0 0 0 0 0 0 0\n",
            " 0 0 0 0 0 0 0 0 0 0 0 0 0 0 0 0 0 0 0 1 1 1 1 1 1 1 1 1 1 1 1 1 1 1 1 1 1\n",
            " 1 1 1 1 1 1 1 1 1 1 1 1 1 1 1 1 1 1 1 1 1 1 1 1 1 1 1 1 1 1 1 1 1 1 1 1 1\n",
            " 1 1 1 1 1 1 1 1 1 1 1 1 1 1 1 1 1 1 1 1 1 1 1 1 1 1 1 1 1 1 1 1 1 1 1 1 1\n",
            " 1 1 1 1 1 1 1 1 1 1 1 1 1 1 1 1 1 1 1 1 1 1 1 1 1 1 1 1 1 1 1 1 1 1 1 1 1\n",
            " 1 1 1 1 1 1 1 1 1 1 1 1 1 1 1 1 1 1 1 1 1 1 1 1 1 1 1 1 1 1 2 2 2 2 2 2 2\n",
            " 2 2 2 2 2 2 2 2 2 2 2 2 2 2 2 2 2 2 2 2 2 2 2 2 2 2 2 2 2 2 2 2 2 2 2 2 2\n",
            " 2 2 2 2 2 2 2 2 2 2 2 2 2 2 2 2 2 2 2 2 2 2 2 2 2 2 2 2 2 2 2 2 2 2 2 2 2\n",
            " 2 2 2 2 2 2 2 2 2 2 2 2 2 2 2 2 2 2 2 2 2 2 2 2 2 2 2 2 2 2 2 2 2 2 2 2 2\n",
            " 2 2 2 2 2 2 2 2 2 2 2 2 2 2 2 2 2 2 2 2 2 2 2 2 2 2 2 2 2 2 2 2]\n",
            "['BACTERIAL', 'NORMAL', 'VIRAL']\n",
            "[9.6982580e-01 9.0931833e-04 2.9264983e-02]\n",
            "0\n",
            "(587,)\n",
            "[0 0 0 0 0 0 0 0 0 0 0 0 0 0 0 0 0 0 0 0 0 0 0 0 0 0 0 0 0 0 0 0 0 0 0 0 0\n",
            " 0 0 0 0 0 0 0 0 0 0 0 0 0 0 0 2 0 0 0 0 0 0 0 0 2 0 0 0 0 0 0 0 0 0 0 0 0\n",
            " 0 0 0 0 0 0 0 0 0 0 0 0 0 0 0 0 0 0 0 0 0 0 0 0 0 0 0 0 0 0 0 0 0 0 0 0 0\n",
            " 0 0 0 0 0 0 0 0 0 0 0 0 0 0 0 0 0 0 0 0 0 1 0 0 0 0 0 0 0 0 0 0 0 0 0 0 0\n",
            " 0 0 0 0 1 0 0 0 0 0 0 0 0 0 0 0 0 0 0 0 0 0 0 0 0 0 0 0 0 0 0 0 0 0 0 0 0\n",
            " 0 0 0 0 0 0 0 0 0 0 0 0 0 0 2 0 0 0 0 0 0 0 0 0 0 0 0 0 0 0 0 0 0 0 0 0 0\n",
            " 0 0 0 0 0 0 0 0 0 1 0 0 0 0 0 0 0 0 0 0 0 0 0 0 0 0 0 0 0 0 0 0 0 0 0 0 0\n",
            " 0 0 0 0 0 0 0 0 0 0 0 0 0 0 0 0 0 0 0 1 1 1 1 1 1 1 1 1 1 1 1 1 1 1 1 1 1\n",
            " 1 1 1 1 1 1 1 1 1 1 1 1 1 1 1 1 1 1 1 1 1 1 1 1 1 1 1 1 1 1 2 1 1 1 1 1 1\n",
            " 2 1 2 1 1 1 1 1 1 1 1 1 1 1 1 1 1 1 1 1 1 1 1 1 1 1 1 1 0 1 1 1 1 1 1 1 1\n",
            " 1 1 1 1 1 2 1 1 1 1 1 1 1 1 1 2 1 1 1 1 1 1 1 1 2 1 1 1 1 1 1 1 1 1 1 1 1\n",
            " 1 1 1 1 1 1 1 1 1 1 1 1 1 1 1 1 1 1 1 1 1 1 1 1 1 1 1 1 1 1 2 2 2 0 2 2 2\n",
            " 2 0 2 2 2 0 2 2 2 0 2 2 2 2 2 2 2 2 2 2 0 0 0 0 2 2 2 2 2 2 0 0 0 2 0 2 2\n",
            " 0 2 0 0 0 0 0 0 0 1 1 0 0 0 1 0 0 0 0 0 2 0 0 0 2 0 0 0 2 1 2 0 2 0 2 0 0\n",
            " 0 0 0 0 0 0 2 0 0 0 0 0 0 0 0 0 0 2 0 2 0 2 2 0 0 0 0 0 0 0 0 0 0 0 0 0 0\n",
            " 1 0 1 0 1 1 0 2 0 0 1 0 1 1 0 0 0 0 2 2 0 2 1 0 2 2 1 0 0 2 2 0]\n"
          ],
          "name": "stdout"
        }
      ]
    },
    {
      "cell_type": "code",
      "metadata": {
        "colab": {
          "base_uri": "https://localhost:8080/"
        },
        "id": "565_rx2cWe6V",
        "outputId": "1e03ec55-f7dd-47d2-bf0a-45af41a98e46"
      },
      "source": [
        "y = [yp_hat_test[i] for i in range(len(yp_hat_test)) if yp_hat_test[i] == y_hat_test[i]]\n",
        "print(round(len(y)/len(yp_hat_test), 3))"
      ],
      "execution_count": 43,
      "outputs": [
        {
          "output_type": "stream",
          "text": [
            "0.567\n"
          ],
          "name": "stdout"
        }
      ]
    },
    {
      "cell_type": "code",
      "metadata": {
        "colab": {
          "base_uri": "https://localhost:8080/"
        },
        "id": "ENBv9EQERUYh",
        "outputId": "0e41ad95-8c85-4415-f493-e54bd32b2b86"
      },
      "source": [
        "accuracy_model = round(accuracy_score(y_test, yp_hat_test), 3)\n",
        "print(accuracy_model)\n",
        "#print(round(accuracy_score(test_labels, ppredictions), 3))"
      ],
      "execution_count": 37,
      "outputs": [
        {
          "output_type": "stream",
          "text": [
            "0.811\n"
          ],
          "name": "stdout"
        }
      ]
    },
    {
      "cell_type": "code",
      "metadata": {
        "colab": {
          "base_uri": "https://localhost:8080/"
        },
        "id": "OsyEUiBKZopO",
        "outputId": "53fc9549-e16d-4e6a-f2a5-6c2d09250e4a"
      },
      "source": [
        "precision_model = round(precision_score(y_test, yp_hat_test, average='micro'), 3)\n",
        "print(precision_model)\n",
        "#print(round(precision_score(test_labels, ppredictions, average='micro'), 3))"
      ],
      "execution_count": 38,
      "outputs": [
        {
          "output_type": "stream",
          "text": [
            "0.811\n"
          ],
          "name": "stdout"
        }
      ]
    },
    {
      "cell_type": "code",
      "metadata": {
        "id": "d3cCpLLYdMKd",
        "colab": {
          "base_uri": "https://localhost:8080/"
        },
        "outputId": "3d983eb9-396d-453d-9ffa-bbef1bf99936"
      },
      "source": [
        "recall_model = round(recall_score(y_test, yp_hat_test, average='micro'), 3)\n",
        "print(recall_model)\n",
        "#print(round(recall_score(test_labels, ppredictions, average='micro'), 3))"
      ],
      "execution_count": 39,
      "outputs": [
        {
          "output_type": "stream",
          "text": [
            "0.811\n"
          ],
          "name": "stdout"
        }
      ]
    },
    {
      "cell_type": "code",
      "metadata": {
        "id": "1OZRuK0bdcT-",
        "colab": {
          "base_uri": "https://localhost:8080/"
        },
        "outputId": "636bdd39-faee-4943-cd25-df7c2e78ab6e"
      },
      "source": [
        "f1_model = round(f1_score(y_test, yp_hat_test, average='micro'), 3)\n",
        "print(f1_model)\n",
        "#print(round(f1_score(test_labels, ppredictions, average='micro'), 3))"
      ],
      "execution_count": 40,
      "outputs": [
        {
          "output_type": "stream",
          "text": [
            "0.811\n"
          ],
          "name": "stdout"
        }
      ]
    },
    {
      "cell_type": "code",
      "metadata": {
        "id": "m788KsPlfQqo",
        "colab": {
          "base_uri": "https://localhost:8080/"
        },
        "outputId": "ae78eb2b-adbf-4f83-ebfd-389ac71ef6fd"
      },
      "source": [
        "auc_value_model = roc_auc_score(test_labels, ppredictions, multi_class='ovr', average='micro')\n",
        "auc_value_model"
      ],
      "execution_count": 41,
      "outputs": [
        {
          "output_type": "execute_result",
          "data": {
            "text/plain": [
              "0.9323052857337717"
            ]
          },
          "metadata": {
            "tags": []
          },
          "execution_count": 41
        }
      ]
    },
    {
      "cell_type": "code",
      "metadata": {
        "id": "ZXRIFnsGdwc1"
      },
      "source": [
        "#fpr_model, tpr_model, threshold_model = roc_curve(y_test, yp_hat_test)"
      ],
      "execution_count": null,
      "outputs": []
    },
    {
      "cell_type": "code",
      "metadata": {
        "id": "SrV4TQe1AS1e"
      },
      "source": [
        "#roc_auc_model = auc(fpr_model, tpr_model)"
      ],
      "execution_count": null,
      "outputs": []
    },
    {
      "cell_type": "code",
      "metadata": {
        "id": "qhihZWEsAeHB"
      },
      "source": [
        "#plt.figure()\n",
        "#lw=2\n",
        "#plt.plot(fpr_model, tpr_model, color='darkorange', lw=lw, label='ROC curve (area=%.2f)' %auc_value_model)\n",
        "#plt.plot([0, 1], [0, 1], color='navy', lw=lw, linestyle='--')\n",
        "#plt.xlim([0.0, 1.0])\n",
        "#plt.ylim([0.0, 1.05])\n",
        "#plt.xlabel('False Positive (FP) Rate')\n",
        "#plt.ylabel('True Positive (TP) Rate')\n",
        "#plt.title('Receiver operating characteristic for CNN')\n",
        "#plt.legend(loc='lower right')\n",
        "#plt.show()"
      ],
      "execution_count": null,
      "outputs": []
    }
  ]
}