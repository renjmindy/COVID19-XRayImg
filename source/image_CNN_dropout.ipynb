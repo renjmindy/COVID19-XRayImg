{
 "cells": [
  {
   "cell_type": "markdown",
   "metadata": {},
   "source": [
    "## Final Project Submission\n",
    "\n",
    "Please fill out:\n",
    "* Student name: Mindy Jen\n",
    "* Student pace: full time, ds-ft-online-05262020\n",
    "* Scheduled project review date/time: Sep. 24th, 2020/12:45-13:30 (CDT)\n",
    "* Instructor name: Yish Lim\n",
    "* Blog post URL: [Mod4_Blog](https://renjmindy.github.io/diagnosis_of_covid-19_alike_viral_pneumonia)\n",
    "* fine data: [Kaggle](https://www.kaggle.com/paultimothymooney/chest-xray-pneumonia)\n",
    "* full data: [Mendeley](https://data.mendeley.com/datasets/rscbjbr9sj/3)"
   ]
  },
  {
   "cell_type": "code",
   "execution_count": 1,
   "metadata": {},
   "outputs": [],
   "source": [
    "import time\n",
    "import datetime\n",
    "from datetime import date\n",
    "import os, shutil\n",
    "import matplotlib.pyplot as plt\n",
    "import matplotlib.image as mpimg\n",
    "%matplotlib inline\n",
    "import scipy\n",
    "import numpy as np\n",
    "from PIL import Image\n",
    "from scipy import ndimage\n",
    "from sklearn.preprocessing import LabelBinarizer, StandardScaler, OneHotEncoder\n",
    "from sklearn.impute import SimpleImputer\n",
    "from sklearn.model_selection import train_test_split, cross_val_predict\n",
    "from sklearn.metrics import mean_squared_error\n",
    "from keras.utils.np_utils import to_categorical\n",
    "from keras.preprocessing.text import Tokenizer\n",
    "from keras.preprocessing.image import ImageDataGenerator, array_to_img, img_to_array, load_img\n",
    "from keras import models\n",
    "from keras import layers\n",
    "from keras import regularizers\n",
    "from keras import optimizers\n",
    "from keras.wrappers.scikit_learn import KerasRegressor\n",
    "\n",
    "np.random.seed(123)\n",
    "original_start = datetime.datetime.now()\n",
    "start = datetime.datetime.now()\n",
    "\n",
    "import warnings\n",
    "warnings.filterwarnings('ignore')"
   ]
  },
  {
   "cell_type": "code",
   "execution_count": 2,
   "metadata": {},
   "outputs": [],
   "source": [
    "new_dir = 'split/'\n",
    "\n",
    "train_folder = os.path.join(new_dir, 'train')\n",
    "train_pneumonia = os.path.join(train_folder, 'PNEUMONIA')\n",
    "train_normal = os.path.join(train_folder, 'NORMAL')\n",
    "\n",
    "test_folder = os.path.join(new_dir, 'test')\n",
    "test_pneumonia = os.path.join(test_folder, 'PNEUMONIA')\n",
    "test_normal = os.path.join(test_folder, 'NORMAL')\n",
    "\n",
    "val_folder = os.path.join(new_dir, 'validation')\n",
    "val_pneumonia = os.path.join(val_folder, 'PNEUMONIA')\n",
    "val_normal = os.path.join(val_folder, 'NORMAL')"
   ]
  },
  {
   "cell_type": "code",
   "execution_count": 3,
   "metadata": {},
   "outputs": [
    {
     "name": "stdout",
     "output_type": "stream",
     "text": [
      "training data:\n",
      "Found 4685 images belonging to 2 classes.\n"
     ]
    }
   ],
   "source": [
    "# get all the data in the directory split/train (3,418 images), and reshape them\n",
    "print('training data:')\n",
    "train_generator = ImageDataGenerator(rescale=1./255).flow_from_directory(\n",
    "    # This is the target directory\n",
    "    train_folder, \n",
    "    # All images will be resized to 150x150\n",
    "    target_size=(210, 210), batch_size = 4685)\n",
    "    #, \n",
    "    # Since we use binary_crossentropy loss, we need binary labels\n",
    "    #class_mode='binary')"
   ]
  },
  {
   "cell_type": "code",
   "execution_count": 4,
   "metadata": {},
   "outputs": [
    {
     "name": "stdout",
     "output_type": "stream",
     "text": [
      "validating data:\n",
      "Found 586 images belonging to 2 classes.\n"
     ]
    }
   ],
   "source": [
    "# get all the data in the directory split/validation (427 images), and reshape them\n",
    "print('validating data:')\n",
    "val_generator = ImageDataGenerator(rescale=1./255).flow_from_directory(\n",
    "    val_folder, \n",
    "    target_size=(210, 210), batch_size = 585)\n",
    "    #,\n",
    "    #class_mode='binary')"
   ]
  },
  {
   "cell_type": "code",
   "execution_count": 5,
   "metadata": {},
   "outputs": [
    {
     "name": "stdout",
     "output_type": "stream",
     "text": [
      "testing data:\n",
      "Found 585 images belonging to 2 classes.\n"
     ]
    }
   ],
   "source": [
    "# get all the data in the directory split/test (427 images), and reshape them\n",
    "print('testing data:')\n",
    "test_generator = ImageDataGenerator(rescale=1./255).flow_from_directory(\n",
    "    test_folder, \n",
    "    target_size=(210, 210), batch_size = 585)\n",
    "    #,\n",
    "    #class_mode='binary') "
   ]
  },
  {
   "cell_type": "code",
   "execution_count": 6,
   "metadata": {},
   "outputs": [],
   "source": [
    "# create the data sets\n",
    "train_images, train_labels = next(train_generator)\n",
    "test_images, test_labels = next(test_generator)\n",
    "val_images, val_labels = next(val_generator)"
   ]
  },
  {
   "cell_type": "code",
   "execution_count": 7,
   "metadata": {},
   "outputs": [],
   "source": [
    "train_y = np.reshape(train_labels[:,0], (train_labels.shape[0],1))\n",
    "test_y = np.reshape(test_labels[:,0], (test_labels.shape[0],1))\n",
    "val_y = np.reshape(val_labels[:,0], (val_labels.shape[0],1))"
   ]
  },
  {
   "cell_type": "code",
   "execution_count": 8,
   "metadata": {},
   "outputs": [],
   "source": [
    "def visualize_training_results(results):\n",
    "    history = results.history\n",
    "    plt.figure()\n",
    "    plt.plot(history['val_loss'])\n",
    "    plt.plot(history['loss'])\n",
    "    plt.legend(['val_loss', 'loss'])\n",
    "    plt.title('Loss')\n",
    "    plt.xlabel('Epochs')\n",
    "    plt.ylabel('Loss')\n",
    "    plt.show()\n",
    "    \n",
    "    plt.figure()\n",
    "    plt.plot(history['val_accuracy'])\n",
    "    plt.plot(history['accuracy'])\n",
    "    plt.legend(['val_acc', 'acc'])\n",
    "    plt.title('Accuracy')\n",
    "    plt.xlabel('Epochs')\n",
    "    plt.ylabel('Accuracy')\n",
    "    plt.show()"
   ]
  },
  {
   "cell_type": "markdown",
   "metadata": {},
   "source": [
    "## Designing CNN Model w/ Dropout\n",
    "\n",
    "Now it's time to design your CNN using Keras! Remember a few things when doing this: \n",
    "\n",
    "- You should alternate convolutional and pooling layers\n",
    "- You should have later layers have a larger number of parameters in order to detect more abstract patterns\n",
    "- Add some final dense layers to add a classifier to the convolutional base \n",
    "- Apply a dropout rate of 30% to ALL convolutional layers\n",
    "- Compile this model "
   ]
  },
  {
   "cell_type": "code",
   "execution_count": 22,
   "metadata": {},
   "outputs": [],
   "source": [
    "# Your code here; design and compile the model\n",
    "model = models.Sequential()\n",
    "model.add(layers.Conv2D(32, (3, 3), activation='relu', input_shape=(210, 210, 3)))\n",
    "model.add(layers.MaxPooling2D((2, 2)))\n",
    "model.add(layers.Dropout(0.05))\n",
    "model.add(layers.Conv2D(64, (3, 3), activation='relu'))\n",
    "model.add(layers.MaxPooling2D((2, 2)))\n",
    "model.add(layers.Dropout(0.05))\n",
    "model.add(layers.Conv2D(128, (3, 3), activation='relu'))\n",
    "model.add(layers.MaxPooling2D((2, 2)))\n",
    "model.add(layers.Dropout(0.05))\n",
    "model.add(layers.Conv2D(128, (3, 3), activation='relu'))\n",
    "model.add(layers.MaxPooling2D((2, 2)))\n",
    "model.add(layers.Dropout(0.05))\n",
    "model.add(layers.Flatten())\n",
    "model.add(layers.Dense(512, activation='relu'))\n",
    "model.add(layers.Dense(1, activation='sigmoid'))"
   ]
  },
  {
   "cell_type": "code",
   "execution_count": 23,
   "metadata": {},
   "outputs": [],
   "source": [
    "model.compile(loss='binary_crossentropy', optimizer=optimizers.RMSprop(lr=2e-5), metrics=['accuracy'])"
   ]
  },
  {
   "cell_type": "markdown",
   "metadata": {},
   "source": [
    "## Training and Evaluating the Model\n",
    "\n",
    "Remember that training deep networks is resource intensive: depending on the size of the data, even a CNN with 3-4 successive convolutional and pooling layers is apt to take hours to train on a high-end laptop. Using 30 epochs and 8 layers (alternating between convolutional and pooling), my model took about 14 hours to run on a 9 years old macbook pro (Late 2011, macOS High Sierra, v.10.13.6). That is, I set my model to run the training epochs overnight.  "
   ]
  },
  {
   "cell_type": "code",
   "execution_count": 24,
   "metadata": {
    "scrolled": false
   },
   "outputs": [
    {
     "name": "stdout",
     "output_type": "stream",
     "text": [
      "program starts, current time:\n",
      "2020-09-20 03:20:54.019924\n",
      "Epoch 1/40\n",
      "47/47 [==============================] - 1689s 36s/step - loss: 0.5466 - accuracy: 0.7330 - val_loss: 0.5568 - val_accuracy: 0.7880\n",
      "Epoch 2/40\n",
      "47/47 [==============================] - 1096s 23s/step - loss: 0.4454 - accuracy: 0.7951 - val_loss: 0.5049 - val_accuracy: 0.8667\n",
      "Epoch 3/40\n",
      "47/47 [==============================] - 1183s 25s/step - loss: 0.3723 - accuracy: 0.8448 - val_loss: 0.4197 - val_accuracy: 0.8855\n",
      "Epoch 4/40\n",
      "47/47 [==============================] - 973s 21s/step - loss: 0.3261 - accuracy: 0.8679 - val_loss: 0.4278 - val_accuracy: 0.8513\n",
      "Epoch 5/40\n",
      "47/47 [==============================] - 884s 19s/step - loss: 0.3027 - accuracy: 0.8758 - val_loss: 0.2997 - val_accuracy: 0.8957\n",
      "Epoch 6/40\n",
      "47/47 [==============================] - 865s 18s/step - loss: 0.2822 - accuracy: 0.8837 - val_loss: 0.2966 - val_accuracy: 0.9060\n",
      "Epoch 7/40\n",
      "47/47 [==============================] - 856s 18s/step - loss: 0.2768 - accuracy: 0.8822 - val_loss: 0.2804 - val_accuracy: 0.9077\n",
      "Epoch 8/40\n",
      "47/47 [==============================] - 849s 18s/step - loss: 0.2465 - accuracy: 0.8988 - val_loss: 0.2510 - val_accuracy: 0.9094\n",
      "Epoch 9/40\n",
      "47/47 [==============================] - 845s 18s/step - loss: 0.2426 - accuracy: 0.8986 - val_loss: 0.3613 - val_accuracy: 0.8684\n",
      "Epoch 10/40\n",
      "47/47 [==============================] - 846s 18s/step - loss: 0.2294 - accuracy: 0.9074 - val_loss: 0.2328 - val_accuracy: 0.9060\n",
      "Epoch 11/40\n",
      "47/47 [==============================] - 843s 18s/step - loss: 0.2231 - accuracy: 0.9114 - val_loss: 0.2242 - val_accuracy: 0.9111\n",
      "Epoch 12/40\n",
      "47/47 [==============================] - 842s 18s/step - loss: 0.2106 - accuracy: 0.9155 - val_loss: 0.2633 - val_accuracy: 0.8923\n",
      "Epoch 13/40\n",
      "47/47 [==============================] - 842s 18s/step - loss: 0.2009 - accuracy: 0.9204 - val_loss: 0.2134 - val_accuracy: 0.9214\n",
      "Epoch 14/40\n",
      "47/47 [==============================] - 842s 18s/step - loss: 0.1973 - accuracy: 0.9195 - val_loss: 0.2093 - val_accuracy: 0.9128\n",
      "Epoch 15/40\n",
      "47/47 [==============================] - 841s 18s/step - loss: 0.1897 - accuracy: 0.9251 - val_loss: 0.2472 - val_accuracy: 0.9197\n",
      "Epoch 16/40\n",
      "47/47 [==============================] - 849s 18s/step - loss: 0.1905 - accuracy: 0.9234 - val_loss: 0.2229 - val_accuracy: 0.9265\n",
      "Epoch 17/40\n",
      "47/47 [==============================] - 852s 18s/step - loss: 0.1845 - accuracy: 0.9281 - val_loss: 0.2039 - val_accuracy: 0.9248\n",
      "Epoch 18/40\n",
      "47/47 [==============================] - 915s 19s/step - loss: 0.1728 - accuracy: 0.9326 - val_loss: 0.2210 - val_accuracy: 0.9248\n",
      "Epoch 19/40\n",
      "47/47 [==============================] - 843s 18s/step - loss: 0.1739 - accuracy: 0.9345 - val_loss: 0.2043 - val_accuracy: 0.9265\n",
      "Epoch 20/40\n",
      "47/47 [==============================] - 822s 17s/step - loss: 0.1698 - accuracy: 0.9343 - val_loss: 0.1950 - val_accuracy: 0.9282\n",
      "Epoch 21/40\n",
      "47/47 [==============================] - 805s 17s/step - loss: 0.1586 - accuracy: 0.9422 - val_loss: 0.2004 - val_accuracy: 0.9282\n",
      "Epoch 22/40\n",
      "47/47 [==============================] - 810s 17s/step - loss: 0.1603 - accuracy: 0.9392 - val_loss: 0.1983 - val_accuracy: 0.9248\n",
      "Epoch 23/40\n",
      "47/47 [==============================] - 808s 17s/step - loss: 0.1559 - accuracy: 0.9402 - val_loss: 0.2481 - val_accuracy: 0.9128\n",
      "Epoch 24/40\n",
      "47/47 [==============================] - 814s 17s/step - loss: 0.1526 - accuracy: 0.9424 - val_loss: 0.1883 - val_accuracy: 0.9333\n",
      "Epoch 25/40\n",
      "47/47 [==============================] - 832s 18s/step - loss: 0.1504 - accuracy: 0.9409 - val_loss: 0.2035 - val_accuracy: 0.9299\n",
      "Epoch 26/40\n",
      "47/47 [==============================] - 830s 18s/step - loss: 0.1508 - accuracy: 0.9434 - val_loss: 0.1900 - val_accuracy: 0.9316\n",
      "Epoch 27/40\n",
      "47/47 [==============================] - 828s 18s/step - loss: 0.1454 - accuracy: 0.9464 - val_loss: 0.1970 - val_accuracy: 0.9316\n",
      "Epoch 28/40\n",
      "47/47 [==============================] - 841s 18s/step - loss: 0.1419 - accuracy: 0.9460 - val_loss: 0.1920 - val_accuracy: 0.9282\n",
      "Epoch 29/40\n",
      "47/47 [==============================] - 845s 18s/step - loss: 0.1416 - accuracy: 0.9492 - val_loss: 0.1797 - val_accuracy: 0.9316\n",
      "Epoch 30/40\n",
      "47/47 [==============================] - 849s 18s/step - loss: 0.1404 - accuracy: 0.9471 - val_loss: 0.1931 - val_accuracy: 0.9299\n",
      "Epoch 31/40\n",
      "47/47 [==============================] - 895s 19s/step - loss: 0.1376 - accuracy: 0.9475 - val_loss: 0.1751 - val_accuracy: 0.9350\n",
      "Epoch 32/40\n",
      "47/47 [==============================] - 933s 20s/step - loss: 0.1384 - accuracy: 0.9496 - val_loss: 0.1819 - val_accuracy: 0.9402\n",
      "Epoch 33/40\n",
      "47/47 [==============================] - 887s 19s/step - loss: 0.1364 - accuracy: 0.9466 - val_loss: 0.2460 - val_accuracy: 0.9197\n",
      "Epoch 34/40\n",
      "47/47 [==============================] - 884s 19s/step - loss: 0.1328 - accuracy: 0.9528 - val_loss: 0.1839 - val_accuracy: 0.9385\n",
      "Epoch 35/40\n",
      "47/47 [==============================] - 890s 19s/step - loss: 0.1309 - accuracy: 0.9539 - val_loss: 0.1803 - val_accuracy: 0.9385\n",
      "Epoch 36/40\n",
      "47/47 [==============================] - 888s 19s/step - loss: 0.1303 - accuracy: 0.9509 - val_loss: 0.1714 - val_accuracy: 0.9368\n",
      "Epoch 37/40\n",
      "47/47 [==============================] - 889s 19s/step - loss: 0.1268 - accuracy: 0.9535 - val_loss: 0.1694 - val_accuracy: 0.9368\n",
      "Epoch 38/40\n",
      "47/47 [==============================] - 893s 19s/step - loss: 0.1271 - accuracy: 0.9533 - val_loss: 0.2003 - val_accuracy: 0.9333\n",
      "Epoch 39/40\n",
      "47/47 [==============================] - 943s 20s/step - loss: 0.1216 - accuracy: 0.9547 - val_loss: 0.1665 - val_accuracy: 0.9368\n",
      "Epoch 40/40\n",
      "47/47 [==============================] - 962s 20s/step - loss: 0.1239 - accuracy: 0.9550 - val_loss: 0.1678 - val_accuracy: 0.9385\n",
      "program ends, current time:\n",
      "2020-09-20 13:32:46.240191\n",
      "Training took a total of 10:11:52.220267\n"
     ]
    }
   ],
   "source": [
    "# Set the model to train \n",
    "# ⏰ This cell may take several hours to run \n",
    "start = datetime.datetime.now()\n",
    "print('program starts, current time:')\n",
    "print(start)\n",
    "history = model.fit(train_images, train_y, epochs=40, batch_size=100, validation_data=(val_images, val_y))\n",
    "end = datetime.datetime.now()\n",
    "print('program ends, current time:')\n",
    "print(end)\n",
    "elapsed = end - start\n",
    "print('Training took a total of {}'.format(elapsed))"
   ]
  },
  {
   "cell_type": "markdown",
   "metadata": {},
   "source": [
    "## CNN Model Evaluation\n",
    "\n",
    "Now use the test set to perform an evaluation on the model of choice. "
   ]
  },
  {
   "cell_type": "code",
   "execution_count": 25,
   "metadata": {},
   "outputs": [
    {
     "name": "stdout",
     "output_type": "stream",
     "text": [
      "147/147 [==============================] - 170s 1s/step - loss: 0.1282 - accuracy: 0.9558\n"
     ]
    }
   ],
   "source": [
    "results_train = model.evaluate(train_images, train_y)"
   ]
  },
  {
   "cell_type": "code",
   "execution_count": 26,
   "metadata": {},
   "outputs": [
    {
     "name": "stdout",
     "output_type": "stream",
     "text": [
      "19/19 [==============================] - 24s 1s/step - loss: 0.1137 - accuracy: 0.9641\n"
     ]
    }
   ],
   "source": [
    "results_test = model.evaluate(test_images, test_y)"
   ]
  },
  {
   "cell_type": "code",
   "execution_count": 27,
   "metadata": {},
   "outputs": [
    {
     "data": {
      "text/plain": [
       "[0.12818560004234314, 0.9558164477348328]"
      ]
     },
     "execution_count": 27,
     "metadata": {},
     "output_type": "execute_result"
    }
   ],
   "source": [
    "results_train"
   ]
  },
  {
   "cell_type": "code",
   "execution_count": 28,
   "metadata": {},
   "outputs": [
    {
     "data": {
      "text/plain": [
       "[0.1136731281876564, 0.964102566242218]"
      ]
     },
     "execution_count": 28,
     "metadata": {},
     "output_type": "execute_result"
    }
   ],
   "source": [
    "results_test"
   ]
  },
  {
   "cell_type": "code",
   "execution_count": 29,
   "metadata": {},
   "outputs": [
    {
     "data": {
      "image/png": "[encoded data removed]",
      "text/plain": [
       "<Figure size 432x288 with 1 Axes>"
      ]
     },
     "metadata": {
      "needs_background": "light"
     },
     "output_type": "display_data"
    },
    {
     "data": {
      "image/png": "[encoded data removed]",
      "text/plain": [
       "<Figure size 432x288 with 1 Axes>"
      ]
     },
     "metadata": {
      "needs_background": "light"
     },
     "output_type": "display_data"
    }
   ],
   "source": [
    "visualize_training_results(history)"
   ]
  },
  {
   "cell_type": "markdown",
   "metadata": {},
   "source": [
    "## Saving CNN Model"
   ]
  },
  {
   "cell_type": "code",
   "execution_count": 30,
   "metadata": {},
   "outputs": [],
   "source": [
    "# Your code here; save the model for future reference \n",
    "model.save('cnn1_chest_xray_ALL_data_5dropout_'+str(date.today())+'.h5')"
   ]
  },
  {
   "cell_type": "markdown",
   "metadata": {},
   "source": [
    "## Saving history in CSV"
   ]
  },
  {
   "cell_type": "code",
   "execution_count": 31,
   "metadata": {},
   "outputs": [],
   "source": [
    "import pandas as pd\n",
    "# convert the history.history dict to a pandas DataFrame:     \n",
    "hist_df = pd.DataFrame(history.history) \n",
    "# or save to csv: \n",
    "hist_csv_file = 'cnn1_chest_xray_ALL_data_5dropout'+str(date.today())+'_history.csv'\n",
    "with open(hist_csv_file, mode='w') as f:\n",
    "    hist_df.to_csv(f)"
   ]
  },
  {
   "cell_type": "code",
   "execution_count": null,
   "metadata": {},
   "outputs": [],
   "source": []
  }
 ],
 "metadata": {
  "kernelspec": {
   "display_name": "Python 3",
   "language": "python",
   "name": "python3"
  },
  "language_info": {
   "codemirror_mode": {
    "name": "ipython",
    "version": 3
   },
   "file_extension": ".py",
   "mimetype": "text/x-python",
   "name": "python",
   "nbconvert_exporter": "python",
   "pygments_lexer": "ipython3",
   "version": "3.7.6"
  },
  "toc": {
   "base_numbering": 1,
   "nav_menu": {},
   "number_sections": true,
   "sideBar": true,
   "skip_h1_title": false,
   "title_cell": "Table of Contents",
   "title_sidebar": "Contents",
   "toc_cell": false,
   "toc_position": {},
   "toc_section_display": true,
   "toc_window_display": false
  }
 },
 "nbformat": 4,
 "nbformat_minor": 2
}
