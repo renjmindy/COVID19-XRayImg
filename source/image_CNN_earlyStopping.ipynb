{
 "cells": [
  {
   "cell_type": "markdown",
   "metadata": {},
   "source": [
    "## Final Project Submission\n",
    "\n",
    "Please fill out:\n",
    "* Student name: Mindy Jen\n",
    "* Student pace: full time, ds-ft-online-05262020\n",
    "* Scheduled project review date/time: Sep. 24th, 2020/12:45-13:30 (CDT)\n",
    "* Instructor name: Yish Lim\n",
    "* Blog post URL: [Mod4_Blog](https://renjmindy.github.io/diagnosis_of_covid-19_alike_viral_pneumonia)\n",
    "* fine data: [Kaggle](https://www.kaggle.com/paultimothymooney/chest-xray-pneumonia)\n",
    "* full data: [Mendeley](https://data.mendeley.com/datasets/rscbjbr9sj/3)"
   ]
  },
  {
   "cell_type": "code",
   "execution_count": 1,
   "metadata": {},
   "outputs": [],
   "source": [
    "import time\n",
    "import datetime\n",
    "from datetime import date\n",
    "import os, shutil\n",
    "import matplotlib.pyplot as plt\n",
    "import matplotlib.image as mpimg\n",
    "%matplotlib inline\n",
    "import scipy\n",
    "import numpy as np\n",
    "from PIL import Image\n",
    "from scipy import ndimage\n",
    "from sklearn.preprocessing import LabelBinarizer, StandardScaler, OneHotEncoder\n",
    "from sklearn.impute import SimpleImputer\n",
    "from sklearn.model_selection import train_test_split, cross_val_predict\n",
    "from sklearn.metrics import mean_squared_error\n",
    "from keras.utils.np_utils import to_categorical\n",
    "from keras.preprocessing.text import Tokenizer\n",
    "from keras.preprocessing.image import ImageDataGenerator, array_to_img, img_to_array, load_img\n",
    "from keras import models\n",
    "from keras import layers\n",
    "from keras import regularizers\n",
    "from keras import optimizers\n",
    "from keras.wrappers.scikit_learn import KerasRegressor\n",
    "\n",
    "np.random.seed(123)\n",
    "original_start = datetime.datetime.now()\n",
    "start = datetime.datetime.now()\n",
    "\n",
    "import warnings\n",
    "warnings.filterwarnings('ignore')"
   ]
  },
  {
   "cell_type": "code",
   "execution_count": 2,
   "metadata": {},
   "outputs": [],
   "source": [
    "new_dir = 'split/'\n",
    "\n",
    "train_folder = os.path.join(new_dir, 'train')\n",
    "train_pneumonia = os.path.join(train_folder, 'PNEUMONIA')\n",
    "train_normal = os.path.join(train_folder, 'NORMAL')\n",
    "\n",
    "test_folder = os.path.join(new_dir, 'test')\n",
    "test_pneumonia = os.path.join(test_folder, 'PNEUMONIA')\n",
    "test_normal = os.path.join(test_folder, 'NORMAL')\n",
    "\n",
    "val_folder = os.path.join(new_dir, 'validation')\n",
    "val_pneumonia = os.path.join(val_folder, 'PNEUMONIA')\n",
    "val_normal = os.path.join(val_folder, 'NORMAL')"
   ]
  },
  {
   "cell_type": "code",
   "execution_count": 3,
   "metadata": {},
   "outputs": [
    {
     "name": "stdout",
     "output_type": "stream",
     "text": [
      "training data:\n",
      "Found 4685 images belonging to 2 classes.\n"
     ]
    }
   ],
   "source": [
    "# get all the data in the directory split/train (3,418 images), and reshape them\n",
    "print('training data:')\n",
    "train_generator = ImageDataGenerator(rescale=1./255).flow_from_directory(\n",
    "    # This is the target directory\n",
    "    train_folder, \n",
    "    # All images will be resized to 150x150\n",
    "    target_size=(210, 210), batch_size = 4685)\n",
    "    #, \n",
    "    # Since we use binary_crossentropy loss, we need binary labels\n",
    "    #class_mode='binary')"
   ]
  },
  {
   "cell_type": "code",
   "execution_count": 4,
   "metadata": {},
   "outputs": [
    {
     "name": "stdout",
     "output_type": "stream",
     "text": [
      "validating data:\n",
      "Found 586 images belonging to 2 classes.\n"
     ]
    }
   ],
   "source": [
    "# get all the data in the directory split/validation (427 images), and reshape them\n",
    "print('validating data:')\n",
    "val_generator = ImageDataGenerator(rescale=1./255).flow_from_directory(\n",
    "    val_folder, \n",
    "    target_size=(210, 210), batch_size = 585)\n",
    "    #,\n",
    "    #class_mode='binary')"
   ]
  },
  {
   "cell_type": "code",
   "execution_count": 5,
   "metadata": {},
   "outputs": [
    {
     "name": "stdout",
     "output_type": "stream",
     "text": [
      "testing data:\n",
      "Found 585 images belonging to 2 classes.\n"
     ]
    }
   ],
   "source": [
    "# get all the data in the directory split/test (427 images), and reshape them\n",
    "print('testing data:')\n",
    "test_generator = ImageDataGenerator(rescale=1./255).flow_from_directory(\n",
    "    test_folder, \n",
    "    target_size=(210, 210), batch_size = 585)\n",
    "    #,\n",
    "    #class_mode='binary') "
   ]
  },
  {
   "cell_type": "code",
   "execution_count": 6,
   "metadata": {},
   "outputs": [],
   "source": [
    "# create the data sets\n",
    "train_images, train_labels = next(train_generator)\n",
    "test_images, test_labels = next(test_generator)\n",
    "val_images, val_labels = next(val_generator)"
   ]
  },
  {
   "cell_type": "code",
   "execution_count": 7,
   "metadata": {},
   "outputs": [],
   "source": [
    "train_y = np.reshape(train_labels[:,0], (train_labels.shape[0],1))\n",
    "test_y = np.reshape(test_labels[:,0], (test_labels.shape[0],1))\n",
    "val_y = np.reshape(val_labels[:,0], (val_labels.shape[0],1))"
   ]
  },
  {
   "cell_type": "code",
   "execution_count": 8,
   "metadata": {},
   "outputs": [],
   "source": [
    "def visualize_training_results(results):\n",
    "    history = results.history\n",
    "    plt.figure()\n",
    "    plt.plot(history['val_loss'])\n",
    "    plt.plot(history['loss'])\n",
    "    plt.legend(['val_loss', 'loss'])\n",
    "    plt.title('Loss')\n",
    "    plt.xlabel('Epochs')\n",
    "    plt.ylabel('Loss')\n",
    "    plt.show()\n",
    "    \n",
    "    plt.figure()\n",
    "    plt.plot(history['val_accuracy'])\n",
    "    plt.plot(history['accuracy'])\n",
    "    plt.legend(['val_acc', 'acc'])\n",
    "    plt.title('Accuracy')\n",
    "    plt.xlabel('Epochs')\n",
    "    plt.ylabel('Accuracy')\n",
    "    plt.show()"
   ]
  },
  {
   "cell_type": "markdown",
   "metadata": {},
   "source": [
    "## Designing CNN Model w/ Early Stopping\n",
    "\n",
    "Now it's time to design your CNN using Keras! Remember a few things when doing this: \n",
    "\n",
    "- You should alternate convolutional and pooling layers\n",
    "- You should have later layers have a larger number of parameters in order to detect more abstract patterns\n",
    "- Add some final dense layers to add a classifier to the convolutional base \n",
    "- Compile this model "
   ]
  },
  {
   "cell_type": "code",
   "execution_count": 9,
   "metadata": {},
   "outputs": [],
   "source": [
    "# Your code here; design and compile the model\n",
    "model = models.Sequential()\n",
    "model.add(layers.Conv2D(32, (3, 3), activation='relu', input_shape=(210, 210, 3)))\n",
    "model.add(layers.MaxPooling2D((2, 2)))\n",
    "model.add(layers.Conv2D(64, (3, 3), activation='relu'))\n",
    "model.add(layers.MaxPooling2D((2, 2)))\n",
    "model.add(layers.Conv2D(128, (3, 3), activation='relu'))\n",
    "model.add(layers.MaxPooling2D((2, 2)))\n",
    "model.add(layers.Conv2D(128, (3, 3), activation='relu'))\n",
    "model.add(layers.MaxPooling2D((2, 2)))\n",
    "model.add(layers.Flatten())\n",
    "model.add(layers.Dense(512, activation='relu'))\n",
    "model.add(layers.Dense(1, activation='sigmoid'))"
   ]
  },
  {
   "cell_type": "markdown",
   "metadata": {},
   "source": [
    "* Import `EarlyStopping` and `ModelCheckpoint` from keras.callbacks\n",
    "* Define a list, `early_stopping`:\n",
    "    * Monitor `val_loss` and continue training for 10 epochs before stopping\n",
    "    * Save the best model while monitoring `val_loss`"
   ]
  },
  {
   "cell_type": "code",
   "execution_count": 10,
   "metadata": {},
   "outputs": [],
   "source": [
    "# Import EarlyStopping and ModelCheckpoint\n",
    "from keras.callbacks import EarlyStopping, ModelCheckpoint\n",
    "\n",
    "# Define the callbacks\n",
    "early_stopping = [EarlyStopping(monitor='val_loss', patience=10), \n",
    "                  ModelCheckpoint(filepath='./cnn1_chest_xray_ALL_data_BestModel_'+str(date.today())+'.h5', \n",
    "                                  monitor='val_loss', save_best_only=True)]"
   ]
  },
  {
   "cell_type": "code",
   "execution_count": 11,
   "metadata": {},
   "outputs": [],
   "source": [
    "model.compile(loss='binary_crossentropy', optimizer=optimizers.RMSprop(lr=2e-5), metrics=['accuracy'])"
   ]
  },
  {
   "cell_type": "markdown",
   "metadata": {},
   "source": [
    "## Training and Evaluating the Model\n",
    "\n",
    "Remember that training deep networks is resource intensive: depending on the size of the data, even a CNN with 3-4 successive convolutional and pooling layers is apt to take hours to train on a high-end laptop. Using 30 epochs and 8 layers (alternating between convolutional and pooling), my model took about 14 hours to run on a 9 years old macbook pro (Late 2011, macOS High Sierra, v.10.13.6). That is, I set my model to run the training epochs overnight.  "
   ]
  },
  {
   "cell_type": "code",
   "execution_count": 12,
   "metadata": {
    "scrolled": false
   },
   "outputs": [
    {
     "name": "stdout",
     "output_type": "stream",
     "text": [
      "program starts, current time:\n",
      "2020-09-21 19:04:06.185686\n",
      "Epoch 1/100\n",
      "47/47 [==============================] - 941s 20s/step - loss: 0.5636 - accuracy: 0.7300 - val_loss: 0.5239 - val_accuracy: 0.7299\n",
      "Epoch 2/100\n",
      "47/47 [==============================] - 950s 20s/step - loss: 0.4605 - accuracy: 0.7797 - val_loss: 0.4003 - val_accuracy: 0.7983\n",
      "Epoch 3/100\n",
      "47/47 [==============================] - 936s 20s/step - loss: 0.3627 - accuracy: 0.8551 - val_loss: 0.3190 - val_accuracy: 0.9026\n",
      "Epoch 4/100\n",
      "47/47 [==============================] - 940s 20s/step - loss: 0.3032 - accuracy: 0.8798 - val_loss: 0.2898 - val_accuracy: 0.8769\n",
      "Epoch 5/100\n",
      "47/47 [==============================] - 930s 20s/step - loss: 0.2699 - accuracy: 0.8952 - val_loss: 0.2598 - val_accuracy: 0.9094\n",
      "Epoch 6/100\n",
      "47/47 [==============================] - 936s 20s/step - loss: 0.2481 - accuracy: 0.8997 - val_loss: 0.2382 - val_accuracy: 0.9128\n",
      "Epoch 7/100\n",
      "47/47 [==============================] - 1205s 26s/step - loss: 0.2284 - accuracy: 0.9099 - val_loss: 0.2330 - val_accuracy: 0.9128\n",
      "Epoch 8/100\n",
      "47/47 [==============================] - 1036s 22s/step - loss: 0.2094 - accuracy: 0.9172 - val_loss: 0.2156 - val_accuracy: 0.9197\n",
      "Epoch 9/100\n",
      "47/47 [==============================] - 951s 20s/step - loss: 0.2021 - accuracy: 0.9238 - val_loss: 0.2241 - val_accuracy: 0.9248\n",
      "Epoch 10/100\n",
      "47/47 [==============================] - 939s 20s/step - loss: 0.1911 - accuracy: 0.9279 - val_loss: 0.1979 - val_accuracy: 0.9214\n",
      "Epoch 11/100\n",
      "47/47 [==============================] - 945s 20s/step - loss: 0.1863 - accuracy: 0.9261 - val_loss: 0.1914 - val_accuracy: 0.9248\n",
      "Epoch 12/100\n",
      "47/47 [==============================] - 928s 20s/step - loss: 0.1744 - accuracy: 0.9349 - val_loss: 0.1881 - val_accuracy: 0.9282\n",
      "Epoch 13/100\n",
      "47/47 [==============================] - 935s 20s/step - loss: 0.1707 - accuracy: 0.9383 - val_loss: 0.1801 - val_accuracy: 0.9248\n",
      "Epoch 14/100\n",
      "47/47 [==============================] - 936s 20s/step - loss: 0.1609 - accuracy: 0.9404 - val_loss: 0.1962 - val_accuracy: 0.9316\n",
      "Epoch 15/100\n",
      "47/47 [==============================] - 929s 20s/step - loss: 0.1605 - accuracy: 0.9396 - val_loss: 0.1787 - val_accuracy: 0.9316\n",
      "Epoch 16/100\n",
      "47/47 [==============================] - 927s 20s/step - loss: 0.1542 - accuracy: 0.9411 - val_loss: 0.1700 - val_accuracy: 0.9316\n",
      "Epoch 17/100\n",
      "47/47 [==============================] - 930s 20s/step - loss: 0.1491 - accuracy: 0.9436 - val_loss: 0.1688 - val_accuracy: 0.9333\n",
      "Epoch 18/100\n",
      "47/47 [==============================] - 922s 20s/step - loss: 0.1471 - accuracy: 0.9451 - val_loss: 0.1661 - val_accuracy: 0.9333\n",
      "Epoch 19/100\n",
      "47/47 [==============================] - 935s 20s/step - loss: 0.1365 - accuracy: 0.9507 - val_loss: 0.1788 - val_accuracy: 0.9316\n",
      "Epoch 20/100\n",
      "47/47 [==============================] - 925s 20s/step - loss: 0.1426 - accuracy: 0.9473 - val_loss: 0.1634 - val_accuracy: 0.9368\n",
      "Epoch 21/100\n",
      "47/47 [==============================] - 917s 20s/step - loss: 0.1375 - accuracy: 0.9494 - val_loss: 0.1646 - val_accuracy: 0.9350\n",
      "Epoch 22/100\n",
      "47/47 [==============================] - 924s 20s/step - loss: 0.1348 - accuracy: 0.9535 - val_loss: 0.1575 - val_accuracy: 0.9385\n",
      "Epoch 23/100\n",
      "47/47 [==============================] - 919s 20s/step - loss: 0.1302 - accuracy: 0.9513 - val_loss: 0.1686 - val_accuracy: 0.9333\n",
      "Epoch 24/100\n",
      "47/47 [==============================] - 914s 19s/step - loss: 0.1294 - accuracy: 0.9524 - val_loss: 0.1556 - val_accuracy: 0.9368\n",
      "Epoch 25/100\n",
      "47/47 [==============================] - 910s 19s/step - loss: 0.1250 - accuracy: 0.9552 - val_loss: 0.1625 - val_accuracy: 0.9385\n",
      "Epoch 26/100\n",
      "47/47 [==============================] - 923s 20s/step - loss: 0.1260 - accuracy: 0.9515 - val_loss: 0.1605 - val_accuracy: 0.9350\n",
      "Epoch 27/100\n",
      "47/47 [==============================] - 919s 20s/step - loss: 0.1217 - accuracy: 0.9537 - val_loss: 0.1540 - val_accuracy: 0.9385\n",
      "Epoch 28/100\n",
      "47/47 [==============================] - 907s 19s/step - loss: 0.1203 - accuracy: 0.9533 - val_loss: 0.1863 - val_accuracy: 0.9316\n",
      "Epoch 29/100\n",
      "47/47 [==============================] - 903s 19s/step - loss: 0.1175 - accuracy: 0.9556 - val_loss: 0.1734 - val_accuracy: 0.9333\n",
      "Epoch 30/100\n",
      "47/47 [==============================] - 910s 19s/step - loss: 0.1148 - accuracy: 0.9614 - val_loss: 0.1651 - val_accuracy: 0.9402\n",
      "Epoch 31/100\n",
      "47/47 [==============================] - 906s 19s/step - loss: 0.1135 - accuracy: 0.9582 - val_loss: 0.1616 - val_accuracy: 0.9436\n",
      "Epoch 32/100\n",
      "47/47 [==============================] - 904s 19s/step - loss: 0.1112 - accuracy: 0.9601 - val_loss: 0.2154 - val_accuracy: 0.9231\n",
      "Epoch 33/100\n",
      "47/47 [==============================] - 898s 19s/step - loss: 0.1122 - accuracy: 0.9582 - val_loss: 0.1545 - val_accuracy: 0.9402\n",
      "Epoch 34/100\n",
      "47/47 [==============================] - 899s 19s/step - loss: 0.1092 - accuracy: 0.9594 - val_loss: 0.1504 - val_accuracy: 0.9402\n",
      "Epoch 35/100\n",
      "47/47 [==============================] - 896s 19s/step - loss: 0.1056 - accuracy: 0.9601 - val_loss: 0.1590 - val_accuracy: 0.9368\n",
      "Epoch 36/100\n",
      "47/47 [==============================] - 900s 19s/step - loss: 0.1059 - accuracy: 0.9605 - val_loss: 0.1525 - val_accuracy: 0.9419\n",
      "Epoch 37/100\n",
      "47/47 [==============================] - 896s 19s/step - loss: 0.1017 - accuracy: 0.9639 - val_loss: 0.1508 - val_accuracy: 0.9368\n",
      "Epoch 38/100\n",
      "47/47 [==============================] - 902s 19s/step - loss: 0.1021 - accuracy: 0.9612 - val_loss: 0.1521 - val_accuracy: 0.9333\n",
      "Epoch 39/100\n",
      "47/47 [==============================] - 895s 19s/step - loss: 0.1010 - accuracy: 0.9605 - val_loss: 0.1497 - val_accuracy: 0.9402\n",
      "Epoch 40/100\n",
      "47/47 [==============================] - 891s 19s/step - loss: 0.0988 - accuracy: 0.9654 - val_loss: 0.1645 - val_accuracy: 0.9419\n",
      "Epoch 41/100\n",
      "47/47 [==============================] - 895s 19s/step - loss: 0.0981 - accuracy: 0.9641 - val_loss: 0.1540 - val_accuracy: 0.9419\n",
      "Epoch 42/100\n",
      "47/47 [==============================] - 886s 19s/step - loss: 0.0972 - accuracy: 0.9652 - val_loss: 0.1508 - val_accuracy: 0.9419\n",
      "Epoch 43/100\n",
      "47/47 [==============================] - 884s 19s/step - loss: 0.0951 - accuracy: 0.9644 - val_loss: 0.1508 - val_accuracy: 0.9402\n",
      "Epoch 44/100\n",
      "47/47 [==============================] - 882s 19s/step - loss: 0.0975 - accuracy: 0.9646 - val_loss: 0.1591 - val_accuracy: 0.9333\n",
      "Epoch 45/100\n",
      "47/47 [==============================] - 881s 19s/step - loss: 0.0924 - accuracy: 0.9654 - val_loss: 0.1668 - val_accuracy: 0.9350\n",
      "Epoch 46/100\n",
      "47/47 [==============================] - 888s 19s/step - loss: 0.0897 - accuracy: 0.9639 - val_loss: 0.1542 - val_accuracy: 0.9385\n",
      "Epoch 47/100\n",
      "47/47 [==============================] - 885s 19s/step - loss: 0.0910 - accuracy: 0.9665 - val_loss: 0.1470 - val_accuracy: 0.9402\n",
      "Epoch 48/100\n",
      "47/47 [==============================] - 884s 19s/step - loss: 0.0904 - accuracy: 0.9663 - val_loss: 0.1541 - val_accuracy: 0.9402\n",
      "Epoch 49/100\n",
      "47/47 [==============================] - 929s 20s/step - loss: 0.0869 - accuracy: 0.9665 - val_loss: 0.1509 - val_accuracy: 0.9419\n",
      "Epoch 50/100\n",
      "47/47 [==============================] - 955s 20s/step - loss: 0.0851 - accuracy: 0.9684 - val_loss: 0.1481 - val_accuracy: 0.9419\n",
      "Epoch 51/100\n",
      "47/47 [==============================] - 909s 19s/step - loss: 0.0853 - accuracy: 0.9695 - val_loss: 0.1607 - val_accuracy: 0.9282\n",
      "Epoch 52/100\n",
      "47/47 [==============================] - 911s 19s/step - loss: 0.0868 - accuracy: 0.9691 - val_loss: 0.1551 - val_accuracy: 0.9316\n",
      "Epoch 53/100\n",
      "47/47 [==============================] - 925s 20s/step - loss: 0.0840 - accuracy: 0.9712 - val_loss: 0.1463 - val_accuracy: 0.9419\n",
      "Epoch 54/100\n",
      "47/47 [==============================] - 924s 20s/step - loss: 0.0819 - accuracy: 0.9712 - val_loss: 0.1460 - val_accuracy: 0.9453\n",
      "Epoch 55/100\n",
      "47/47 [==============================] - 924s 20s/step - loss: 0.0794 - accuracy: 0.9705 - val_loss: 0.1566 - val_accuracy: 0.9436\n",
      "Epoch 56/100\n",
      "47/47 [==============================] - 932s 20s/step - loss: 0.0807 - accuracy: 0.9703 - val_loss: 0.1553 - val_accuracy: 0.9419\n",
      "Epoch 57/100\n"
     ]
    },
    {
     "name": "stdout",
     "output_type": "stream",
     "text": [
      "47/47 [==============================] - 937s 20s/step - loss: 0.0795 - accuracy: 0.9725 - val_loss: 0.1461 - val_accuracy: 0.9436\n",
      "Epoch 58/100\n",
      "47/47 [==============================] - 941s 20s/step - loss: 0.0776 - accuracy: 0.9740 - val_loss: 0.1634 - val_accuracy: 0.9385\n",
      "Epoch 59/100\n",
      "47/47 [==============================] - 938s 20s/step - loss: 0.0759 - accuracy: 0.9729 - val_loss: 0.1460 - val_accuracy: 0.9402\n",
      "Epoch 60/100\n",
      "47/47 [==============================] - 950s 20s/step - loss: 0.0773 - accuracy: 0.9720 - val_loss: 0.1540 - val_accuracy: 0.9436\n",
      "Epoch 61/100\n",
      "47/47 [==============================] - 1026s 22s/step - loss: 0.0746 - accuracy: 0.9742 - val_loss: 0.1484 - val_accuracy: 0.9419\n",
      "Epoch 62/100\n",
      "47/47 [==============================] - 1004s 21s/step - loss: 0.0750 - accuracy: 0.9746 - val_loss: 0.1488 - val_accuracy: 0.9368\n",
      "Epoch 63/100\n",
      "47/47 [==============================] - 1021s 22s/step - loss: 0.0721 - accuracy: 0.9737 - val_loss: 0.1791 - val_accuracy: 0.9402\n",
      "Epoch 64/100\n",
      "47/47 [==============================] - 1062s 23s/step - loss: 0.0716 - accuracy: 0.9731 - val_loss: 0.1470 - val_accuracy: 0.9470\n",
      "program ends, current time:\n",
      "2020-09-22 11:58:33.535684\n",
      "Training took a total of 16:54:27.349998\n"
     ]
    }
   ],
   "source": [
    "# Set the model to train \n",
    "# ⏰ This cell may take several hours to run \n",
    "start = datetime.datetime.now()\n",
    "print('program starts, current time:')\n",
    "print(start)\n",
    "history = model.fit(train_images, train_y, epochs=100, callbacks=early_stopping, batch_size=100, validation_data=(val_images, val_y))\n",
    "end = datetime.datetime.now()\n",
    "print('program ends, current time:')\n",
    "print(end)\n",
    "elapsed = end - start\n",
    "print('Training took a total of {}'.format(elapsed))"
   ]
  },
  {
   "cell_type": "markdown",
   "metadata": {},
   "source": [
    "## CNN Model Evaluation\n",
    "\n",
    "Now use the test set to perform an evaluation on the model of choice. "
   ]
  },
  {
   "cell_type": "code",
   "execution_count": 15,
   "metadata": {},
   "outputs": [],
   "source": [
    "# Load the best (saved) model\n",
    "from keras.models import load_model\n",
    "saved_model = load_model('./cnn1_chest_xray_ALL_data_BestModel_2020-09-21.h5')"
   ]
  },
  {
   "cell_type": "code",
   "execution_count": 16,
   "metadata": {},
   "outputs": [
    {
     "name": "stdout",
     "output_type": "stream",
     "text": [
      "147/147 [==============================] - 201s 1s/step - loss: 0.0706 - accuracy: 0.9755\n"
     ]
    }
   ],
   "source": [
    "results_train = model.evaluate(train_images, train_y)"
   ]
  },
  {
   "cell_type": "code",
   "execution_count": 17,
   "metadata": {},
   "outputs": [
    {
     "name": "stdout",
     "output_type": "stream",
     "text": [
      "19/19 [==============================] - 17s 908ms/step - loss: 0.0801 - accuracy: 0.9744\n"
     ]
    }
   ],
   "source": [
    "results_test = model.evaluate(test_images, test_y)"
   ]
  },
  {
   "cell_type": "code",
   "execution_count": 19,
   "metadata": {},
   "outputs": [
    {
     "name": "stdout",
     "output_type": "stream",
     "text": [
      "147/147 [==============================] - 278s 2s/step - loss: 0.0737 - accuracy: 0.9750\n"
     ]
    }
   ],
   "source": [
    "best_results_train = saved_model.evaluate(train_images, train_y)"
   ]
  },
  {
   "cell_type": "code",
   "execution_count": 20,
   "metadata": {},
   "outputs": [
    {
     "name": "stdout",
     "output_type": "stream",
     "text": [
      "19/19 [==============================] - 32s 2s/step - loss: 0.0819 - accuracy: 0.9692\n"
     ]
    }
   ],
   "source": [
    "best_results_test = saved_model.evaluate(test_images, test_y)"
   ]
  },
  {
   "cell_type": "code",
   "execution_count": 21,
   "metadata": {},
   "outputs": [
    {
     "data": {
      "text/plain": [
       "[0.07064909487962723, 0.9754535555839539]"
      ]
     },
     "execution_count": 21,
     "metadata": {},
     "output_type": "execute_result"
    }
   ],
   "source": [
    "results_train"
   ]
  },
  {
   "cell_type": "code",
   "execution_count": 22,
   "metadata": {},
   "outputs": [
    {
     "data": {
      "text/plain": [
       "[0.08005109429359436, 0.9743589758872986]"
      ]
     },
     "execution_count": 22,
     "metadata": {},
     "output_type": "execute_result"
    }
   ],
   "source": [
    "results_test"
   ]
  },
  {
   "cell_type": "code",
   "execution_count": 23,
   "metadata": {},
   "outputs": [
    {
     "data": {
      "text/plain": [
       "[0.07371962070465088, 0.9750266671180725]"
      ]
     },
     "execution_count": 23,
     "metadata": {},
     "output_type": "execute_result"
    }
   ],
   "source": [
    "best_results_train"
   ]
  },
  {
   "cell_type": "code",
   "execution_count": 24,
   "metadata": {},
   "outputs": [
    {
     "data": {
      "text/plain": [
       "[0.08194692432880402, 0.9692307710647583]"
      ]
     },
     "execution_count": 24,
     "metadata": {},
     "output_type": "execute_result"
    }
   ],
   "source": [
    "best_results_test"
   ]
  },
  {
   "cell_type": "code",
   "execution_count": 25,
   "metadata": {},
   "outputs": [
    {
     "data": {
      "image/png": "[encoded data removed]",
      "text/plain": [
       "<Figure size 432x288 with 1 Axes>"
      ]
     },
     "metadata": {
      "needs_background": "light"
     },
     "output_type": "display_data"
    },
    {
     "data": {
      "image/png": "[encoded data removed]",
      "text/plain": [
       "<Figure size 432x288 with 1 Axes>"
      ]
     },
     "metadata": {
      "needs_background": "light"
     },
     "output_type": "display_data"
    }
   ],
   "source": [
    "visualize_training_results(history)"
   ]
  },
  {
   "cell_type": "markdown",
   "metadata": {},
   "source": [
    "## Saving history in CSV"
   ]
  },
  {
   "cell_type": "code",
   "execution_count": 26,
   "metadata": {},
   "outputs": [],
   "source": [
    "import pandas as pd\n",
    "# convert the history.history dict to a pandas DataFrame:     \n",
    "hist_df = pd.DataFrame(history.history) \n",
    "# or save to csv: \n",
    "hist_csv_file = 'cnn1_chest_xray_ALL_data_BestModel'+str(date.today())+'_history.csv'\n",
    "with open(hist_csv_file, mode='w') as f:\n",
    "    hist_df.to_csv(f)"
   ]
  },
  {
   "cell_type": "code",
   "execution_count": null,
   "metadata": {},
   "outputs": [],
   "source": []
  }
 ],
 "metadata": {
  "kernelspec": {
   "display_name": "Python 3",
   "language": "python",
   "name": "python3"
  },
  "language_info": {
   "codemirror_mode": {
    "name": "ipython",
    "version": 3
   },
   "file_extension": ".py",
   "mimetype": "text/x-python",
   "name": "python",
   "nbconvert_exporter": "python",
   "pygments_lexer": "ipython3",
   "version": "3.7.6"
  },
  "toc": {
   "base_numbering": 1,
   "nav_menu": {},
   "number_sections": true,
   "sideBar": true,
   "skip_h1_title": false,
   "title_cell": "Table of Contents",
   "title_sidebar": "Contents",
   "toc_cell": false,
   "toc_position": {},
   "toc_section_display": true,
   "toc_window_display": false
  }
 },
 "nbformat": 4,
 "nbformat_minor": 2
}
