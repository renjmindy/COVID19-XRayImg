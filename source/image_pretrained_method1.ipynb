{
 "cells": [
  {
   "cell_type": "markdown",
   "metadata": {},
   "source": [
    "## Final Project Submission\n",
    "\n",
    "Please fill out:\n",
    "* Student name: Mindy Jen\n",
    "* Student pace: full time, ds-ft-online-05262020\n",
    "* Scheduled project review date/time: Sep. 24th, 2020/12:45-13:30 (CDT)\n",
    "* Instructor name: Yish Lim\n",
    "* Blog post URL: in progress\n",
    "* fine data: [Kaggle](https://www.kaggle.com/paultimothymooney/chest-xray-pneumonia)\n",
    "* full data: [Mendeley](https://data.mendeley.com/datasets/rscbjbr9sj/3)"
   ]
  },
  {
   "cell_type": "code",
   "execution_count": 1,
   "metadata": {},
   "outputs": [],
   "source": [
    "import os, shutil\n",
    "import time\n",
    "import datetime\n",
    "import matplotlib.pyplot as plt\n",
    "%matplotlib inline\n",
    "import scipy\n",
    "import numpy as np\n",
    "from PIL import Image\n",
    "from scipy import ndimage\n",
    "from keras.preprocessing.image import ImageDataGenerator, array_to_img\n",
    "from keras import models\n",
    "from keras import layers\n",
    "from keras import optimizers\n",
    "from keras.applications import VGG19\n",
    "\n",
    "np.random.seed(123)"
   ]
  },
  {
   "cell_type": "code",
   "execution_count": 2,
   "metadata": {},
   "outputs": [],
   "source": [
    "train_folder = 'split/train'\n",
    "test_folder = 'split/test'\n",
    "val_folder = 'split/validation'"
   ]
  },
  {
   "cell_type": "code",
   "execution_count": 3,
   "metadata": {},
   "outputs": [],
   "source": [
    "datagen = ImageDataGenerator(rescale=1./255) \n",
    "batch_size = 5"
   ]
  },
  {
   "cell_type": "markdown",
   "metadata": {},
   "source": [
    "## VGG19: Feature extraction"
   ]
  },
  {
   "cell_type": "code",
   "execution_count": 4,
   "metadata": {},
   "outputs": [],
   "source": [
    "vgg19_base = VGG19(weights='imagenet', include_top=False, input_shape=(150, 150, 3))"
   ]
  },
  {
   "cell_type": "code",
   "execution_count": 5,
   "metadata": {},
   "outputs": [
    {
     "name": "stdout",
     "output_type": "stream",
     "text": [
      "Model: \"vgg19\"\n",
      "_________________________________________________________________\n",
      "Layer (type)                 Output Shape              Param #   \n",
      "=================================================================\n",
      "input_1 (InputLayer)         [(None, 150, 150, 3)]     0         \n",
      "_________________________________________________________________\n",
      "block1_conv1 (Conv2D)        (None, 150, 150, 64)      1792      \n",
      "_________________________________________________________________\n",
      "block1_conv2 (Conv2D)        (None, 150, 150, 64)      36928     \n",
      "_________________________________________________________________\n",
      "block1_pool (MaxPooling2D)   (None, 75, 75, 64)        0         \n",
      "_________________________________________________________________\n",
      "block2_conv1 (Conv2D)        (None, 75, 75, 128)       73856     \n",
      "_________________________________________________________________\n",
      "block2_conv2 (Conv2D)        (None, 75, 75, 128)       147584    \n",
      "_________________________________________________________________\n",
      "block2_pool (MaxPooling2D)   (None, 37, 37, 128)       0         \n",
      "_________________________________________________________________\n",
      "block3_conv1 (Conv2D)        (None, 37, 37, 256)       295168    \n",
      "_________________________________________________________________\n",
      "block3_conv2 (Conv2D)        (None, 37, 37, 256)       590080    \n",
      "_________________________________________________________________\n",
      "block3_conv3 (Conv2D)        (None, 37, 37, 256)       590080    \n",
      "_________________________________________________________________\n",
      "block3_conv4 (Conv2D)        (None, 37, 37, 256)       590080    \n",
      "_________________________________________________________________\n",
      "block3_pool (MaxPooling2D)   (None, 18, 18, 256)       0         \n",
      "_________________________________________________________________\n",
      "block4_conv1 (Conv2D)        (None, 18, 18, 512)       1180160   \n",
      "_________________________________________________________________\n",
      "block4_conv2 (Conv2D)        (None, 18, 18, 512)       2359808   \n",
      "_________________________________________________________________\n",
      "block4_conv3 (Conv2D)        (None, 18, 18, 512)       2359808   \n",
      "_________________________________________________________________\n",
      "block4_conv4 (Conv2D)        (None, 18, 18, 512)       2359808   \n",
      "_________________________________________________________________\n",
      "block4_pool (MaxPooling2D)   (None, 9, 9, 512)         0         \n",
      "_________________________________________________________________\n",
      "block5_conv1 (Conv2D)        (None, 9, 9, 512)         2359808   \n",
      "_________________________________________________________________\n",
      "block5_conv2 (Conv2D)        (None, 9, 9, 512)         2359808   \n",
      "_________________________________________________________________\n",
      "block5_conv3 (Conv2D)        (None, 9, 9, 512)         2359808   \n",
      "_________________________________________________________________\n",
      "block5_conv4 (Conv2D)        (None, 9, 9, 512)         2359808   \n",
      "_________________________________________________________________\n",
      "block5_pool (MaxPooling2D)   (None, 4, 4, 512)         0         \n",
      "=================================================================\n",
      "Total params: 20,024,384\n",
      "Trainable params: 20,024,384\n",
      "Non-trainable params: 0\n",
      "_________________________________________________________________\n"
     ]
    }
   ],
   "source": [
    "vgg19_base.summary()"
   ]
  },
  {
   "cell_type": "code",
   "execution_count": 6,
   "metadata": {},
   "outputs": [],
   "source": [
    "def extract_features(directory, sample_amount):\n",
    "    features = np.zeros(shape=(sample_amount, 4, 4, 512)) \n",
    "    labels = np.zeros(shape=(sample_amount))\n",
    "    generator = datagen.flow_from_directory(directory, target_size=(150, 150), batch_size=5, class_mode='binary')\n",
    "    print(generator)\n",
    "    i=0\n",
    "    for inputs_batch, labels_batch in generator:\n",
    "        #print('i:',i,labels_batch)\n",
    "        features_batch = vgg19_base.predict(inputs_batch)\n",
    "        features[i * batch_size : (i + 1) * batch_size] = features_batch \n",
    "        labels[i * batch_size : (i + 1) * batch_size] = labels_batch\n",
    "        #print('\\t',features.shape,' ',labels.shape)\n",
    "        i = i + 1\n",
    "        if i * batch_size >= sample_amount:\n",
    "            break\n",
    "    return features, labels"
   ]
  },
  {
   "cell_type": "code",
   "execution_count": 7,
   "metadata": {
    "scrolled": false
   },
   "outputs": [
    {
     "name": "stdout",
     "output_type": "stream",
     "text": [
      "Found 4685 images belonging to 2 classes.\n",
      "<tensorflow.python.keras.preprocessing.image.DirectoryIterator object at 0x64194d790>\n"
     ]
    }
   ],
   "source": [
    "# You should be able to divide sample_amount by batch_size\n",
    "train_features, train_labels = extract_features(train_folder, 3410) \n",
    "train_features = np.reshape(train_features, (3410, 4 * 4 * 512))"
   ]
  },
  {
   "cell_type": "code",
   "execution_count": 8,
   "metadata": {},
   "outputs": [
    {
     "name": "stdout",
     "output_type": "stream",
     "text": [
      "Found 586 images belonging to 2 classes.\n",
      "<tensorflow.python.keras.preprocessing.image.DirectoryIterator object at 0x642c62dd0>\n"
     ]
    }
   ],
   "source": [
    "validation_features, validation_labels = extract_features(val_folder, 420) \n",
    "validation_features = np.reshape(validation_features, (420, 4 * 4 * 512))"
   ]
  },
  {
   "cell_type": "code",
   "execution_count": 9,
   "metadata": {},
   "outputs": [
    {
     "name": "stdout",
     "output_type": "stream",
     "text": [
      "Found 585 images belonging to 2 classes.\n",
      "<tensorflow.python.keras.preprocessing.image.DirectoryIterator object at 0x6419fd190>\n"
     ]
    }
   ],
   "source": [
    "test_features, test_labels = extract_features(test_folder, 420)\n",
    "test_features = np.reshape(test_features, (420, 4 * 4 * 512))"
   ]
  },
  {
   "cell_type": "code",
   "execution_count": 10,
   "metadata": {},
   "outputs": [],
   "source": [
    "model = models.Sequential()\n",
    "model.add(layers.Dense(256, activation='relu', input_dim=4*4*512))\n",
    "model.add(layers.Dense(1, activation='sigmoid'))\n",
    "\n",
    "model.compile(optimizer=optimizers.RMSprop(lr=1e-4), loss='binary_crossentropy', metrics=['accuracy'])"
   ]
  },
  {
   "cell_type": "code",
   "execution_count": 11,
   "metadata": {
    "scrolled": false
   },
   "outputs": [
    {
     "name": "stdout",
     "output_type": "stream",
     "text": [
      "program starts, current time:\n",
      "2020-09-12 16:46:10.565902\n",
      "Epoch 1/100\n",
      "682/682 [==============================] - 43s 63ms/step - loss: 0.2141 - accuracy: 0.9164 - val_loss: 0.2026 - val_accuracy: 0.9310\n",
      "Epoch 2/100\n",
      "682/682 [==============================] - 35s 51ms/step - loss: 0.1511 - accuracy: 0.9431 - val_loss: 0.1679 - val_accuracy: 0.9381\n",
      "Epoch 3/100\n",
      "682/682 [==============================] - 33s 48ms/step - loss: 0.1302 - accuracy: 0.9522 - val_loss: 0.1905 - val_accuracy: 0.9310\n",
      "Epoch 4/100\n",
      "682/682 [==============================] - 33s 48ms/step - loss: 0.1195 - accuracy: 0.9572 - val_loss: 0.2176 - val_accuracy: 0.9214\n",
      "Epoch 5/100\n",
      "682/682 [==============================] - 34s 51ms/step - loss: 0.1111 - accuracy: 0.9642 - val_loss: 0.2317 - val_accuracy: 0.9310\n",
      "Epoch 6/100\n",
      "682/682 [==============================] - 36s 53ms/step - loss: 0.1013 - accuracy: 0.9654 - val_loss: 0.1891 - val_accuracy: 0.9357\n",
      "Epoch 7/100\n",
      "682/682 [==============================] - 39s 57ms/step - loss: 0.0934 - accuracy: 0.9683 - val_loss: 0.2425 - val_accuracy: 0.9357\n",
      "Epoch 8/100\n",
      "682/682 [==============================] - 40s 59ms/step - loss: 0.0993 - accuracy: 0.9674 - val_loss: 0.2699 - val_accuracy: 0.9333\n",
      "Epoch 9/100\n",
      "682/682 [==============================] - 41s 60ms/step - loss: 0.0880 - accuracy: 0.9707 - val_loss: 0.2620 - val_accuracy: 0.9286\n",
      "Epoch 10/100\n",
      "682/682 [==============================] - 41s 60ms/step - loss: 0.0805 - accuracy: 0.9751 - val_loss: 0.2938 - val_accuracy: 0.9190\n",
      "Epoch 11/100\n",
      "682/682 [==============================] - 43s 63ms/step - loss: 0.0798 - accuracy: 0.9748 - val_loss: 0.2309 - val_accuracy: 0.9405\n",
      "Epoch 12/100\n",
      "682/682 [==============================] - 44s 65ms/step - loss: 0.0793 - accuracy: 0.9727 - val_loss: 0.2063 - val_accuracy: 0.9310\n",
      "Epoch 13/100\n",
      "682/682 [==============================] - 45s 66ms/step - loss: 0.0807 - accuracy: 0.9754 - val_loss: 0.2419 - val_accuracy: 0.9357\n",
      "Epoch 14/100\n",
      "682/682 [==============================] - 45s 66ms/step - loss: 0.0741 - accuracy: 0.9751 - val_loss: 0.2398 - val_accuracy: 0.9286\n",
      "Epoch 15/100\n",
      "682/682 [==============================] - 45s 66ms/step - loss: 0.0686 - accuracy: 0.9757 - val_loss: 0.2291 - val_accuracy: 0.9452\n",
      "Epoch 16/100\n",
      "682/682 [==============================] - 45s 66ms/step - loss: 0.0687 - accuracy: 0.9777 - val_loss: 0.2134 - val_accuracy: 0.9429\n",
      "Epoch 17/100\n",
      "682/682 [==============================] - 45s 66ms/step - loss: 0.0657 - accuracy: 0.9783 - val_loss: 0.2485 - val_accuracy: 0.9405\n",
      "Epoch 18/100\n",
      "682/682 [==============================] - 47s 68ms/step - loss: 0.0627 - accuracy: 0.9783 - val_loss: 0.2741 - val_accuracy: 0.9405\n",
      "Epoch 19/100\n",
      "682/682 [==============================] - 47s 70ms/step - loss: 0.0600 - accuracy: 0.9809 - val_loss: 0.2224 - val_accuracy: 0.9429\n",
      "Epoch 20/100\n",
      "682/682 [==============================] - 48s 70ms/step - loss: 0.0569 - accuracy: 0.9795 - val_loss: 0.2898 - val_accuracy: 0.9357\n",
      "Epoch 21/100\n",
      "682/682 [==============================] - 49s 72ms/step - loss: 0.0585 - accuracy: 0.9824 - val_loss: 0.2292 - val_accuracy: 0.9381\n",
      "Epoch 22/100\n",
      "682/682 [==============================] - 47s 69ms/step - loss: 0.0523 - accuracy: 0.9827 - val_loss: 0.2646 - val_accuracy: 0.9357\n",
      "Epoch 23/100\n",
      "682/682 [==============================] - 49s 72ms/step - loss: 0.0516 - accuracy: 0.9850 - val_loss: 0.2697 - val_accuracy: 0.9381\n",
      "Epoch 24/100\n",
      "682/682 [==============================] - 50s 73ms/step - loss: 0.0517 - accuracy: 0.9850 - val_loss: 0.2790 - val_accuracy: 0.9381\n",
      "Epoch 25/100\n",
      "682/682 [==============================] - 50s 73ms/step - loss: 0.0469 - accuracy: 0.9874 - val_loss: 0.2957 - val_accuracy: 0.9381\n",
      "Epoch 26/100\n",
      "682/682 [==============================] - 50s 73ms/step - loss: 0.0487 - accuracy: 0.9853 - val_loss: 0.3101 - val_accuracy: 0.9381\n",
      "Epoch 27/100\n",
      "682/682 [==============================] - 50s 74ms/step - loss: 0.0442 - accuracy: 0.9871 - val_loss: 0.3174 - val_accuracy: 0.9262\n",
      "Epoch 28/100\n",
      "682/682 [==============================] - 51s 74ms/step - loss: 0.0461 - accuracy: 0.9871 - val_loss: 0.3018 - val_accuracy: 0.9333\n",
      "Epoch 29/100\n",
      "682/682 [==============================] - 51s 75ms/step - loss: 0.0460 - accuracy: 0.9865 - val_loss: 0.3295 - val_accuracy: 0.9381\n",
      "Epoch 30/100\n",
      "682/682 [==============================] - 51s 74ms/step - loss: 0.0397 - accuracy: 0.9886 - val_loss: 0.3195 - val_accuracy: 0.9405\n",
      "Epoch 31/100\n",
      "682/682 [==============================] - 50s 74ms/step - loss: 0.0393 - accuracy: 0.9897 - val_loss: 0.3471 - val_accuracy: 0.9429\n",
      "Epoch 32/100\n",
      "682/682 [==============================] - 50s 73ms/step - loss: 0.0398 - accuracy: 0.9894 - val_loss: 0.3121 - val_accuracy: 0.9357\n",
      "Epoch 33/100\n",
      "682/682 [==============================] - 50s 74ms/step - loss: 0.0370 - accuracy: 0.9886 - val_loss: 0.2920 - val_accuracy: 0.9357\n",
      "Epoch 34/100\n",
      "682/682 [==============================] - 53s 78ms/step - loss: 0.0367 - accuracy: 0.9883 - val_loss: 0.3054 - val_accuracy: 0.9452\n",
      "Epoch 35/100\n",
      "682/682 [==============================] - 57s 84ms/step - loss: 0.0367 - accuracy: 0.9883 - val_loss: 0.3163 - val_accuracy: 0.9357\n",
      "Epoch 36/100\n",
      "682/682 [==============================] - 55s 81ms/step - loss: 0.0339 - accuracy: 0.9894 - val_loss: 0.3485 - val_accuracy: 0.9405\n",
      "Epoch 37/100\n",
      "682/682 [==============================] - 52s 76ms/step - loss: 0.0332 - accuracy: 0.9921 - val_loss: 0.3447 - val_accuracy: 0.9381\n",
      "Epoch 38/100\n",
      "682/682 [==============================] - 51s 74ms/step - loss: 0.0306 - accuracy: 0.9924 - val_loss: 0.3937 - val_accuracy: 0.9429\n",
      "Epoch 39/100\n",
      "682/682 [==============================] - 41s 60ms/step - loss: 0.0314 - accuracy: 0.9924 - val_loss: 0.3701 - val_accuracy: 0.9381\n",
      "Epoch 40/100\n",
      "682/682 [==============================] - 30s 43ms/step - loss: 0.0298 - accuracy: 0.9903 - val_loss: 0.3394 - val_accuracy: 0.9405\n",
      "Epoch 41/100\n",
      "682/682 [==============================] - 29s 42ms/step - loss: 0.0285 - accuracy: 0.9912 - val_loss: 0.4149 - val_accuracy: 0.9310\n",
      "Epoch 42/100\n",
      "682/682 [==============================] - 28s 41ms/step - loss: 0.0309 - accuracy: 0.9912 - val_loss: 0.3475 - val_accuracy: 0.9333\n",
      "Epoch 43/100\n",
      "682/682 [==============================] - 28s 41ms/step - loss: 0.0256 - accuracy: 0.9930 - val_loss: 0.3801 - val_accuracy: 0.9357\n",
      "Epoch 44/100\n",
      "682/682 [==============================] - 28s 41ms/step - loss: 0.0262 - accuracy: 0.9933 - val_loss: 0.3954 - val_accuracy: 0.9357\n",
      "Epoch 45/100\n",
      "682/682 [==============================] - 28s 41ms/step - loss: 0.0261 - accuracy: 0.9933 - val_loss: 0.3789 - val_accuracy: 0.9333\n",
      "Epoch 46/100\n",
      "682/682 [==============================] - 28s 41ms/step - loss: 0.0213 - accuracy: 0.9953 - val_loss: 0.3966 - val_accuracy: 0.9381\n",
      "Epoch 47/100\n",
      "682/682 [==============================] - 28s 42ms/step - loss: 0.0245 - accuracy: 0.9938 - val_loss: 0.4203 - val_accuracy: 0.9429\n",
      "Epoch 48/100\n",
      "682/682 [==============================] - 28s 41ms/step - loss: 0.0228 - accuracy: 0.9941 - val_loss: 0.4287 - val_accuracy: 0.9405\n",
      "Epoch 49/100\n",
      "682/682 [==============================] - 28s 41ms/step - loss: 0.0200 - accuracy: 0.9959 - val_loss: 0.4417 - val_accuracy: 0.9310\n",
      "Epoch 50/100\n",
      "682/682 [==============================] - 28s 41ms/step - loss: 0.0218 - accuracy: 0.9956 - val_loss: 0.4270 - val_accuracy: 0.9452\n",
      "Epoch 51/100\n",
      "682/682 [==============================] - 28s 41ms/step - loss: 0.0183 - accuracy: 0.9962 - val_loss: 0.3992 - val_accuracy: 0.9357\n",
      "Epoch 52/100\n",
      "682/682 [==============================] - 28s 41ms/step - loss: 0.0187 - accuracy: 0.9950 - val_loss: 0.4252 - val_accuracy: 0.9357\n",
      "Epoch 53/100\n",
      "682/682 [==============================] - 28s 41ms/step - loss: 0.0190 - accuracy: 0.9959 - val_loss: 0.4592 - val_accuracy: 0.9381\n",
      "Epoch 54/100\n",
      "682/682 [==============================] - 28s 41ms/step - loss: 0.0181 - accuracy: 0.9956 - val_loss: 0.4377 - val_accuracy: 0.9357\n",
      "Epoch 55/100\n",
      "682/682 [==============================] - 28s 41ms/step - loss: 0.0190 - accuracy: 0.9959 - val_loss: 0.4871 - val_accuracy: 0.9500\n",
      "Epoch 56/100\n",
      "682/682 [==============================] - 28s 41ms/step - loss: 0.0153 - accuracy: 0.9974 - val_loss: 0.5186 - val_accuracy: 0.9357\n"
     ]
    },
    {
     "name": "stdout",
     "output_type": "stream",
     "text": [
      "Epoch 57/100\n",
      "682/682 [==============================] - 28s 41ms/step - loss: 0.0172 - accuracy: 0.9974 - val_loss: 0.4521 - val_accuracy: 0.9333\n",
      "Epoch 58/100\n",
      "682/682 [==============================] - 28s 41ms/step - loss: 0.0172 - accuracy: 0.9962 - val_loss: 0.4881 - val_accuracy: 0.9310\n",
      "Epoch 59/100\n",
      "682/682 [==============================] - 28s 41ms/step - loss: 0.0151 - accuracy: 0.9965 - val_loss: 0.4679 - val_accuracy: 0.9381\n",
      "Epoch 60/100\n",
      "682/682 [==============================] - 28s 41ms/step - loss: 0.0151 - accuracy: 0.9971 - val_loss: 0.4500 - val_accuracy: 0.9333\n",
      "Epoch 61/100\n",
      "682/682 [==============================] - 28s 41ms/step - loss: 0.0116 - accuracy: 0.9977 - val_loss: 0.5144 - val_accuracy: 0.9429\n",
      "Epoch 62/100\n",
      "682/682 [==============================] - 28s 41ms/step - loss: 0.0132 - accuracy: 0.9974 - val_loss: 0.4833 - val_accuracy: 0.9381\n",
      "Epoch 63/100\n",
      "682/682 [==============================] - 28s 40ms/step - loss: 0.0133 - accuracy: 0.9974 - val_loss: 0.5124 - val_accuracy: 0.9357\n",
      "Epoch 64/100\n",
      "682/682 [==============================] - 27s 40ms/step - loss: 0.0136 - accuracy: 0.9974 - val_loss: 0.4763 - val_accuracy: 0.9381\n",
      "Epoch 65/100\n",
      "682/682 [==============================] - 27s 40ms/step - loss: 0.0120 - accuracy: 0.9982 - val_loss: 0.5158 - val_accuracy: 0.9381\n",
      "Epoch 66/100\n",
      "682/682 [==============================] - 27s 40ms/step - loss: 0.0135 - accuracy: 0.9977 - val_loss: 0.5446 - val_accuracy: 0.9357\n",
      "Epoch 67/100\n",
      "682/682 [==============================] - 27s 40ms/step - loss: 0.0111 - accuracy: 0.9971 - val_loss: 0.5332 - val_accuracy: 0.9357\n",
      "Epoch 68/100\n",
      "682/682 [==============================] - 27s 40ms/step - loss: 0.0113 - accuracy: 0.9977 - val_loss: 0.5219 - val_accuracy: 0.9381\n",
      "Epoch 69/100\n",
      "682/682 [==============================] - 28s 41ms/step - loss: 0.0105 - accuracy: 0.9985 - val_loss: 0.5369 - val_accuracy: 0.9357\n",
      "Epoch 70/100\n",
      "682/682 [==============================] - 27s 40ms/step - loss: 0.0104 - accuracy: 0.9985 - val_loss: 0.5225 - val_accuracy: 0.9357\n",
      "Epoch 71/100\n",
      "682/682 [==============================] - 27s 40ms/step - loss: 0.0098 - accuracy: 0.9988 - val_loss: 0.5437 - val_accuracy: 0.9381\n",
      "Epoch 72/100\n",
      "682/682 [==============================] - 28s 40ms/step - loss: 0.0105 - accuracy: 0.9982 - val_loss: 0.6026 - val_accuracy: 0.9452\n",
      "Epoch 73/100\n",
      "682/682 [==============================] - 28s 41ms/step - loss: 0.0105 - accuracy: 0.9985 - val_loss: 0.5497 - val_accuracy: 0.9405\n",
      "Epoch 74/100\n",
      "682/682 [==============================] - 27s 40ms/step - loss: 0.0098 - accuracy: 0.9979 - val_loss: 0.5744 - val_accuracy: 0.9381\n",
      "Epoch 75/100\n",
      "682/682 [==============================] - 41s 59ms/step - loss: 0.0085 - accuracy: 0.9988 - val_loss: 0.5904 - val_accuracy: 0.9381\n",
      "Epoch 76/100\n",
      "682/682 [==============================] - 44s 64ms/step - loss: 0.0093 - accuracy: 0.9988 - val_loss: 0.5658 - val_accuracy: 0.9381\n",
      "Epoch 77/100\n",
      "682/682 [==============================] - 45s 66ms/step - loss: 0.0092 - accuracy: 0.9991 - val_loss: 0.5952 - val_accuracy: 0.9405\n",
      "Epoch 78/100\n",
      "682/682 [==============================] - 46s 68ms/step - loss: 0.0077 - accuracy: 0.9985 - val_loss: 0.5879 - val_accuracy: 0.9357\n",
      "Epoch 79/100\n",
      "682/682 [==============================] - 47s 69ms/step - loss: 0.0069 - accuracy: 0.9991 - val_loss: 0.6111 - val_accuracy: 0.9357\n",
      "Epoch 80/100\n",
      "682/682 [==============================] - 48s 70ms/step - loss: 0.0106 - accuracy: 0.9985 - val_loss: 0.5515 - val_accuracy: 0.9357\n",
      "Epoch 81/100\n",
      "682/682 [==============================] - 46s 67ms/step - loss: 0.0088 - accuracy: 0.9991 - val_loss: 0.6065 - val_accuracy: 0.9405\n",
      "Epoch 82/100\n",
      "682/682 [==============================] - 46s 67ms/step - loss: 0.0076 - accuracy: 0.9991 - val_loss: 0.5825 - val_accuracy: 0.9357\n",
      "Epoch 83/100\n",
      "682/682 [==============================] - 46s 67ms/step - loss: 0.0076 - accuracy: 0.9991 - val_loss: 0.6222 - val_accuracy: 0.9381\n",
      "Epoch 84/100\n",
      "682/682 [==============================] - 46s 67ms/step - loss: 0.0082 - accuracy: 0.9988 - val_loss: 0.6160 - val_accuracy: 0.9429\n",
      "Epoch 85/100\n",
      "682/682 [==============================] - 47s 68ms/step - loss: 0.0084 - accuracy: 0.9991 - val_loss: 0.6279 - val_accuracy: 0.9357\n",
      "Epoch 86/100\n",
      "682/682 [==============================] - 48s 70ms/step - loss: 0.0076 - accuracy: 0.9988 - val_loss: 0.6236 - val_accuracy: 0.9381\n",
      "Epoch 87/100\n",
      "682/682 [==============================] - 49s 72ms/step - loss: 0.0068 - accuracy: 0.9991 - val_loss: 0.6533 - val_accuracy: 0.9357\n",
      "Epoch 88/100\n",
      "682/682 [==============================] - 49s 72ms/step - loss: 0.0082 - accuracy: 0.9991 - val_loss: 0.6501 - val_accuracy: 0.9381\n",
      "Epoch 89/100\n",
      "682/682 [==============================] - 50s 73ms/step - loss: 0.0068 - accuracy: 0.9991 - val_loss: 0.6550 - val_accuracy: 0.9357\n",
      "Epoch 90/100\n",
      "682/682 [==============================] - 49s 71ms/step - loss: 0.0074 - accuracy: 0.9991 - val_loss: 0.6443 - val_accuracy: 0.9381\n",
      "Epoch 91/100\n",
      "682/682 [==============================] - 49s 72ms/step - loss: 0.0071 - accuracy: 0.9991 - val_loss: 0.6611 - val_accuracy: 0.9357\n",
      "Epoch 92/100\n",
      "682/682 [==============================] - 49s 72ms/step - loss: 0.0072 - accuracy: 0.9988 - val_loss: 0.6687 - val_accuracy: 0.9381\n",
      "Epoch 93/100\n",
      "682/682 [==============================] - 49s 72ms/step - loss: 0.0056 - accuracy: 0.9991 - val_loss: 0.6436 - val_accuracy: 0.9381\n",
      "Epoch 94/100\n",
      "682/682 [==============================] - 49s 73ms/step - loss: 0.0065 - accuracy: 0.9991 - val_loss: 0.6901 - val_accuracy: 0.9405\n",
      "Epoch 95/100\n",
      "682/682 [==============================] - 49s 72ms/step - loss: 0.0069 - accuracy: 0.9988 - val_loss: 0.6917 - val_accuracy: 0.9357\n",
      "Epoch 96/100\n",
      "682/682 [==============================] - 50s 73ms/step - loss: 0.0055 - accuracy: 0.9991 - val_loss: 0.6561 - val_accuracy: 0.9357\n",
      "Epoch 97/100\n",
      "682/682 [==============================] - 50s 73ms/step - loss: 0.0058 - accuracy: 0.9991 - val_loss: 0.7194 - val_accuracy: 0.9476\n",
      "Epoch 98/100\n",
      "682/682 [==============================] - 50s 73ms/step - loss: 0.0064 - accuracy: 0.9991 - val_loss: 0.7063 - val_accuracy: 0.9381\n",
      "Epoch 99/100\n",
      "682/682 [==============================] - 50s 74ms/step - loss: 0.0061 - accuracy: 0.9991 - val_loss: 0.7235 - val_accuracy: 0.9357\n",
      "Epoch 100/100\n",
      "682/682 [==============================] - 50s 74ms/step - loss: 0.0051 - accuracy: 0.9991 - val_loss: 0.7485 - val_accuracy: 0.9452\n",
      "program ends, current time:\n",
      "2020-09-12 17:52:58.169352\n",
      "Training took a total of 1:06:47.603450\n"
     ]
    }
   ],
   "source": [
    "start = datetime.datetime.now()\n",
    "print('program starts, current time:')\n",
    "print(start)\n",
    "history = model.fit(train_features, train_labels, epochs=100, batch_size=5, validation_data=(validation_features, validation_labels))\n",
    "end = datetime.datetime.now()\n",
    "print('program ends, current time:')\n",
    "print(end)\n",
    "elapsed = end - start\n",
    "print('Training took a total of {}'.format(elapsed))"
   ]
  },
  {
   "cell_type": "code",
   "execution_count": 12,
   "metadata": {},
   "outputs": [
    {
     "name": "stdout",
     "output_type": "stream",
     "text": [
      "107/107 [==============================] - 2s 18ms/step - loss: 0.0057 - accuracy: 0.9991\n"
     ]
    },
    {
     "data": {
      "text/plain": [
       "[0.005686699878424406, 0.9991202354431152]"
      ]
     },
     "execution_count": 12,
     "metadata": {},
     "output_type": "execute_result"
    }
   ],
   "source": [
    "results_train = model.evaluate(train_features, train_labels)\n",
    "results_train"
   ]
  },
  {
   "cell_type": "code",
   "execution_count": 13,
   "metadata": {},
   "outputs": [
    {
     "name": "stdout",
     "output_type": "stream",
     "text": [
      "14/14 [==============================] - 0s 17ms/step - loss: 0.6018 - accuracy: 0.9429\n"
     ]
    },
    {
     "data": {
      "text/plain": [
       "[0.6018176674842834, 0.9428571462631226]"
      ]
     },
     "execution_count": 13,
     "metadata": {},
     "output_type": "execute_result"
    }
   ],
   "source": [
    "results_test = model.evaluate(test_features, test_labels)\n",
    "results_test"
   ]
  },
  {
   "cell_type": "code",
   "execution_count": 14,
   "metadata": {},
   "outputs": [
    {
     "data": {
      "text/plain": [
       "dict_keys(['loss', 'accuracy', 'val_loss', 'val_accuracy'])"
      ]
     },
     "execution_count": 14,
     "metadata": {},
     "output_type": "execute_result"
    }
   ],
   "source": [
    "history.history.keys()"
   ]
  },
  {
   "cell_type": "markdown",
   "metadata": {},
   "source": [
    "Using VGG-19 I'm able to get test set performance up to almost 95.5%."
   ]
  },
  {
   "cell_type": "code",
   "execution_count": 15,
   "metadata": {},
   "outputs": [],
   "source": [
    "def visualize_training_results(results):\n",
    "    history = results.history\n",
    "    plt.figure()\n",
    "    plt.plot(history['val_loss'])\n",
    "    plt.plot(history['loss'])\n",
    "    plt.legend(['val_loss', 'loss'])\n",
    "    plt.title('Loss')\n",
    "    plt.xlabel('Epochs')\n",
    "    plt.ylabel('Loss')\n",
    "    plt.show()\n",
    "    \n",
    "    plt.figure()\n",
    "    plt.plot(history['val_accuracy'])\n",
    "    plt.plot(history['accuracy'])\n",
    "    plt.legend(['val_acc', 'acc'])\n",
    "    plt.title('Accuracy')\n",
    "    plt.xlabel('Epochs')\n",
    "    plt.ylabel('Accuracy')\n",
    "    plt.show()"
   ]
  },
  {
   "cell_type": "code",
   "execution_count": 16,
   "metadata": {},
   "outputs": [
    {
     "data": {
      "image/png": "[encoded data removed]",
      "text/plain": [
       "<Figure size 432x288 with 1 Axes>"
      ]
     },
     "metadata": {
      "needs_background": "light"
     },
     "output_type": "display_data"
    },
    {
     "data": {
      "image/png": "[encoded data removed]",
      "text/plain": [
       "<Figure size 432x288 with 1 Axes>"
      ]
     },
     "metadata": {
      "needs_background": "light"
     },
     "output_type": "display_data"
    }
   ],
   "source": [
    "visualize_training_results(history)"
   ]
  },
  {
   "cell_type": "code",
   "execution_count": null,
   "metadata": {},
   "outputs": [],
   "source": []
  }
 ],
 "metadata": {
  "kernelspec": {
   "display_name": "Python 3",
   "language": "python",
   "name": "python3"
  },
  "language_info": {
   "codemirror_mode": {
    "name": "ipython",
    "version": 3
   },
   "file_extension": ".py",
   "mimetype": "text/x-python",
   "name": "python",
   "nbconvert_exporter": "python",
   "pygments_lexer": "ipython3",
   "version": "3.7.6"
  },
  "toc": {
   "base_numbering": 1,
   "nav_menu": {},
   "number_sections": true,
   "sideBar": true,
   "skip_h1_title": false,
   "title_cell": "Table of Contents",
   "title_sidebar": "Contents",
   "toc_cell": false,
   "toc_position": {},
   "toc_section_display": true,
   "toc_window_display": false
  }
 },
 "nbformat": 4,
 "nbformat_minor": 2
}
