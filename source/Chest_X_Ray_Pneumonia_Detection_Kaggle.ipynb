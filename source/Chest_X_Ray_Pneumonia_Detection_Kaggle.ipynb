{
  "nbformat": 4,
  "nbformat_minor": 0,
  "metadata": {
    "colab": {
      "name": "Chest X-Ray Pneumonia Detection Kaggle.ipynb",
      "provenance": [],
      "collapsed_sections": []
    },
    "kernelspec": {
      "name": "python3",
      "display_name": "Python 3"
    },
    "language_info": {
      "name": "python"
    }
  },
  "cells": [
    {
      "cell_type": "code",
      "metadata": {
        "colab": {
          "base_uri": "https://localhost:8080/"
        },
        "id": "s6oAj3IVCStC",
        "outputId": "dbc8fafa-b8de-4781-da4c-ac66768bf6f7"
      },
      "source": [
        "!pip3 install -q pydicom"
      ],
      "execution_count": 1,
      "outputs": [
        {
          "output_type": "stream",
          "text": [
            "\u001b[K     |████████████████████████████████| 1.9MB 3.9MB/s \n",
            "\u001b[?25h"
          ],
          "name": "stdout"
        }
      ]
    },
    {
      "cell_type": "code",
      "metadata": {
        "id": "2YEKImJmJtIC"
      },
      "source": [
        "!pip3 install -q tqdm "
      ],
      "execution_count": 2,
      "outputs": []
    },
    {
      "cell_type": "code",
      "metadata": {
        "id": "kn1XMlgPMjKE"
      },
      "source": [
        "!pip3 install -q imgaug"
      ],
      "execution_count": 3,
      "outputs": []
    },
    {
      "cell_type": "code",
      "metadata": {
        "id": "CxAiVxChMlpX"
      },
      "source": [
        "!pip3 install pydicom kornia opencv-python scikit-image nbdev"
      ],
      "execution_count": null,
      "outputs": []
    },
    {
      "cell_type": "code",
      "metadata": {
        "id": "jUB7V4LMMub_"
      },
      "source": [
        "import os \n",
        "import sys\n",
        "\n",
        "import random\n",
        "import math\n",
        "import numpy as np\n",
        "import cv2\n",
        "import matplotlib.pyplot as plt\n",
        "import json\n",
        "import pydicom\n",
        "from imgaug import augmenters as iaa\n",
        "from tqdm import tqdm\n",
        "import pandas as pd \n",
        "import glob\n",
        "from google.colab import files\n",
        "from google.colab import drive"
      ],
      "execution_count": 5,
      "outputs": []
    },
    {
      "cell_type": "code",
      "metadata": {
        "id": "J3jhM-ADbO7X"
      },
      "source": [
        "import time\n",
        "import datetime\n",
        "from datetime import date\n",
        "import os, shutil\n",
        "import matplotlib.pyplot as plt\n",
        "import matplotlib.image as mpimg\n",
        "%matplotlib inline\n",
        "import itertools\n",
        "import scipy\n",
        "import numpy as np\n",
        "import pandas as pd\n",
        "import pickle\n",
        "from PIL import Image\n",
        "from scipy import ndimage\n",
        "from sklearn.preprocessing import LabelBinarizer, StandardScaler, OneHotEncoder\n",
        "from sklearn.impute import SimpleImputer\n",
        "from sklearn.model_selection import train_test_split, cross_val_predict\n",
        "from sklearn.metrics import accuracy_score, precision_score, recall_score, f1_score, mean_squared_error\n",
        "from sklearn.metrics import roc_auc_score, roc_curve, auc, classification_report, confusion_matrix, plot_confusion_matrix\n",
        "from sklearn.multiclass import OneVsRestClassifier\n",
        "from keras.utils.np_utils import to_categorical\n",
        "from keras.preprocessing.text import Tokenizer\n",
        "from keras.preprocessing.image import ImageDataGenerator, array_to_img, img_to_array, load_img\n",
        "from keras import models\n",
        "from keras import layers\n",
        "from keras import regularizers\n",
        "from keras import optimizers\n",
        "from keras.models import load_model\n",
        "from keras.wrappers.scikit_learn import KerasRegressor\n",
        "\n",
        "np.random.seed(123)\n",
        "original_start = datetime.datetime.now()\n",
        "start = datetime.datetime.now()\n",
        "\n",
        "import warnings\n",
        "warnings.filterwarnings('ignore')"
      ],
      "execution_count": 6,
      "outputs": []
    },
    {
      "cell_type": "code",
      "metadata": {
        "id": "_OqMIyI3M00y"
      },
      "source": [
        "# Install Kaggle API to download competition data\n",
        "# https://www.kaggle.com/general/74235\n",
        "\n",
        "!pip3 install -q kaggle\n",
        "\n",
        "!pip3 install --upgrade --force-reinstall --no-deps kaggle"
      ],
      "execution_count": null,
      "outputs": []
    },
    {
      "cell_type": "code",
      "metadata": {
        "id": "NoNCsw47M5lm"
      },
      "source": [
        "!ls"
      ],
      "execution_count": null,
      "outputs": []
    },
    {
      "cell_type": "code",
      "metadata": {
        "id": "4vd6SeEEM77T"
      },
      "source": [
        "files.upload()"
      ],
      "execution_count": null,
      "outputs": []
    },
    {
      "cell_type": "code",
      "metadata": {
        "id": "jbAUBcAHNE-1"
      },
      "source": [
        "!mkdir ~/.kaggle\n",
        "\n",
        "!cp kaggle.json ~/.kaggle/\n",
        "\n",
        "!chmod 600 ~/.kaggle/kaggle.json\n",
        "\n",
        "!kaggle datasets list"
      ],
      "execution_count": null,
      "outputs": []
    },
    {
      "cell_type": "code",
      "metadata": {
        "id": "rAa2rsOxNHKH"
      },
      "source": [
        "# enter your Kaggle credentials here\n",
        "os.environ['KAGGLE_USERNAME']=\"mindyjen\"\n",
        "os.environ['KAGGLE_KEY']=\"d93d23dee9c18e05d21517d0fadb8efa\""
      ],
      "execution_count": 11,
      "outputs": []
    },
    {
      "cell_type": "code",
      "metadata": {
        "id": "LoUz1Cl2NXsf"
      },
      "source": [
        "# directory of the project\n",
        "drive.mount('/content/gdrive')\n",
        "!mkdir /content/gdrive/My\\ Drive/Kaggle\n",
        "os.environ['KAGGLE_CONFIG_DIR'] = \"/content/gdrive/My Drive/Kaggle\""
      ],
      "execution_count": null,
      "outputs": []
    },
    {
      "cell_type": "code",
      "metadata": {
        "colab": {
          "base_uri": "https://localhost:8080/"
        },
        "id": "D91gHfF-SJCV",
        "outputId": "e05a2c76-cfec-44b6-d617-ee4b253f2fae"
      },
      "source": [
        "%cd /content/gdrive/My Drive/Kaggle"
      ],
      "execution_count": 13,
      "outputs": [
        {
          "output_type": "stream",
          "text": [
            "/content/gdrive/My Drive/Kaggle\n"
          ],
          "name": "stdout"
        }
      ]
    },
    {
      "cell_type": "code",
      "metadata": {
        "id": "JR7CFErRSVL-"
      },
      "source": [
        "# If you are unable to download the competition dataset, check to see if you have \n",
        "# accepted the user agreement on the competition website. \n",
        "!kaggle datasets download -d paultimothymooney/chest-xray-pneumonia"
      ],
      "execution_count": null,
      "outputs": []
    },
    {
      "cell_type": "code",
      "metadata": {
        "id": "Buz9v8X4sK2c"
      },
      "source": [
        "!ls\n",
        "!rm -rf chest_xray/"
      ],
      "execution_count": null,
      "outputs": []
    },
    {
      "cell_type": "code",
      "metadata": {
        "id": "Dl5rud8y1Kfq"
      },
      "source": [
        "!ls"
      ],
      "execution_count": null,
      "outputs": []
    },
    {
      "cell_type": "code",
      "metadata": {
        "id": "PeqpKvFKz-G9"
      },
      "source": [
        "!unzip \\*.zip  && rm *.zip"
      ],
      "execution_count": null,
      "outputs": []
    },
    {
      "cell_type": "code",
      "metadata": {
        "id": "zF13vqxKv3vX"
      },
      "source": [
        "# Root directory of the project\n",
        "ROOT_DIR = os.path.abspath('/content/gdrive/My Drive/Kaggle')"
      ],
      "execution_count": 19,
      "outputs": []
    },
    {
      "cell_type": "code",
      "metadata": {
        "id": "6cudPghgUFHS"
      },
      "source": [
        "os.chdir(ROOT_DIR)\n",
        "!ls"
      ],
      "execution_count": null,
      "outputs": []
    },
    {
      "cell_type": "code",
      "metadata": {
        "id": "NV1PUJkCwXDk"
      },
      "source": [
        "# Directory to save logs and trained model\n",
        "MODEL_DIR = os.path.join(ROOT_DIR, 'chest_xray')\n",
        "os.chdir(MODEL_DIR)\n",
        "!pwd\n",
        "!ls"
      ],
      "execution_count": null,
      "outputs": []
    },
    {
      "cell_type": "code",
      "metadata": {
        "id": "M_hyU40hEOn-"
      },
      "source": [
        "# Load the images; be sure to also preprocess these into tensors \n",
        "data_pneumonia_dir = '/content/gdrive/My Drive/Kaggle/chest_xray/data/PNEUMONIA'\n",
        "data_normal_dir = '/content/gdrive/My Drive/Kaggle/chest_xray/data/NORMAL'\n",
        "new_dir = '/content/gdrive/My Drive/Kaggle/chest_xray/split'\n",
        "DATA_DIR = os.path.join(MODEL_DIR, 'split')\n",
        "\n",
        "if not os.path.exists(data_pneumonia_dir):\n",
        "  os.makedirs(data_pneumonia_dir)\n",
        "\n",
        "if not os.path.exists(data_normal_dir):\n",
        "  os.makedirs(data_normal_dir)\n",
        "\n",
        "if not os.path.exists(new_dir):\n",
        "  os.makedirs(new_dir)\n",
        "\n",
        "!ls"
      ],
      "execution_count": null,
      "outputs": []
    },
    {
      "cell_type": "code",
      "metadata": {
        "id": "FAlSxx5mtq6K"
      },
      "source": [
        "train_folder = os.path.join(MODEL_DIR, 'train')\n",
        "train_pneumonia = os.path.join(train_folder, 'PNEUMONIA')\n",
        "train_normal = os.path.join(train_folder, 'NORMAL')\n",
        "\n",
        "test_folder = os.path.join(MODEL_DIR, 'test')\n",
        "test_pneumonia = os.path.join(test_folder, 'PNEUMONIA')\n",
        "test_normal = os.path.join(test_folder, 'NORMAL')\n",
        "\n",
        "val_folder = os.path.join(MODEL_DIR, 'val')\n",
        "val_pneumonia = os.path.join(val_folder, 'PNEUMONIA')\n",
        "val_normal = os.path.join(val_folder, 'NORMAL')"
      ],
      "execution_count": 22,
      "outputs": []
    },
    {
      "cell_type": "code",
      "metadata": {
        "id": "T8dDt4v7t8Xe"
      },
      "source": [
        "train_pneumonia"
      ],
      "execution_count": null,
      "outputs": []
    },
    {
      "cell_type": "code",
      "metadata": {
        "id": "0QyTV_eXycsZ"
      },
      "source": [
        "imgs_train_pneumonia = [file for file in os.listdir(train_pneumonia) if file.endswith('.jpeg')]\n",
        "print('There are', len(imgs_train_pneumonia), ' PNEUMONIA images for Training')"
      ],
      "execution_count": null,
      "outputs": []
    },
    {
      "cell_type": "code",
      "metadata": {
        "id": "U0bT8zpz25cW"
      },
      "source": [
        "imgs_test_pneumonia = [file for file in os.listdir(test_pneumonia) if file.endswith('.jpeg')]\n",
        "print('There are', len(imgs_test_pneumonia), ' PNEUMONIA images for Testing')"
      ],
      "execution_count": null,
      "outputs": []
    },
    {
      "cell_type": "code",
      "metadata": {
        "id": "tg80ogP93GKZ"
      },
      "source": [
        "imgs_val_pneumonia = [file for file in os.listdir(val_pneumonia) if file.endswith('.jpeg')]\n",
        "print('There are', len(imgs_val_pneumonia), ' PNEUMONIA images for Validating')"
      ],
      "execution_count": null,
      "outputs": []
    },
    {
      "cell_type": "code",
      "metadata": {
        "id": "qsM1QVyC3WCd"
      },
      "source": [
        "imgs_train_normal = [file for file in os.listdir(train_normal) if file.endswith('.jpeg')]\n",
        "print('There are', len(imgs_train_normal), ' NORMAL images for Training')"
      ],
      "execution_count": null,
      "outputs": []
    },
    {
      "cell_type": "code",
      "metadata": {
        "id": "mPmZbKRf3l4X"
      },
      "source": [
        "imgs_test_normal = [file for file in os.listdir(test_normal) if file.endswith('.jpeg')]\n",
        "print('There are', len(imgs_test_normal), ' NORMAL images for Testing')"
      ],
      "execution_count": null,
      "outputs": []
    },
    {
      "cell_type": "code",
      "metadata": {
        "id": "FxipPpIxUyHF"
      },
      "source": [
        "imgs_val_normal = [file for file in os.listdir(val_normal) if file.endswith('.jpeg')]\n",
        "print('There are', len(imgs_val_normal), ' NORMAL images for Validating')"
      ],
      "execution_count": null,
      "outputs": []
    },
    {
      "cell_type": "code",
      "metadata": {
        "id": "t3b-T9YjFXUP"
      },
      "source": [
        "!mv /content/gdrive/My\\ Drive/Kaggle/chest_xray/train/PNEUMONIA/*.jpeg /content/gdrive/My\\ Drive/Kaggle/chest_xray/data/PNEUMONIA\n",
        "!mv /content/gdrive/My\\ Drive/Kaggle/chest_xray/test/PNEUMONIA/*.jpeg /content/gdrive/My\\ Drive/Kaggle/chest_xray/data/PNEUMONIA\n",
        "!mv /content/gdrive/My\\ Drive/Kaggle/chest_xray/val/PNEUMONIA/*.jpeg /content/gdrive/My\\ Drive/Kaggle/chest_xray/data/PNEUMONIA\n",
        "\n",
        "!mv /content/gdrive/My\\ Drive/Kaggle/chest_xray/train/NORMAL/*.jpeg /content/gdrive/My\\ Drive/Kaggle/chest_xray/data/NORMAL\n",
        "!mv /content/gdrive/My\\ Drive/Kaggle/chest_xray/test/NORMAL/*.jpeg /content/gdrive/My\\ Drive/Kaggle/chest_xray/data/NORMAL\n",
        "!mv /content/gdrive/My\\ Drive/Kaggle/chest_xray/val/NORMAL/*.jpeg /content/gdrive/My\\ Drive/Kaggle/chest_xray/data/NORMAL"
      ],
      "execution_count": null,
      "outputs": []
    },
    {
      "cell_type": "code",
      "metadata": {
        "id": "fd48Ly6SuQmp"
      },
      "source": [
        "os.listdir(train_pneumonia)\n",
        "os.listdir(train_normal)\n",
        "os.listdir(test_pneumonia)\n",
        "os.listdir(test_normal)\n",
        "os.listdir(val_pneumonia)\n",
        "os.listdir(val_normal)"
      ],
      "execution_count": null,
      "outputs": []
    },
    {
      "cell_type": "code",
      "metadata": {
        "id": "LqCZqxPYtZe9"
      },
      "source": [
        "os.rmdir(train_pneumonia)\n",
        "os.rmdir(train_normal)\n",
        "os.removedirs(test_pneumonia)\n",
        "os.removedirs(test_normal)\n",
        "os.rmdir(val_pneumonia)\n",
        "os.rmdir(val_normal)\n",
        "\n",
        "os.chdir(MODEL_DIR)\n",
        "!ls"
      ],
      "execution_count": null,
      "outputs": []
    },
    {
      "cell_type": "code",
      "metadata": {
        "id": "OCgV4-5RTWcE"
      },
      "source": [
        "imgs_pneumonia = [file for file in os.listdir(data_pneumonia_dir) if file.endswith('.jpeg')]\n",
        "print('There are', len(imgs_pneumonia), ' PNEUMONIA images')\n",
        "\n",
        "imgs_normal = [file for file in os.listdir(data_normal_dir) if file.endswith('.jpeg')]\n",
        "print('There are', len(imgs_normal), ' NORMAL images')"
      ],
      "execution_count": null,
      "outputs": []
    },
    {
      "cell_type": "code",
      "metadata": {
        "id": "ErHPMkc_isfX"
      },
      "source": [
        "splitted_train_folder = os.path.join(DATA_DIR, 'train')\n",
        "splitted_train_pneumonia = os.path.join(splitted_train_folder, 'PNEUMONIA')\n",
        "splitted_train_normal = os.path.join(splitted_train_folder, 'NORMAL')\n",
        "\n",
        "splitted_test_folder = os.path.join(DATA_DIR, 'test')\n",
        "splitted_test_pneumonia = os.path.join(splitted_test_folder, 'PNEUMONIA')\n",
        "splitted_test_normal = os.path.join(splitted_test_folder, 'NORMAL')\n",
        "\n",
        "splitted_val_folder = os.path.join(DATA_DIR, 'val')\n",
        "splitted_val_pneumonia = os.path.join(splitted_val_folder, 'PNEUMONIA')\n",
        "splitted_val_normal = os.path.join(splitted_val_folder, 'NORMAL')"
      ],
      "execution_count": 101,
      "outputs": []
    },
    {
      "cell_type": "code",
      "metadata": {
        "id": "7h2-VeYxljpb"
      },
      "source": [
        "# training folder    \n",
        "if os.path.isdir(splitted_train_folder) == False:\n",
        "    os.mkdir(splitted_train_folder)\n",
        "if os.path.isdir(splitted_train_pneumonia) == False:\n",
        "    os.mkdir(splitted_train_pneumonia)\n",
        "if os.path.isdir(splitted_train_normal) == False:\n",
        "    os.mkdir(splitted_train_normal)\n",
        "\n",
        "# testing folder\n",
        "if os.path.isdir(splitted_test_folder) == False:\n",
        "    os.mkdir(splitted_test_folder)\n",
        "if os.path.isdir(splitted_test_pneumonia) == False:\n",
        "    os.mkdir(splitted_test_pneumonia)\n",
        "if os.path.isdir(splitted_test_normal) == False:\n",
        "    os.mkdir(splitted_test_normal)\n",
        "\n",
        "# validating folder\n",
        "if os.path.isdir(splitted_val_folder) == False:\n",
        "    os.mkdir(splitted_val_folder)\n",
        "if os.path.isdir(splitted_val_pneumonia) == False:\n",
        "    os.mkdir(splitted_val_pneumonia)\n",
        "if os.path.isdir(splitted_val_normal) == False:  \n",
        "    os.mkdir(splitted_val_normal)"
      ],
      "execution_count": 102,
      "outputs": []
    },
    {
      "cell_type": "code",
      "metadata": {
        "id": "PypGiuCItESb"
      },
      "source": [
        "# training data of pneumonia\n",
        "imgs = imgs_pneumonia[:3418]\n",
        "for img in imgs:\n",
        "    origin = os.path.join(data_pneumonia_dir, img)\n",
        "    destination = os.path.join(splitted_train_pneumonia, img)\n",
        "    if os.path.isfile(destination) == False:\n",
        "        shutil.copyfile(origin, destination)"
      ],
      "execution_count": null,
      "outputs": []
    },
    {
      "cell_type": "code",
      "metadata": {
        "id": "9I4M4awXxjDF"
      },
      "source": [
        "# training data of normal\n",
        "imgs = imgs_normal[:1267]\n",
        "for img in imgs:\n",
        "    origin = os.path.join(data_normal_dir, img)\n",
        "    destination = os.path.join(splitted_train_normal, img)\n",
        "    if os.path.isfile(destination) == False:\n",
        "        shutil.copyfile(origin, destination)"
      ],
      "execution_count": null,
      "outputs": []
    },
    {
      "cell_type": "code",
      "metadata": {
        "id": "VouN7k46xvK8"
      },
      "source": [
        "# testing data of pneumonia\n",
        "imgs = imgs_pneumonia[3418:3845]\n",
        "for img in imgs:\n",
        "    origin = os.path.join(data_pneumonia_dir, img)\n",
        "    destination = os.path.join(splitted_test_pneumonia, img)\n",
        "    if os.path.isfile(destination) == False:\n",
        "        shutil.copyfile(origin, destination)"
      ],
      "execution_count": null,
      "outputs": []
    },
    {
      "cell_type": "code",
      "metadata": {
        "id": "prtr0EErywBu"
      },
      "source": [
        "# testing data of normal\n",
        "imgs = imgs_normal[1267:1425]\n",
        "for img in imgs:\n",
        "    origin = os.path.join(data_normal_dir, img)\n",
        "    destination = os.path.join(splitted_test_normal, img)\n",
        "    if os.path.isfile(destination) == False:\n",
        "        shutil.copyfile(origin, destination)"
      ],
      "execution_count": null,
      "outputs": []
    },
    {
      "cell_type": "code",
      "metadata": {
        "id": "cv8YLNUoy2Hv"
      },
      "source": [
        "# validating data of pneumonia\n",
        "imgs = imgs_pneumonia[3845:4273]\n",
        "for img in imgs:\n",
        "    origin = os.path.join(data_pneumonia_dir, img)\n",
        "    destination = os.path.join(splitted_val_pneumonia, img)\n",
        "    if os.path.isfile(destination) == False:\n",
        "        shutil.copyfile(origin, destination)"
      ],
      "execution_count": null,
      "outputs": []
    },
    {
      "cell_type": "code",
      "metadata": {
        "id": "efP23GyYzAwY"
      },
      "source": [
        "# validating data of normal\n",
        "imgs = imgs_normal[1425:1583]\n",
        "for img in imgs:\n",
        "    origin = os.path.join(data_normal_dir, img)\n",
        "    destination = os.path.join(splitted_val_normal, img)\n",
        "    if os.path.isfile(destination) == False:\n",
        "        shutil.copyfile(origin, destination)"
      ],
      "execution_count": null,
      "outputs": []
    },
    {
      "cell_type": "code",
      "metadata": {
        "id": "oPhqDDXSzgAn"
      },
      "source": [
        "imgs = imgs_normal[1425:1583]\n",
        "for img in imgs:\n",
        "    origin = os.path.join(data_normal_dir, img)\n",
        "    destination = os.path.join(splitted_val_normal, img)\n",
        "    if os.path.isfile(destination) == False:\n",
        "        shutil.copyfile(origin, destination)"
      ],
      "execution_count": null,
      "outputs": []
    },
    {
      "cell_type": "code",
      "metadata": {
        "id": "V9pZZvUfWZAM"
      },
      "source": [
        "# get all the data in the directory split/train and reshape them\n",
        "print('training data:')\n",
        "train_generator = ImageDataGenerator(rescale=1./255).flow_from_directory(\n",
        "    # This is the target directory\n",
        "    splitted_train_folder, \n",
        "    # All images will be resized to 150x150\n",
        "    target_size=(150, 150), batch_size = 4685)\n",
        "    #, \n",
        "    # Since we use binary_crossentropy loss, we need binary labels\n",
        "    #class_mode='binary')"
      ],
      "execution_count": null,
      "outputs": []
    },
    {
      "cell_type": "code",
      "metadata": {
        "id": "PBwNlew_axPm"
      },
      "source": [
        "# get all the data in the directory split/validation and reshape them\n",
        "print('validating data:')\n",
        "val_generator = ImageDataGenerator(rescale=1./255).flow_from_directory(\n",
        "    splitted_val_folder, \n",
        "    target_size=(150, 150), batch_size = 792)\n",
        "    #,\n",
        "    #class_mode='binary')"
      ],
      "execution_count": null,
      "outputs": []
    },
    {
      "cell_type": "code",
      "metadata": {
        "id": "1IidwwUebD_y"
      },
      "source": [
        "# get all the data in the directory split/test and reshape them\n",
        "print('testing data:')\n",
        "test_generator = ImageDataGenerator(rescale=1./255).flow_from_directory(\n",
        "    splitted_test_folder, \n",
        "    target_size=(150, 150), batch_size = 770)\n",
        "    #,\n",
        "    #class_mode='binary')"
      ],
      "execution_count": null,
      "outputs": []
    },
    {
      "cell_type": "code",
      "metadata": {
        "id": "SRWg07S7bGhw"
      },
      "source": [
        "# create the data sets\n",
        "train_images, train_labels = next(train_generator)\n",
        "test_images, test_labels = next(test_generator)\n",
        "val_images, val_labels = next(val_generator)"
      ],
      "execution_count": 33,
      "outputs": []
    },
    {
      "cell_type": "code",
      "metadata": {
        "id": "Au6GKgVRjjqb"
      },
      "source": [
        "# Explore your dataset again\n",
        "m_train = train_images.shape[0]\n",
        "num_px = train_images.shape[1]\n",
        "m_test = test_images.shape[0]\n",
        "m_val = val_images.shape[0]\n",
        "\n",
        "print (\"Number of training samples: \" + str(m_train))\n",
        "print (\"Number of testing samples: \" + str(m_test))\n",
        "print (\"Number of validation samples: \" + str(m_val))\n",
        "print (\"*******************************************\")\n",
        "print (\"train_images shape: \" + str(train_images.shape))\n",
        "print (\"train_labels shape: \" + str(train_labels.shape))\n",
        "print (\"*******************************************\")\n",
        "print (\"test_images shape: \" + str(test_images.shape))\n",
        "print (\"test_labels shape: \" + str(test_labels.shape))\n",
        "print (\"*******************************************\")\n",
        "print (\"val_images shape: \" + str(val_images.shape))\n",
        "print (\"val_labels shape: \" + str(val_labels.shape))\n",
        "print (\"*******************************************\")"
      ],
      "execution_count": null,
      "outputs": []
    },
    {
      "cell_type": "code",
      "metadata": {
        "id": "NBfe_WTbmuHp"
      },
      "source": [
        "train_img = train_images.reshape(train_images.shape[0], -1)\n",
        "test_img = test_images.reshape(test_images.shape[0], -1)\n",
        "val_img = val_images.reshape(val_images.shape[0], -1)\n",
        "\n",
        "print(train_img.shape)\n",
        "print(test_img.shape)\n",
        "print(val_img.shape)"
      ],
      "execution_count": null,
      "outputs": []
    },
    {
      "cell_type": "code",
      "metadata": {
        "id": "_Dkxg9L0mu10"
      },
      "source": [
        "print(train_labels.shape)\n",
        "print(test_labels.shape)\n",
        "print(val_labels.shape)"
      ],
      "execution_count": null,
      "outputs": []
    },
    {
      "cell_type": "code",
      "metadata": {
        "id": "RlY87pInnHgP"
      },
      "source": [
        "train_labels"
      ],
      "execution_count": null,
      "outputs": []
    },
    {
      "cell_type": "code",
      "metadata": {
        "id": "SxGhvrwbnRlj"
      },
      "source": [
        "train_generator.class_indices"
      ],
      "execution_count": null,
      "outputs": []
    },
    {
      "cell_type": "code",
      "metadata": {
        "id": "dMwSz7XcnShb"
      },
      "source": [
        "train_y = np.reshape(train_labels[:,0], (train_labels.shape[0],1))\n",
        "test_y = np.reshape(test_labels[:,0], (test_labels.shape[0],1))\n",
        "val_y = np.reshape(val_labels[:,0], (val_labels.shape[0],1))\n",
        "print(train_y.shape)\n",
        "print(test_y.shape)\n",
        "print(val_y.shape)"
      ],
      "execution_count": null,
      "outputs": []
    },
    {
      "cell_type": "code",
      "metadata": {
        "id": "GxvFEvPPncjc"
      },
      "source": [
        "# Build a baseline fully connected model\n",
        "baseline = models.Sequential()\n",
        "baseline.add(layers.Dense(20, activation='relu', input_shape=(67500,))) # 2 hidden layers\n",
        "baseline.add(layers.Dense(7, activation='relu'))\n",
        "baseline.add(layers.Dense(5, activation='relu'))\n",
        "baseline.add(layers.Dense(1, activation='sigmoid'))"
      ],
      "execution_count": 40,
      "outputs": []
    },
    {
      "cell_type": "code",
      "metadata": {
        "id": "I4OgmJtjok63"
      },
      "source": [
        "baseline.summary()"
      ],
      "execution_count": null,
      "outputs": []
    },
    {
      "cell_type": "code",
      "metadata": {
        "id": "66FXYXVdpS7q"
      },
      "source": [
        "baseline.compile(optimizer='sgd', loss='binary_crossentropy', metrics=['accuracy'])"
      ],
      "execution_count": 42,
      "outputs": []
    },
    {
      "cell_type": "code",
      "metadata": {
        "id": "iNmxnxxIpdRn"
      },
      "source": [
        "print('program starts, current time:')\n",
        "print(start)\n",
        "histoire = baseline.fit(train_img, train_y, epochs=40, batch_size=100, validation_data=(val_img, val_y))\n",
        "end = datetime.datetime.now()\n",
        "print('program ends, current time:')\n",
        "print(end)\n",
        "elapsed = end - start\n",
        "print('Training took a total of {}'.format(elapsed))"
      ],
      "execution_count": null,
      "outputs": []
    },
    {
      "cell_type": "code",
      "metadata": {
        "id": "oO7ZGAuapeRH"
      },
      "source": [
        "results_train_baseline = baseline.evaluate(train_img, train_y)"
      ],
      "execution_count": null,
      "outputs": []
    },
    {
      "cell_type": "code",
      "metadata": {
        "id": "Lg6TVKya91l1"
      },
      "source": [
        "results_test_baseline = baseline.evaluate(test_img, test_y)"
      ],
      "execution_count": null,
      "outputs": []
    },
    {
      "cell_type": "code",
      "metadata": {
        "id": "EsDe3gEX98RJ"
      },
      "source": [
        "results_train_baseline"
      ],
      "execution_count": null,
      "outputs": []
    },
    {
      "cell_type": "code",
      "metadata": {
        "id": "kllAROT8-CZ8"
      },
      "source": [
        "results_test_baseline"
      ],
      "execution_count": null,
      "outputs": []
    },
    {
      "cell_type": "code",
      "metadata": {
        "id": "dTkI4MdI_jYB"
      },
      "source": [
        "histoire.history.keys()"
      ],
      "execution_count": null,
      "outputs": []
    },
    {
      "cell_type": "code",
      "metadata": {
        "id": "OJpLzOWk_k3U"
      },
      "source": [
        "def visualize_training_results(results):\n",
        "    history = results.history\n",
        "    plt.figure()\n",
        "    plt.plot(history['val_loss'])\n",
        "    plt.plot(history['loss'])\n",
        "    plt.legend(['val_loss', 'loss'])\n",
        "    plt.title('Loss')\n",
        "    plt.xlabel('Epochs')\n",
        "    plt.ylabel('Loss')\n",
        "    plt.show()\n",
        "    \n",
        "    plt.figure()\n",
        "    plt.plot(history['val_accuracy'])\n",
        "    plt.plot(history['accuracy'])\n",
        "    plt.legend(['val_acc', 'acc'])\n",
        "    plt.title('Accuracy')\n",
        "    plt.xlabel('Epochs')\n",
        "    plt.ylabel('Accuracy')\n",
        "    plt.show()"
      ],
      "execution_count": 49,
      "outputs": []
    },
    {
      "cell_type": "code",
      "metadata": {
        "id": "MvhawKDY_oR7"
      },
      "source": [
        "visualize_training_results(histoire)"
      ],
      "execution_count": null,
      "outputs": []
    },
    {
      "cell_type": "code",
      "metadata": {
        "id": "35YTCJVR_tdI"
      },
      "source": [
        "preds_baseline = baseline.predict(test_img)"
      ],
      "execution_count": 51,
      "outputs": []
    },
    {
      "cell_type": "code",
      "metadata": {
        "id": "tSfMCB70AOdK"
      },
      "source": [
        "type(preds_baseline)"
      ],
      "execution_count": null,
      "outputs": []
    },
    {
      "cell_type": "code",
      "metadata": {
        "id": "Z9LgqH9LAQ6s"
      },
      "source": [
        "preds_baseline.shape"
      ],
      "execution_count": null,
      "outputs": []
    },
    {
      "cell_type": "code",
      "metadata": {
        "id": "KpF7W4XLATuA"
      },
      "source": [
        "test_y.shape"
      ],
      "execution_count": null,
      "outputs": []
    },
    {
      "cell_type": "code",
      "metadata": {
        "id": "ZpUZIEjyAX_h"
      },
      "source": [
        "pred_baseline_class = baseline.predict_classes(test_img)"
      ],
      "execution_count": 56,
      "outputs": []
    },
    {
      "cell_type": "code",
      "metadata": {
        "id": "CAMMqDDzAcjF"
      },
      "source": [
        "pred_baseline_class.shape"
      ],
      "execution_count": null,
      "outputs": []
    },
    {
      "cell_type": "code",
      "metadata": {
        "id": "Vl9W6nuKAhEC"
      },
      "source": [
        "pred_baseline_binary_class = (baseline.predict(test_img) > 0.5).astype(\"int32\")\n",
        "pred_baseline_binary_class.shape"
      ],
      "execution_count": null,
      "outputs": []
    },
    {
      "cell_type": "code",
      "metadata": {
        "id": "B66XxY-FAilW"
      },
      "source": [
        "# test set\n",
        "true_classes_baseline = test_generator.classes\n",
        "print(true_classes_baseline)\n",
        "class_labels_baseline = list(test_generator.class_indices.keys())\n",
        "class_labels_baseline"
      ],
      "execution_count": null,
      "outputs": []
    },
    {
      "cell_type": "code",
      "metadata": {
        "id": "BByFW5t1AuHv"
      },
      "source": [
        "accuracy_baseline = accuracy_score(test_y, preds_baseline.round())\n",
        "accuracy_baseline"
      ],
      "execution_count": null,
      "outputs": []
    },
    {
      "cell_type": "code",
      "metadata": {
        "id": "wouV4enxAv69"
      },
      "source": [
        "precision_baseline = precision_score(test_y, preds_baseline.round())\n",
        "precision_baseline"
      ],
      "execution_count": null,
      "outputs": []
    },
    {
      "cell_type": "code",
      "metadata": {
        "id": "y_7JN5fpAyum"
      },
      "source": [
        "recall_baseline = recall_score(test_y, preds_baseline.round())\n",
        "recall_baseline"
      ],
      "execution_count": null,
      "outputs": []
    },
    {
      "cell_type": "code",
      "metadata": {
        "id": "Pt9j9_p1A3S1"
      },
      "source": [
        "f1_baseline = f1_score(test_y, preds_baseline.round())\n",
        "f1_baseline"
      ],
      "execution_count": null,
      "outputs": []
    },
    {
      "cell_type": "code",
      "metadata": {
        "id": "UpQiMRH0A8Ft"
      },
      "source": [
        "auc_value_baseline = roc_auc_score(test_y, preds_baseline)\n",
        "auc_value_baseline"
      ],
      "execution_count": null,
      "outputs": []
    },
    {
      "cell_type": "code",
      "metadata": {
        "id": "XhFahA2-A-2C"
      },
      "source": [
        "fpr_baseline, tpr_baseline, threshold_baseline = roc_curve(test_y, preds_baseline)"
      ],
      "execution_count": 65,
      "outputs": []
    },
    {
      "cell_type": "code",
      "metadata": {
        "id": "5FttnQCYBBgG"
      },
      "source": [
        "roc_auc_baseline = auc(fpr_baseline, tpr_baseline)"
      ],
      "execution_count": 66,
      "outputs": []
    },
    {
      "cell_type": "code",
      "metadata": {
        "id": "BYnYL4teBDzd"
      },
      "source": [
        "plt.figure()\n",
        "lw=2\n",
        "plt.plot(fpr_baseline, tpr_baseline, color='darkorange', lw=lw, label='ROC curve (area=%.2f)' %auc_value_baseline)\n",
        "plt.plot([0, 1], [0, 1], color='navy', lw=lw, linestyle='--')\n",
        "plt.xlim([0.0, 1.0])\n",
        "plt.ylim([0.0, 1.05])\n",
        "plt.xlabel('False Positive Rate')\n",
        "plt.ylabel('True Positive Rate')\n",
        "plt.title('Receiver operating characteristic for Baseline')\n",
        "plt.legend(loc='lower right')\n",
        "plt.show()"
      ],
      "execution_count": null,
      "outputs": []
    },
    {
      "cell_type": "code",
      "metadata": {
        "id": "mZxGBCCrBI0h"
      },
      "source": [
        "report_baseline = classification_report(test_y, preds_baseline.round(), target_names=class_labels_baseline)\n",
        "print(report_baseline)"
      ],
      "execution_count": null,
      "outputs": []
    },
    {
      "cell_type": "code",
      "metadata": {
        "id": "O2of5pu5CYam"
      },
      "source": [
        "cnf_matrix_baseline = confusion_matrix(y_true=test_y, y_pred=preds_baseline.round())\n",
        "np.set_printoptions(precision=2)\n",
        "print(cnf_matrix_baseline)"
      ],
      "execution_count": null,
      "outputs": []
    },
    {
      "cell_type": "code",
      "metadata": {
        "id": "8px-Ubu4Cabf"
      },
      "source": [
        "def plot_confusion_matrix(cm, classes,\n",
        "                          normalize=False,\n",
        "                          title='Confusion matrix',\n",
        "                          cmap=plt.cm.Greens):\n",
        "    \"\"\"\n",
        "    This function prints and plots the confusion matrix.\n",
        "    Normalization can be applied by setting `normalize=True`.\n",
        "    \"\"\"\n",
        "    plt.imshow(cm, interpolation='nearest', cmap=cmap)\n",
        "    plt.title(title)\n",
        "    plt.colorbar()\n",
        "    tick_marks = np.arange(len(classes))\n",
        "    plt.xticks(tick_marks, classes, rotation=45)\n",
        "    plt.yticks(tick_marks, classes)\n",
        "\n",
        "    if normalize:\n",
        "        cm = cm.astype('float') / cm.sum(axis=1)[:, np.newaxis]\n",
        "        print(\"Normalized confusion matrix\")\n",
        "    else:\n",
        "        print('Confusion matrix, without normalization')\n",
        "\n",
        "    print(cm)\n",
        "\n",
        "    thresh = cm.max() / 2.\n",
        "    for i, j in itertools.product(range(cm.shape[0]), range(cm.shape[1])):\n",
        "        plt.text(j, i, np.round(cm[i, j],2),\n",
        "                 horizontalalignment=\"center\",\n",
        "                 color=\"white\" if cm[i, j] > thresh else \"black\")\n",
        "\n",
        "    plt.tight_layout()\n",
        "    plt.ylabel('True label')\n",
        "    plt.xlabel('Predicted label')"
      ],
      "execution_count": 70,
      "outputs": []
    },
    {
      "cell_type": "code",
      "metadata": {
        "id": "hKXRRt6FCej_"
      },
      "source": [
        "cm_plot_labels = ['NORMAL','PNEUMONIA']"
      ],
      "execution_count": 71,
      "outputs": []
    },
    {
      "cell_type": "code",
      "metadata": {
        "id": "Q88R_b6DChgO"
      },
      "source": [
        "plt.figure()\n",
        "plot_confusion_matrix(cnf_matrix_baseline, classes=cm_plot_labels, title='Confusion matrix for Baseline, without normalization')\n",
        "plt.show()"
      ],
      "execution_count": null,
      "outputs": []
    },
    {
      "cell_type": "code",
      "metadata": {
        "id": "6_EN4xlDCmVi"
      },
      "source": [
        "plt.figure()\n",
        "plot_confusion_matrix(cnf_matrix_baseline, classes=cm_plot_labels, normalize=True, title='Normalized confusion matrix for Baseline')\n",
        "plt.show()"
      ],
      "execution_count": null,
      "outputs": []
    }
  ]
}