{
  "nbformat": 4,
  "nbformat_minor": 0,
  "metadata": {
    "colab": {
      "name": "Chest X-Ray Viral Bacterial Pneumonia Classification Kaggle.ipynb",
      "provenance": [],
      "collapsed_sections": []
    },
    "kernelspec": {
      "name": "python3",
      "display_name": "Python 3"
    },
    "language_info": {
      "name": "python"
    }
  },
  "cells": [
    {
      "cell_type": "code",
      "metadata": {
        "id": "2YEKImJmJtIC"
      },
      "source": [
        "!pip3 install -q tqdm "
      ],
      "execution_count": 1,
      "outputs": []
    },
    {
      "cell_type": "code",
      "metadata": {
        "id": "kn1XMlgPMjKE"
      },
      "source": [
        "!pip3 install -q imgaug"
      ],
      "execution_count": 2,
      "outputs": []
    },
    {
      "cell_type": "code",
      "metadata": {
        "id": "J3jhM-ADbO7X"
      },
      "source": [
        "import random\n",
        "import math\n",
        "import json\n",
        "from imgaug import augmenters as iaa\n",
        "from tqdm import tqdm \n",
        "import glob\n",
        "from google.colab import files\n",
        "from google.colab import drive\n",
        "import time\n",
        "import datetime\n",
        "from datetime import date\n",
        "import os, sys, shutil\n",
        "import matplotlib.pyplot as plt\n",
        "import matplotlib.image as mpimg\n",
        "%matplotlib inline\n",
        "import itertools\n",
        "import scipy\n",
        "import numpy as np\n",
        "import pandas as pd\n",
        "import pickle\n",
        "from PIL import Image\n",
        "from scipy import ndimage\n",
        "from sklearn.preprocessing import LabelBinarizer, StandardScaler, OneHotEncoder\n",
        "from sklearn.impute import SimpleImputer\n",
        "from sklearn.model_selection import train_test_split, cross_val_predict\n",
        "from sklearn.metrics import accuracy_score, precision_score, recall_score, f1_score, mean_squared_error\n",
        "from sklearn.metrics import roc_auc_score, roc_curve, auc, classification_report, confusion_matrix, plot_confusion_matrix\n",
        "from sklearn.multiclass import OneVsRestClassifier\n",
        "from keras.utils.np_utils import to_categorical\n",
        "from keras.preprocessing.text import Tokenizer\n",
        "from keras.preprocessing.image import array_to_img, img_to_array, load_img\n",
        "from keras import regularizers\n",
        "from keras import optimizers\n",
        "from keras.models import load_model\n",
        "from keras.wrappers.scikit_learn import KerasRegressor\n",
        "\n",
        "import tensorflow as tf\n",
        "from tensorflow.keras.models import Sequential\n",
        "from tensorflow.keras.layers import Dense, Conv2D, Flatten, Dropout, MaxPooling2D\n",
        "from tensorflow.keras.preprocessing.image import ImageDataGenerator\n",
        "\n",
        "np.random.seed(123)\n",
        "original_start = datetime.datetime.now()\n",
        "start = datetime.datetime.now()\n",
        "\n",
        "import warnings\n",
        "warnings.filterwarnings('ignore')"
      ],
      "execution_count": 3,
      "outputs": []
    },
    {
      "cell_type": "code",
      "metadata": {
        "id": "_OqMIyI3M00y",
        "colab": {
          "base_uri": "https://localhost:8080/"
        },
        "outputId": "9a11fb4f-5fad-4298-a96d-d587235318a5"
      },
      "source": [
        "# Install Kaggle API to download competition data\n",
        "# https://www.kaggle.com/general/74235\n",
        "\n",
        "!pip3 install -q kaggle\n",
        "\n",
        "!pip3 install --upgrade --force-reinstall --no-deps kaggle"
      ],
      "execution_count": 4,
      "outputs": [
        {
          "output_type": "stream",
          "text": [
            "Collecting kaggle\n",
            "\u001b[?25l  Downloading https://files.pythonhosted.org/packages/3a/e7/3bac01547d2ed3d308ac92a0878fbdb0ed0f3d41fb1906c319ccbba1bfbc/kaggle-1.5.12.tar.gz (58kB)\n",
            "\u001b[K     |████████████████████████████████| 61kB 4.9MB/s \n",
            "\u001b[?25hBuilding wheels for collected packages: kaggle\n",
            "  Building wheel for kaggle (setup.py) ... \u001b[?25l\u001b[?25hdone\n",
            "  Created wheel for kaggle: filename=kaggle-1.5.12-cp37-none-any.whl size=73053 sha256=9bb380fe3580ab13b78662b96fa090705c279cde67601bf07db6df6561446fc4\n",
            "  Stored in directory: /root/.cache/pip/wheels/a1/6a/26/d30b7499ff85a4a4593377a87ecf55f7d08af42f0de9b60303\n",
            "Successfully built kaggle\n",
            "Installing collected packages: kaggle\n",
            "  Found existing installation: kaggle 1.5.12\n",
            "    Uninstalling kaggle-1.5.12:\n",
            "      Successfully uninstalled kaggle-1.5.12\n",
            "Successfully installed kaggle-1.5.12\n"
          ],
          "name": "stdout"
        }
      ]
    },
    {
      "cell_type": "code",
      "metadata": {
        "id": "NoNCsw47M5lm",
        "colab": {
          "base_uri": "https://localhost:8080/"
        },
        "outputId": "b0cba760-f467-4e17-ebaf-671fb5ff3279"
      },
      "source": [
        "!ls"
      ],
      "execution_count": 5,
      "outputs": [
        {
          "output_type": "stream",
          "text": [
            "sample_data\n"
          ],
          "name": "stdout"
        }
      ]
    },
    {
      "cell_type": "code",
      "metadata": {
        "id": "4vd6SeEEM77T",
        "colab": {
          "resources": {
            "http://localhost:8080/nbextensions/google.colab/files.js": {
              "data": "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",
              "ok": true,
              "headers": [
                [
                  "content-type",
                  "application/javascript"
                ]
              ],
              "status": 200,
              "status_text": ""
            }
          },
          "base_uri": "https://localhost:8080/",
          "height": 90
        },
        "outputId": "9877c3df-fdee-4540-981b-b184bf49cd1a"
      },
      "source": [
        "files.upload()"
      ],
      "execution_count": 6,
      "outputs": [
        {
          "output_type": "display_data",
          "data": {
            "text/html": [
              "\n",
              "     <input type=\"file\" id=\"files-48e32f3b-e847-4436-86bc-945e29ae8e3f\" name=\"files[]\" multiple disabled\n",
              "        style=\"border:none\" />\n",
              "     <output id=\"result-48e32f3b-e847-4436-86bc-945e29ae8e3f\">\n",
              "      Upload widget is only available when the cell has been executed in the\n",
              "      current browser session. Please rerun this cell to enable.\n",
              "      </output>\n",
              "      <script src=\"/nbextensions/google.colab/files.js\"></script> "
            ],
            "text/plain": [
              "<IPython.core.display.HTML object>"
            ]
          },
          "metadata": {
            "tags": []
          }
        },
        {
          "output_type": "stream",
          "text": [
            "Saving kaggle.json to kaggle.json\n"
          ],
          "name": "stdout"
        },
        {
          "output_type": "execute_result",
          "data": {
            "text/plain": [
              "{'kaggle.json': b'{\"username\":\"mindyjen\",\"key\":\"d93d23dee9c18e05d21517d0fadb8efa\"}'}"
            ]
          },
          "metadata": {
            "tags": []
          },
          "execution_count": 6
        }
      ]
    },
    {
      "cell_type": "code",
      "metadata": {
        "id": "jbAUBcAHNE-1",
        "colab": {
          "base_uri": "https://localhost:8080/"
        },
        "outputId": "5606789b-c9e3-44e7-8282-69a67796dd35"
      },
      "source": [
        "!mkdir ~/.kaggle\n",
        "\n",
        "!cp kaggle.json ~/.kaggle/\n",
        "\n",
        "!chmod 600 ~/.kaggle/kaggle.json\n",
        "\n",
        "!kaggle datasets list"
      ],
      "execution_count": 7,
      "outputs": [
        {
          "output_type": "stream",
          "text": [
            "ref                                                         title                                              size  lastUpdated          downloadCount  voteCount  usabilityRating  \n",
            "----------------------------------------------------------  ------------------------------------------------  -----  -------------------  -------------  ---------  ---------------  \n",
            "gpreda/reddit-vaccine-myths                                 Reddit Vaccine Myths                              229KB  2021-05-26 21:13:45           6074        553  1.0              \n",
            "crowww/a-large-scale-fish-dataset                           A Large Scale Fish Dataset                          3GB  2021-04-28 17:03:01           3402        292  0.9375           \n",
            "imsparsh/musicnet-dataset                                   MusicNet Dataset                                   22GB  2021-02-18 14:12:19           1204        105  1.0              \n",
            "dhruvildave/wikibooks-dataset                               Wikibooks Dataset                                   1GB  2021-02-18 10:08:27           1945        149  1.0              \n",
            "promptcloud/careerbuilder-job-listing-2020                  Careerbuilder Job Listing 2020                     42MB  2021-03-05 06:59:52            857         37  1.0              \n",
            "mathurinache/twitter-edge-nodes                             Twitter Edge Nodes                                342MB  2021-03-08 06:43:04            409         46  1.0              \n",
            "alsgroup/end-als                                            End ALS Kaggle Challenge                           12GB  2021-04-08 12:16:37            639         95  0.9375           \n",
            "fatiimaezzahra/famous-iconic-women                          Famous Iconic Women                               838MB  2021-02-28 14:56:00            625         50  0.75             \n",
            "simiotic/github-code-snippets                               GitHub Code Snippets                                7GB  2021-03-03 11:34:39            127         46  1.0              \n",
            "nickuzmenkov/nih-chest-xrays-tfrecords                      NIH Chest X-rays TFRecords                         11GB  2021-03-09 04:49:23            519         23  0.9411765        \n",
            "coloradokb/dandelionimages                                  DandelionImages                                     4GB  2021-02-19 20:03:47            336         19  0.75             \n",
            "mathurinache/the-lj-speech-dataset                          The LJ Speech Dataset                               3GB  2021-02-15 09:19:54            153         34  1.0              \n",
            "stuartjames/lights                                          LightS: Light Specularity Dataset                  18GB  2021-02-18 14:32:26             56         22  0.6875           \n",
            "landrykezebou/lvzhdr-tone-mapping-benchmark-dataset-tmonet  LVZ-HDR Tone Mapping Benchmark Dataset (TMO-Net)   24GB  2021-03-01 05:03:40             72         15  0.6875           \n",
            "imsparsh/accentdb-core-extended                             AccentDB - Core & Extended                          6GB  2021-02-17 14:22:54             65         21  0.8125           \n",
            "nickuzmenkov/ranzcr-clip-kfold-tfrecords                    RANZCR CLiP KFold TFRecords                         2GB  2021-02-21 13:29:51             79         17  0.875            \n",
            "datasnaek/youtube-new                                       Trending YouTube Video Statistics                 201MB  2019-06-03 00:56:47         140794       3967  0.7941176        \n",
            "zynicide/wine-reviews                                       Wine Reviews                                       51MB  2017-11-27 17:08:04         137023       3072  0.7941176        \n",
            "datasnaek/chess                                             Chess Game Dataset (Lichess)                        3MB  2017-09-04 03:09:09          18511        723  0.8235294        \n",
            "residentmario/ramen-ratings                                 Ramen Ratings                                      40KB  2018-01-11 16:04:39          23272        565  0.7058824        \n"
          ],
          "name": "stdout"
        }
      ]
    },
    {
      "cell_type": "code",
      "metadata": {
        "id": "rAa2rsOxNHKH"
      },
      "source": [
        "# enter your Kaggle credentials here\n",
        "os.environ['KAGGLE_USERNAME']=\"mindyjen\"\n",
        "os.environ['KAGGLE_KEY']=\"d93d23dee9c18e05d21517d0fadb8efa\""
      ],
      "execution_count": 8,
      "outputs": []
    },
    {
      "cell_type": "code",
      "metadata": {
        "id": "LoUz1Cl2NXsf",
        "colab": {
          "base_uri": "https://localhost:8080/"
        },
        "outputId": "3a2cea6e-ef51-47ee-8464-4768c3aad0a7"
      },
      "source": [
        "# directory of the project\n",
        "drive.mount('/content/gdrive')\n",
        "!mkdir /content/gdrive/My\\ Drive/Kaggle\n",
        "os.environ['KAGGLE_CONFIG_DIR'] = \"/content/gdrive/My Drive/Kaggle\""
      ],
      "execution_count": 9,
      "outputs": [
        {
          "output_type": "stream",
          "text": [
            "Mounted at /content/gdrive\n"
          ],
          "name": "stdout"
        }
      ]
    },
    {
      "cell_type": "code",
      "metadata": {
        "colab": {
          "base_uri": "https://localhost:8080/"
        },
        "id": "D91gHfF-SJCV",
        "outputId": "404c5073-5d77-43d2-bfe2-3860997a1d38"
      },
      "source": [
        "%cd /content/gdrive/My Drive/Kaggle"
      ],
      "execution_count": 13,
      "outputs": [
        {
          "output_type": "stream",
          "text": [
            "/content/gdrive/My Drive/Kaggle\n"
          ],
          "name": "stdout"
        }
      ]
    },
    {
      "cell_type": "code",
      "metadata": {
        "id": "JR7CFErRSVL-",
        "colab": {
          "base_uri": "https://localhost:8080/"
        },
        "outputId": "e86d63fc-7aa6-4cdb-9989-fe484ac5b188"
      },
      "source": [
        "# If you are unable to download the competition dataset, check to see if you have \n",
        "# accepted the user agreement on the competition website. \n",
        "!kaggle datasets download -d paultimothymooney/chest-xray-pneumonia"
      ],
      "execution_count": 15,
      "outputs": [
        {
          "output_type": "stream",
          "text": [
            "Downloading chest-xray-pneumonia.zip to /content/gdrive/My Drive/Kaggle\n",
            "100% 2.29G/2.29G [00:20<00:00, 62.5MB/s]\n",
            "100% 2.29G/2.29G [00:20<00:00, 118MB/s] \n"
          ],
          "name": "stdout"
        }
      ]
    },
    {
      "cell_type": "code",
      "metadata": {
        "id": "Buz9v8X4sK2c",
        "colab": {
          "base_uri": "https://localhost:8080/"
        },
        "outputId": "c6be6ac8-40fd-4714-edc2-7f368f696edb"
      },
      "source": [
        "!ls"
      ],
      "execution_count": 16,
      "outputs": [
        {
          "output_type": "stream",
          "text": [
            "chest-xray-pneumonia.zip\n"
          ],
          "name": "stdout"
        }
      ]
    },
    {
      "cell_type": "code",
      "metadata": {
        "id": "WzqHl03iz9D_"
      },
      "source": [
        "#!rm -rf chest_xray/"
      ],
      "execution_count": null,
      "outputs": []
    },
    {
      "cell_type": "code",
      "metadata": {
        "id": "Dl5rud8y1Kfq"
      },
      "source": [
        "#!ls"
      ],
      "execution_count": null,
      "outputs": []
    },
    {
      "cell_type": "code",
      "metadata": {
        "id": "PeqpKvFKz-G9"
      },
      "source": [
        "!unzip \\*.zip  && rm *.zip"
      ],
      "execution_count": null,
      "outputs": []
    },
    {
      "cell_type": "code",
      "metadata": {
        "id": "zF13vqxKv3vX"
      },
      "source": [
        "# Root directory of the project\n",
        "ROOT_DIR = os.path.abspath('/content/gdrive/My Drive/Kaggle')"
      ],
      "execution_count": 18,
      "outputs": []
    },
    {
      "cell_type": "code",
      "metadata": {
        "id": "6cudPghgUFHS",
        "colab": {
          "base_uri": "https://localhost:8080/"
        },
        "outputId": "1bf76663-fc46-465b-c61d-17b36e864008"
      },
      "source": [
        "os.chdir(ROOT_DIR)\n",
        "!ls"
      ],
      "execution_count": 19,
      "outputs": [
        {
          "output_type": "stream",
          "text": [
            "chest_xray\n"
          ],
          "name": "stdout"
        }
      ]
    },
    {
      "cell_type": "code",
      "metadata": {
        "id": "NV1PUJkCwXDk",
        "colab": {
          "base_uri": "https://localhost:8080/"
        },
        "outputId": "09cbb622-61f7-46a5-eb1e-d6e17be927e2"
      },
      "source": [
        "# Directory to save logs and trained model\n",
        "MODEL_DIR = os.path.join(ROOT_DIR, 'chest_xray')\n",
        "os.chdir(MODEL_DIR)\n",
        "!pwd\n",
        "!ls"
      ],
      "execution_count": 20,
      "outputs": [
        {
          "output_type": "stream",
          "text": [
            "/content/gdrive/My Drive/Kaggle/chest_xray\n",
            "chest_xray  __MACOSX  test  train  val\n"
          ],
          "name": "stdout"
        }
      ]
    },
    {
      "cell_type": "code",
      "metadata": {
        "id": "M_hyU40hEOn-",
        "colab": {
          "base_uri": "https://localhost:8080/"
        },
        "outputId": "c3ee1e3e-b2e2-4306-891c-650f2e188c56"
      },
      "source": [
        "# Load the images; be sure to also preprocess these into tensors \n",
        "data_viral_dir = os.path.join(MODEL_DIR, 'VIRAL')\n",
        "data_bacterial_dir = os.path.join(MODEL_DIR, 'BACTERIAL')\n",
        "data_normal_dir = os.path.join(MODEL_DIR, 'NORMAL')\n",
        "\n",
        "if not os.path.exists(data_viral_dir):\n",
        "  os.makedirs(data_viral_dir)\n",
        "\n",
        "if not os.path.exists(data_bacterial_dir):\n",
        "  os.makedirs(data_bacterial_dir)\n",
        "\n",
        "if not os.path.exists(data_normal_dir):\n",
        "  os.makedirs(data_normal_dir)\n",
        "\n",
        "!ls"
      ],
      "execution_count": 21,
      "outputs": [
        {
          "output_type": "stream",
          "text": [
            "BACTERIAL  chest_xray  __MACOSX  NORMAL  test  train  val  VIRAL\n"
          ],
          "name": "stdout"
        }
      ]
    },
    {
      "cell_type": "code",
      "metadata": {
        "id": "FAlSxx5mtq6K"
      },
      "source": [
        "train_dir = os.path.join(MODEL_DIR, 'train')\n",
        "train_pneumonia = os.path.join(train_dir, 'PNEUMONIA')\n",
        "train_normal = os.path.join(train_dir, 'NORMAL')\n",
        "\n",
        "test_dir = os.path.join(MODEL_DIR, 'test')\n",
        "test_pneumonia = os.path.join(test_dir, 'PNEUMONIA')\n",
        "test_normal = os.path.join(test_dir, 'NORMAL')\n",
        "\n",
        "val_dir = os.path.join(MODEL_DIR, 'val')\n",
        "val_pneumonia = os.path.join(val_dir, 'PNEUMONIA')\n",
        "val_normal = os.path.join(val_dir, 'NORMAL')"
      ],
      "execution_count": 22,
      "outputs": []
    },
    {
      "cell_type": "code",
      "metadata": {
        "id": "0QyTV_eXycsZ",
        "colab": {
          "base_uri": "https://localhost:8080/"
        },
        "outputId": "856a448b-54c0-4989-b03e-8188856b2c2e"
      },
      "source": [
        "imgs_train_pneumonia = [file for file in os.listdir(train_pneumonia) if file.endswith('.jpeg')]\n",
        "print('There are', len(imgs_train_pneumonia), ' PNEUMONIA images for Training')\n",
        "\n",
        "imgs_train_vir = [file for file in os.listdir(train_pneumonia) if file.find('virus') >= 0 and file.endswith('.jpeg')]\n",
        "print('There are', len(imgs_train_vir), ' VIRAL PNEUMONIA images for Training')\n",
        "\n",
        "imgs_train_bac = [file for file in os.listdir(train_pneumonia) if file.find('bacteria') >= 0 and file.endswith('.jpeg')]\n",
        "print('There are', len(imgs_train_bac), ' BACTERIAL PNEUMONIA images for Training')\n",
        "\n",
        "\n",
        "for img in imgs_train_vir:\n",
        "  shutil.move(os.path.join(train_dir, 'PNEUMONIA/', img), data_viral_dir)\n",
        "\n",
        "for img in imgs_train_bac:\n",
        "  shutil.move(os.path.join(train_dir, 'PNEUMONIA/', img), data_bacterial_dir)"
      ],
      "execution_count": 23,
      "outputs": [
        {
          "output_type": "stream",
          "text": [
            "There are 3875  PNEUMONIA images for Training\n",
            "There are 1345  VIRAL PNEUMONIA images for Training\n",
            "There are 2530  BACTERIAL PNEUMONIA images for Training\n"
          ],
          "name": "stdout"
        }
      ]
    },
    {
      "cell_type": "code",
      "metadata": {
        "id": "U0bT8zpz25cW",
        "colab": {
          "base_uri": "https://localhost:8080/"
        },
        "outputId": "77a08a27-4018-4f55-cf27-ff6befa0d078"
      },
      "source": [
        "imgs_test_pneumonia = [file for file in os.listdir(test_pneumonia) if file.endswith('.jpeg')]\n",
        "print('There are', len(imgs_test_pneumonia), ' PNEUMONIA images for Testing')\n",
        "\n",
        "imgs_test_vir = [file for file in os.listdir(test_pneumonia) if file.find('virus') >= 0 and file.endswith('.jpeg')]\n",
        "print('There are', len(imgs_test_vir), ' VIRAL PNEUMONIA images for Testing')\n",
        "\n",
        "imgs_test_bac = [file for file in os.listdir(test_pneumonia) if file.find('bacteria') >= 0 and file.endswith('.jpeg')]\n",
        "print('There are', len(imgs_test_bac), ' BACTERIAL PNEUMONIA images for Testing')\n",
        "\n",
        "\n",
        "for img in imgs_test_vir:\n",
        "  shutil.move(os.path.join(test_dir, 'PNEUMONIA/', img), data_viral_dir)\n",
        "\n",
        "for img in imgs_test_bac:\n",
        "  shutil.move(os.path.join(test_dir, 'PNEUMONIA/', img), data_bacterial_dir)"
      ],
      "execution_count": 24,
      "outputs": [
        {
          "output_type": "stream",
          "text": [
            "There are 390  PNEUMONIA images for Testing\n",
            "There are 148  VIRAL PNEUMONIA images for Testing\n",
            "There are 242  BACTERIAL PNEUMONIA images for Testing\n"
          ],
          "name": "stdout"
        }
      ]
    },
    {
      "cell_type": "code",
      "metadata": {
        "id": "tg80ogP93GKZ",
        "colab": {
          "base_uri": "https://localhost:8080/"
        },
        "outputId": "b1cff8b4-ff38-4441-8ca0-572b073cfd54"
      },
      "source": [
        "imgs_val_pneumonia = [file for file in os.listdir(val_pneumonia) if file.endswith('.jpeg')]\n",
        "print('There are', len(imgs_val_pneumonia), ' PNEUMONIA images for Validating')\n",
        "\n",
        "imgs_val_vir = [file for file in os.listdir(val_pneumonia) if file.find('virus') >= 0 and file.endswith('.jpeg')]\n",
        "print('There are', len(imgs_val_vir), ' VIRAL PNEUMONIA images for Validating')\n",
        "\n",
        "imgs_val_bac = [file for file in os.listdir(val_pneumonia) if file.find('bacteria') >= 0 and file.endswith('.jpeg')]\n",
        "print('There are', len(imgs_val_bac), ' BACTERIAL PNEUMONIA images for Validating')\n",
        "\n",
        "\n",
        "for img in imgs_val_vir:\n",
        "  shutil.move(os.path.join(val_dir, 'PNEUMONIA/', img), data_viral_dir)\n",
        "\n",
        "for img in imgs_val_bac:\n",
        "  shutil.move(os.path.join(val_dir, 'PNEUMONIA/', img), data_bacterial_dir)"
      ],
      "execution_count": 25,
      "outputs": [
        {
          "output_type": "stream",
          "text": [
            "There are 8  PNEUMONIA images for Validating\n",
            "There are 0  VIRAL PNEUMONIA images for Validating\n",
            "There are 8  BACTERIAL PNEUMONIA images for Validating\n"
          ],
          "name": "stdout"
        }
      ]
    },
    {
      "cell_type": "code",
      "metadata": {
        "id": "qsM1QVyC3WCd",
        "colab": {
          "base_uri": "https://localhost:8080/"
        },
        "outputId": "f73f9735-1bf9-4bc5-d6dd-11b49d1726a5"
      },
      "source": [
        "imgs_train_nor = [file for file in os.listdir(train_normal) if file.endswith('.jpeg')]\n",
        "print('There are', len(imgs_train_nor), ' NORMAL images for Training')\n",
        "\n",
        "imgs_test_nor = [file for file in os.listdir(test_normal) if file.endswith('.jpeg')]\n",
        "print('There are', len(imgs_test_nor), ' NORMAL images for Testing')\n",
        "\n",
        "imgs_val_nor = [file for file in os.listdir(val_normal) if file.endswith('.jpeg')]\n",
        "print('There are', len(imgs_val_nor), ' NORMAL images for Validating')\n",
        "\n",
        "for img in imgs_train_nor:\n",
        "  shutil.move(os.path.join(train_dir, 'NORMAL/', img), data_normal_dir)\n",
        "\n",
        "for img in imgs_test_nor:\n",
        "  shutil.move(os.path.join(test_dir, 'NORMAL/', img), data_normal_dir)\n",
        "\n",
        "for img in imgs_val_nor:\n",
        "  shutil.move(os.path.join(val_dir, 'NORMAL/', img), data_normal_dir)"
      ],
      "execution_count": 27,
      "outputs": [
        {
          "output_type": "stream",
          "text": [
            "There are 1288  NORMAL images for Training\n",
            "There are 234  NORMAL images for Testing\n",
            "There are 8  NORMAL images for Validating\n"
          ],
          "name": "stdout"
        }
      ]
    },
    {
      "cell_type": "code",
      "metadata": {
        "id": "LqCZqxPYtZe9",
        "colab": {
          "base_uri": "https://localhost:8080/"
        },
        "outputId": "3bb76f8f-704e-44cf-b0a6-63c3b877bd6b"
      },
      "source": [
        "print(os.listdir(train_pneumonia), os.listdir(test_pneumonia), os.listdir(val_pneumonia))\n",
        "\n",
        "os.removedirs(train_pneumonia)\n",
        "os.removedirs(test_pneumonia)\n",
        "os.removedirs(val_pneumonia)\n",
        "\n",
        "os.chdir(MODEL_DIR)\n",
        "!ls"
      ],
      "execution_count": 28,
      "outputs": [
        {
          "output_type": "stream",
          "text": [
            "[] [] []\n",
            "BACTERIAL  chest_xray  __MACOSX  NORMAL  test  train  val  VIRAL\n"
          ],
          "name": "stdout"
        }
      ]
    },
    {
      "cell_type": "code",
      "metadata": {
        "colab": {
          "base_uri": "https://localhost:8080/"
        },
        "id": "kArpBONWRr8j",
        "outputId": "61a4d4a1-c13e-4d9f-a642-9f8343f41e8b"
      },
      "source": [
        "if os.path.isdir(train_dir) == False:\n",
        "    os.mkdir(train_dir)\n",
        "\n",
        "if os.path.isdir(test_dir) == False:\n",
        "    os.mkdir(test_dir)\n",
        "\n",
        "if os.path.isdir(val_dir) == False:\n",
        "    os.mkdir(val_dir)\n",
        "\n",
        "!ls    "
      ],
      "execution_count": 29,
      "outputs": [
        {
          "output_type": "stream",
          "text": [
            "BACTERIAL  chest_xray  __MACOSX  NORMAL  test  train  val  VIRAL\n"
          ],
          "name": "stdout"
        }
      ]
    },
    {
      "cell_type": "code",
      "metadata": {
        "colab": {
          "base_uri": "https://localhost:8080/"
        },
        "id": "qx9oloZ4V8vH",
        "outputId": "63100a1c-f29f-4a96-f3bc-60e0f138fa57"
      },
      "source": [
        "!ls ./BACTERIAL/ | head -10"
      ],
      "execution_count": 30,
      "outputs": [
        {
          "output_type": "stream",
          "text": [
            "person1000_bacteria_2931.jpeg\n",
            "person1001_bacteria_2932.jpeg\n",
            "person1002_bacteria_2933.jpeg\n",
            "person1003_bacteria_2934.jpeg\n",
            "person1004_bacteria_2935.jpeg\n",
            "person1005_bacteria_2936.jpeg\n",
            "person1006_bacteria_2937.jpeg\n",
            "person1007_bacteria_2938.jpeg\n",
            "person1008_bacteria_2939.jpeg\n",
            "person100_bacteria_475.jpeg\n"
          ],
          "name": "stdout"
        }
      ]
    },
    {
      "cell_type": "code",
      "metadata": {
        "colab": {
          "base_uri": "https://localhost:8080/"
        },
        "id": "Cvh8lgn9WJPN",
        "outputId": "901bb723-855c-4f90-cacf-4feb4bcc4ad2"
      },
      "source": [
        "!ls ./VIRAL/ | tail -10"
      ],
      "execution_count": 31,
      "outputs": [
        {
          "output_type": "stream",
          "text": [
            "person989_virus_1667.jpeg\n",
            "person98_virus_182.jpeg\n",
            "person991_virus_1669.jpeg\n",
            "person992_virus_1670.jpeg\n",
            "person993_virus_1671.jpeg\n",
            "person994_virus_1672.jpeg\n",
            "person995_virus_1676.jpeg\n",
            "person996_virus_1677.jpeg\n",
            "person997_virus_1678.jpeg\n",
            "person99_virus_183.jpeg\n"
          ],
          "name": "stdout"
        }
      ]
    },
    {
      "cell_type": "code",
      "metadata": {
        "colab": {
          "base_uri": "https://localhost:8080/"
        },
        "id": "lwvkFcDAWOC_",
        "outputId": "34ceece7-d197-4a04-fd3c-73a4738c470c"
      },
      "source": [
        "!ls ./NORMAL/ | head -10"
      ],
      "execution_count": 32,
      "outputs": [
        {
          "output_type": "stream",
          "text": [
            "IM-0001-0001.jpeg\n",
            "IM-0003-0001.jpeg\n",
            "IM-0005-0001.jpeg\n",
            "IM-0006-0001.jpeg\n",
            "IM-0007-0001.jpeg\n",
            "IM-0009-0001.jpeg\n",
            "IM-0010-0001.jpeg\n",
            "IM-0011-0001-0001.jpeg\n",
            "IM-0011-0001-0002.jpeg\n",
            "IM-0011-0001.jpeg\n"
          ],
          "name": "stdout"
        }
      ]
    },
    {
      "cell_type": "code",
      "metadata": {
        "colab": {
          "base_uri": "https://localhost:8080/"
        },
        "id": "eaRMviuiRqks",
        "outputId": "bdf6cd14-e55f-446e-a36c-20e04c526825"
      },
      "source": [
        "split_ratio = 0.8\n",
        "classes = ['NORMAL', 'VIRAL', 'BACTERIAL']\n",
        "\n",
        "for cl in classes:\n",
        "\n",
        "  img_path = os.path.join(MODEL_DIR, cl)\n",
        "  images = glob.glob(img_path + '/*.jpeg')\n",
        "  print(\"{}: {} Images\".format(cl, len(images)))\n",
        "  num_train = int(round(len(images)*split_ratio))\n",
        "  num_test = int(round(len(images)*(split_ratio + (1 - split_ratio)*0.5)))\n",
        "  print('There are ', num_train, ' images for Training and ', num_test - num_train, ' images for Testing and ', len(images) - num_test, ' images for Validating in ', cl)\n",
        "  train, test, val = images[:num_train], images[num_train:num_test], images[num_test:-1]\n",
        "\n",
        "  for t1 in train:\n",
        "    if not os.path.exists(os.path.join(MODEL_DIR, 'train', cl)):\n",
        "      os.makedirs(os.path.join(MODEL_DIR, 'train', cl))\n",
        "    shutil.move(t1, os.path.join(MODEL_DIR, 'train', cl))\n",
        "\n",
        "  for t2 in test:\n",
        "    if not os.path.exists(os.path.join(MODEL_DIR, 'test', cl)):\n",
        "      os.makedirs(os.path.join(MODEL_DIR, 'test', cl))  \n",
        "    shutil.move(t2, os.path.join(MODEL_DIR, 'test', cl))\n",
        "\n",
        "  for v in val:\n",
        "    if not os.path.exists(os.path.join(MODEL_DIR, 'val', cl)):\n",
        "      os.makedirs(os.path.join(MODEL_DIR, 'val', cl))\n",
        "    shutil.move(v, os.path.join(MODEL_DIR, 'val', cl))"
      ],
      "execution_count": 33,
      "outputs": [
        {
          "output_type": "stream",
          "text": [
            "NORMAL: 1583 Images\n",
            "There are  1266  images for Training and  159  images for Testing and  158  images for Validating in  NORMAL\n",
            "VIRAL: 1493 Images\n",
            "There are  1194  images for Training and  150  images for Testing and  149  images for Validating in  VIRAL\n",
            "BACTERIAL: 2780 Images\n",
            "There are  2224  images for Training and  278  images for Testing and  278  images for Validating in  BACTERIAL\n"
          ],
          "name": "stdout"
        }
      ]
    },
    {
      "cell_type": "code",
      "metadata": {
        "id": "LW68kkyF6L98",
        "colab": {
          "base_uri": "https://localhost:8080/"
        },
        "outputId": "bf88c465-5547-4c37-d7cd-51fb235d5797"
      },
      "source": [
        "print(os.listdir(data_viral_dir), os.listdir(data_bacterial_dir), os.listdir(data_normal_dir))\n",
        "\n",
        "#os.removedirs(data_viral_dir)\n",
        "#os.removedirs(data_bacterial_dir)\n",
        "#os.removedirs(data_normal_dir)\n",
        "\n",
        "os.chdir(MODEL_DIR)\n",
        "!ls"
      ],
      "execution_count": 35,
      "outputs": [
        {
          "output_type": "stream",
          "text": [
            "['person99_virus_183.jpeg'] ['person1954_bacteria_4886.jpeg'] ['NORMAL2-IM-1442-0001.jpeg']\n",
            "BACTERIAL  chest_xray  __MACOSX  NORMAL  test  train  val  VIRAL\n"
          ],
          "name": "stdout"
        }
      ]
    },
    {
      "cell_type": "code",
      "metadata": {
        "id": "-WlNayhsXOsm"
      },
      "source": [
        "batch_size = 100\n",
        "IMG_SHAPE = 150 \n",
        "\n",
        "image_gen = ImageDataGenerator(rescale=1./255)"
      ],
      "execution_count": 75,
      "outputs": []
    },
    {
      "cell_type": "code",
      "metadata": {
        "id": "V9pZZvUfWZAM",
        "colab": {
          "base_uri": "https://localhost:8080/"
        },
        "outputId": "24c092ad-de23-48e7-88a8-5a12b5206f12"
      },
      "source": [
        "# get all the data in the directory split/train and reshape them\n",
        "print('training data:')\n",
        "train_data_gen = image_gen.flow_from_directory(batch_size=batch_size,\n",
        "                                               directory=train_dir,\n",
        "                                               shuffle=True, \n",
        "                                               target_size=(IMG_SHAPE, IMG_SHAPE),\n",
        "                                               class_mode='categorical')"
      ],
      "execution_count": 76,
      "outputs": [
        {
          "output_type": "stream",
          "text": [
            "training data:\n",
            "Found 4684 images belonging to 3 classes.\n"
          ],
          "name": "stdout"
        }
      ]
    },
    {
      "cell_type": "code",
      "metadata": {
        "id": "PBwNlew_axPm",
        "colab": {
          "base_uri": "https://localhost:8080/"
        },
        "outputId": "93dee5f1-477d-482c-d59a-4b4163020b9c"
      },
      "source": [
        "# get all the data in the directory split/validation and reshape them\n",
        "print('validating data:')\n",
        "val_data_gen = image_gen.flow_from_directory(batch_size=batch_size,\n",
        "                                             directory=val_dir, \n",
        "                                             target_size=(IMG_SHAPE, IMG_SHAPE),\n",
        "                                             class_mode='categorical',\n",
        "                                             shuffle=False)"
      ],
      "execution_count": 77,
      "outputs": [
        {
          "output_type": "stream",
          "text": [
            "validating data:\n",
            "Found 582 images belonging to 3 classes.\n"
          ],
          "name": "stdout"
        }
      ]
    },
    {
      "cell_type": "code",
      "metadata": {
        "colab": {
          "base_uri": "https://localhost:8080/"
        },
        "id": "wbpgwWMCstUD",
        "outputId": "5c6ae1cd-2d23-40c3-b036-a3c99aca5a25"
      },
      "source": [
        "train_data_gen.class_indices"
      ],
      "execution_count": 54,
      "outputs": [
        {
          "output_type": "execute_result",
          "data": {
            "text/plain": [
              "{'BACTERIAL': 0, 'NORMAL': 1, 'VIRAL': 2}"
            ]
          },
          "metadata": {
            "tags": []
          },
          "execution_count": 54
        }
      ]
    },
    {
      "cell_type": "code",
      "metadata": {
        "id": "dDbRsYJtvBGa"
      },
      "source": [
        "model = Sequential()\n",
        "model.add(Conv2D(32, (3, 3), activation=tf.nn.relu, \n",
        "                 input_shape=(IMG_SHAPE, IMG_SHAPE, 3)))\n",
        "model.add(MaxPooling2D((2, 2)))\n",
        "model.add(Conv2D(64, (3, 3), activation=tf.nn.relu))\n",
        "model.add(MaxPooling2D((2, 2)))\n",
        "model.add(Conv2D(128, (3, 3), activation=tf.nn.relu))\n",
        "model.add(MaxPooling2D((2, 2)))\n",
        "model.add(Conv2D(128, (3, 3), activation=tf.nn.relu))\n",
        "model.add(MaxPooling2D((2, 2)))\n",
        "model.add(Flatten())\n",
        "model.add(Dense(64, activation=tf.nn.relu))\n",
        "model.add(Dense(128, activation=tf.nn.relu))\n",
        "model.add(Dense(256, activation=tf.nn.relu))\n",
        "model.add(Dense(512, activation=tf.nn.relu))\n",
        "model.add(Dense(3, activation=tf.nn.softmax))"
      ],
      "execution_count": 79,
      "outputs": []
    },
    {
      "cell_type": "code",
      "metadata": {
        "id": "I4OgmJtjok63",
        "colab": {
          "base_uri": "https://localhost:8080/"
        },
        "outputId": "a5ff4ea0-1d23-4a37-fa84-1cc6c9702022"
      },
      "source": [
        "model.summary()"
      ],
      "execution_count": 80,
      "outputs": [
        {
          "output_type": "stream",
          "text": [
            "Model: \"sequential_10\"\n",
            "_________________________________________________________________\n",
            "Layer (type)                 Output Shape              Param #   \n",
            "=================================================================\n",
            "conv2d_4 (Conv2D)            (None, 148, 148, 32)      896       \n",
            "_________________________________________________________________\n",
            "max_pooling2d_4 (MaxPooling2 (None, 74, 74, 32)        0         \n",
            "_________________________________________________________________\n",
            "conv2d_5 (Conv2D)            (None, 72, 72, 64)        18496     \n",
            "_________________________________________________________________\n",
            "max_pooling2d_5 (MaxPooling2 (None, 36, 36, 64)        0         \n",
            "_________________________________________________________________\n",
            "conv2d_6 (Conv2D)            (None, 34, 34, 128)       73856     \n",
            "_________________________________________________________________\n",
            "max_pooling2d_6 (MaxPooling2 (None, 17, 17, 128)       0         \n",
            "_________________________________________________________________\n",
            "conv2d_7 (Conv2D)            (None, 15, 15, 128)       147584    \n",
            "_________________________________________________________________\n",
            "max_pooling2d_7 (MaxPooling2 (None, 7, 7, 128)         0         \n",
            "_________________________________________________________________\n",
            "flatten_5 (Flatten)          (None, 6272)              0         \n",
            "_________________________________________________________________\n",
            "dense_26 (Dense)             (None, 64)                401472    \n",
            "_________________________________________________________________\n",
            "dense_27 (Dense)             (None, 128)               8320      \n",
            "_________________________________________________________________\n",
            "dense_28 (Dense)             (None, 256)               33024     \n",
            "_________________________________________________________________\n",
            "dense_29 (Dense)             (None, 512)               131584    \n",
            "_________________________________________________________________\n",
            "dense_30 (Dense)             (None, 3)                 1539      \n",
            "=================================================================\n",
            "Total params: 816,771\n",
            "Trainable params: 816,771\n",
            "Non-trainable params: 0\n",
            "_________________________________________________________________\n"
          ],
          "name": "stdout"
        }
      ]
    },
    {
      "cell_type": "code",
      "metadata": {
        "id": "66FXYXVdpS7q"
      },
      "source": [
        "model.compile(optimizer=optimizers.RMSprop(lr=1e-4), \n",
        "                 loss='categorical_crossentropy', \n",
        "                 metrics=['accuracy'])"
      ],
      "execution_count": 81,
      "outputs": []
    },
    {
      "cell_type": "code",
      "metadata": {
        "id": "aNhiQNriTIkU"
      },
      "source": [
        "epochs = 40"
      ],
      "execution_count": 82,
      "outputs": []
    },
    {
      "cell_type": "code",
      "metadata": {
        "colab": {
          "base_uri": "https://localhost:8080/"
        },
        "id": "mMKBqVP-uR4w",
        "outputId": "6928cfe9-4e78-4f89-b629-0abe014426ae"
      },
      "source": [
        "train_data_gen.n"
      ],
      "execution_count": 83,
      "outputs": [
        {
          "output_type": "execute_result",
          "data": {
            "text/plain": [
              "4684"
            ]
          },
          "metadata": {
            "tags": []
          },
          "execution_count": 83
        }
      ]
    },
    {
      "cell_type": "code",
      "metadata": {
        "colab": {
          "base_uri": "https://localhost:8080/"
        },
        "id": "Oy1XwJLFuUxL",
        "outputId": "e92beab2-d0ad-4fa4-fdf6-95d682ca2dbe"
      },
      "source": [
        "val_data_gen.n"
      ],
      "execution_count": 84,
      "outputs": [
        {
          "output_type": "execute_result",
          "data": {
            "text/plain": [
              "582"
            ]
          },
          "metadata": {
            "tags": []
          },
          "execution_count": 84
        }
      ]
    },
    {
      "cell_type": "code",
      "metadata": {
        "id": "iNmxnxxIpdRn",
        "colab": {
          "base_uri": "https://localhost:8080/"
        },
        "outputId": "fd5e3994-0b9b-4047-b386-48e034bcec8c"
      },
      "source": [
        "print('program starts, current time:')\n",
        "print(start)\n",
        "histoire = model.fit_generator(\n",
        "    train_data_gen,\n",
        "    steps_per_epoch=int(np.ceil(train_data_gen.n / float(batch_size))),\n",
        "    epochs=epochs,\n",
        "    validation_data=val_data_gen,\n",
        "    validation_steps=int(np.ceil(val_data_gen.n / float(batch_size)))\n",
        ")\n",
        "end = datetime.datetime.now()\n",
        "print('program ends, current time:')\n",
        "print(end)\n",
        "elapsed = end - start\n",
        "print('Training took a total of {}'.format(elapsed))"
      ],
      "execution_count": 85,
      "outputs": [
        {
          "output_type": "stream",
          "text": [
            "program starts, current time:\n",
            "2021-05-27 15:27:05.023719\n",
            "Epoch 1/40\n",
            "47/47 [==============================] - 282s 5s/step - loss: 1.0383 - accuracy: 0.4831 - val_loss: 0.9870 - val_accuracy: 0.6340\n",
            "Epoch 2/40\n",
            "47/47 [==============================] - 229s 5s/step - loss: 0.8762 - accuracy: 0.6181 - val_loss: 0.7302 - val_accuracy: 0.6787\n",
            "Epoch 3/40\n",
            "47/47 [==============================] - 226s 5s/step - loss: 0.7572 - accuracy: 0.6597 - val_loss: 0.6835 - val_accuracy: 0.6838\n",
            "Epoch 4/40\n",
            "47/47 [==============================] - 225s 5s/step - loss: 0.6947 - accuracy: 0.6842 - val_loss: 0.7209 - val_accuracy: 0.6787\n",
            "Epoch 5/40\n",
            "47/47 [==============================] - 226s 5s/step - loss: 0.6501 - accuracy: 0.7118 - val_loss: 0.5991 - val_accuracy: 0.7371\n",
            "Epoch 6/40\n",
            "47/47 [==============================] - 225s 5s/step - loss: 0.6245 - accuracy: 0.7263 - val_loss: 0.5869 - val_accuracy: 0.7595\n",
            "Epoch 7/40\n",
            "47/47 [==============================] - 223s 5s/step - loss: 0.5869 - accuracy: 0.7534 - val_loss: 0.5644 - val_accuracy: 0.7646\n",
            "Epoch 8/40\n",
            "47/47 [==============================] - 236s 5s/step - loss: 0.5634 - accuracy: 0.7624 - val_loss: 0.5590 - val_accuracy: 0.7595\n",
            "Epoch 9/40\n",
            "47/47 [==============================] - 231s 5s/step - loss: 0.5394 - accuracy: 0.7718 - val_loss: 0.6724 - val_accuracy: 0.7148\n",
            "Epoch 10/40\n",
            "47/47 [==============================] - 229s 5s/step - loss: 0.5315 - accuracy: 0.7803 - val_loss: 0.5254 - val_accuracy: 0.7749\n",
            "Epoch 11/40\n",
            "47/47 [==============================] - 238s 5s/step - loss: 0.5121 - accuracy: 0.7848 - val_loss: 0.6938 - val_accuracy: 0.7337\n",
            "Epoch 12/40\n",
            "47/47 [==============================] - 223s 5s/step - loss: 0.5025 - accuracy: 0.7897 - val_loss: 0.4552 - val_accuracy: 0.8179\n",
            "Epoch 13/40\n",
            "47/47 [==============================] - 233s 5s/step - loss: 0.4932 - accuracy: 0.7959 - val_loss: 0.4664 - val_accuracy: 0.8041\n",
            "Epoch 14/40\n",
            "47/47 [==============================] - 223s 5s/step - loss: 0.4866 - accuracy: 0.7976 - val_loss: 0.4501 - val_accuracy: 0.8058\n",
            "Epoch 15/40\n",
            "47/47 [==============================] - 221s 5s/step - loss: 0.4753 - accuracy: 0.8008 - val_loss: 0.5173 - val_accuracy: 0.7973\n",
            "Epoch 16/40\n",
            "47/47 [==============================] - 233s 5s/step - loss: 0.4690 - accuracy: 0.8032 - val_loss: 0.4356 - val_accuracy: 0.8162\n",
            "Epoch 17/40\n",
            "47/47 [==============================] - 224s 5s/step - loss: 0.4571 - accuracy: 0.8089 - val_loss: 0.5203 - val_accuracy: 0.7904\n",
            "Epoch 18/40\n",
            "47/47 [==============================] - 228s 5s/step - loss: 0.4489 - accuracy: 0.8087 - val_loss: 0.4831 - val_accuracy: 0.7990\n",
            "Epoch 19/40\n",
            "47/47 [==============================] - 233s 5s/step - loss: 0.4431 - accuracy: 0.8145 - val_loss: 0.4725 - val_accuracy: 0.7904\n",
            "Epoch 20/40\n",
            "47/47 [==============================] - 231s 5s/step - loss: 0.4379 - accuracy: 0.8149 - val_loss: 0.4362 - val_accuracy: 0.8196\n",
            "Epoch 21/40\n",
            "47/47 [==============================] - 222s 5s/step - loss: 0.4252 - accuracy: 0.8211 - val_loss: 0.4375 - val_accuracy: 0.8058\n",
            "Epoch 22/40\n",
            "47/47 [==============================] - 221s 5s/step - loss: 0.4199 - accuracy: 0.8215 - val_loss: 0.4157 - val_accuracy: 0.8144\n",
            "Epoch 23/40\n",
            "47/47 [==============================] - 220s 5s/step - loss: 0.4110 - accuracy: 0.8320 - val_loss: 0.4274 - val_accuracy: 0.8333\n",
            "Epoch 24/40\n",
            "47/47 [==============================] - 219s 5s/step - loss: 0.4102 - accuracy: 0.8247 - val_loss: 0.4366 - val_accuracy: 0.8196\n",
            "Epoch 25/40\n",
            "47/47 [==============================] - 217s 5s/step - loss: 0.4009 - accuracy: 0.8318 - val_loss: 0.4051 - val_accuracy: 0.8333\n",
            "Epoch 26/40\n",
            "47/47 [==============================] - 218s 5s/step - loss: 0.3997 - accuracy: 0.8326 - val_loss: 0.4025 - val_accuracy: 0.8368\n",
            "Epoch 27/40\n",
            "47/47 [==============================] - 217s 5s/step - loss: 0.3854 - accuracy: 0.8352 - val_loss: 0.4119 - val_accuracy: 0.8333\n",
            "Epoch 28/40\n",
            "47/47 [==============================] - 218s 5s/step - loss: 0.3774 - accuracy: 0.8405 - val_loss: 0.3925 - val_accuracy: 0.8351\n",
            "Epoch 29/40\n",
            "47/47 [==============================] - 219s 5s/step - loss: 0.3703 - accuracy: 0.8463 - val_loss: 0.4014 - val_accuracy: 0.8454\n",
            "Epoch 30/40\n",
            "47/47 [==============================] - 222s 5s/step - loss: 0.3690 - accuracy: 0.8433 - val_loss: 0.3961 - val_accuracy: 0.8299\n",
            "Epoch 31/40\n",
            "47/47 [==============================] - 220s 5s/step - loss: 0.3614 - accuracy: 0.8448 - val_loss: 0.3835 - val_accuracy: 0.8436\n",
            "Epoch 32/40\n",
            "47/47 [==============================] - 221s 5s/step - loss: 0.3552 - accuracy: 0.8527 - val_loss: 0.4340 - val_accuracy: 0.8213\n",
            "Epoch 33/40\n",
            "47/47 [==============================] - 220s 5s/step - loss: 0.3507 - accuracy: 0.8516 - val_loss: 0.4090 - val_accuracy: 0.8351\n",
            "Epoch 34/40\n",
            "47/47 [==============================] - 217s 5s/step - loss: 0.3355 - accuracy: 0.8557 - val_loss: 0.4379 - val_accuracy: 0.8179\n",
            "Epoch 35/40\n",
            "47/47 [==============================] - 219s 5s/step - loss: 0.3341 - accuracy: 0.8555 - val_loss: 0.4100 - val_accuracy: 0.8299\n",
            "Epoch 36/40\n",
            "47/47 [==============================] - 218s 5s/step - loss: 0.3239 - accuracy: 0.8608 - val_loss: 0.3906 - val_accuracy: 0.8351\n",
            "Epoch 37/40\n",
            "47/47 [==============================] - 218s 5s/step - loss: 0.3139 - accuracy: 0.8687 - val_loss: 0.3811 - val_accuracy: 0.8436\n",
            "Epoch 38/40\n",
            "47/47 [==============================] - 216s 5s/step - loss: 0.3028 - accuracy: 0.8687 - val_loss: 0.4217 - val_accuracy: 0.8333\n",
            "Epoch 39/40\n",
            "47/47 [==============================] - 215s 5s/step - loss: 0.2951 - accuracy: 0.8745 - val_loss: 0.4163 - val_accuracy: 0.8436\n",
            "Epoch 40/40\n",
            "47/47 [==============================] - 217s 5s/step - loss: 0.2869 - accuracy: 0.8794 - val_loss: 0.3898 - val_accuracy: 0.8247\n",
            "program ends, current time:\n",
            "2021-05-27 19:44:09.149425\n",
            "Training took a total of 4:17:04.125706\n"
          ],
          "name": "stdout"
        }
      ]
    },
    {
      "cell_type": "code",
      "metadata": {
        "id": "dTkI4MdI_jYB",
        "colab": {
          "base_uri": "https://localhost:8080/"
        },
        "outputId": "4c26550d-4442-4fbc-d1b0-0084cd80e014"
      },
      "source": [
        "histoire.history.keys()"
      ],
      "execution_count": 86,
      "outputs": [
        {
          "output_type": "execute_result",
          "data": {
            "text/plain": [
              "dict_keys(['loss', 'accuracy', 'val_loss', 'val_accuracy'])"
            ]
          },
          "metadata": {
            "tags": []
          },
          "execution_count": 86
        }
      ]
    },
    {
      "cell_type": "code",
      "metadata": {
        "id": "OJpLzOWk_k3U"
      },
      "source": [
        "def visualize_training_results(results):\n",
        "    history = results.history\n",
        "    plt.figure()\n",
        "    plt.plot(history['val_loss'])\n",
        "    plt.plot(history['loss'])\n",
        "    plt.legend(['val_loss', 'loss'])\n",
        "    plt.title('Loss')\n",
        "    plt.xlabel('Epochs')\n",
        "    plt.ylabel('Loss')\n",
        "    plt.show()\n",
        "    \n",
        "    plt.figure()\n",
        "    plt.plot(history['val_accuracy'])\n",
        "    plt.plot(history['accuracy'])\n",
        "    plt.legend(['val_acc', 'acc'])\n",
        "    plt.title('Accuracy')\n",
        "    plt.xlabel('Epochs')\n",
        "    plt.ylabel('Accuracy')\n",
        "    plt.show()"
      ],
      "execution_count": 87,
      "outputs": []
    },
    {
      "cell_type": "code",
      "metadata": {
        "id": "MvhawKDY_oR7",
        "colab": {
          "base_uri": "https://localhost:8080/",
          "height": 573
        },
        "outputId": "ac44c08f-b7a8-41fd-d2dd-9f77d238b07d"
      },
      "source": [
        "visualize_training_results(histoire)"
      ],
      "execution_count": 88,
      "outputs": [
        {
          "output_type": "display_data",
          "data": {
            "image/png": "[encoded data removed]",
            "text/plain": [
              "<Figure size 432x288 with 1 Axes>"
            ]
          },
          "metadata": {
            "tags": [],
            "needs_background": "light"
          }
        },
        {
          "output_type": "display_data",
          "data": {
            "image/png": "[encoded data removed]",
            "text/plain": [
              "<Figure size 432x288 with 1 Axes>"
            ]
          },
          "metadata": {
            "tags": [],
            "needs_background": "light"
          }
        }
      ]
    },
    {
      "cell_type": "code",
      "metadata": {
        "colab": {
          "base_uri": "https://localhost:8080/"
        },
        "id": "BS_rS-lbmKci",
        "outputId": "e8b25bca-ea06-4786-9355-ab92690dc91f"
      },
      "source": [
        "test_data_gen = image_gen.flow_from_directory(batch_size=batch_size,\n",
        "                                              directory=test_dir,\n",
        "                                              target_size=(IMG_SHAPE, IMG_SHAPE),\n",
        "                                              class_mode='categorical',\n",
        "                                              shuffle=False)"
      ],
      "execution_count": 89,
      "outputs": [
        {
          "output_type": "stream",
          "text": [
            "Found 587 images belonging to 3 classes.\n"
          ],
          "name": "stdout"
        }
      ]
    },
    {
      "cell_type": "code",
      "metadata": {
        "colab": {
          "base_uri": "https://localhost:8080/"
        },
        "id": "Vhdjb8SGnEqc",
        "outputId": "e7fd76c2-ca68-4830-f748-e7012db14bc3"
      },
      "source": [
        "test_loss, test_acc = model.evaluate_generator(test_data_gen, steps=int(np.ceil(test_data_gen.n / float(batch_size))))\n",
        "y_hat_test = model.predict_generator(test_data_gen, steps=int(np.ceil(test_data_gen.n / float(batch_size))))\n",
        "print('Generated {} predictions'.format(len(y_hat_test)))\n",
        "print('test acc:', test_acc)"
      ],
      "execution_count": 90,
      "outputs": [
        {
          "output_type": "stream",
          "text": [
            "Generated 587 predictions\n",
            "test acc: 0.8109028935432434\n"
          ],
          "name": "stdout"
        }
      ]
    }
  ]
}