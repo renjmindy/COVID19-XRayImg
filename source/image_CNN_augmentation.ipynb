{
 "cells": [
  {
   "cell_type": "markdown",
   "metadata": {},
   "source": [
    "## Final Project Submission\n",
    "\n",
    "Please fill out:\n",
    "* Student name: Mindy Jen\n",
    "* Student pace: full time, ds-ft-online-05262020\n",
    "* Scheduled project review date/time: Sep. 24th, 2020/12:45-13:30 (CDT)\n",
    "* Instructor name: Yish Lim\n",
    "* Blog post URL: [Mod4_Blog](https://renjmindy.github.io/diagnosis_of_covid-19_alike_viral_pneumonia)\n",
    "* fine data: [Kaggle](https://www.kaggle.com/paultimothymooney/chest-xray-pneumonia)\n",
    "* full data: [Mendeley](https://data.mendeley.com/datasets/rscbjbr9sj/3)"
   ]
  },
  {
   "cell_type": "code",
   "execution_count": 1,
   "metadata": {},
   "outputs": [],
   "source": [
    "import time\n",
    "import datetime\n",
    "from datetime import date\n",
    "import os, shutil\n",
    "import matplotlib.pyplot as plt\n",
    "import matplotlib.image as mpimg\n",
    "%matplotlib inline\n",
    "import scipy\n",
    "import numpy as np\n",
    "from PIL import Image\n",
    "from scipy import ndimage\n",
    "from sklearn.preprocessing import LabelBinarizer, StandardScaler, OneHotEncoder\n",
    "from sklearn.impute import SimpleImputer\n",
    "from sklearn.model_selection import train_test_split, cross_val_predict\n",
    "from sklearn.metrics import mean_squared_error\n",
    "from keras.utils.np_utils import to_categorical\n",
    "from keras.preprocessing.text import Tokenizer\n",
    "from keras.preprocessing.image import ImageDataGenerator, array_to_img, img_to_array, load_img\n",
    "from keras import models\n",
    "from keras import layers\n",
    "from keras import regularizers\n",
    "from keras import optimizers\n",
    "from keras.wrappers.scikit_learn import KerasRegressor\n",
    "\n",
    "np.random.seed(123)\n",
    "original_start = datetime.datetime.now()\n",
    "start = datetime.datetime.now()\n",
    "\n",
    "import warnings\n",
    "warnings.filterwarnings('ignore')"
   ]
  },
  {
   "cell_type": "code",
   "execution_count": 2,
   "metadata": {},
   "outputs": [],
   "source": [
    "new_dir = 'split/'\n",
    "\n",
    "train_folder = os.path.join(new_dir, 'train')\n",
    "train_pneumonia = os.path.join(train_folder, 'PNEUMONIA')\n",
    "train_normal = os.path.join(train_folder, 'NORMAL')\n",
    "\n",
    "test_folder = os.path.join(new_dir, 'test')\n",
    "test_pneumonia = os.path.join(test_folder, 'PNEUMONIA')\n",
    "test_normal = os.path.join(test_folder, 'NORMAL')\n",
    "\n",
    "val_folder = os.path.join(new_dir, 'validation')\n",
    "val_pneumonia = os.path.join(val_folder, 'PNEUMONIA')\n",
    "val_normal = os.path.join(val_folder, 'NORMAL')"
   ]
  },
  {
   "cell_type": "markdown",
   "metadata": {},
   "source": [
    "## Data Augmentation"
   ]
  },
  {
   "cell_type": "code",
   "execution_count": 3,
   "metadata": {},
   "outputs": [
    {
     "name": "stdout",
     "output_type": "stream",
     "text": [
      "training data:\n",
      "Found 4685 images belonging to 2 classes.\n"
     ]
    }
   ],
   "source": [
    "# get all the data in the directory split/train (3,418 images), and reshape them\n",
    "print('training data:')\n",
    "\n",
    "train_datagen = ImageDataGenerator(rescale=1./255, rotation_range=40, width_shift_range=0.2, height_shift_range=0.2, \n",
    "                                   shear_range=0.2, zoom_range=0.2, horizontal_flip=True, fill_mode='nearest')\n",
    "\n",
    "train_generator = train_datagen.flow_from_directory(\n",
    "    # This is the target directory\n",
    "    train_folder, \n",
    "    # All images will be resized to 150x150\n",
    "    target_size=(150, 150), batch_size = 1000)\n",
    "    #, \n",
    "    # Since we use binary_crossentropy loss, we need binary labels\n",
    "    #class_mode='binary')"
   ]
  },
  {
   "cell_type": "code",
   "execution_count": 4,
   "metadata": {},
   "outputs": [
    {
     "name": "stdout",
     "output_type": "stream",
     "text": [
      "validating data:\n",
      "Found 586 images belonging to 2 classes.\n"
     ]
    }
   ],
   "source": [
    "# get all the data in the directory split/validation (427 images), and reshape them\n",
    "print('validating data:')\n",
    "val_generator = ImageDataGenerator(rescale=1./255).flow_from_directory(\n",
    "    val_folder, \n",
    "    target_size=(150, 150), batch_size = 100)\n",
    "    #,\n",
    "    #class_mode='binary')"
   ]
  },
  {
   "cell_type": "code",
   "execution_count": 5,
   "metadata": {},
   "outputs": [
    {
     "name": "stdout",
     "output_type": "stream",
     "text": [
      "testing data:\n",
      "Found 585 images belonging to 2 classes.\n"
     ]
    }
   ],
   "source": [
    "# get all the data in the directory split/test (427 images), and reshape them\n",
    "print('testing data:')\n",
    "test_generator = ImageDataGenerator(rescale=1./255).flow_from_directory(\n",
    "    test_folder, \n",
    "    target_size=(150, 150), batch_size = 100) # 100 --> 585 (try next time!)\n",
    "    #,\n",
    "    #class_mode='binary') "
   ]
  },
  {
   "cell_type": "code",
   "execution_count": 6,
   "metadata": {},
   "outputs": [],
   "source": [
    "# create the data sets\n",
    "train_images, train_labels = next(train_generator)\n",
    "test_images, test_labels = next(test_generator)\n",
    "val_images, val_labels = next(val_generator)"
   ]
  },
  {
   "cell_type": "code",
   "execution_count": 7,
   "metadata": {},
   "outputs": [],
   "source": [
    "train_y = np.reshape(train_labels[:,0], (train_labels.shape[0],1))\n",
    "test_y = np.reshape(test_labels[:,0], (test_labels.shape[0],1))\n",
    "val_y = np.reshape(val_labels[:,0], (val_labels.shape[0],1))"
   ]
  },
  {
   "cell_type": "code",
   "execution_count": 8,
   "metadata": {},
   "outputs": [],
   "source": [
    "def visualize_training_results(results):\n",
    "    history = results.history\n",
    "    plt.figure()\n",
    "    plt.plot(history['val_loss'])\n",
    "    plt.plot(history['loss'])\n",
    "    plt.legend(['val_loss', 'loss'])\n",
    "    plt.title('Loss')\n",
    "    plt.xlabel('Epochs')\n",
    "    plt.ylabel('Loss')\n",
    "    plt.show()\n",
    "    \n",
    "    plt.figure()\n",
    "    plt.plot(history['val_accuracy'])\n",
    "    plt.plot(history['accuracy'])\n",
    "    plt.legend(['val_acc', 'acc'])\n",
    "    plt.title('Accuracy')\n",
    "    plt.xlabel('Epochs')\n",
    "    plt.ylabel('Accuracy')\n",
    "    plt.show()"
   ]
  },
  {
   "cell_type": "code",
   "execution_count": 9,
   "metadata": {},
   "outputs": [],
   "source": [
    "# Your code here; design and compile the model\n",
    "model = models.Sequential()\n",
    "model.add(layers.Conv2D(32, (3, 3), activation='relu', input_shape=(150, 150, 3)))\n",
    "model.add(layers.MaxPooling2D((2, 2)))\n",
    "model.add(layers.Conv2D(64, (3, 3), activation='relu'))\n",
    "model.add(layers.MaxPooling2D((2, 2)))\n",
    "model.add(layers.Conv2D(128, (3, 3), activation='relu'))\n",
    "model.add(layers.MaxPooling2D((2, 2)))\n",
    "model.add(layers.Conv2D(128, (3, 3), activation='relu'))\n",
    "model.add(layers.MaxPooling2D((2, 2)))\n",
    "model.add(layers.Flatten())\n",
    "model.add(layers.Dense(512, activation='relu'))\n",
    "model.add(layers.Dense(1, activation='sigmoid'))"
   ]
  },
  {
   "cell_type": "code",
   "execution_count": 10,
   "metadata": {},
   "outputs": [],
   "source": [
    "model.compile(loss='binary_crossentropy', optimizer=optimizers.RMSprop(lr=1e-4), metrics=['accuracy'])"
   ]
  },
  {
   "cell_type": "code",
   "execution_count": 11,
   "metadata": {
    "scrolled": false
   },
   "outputs": [
    {
     "name": "stdout",
     "output_type": "stream",
     "text": [
      "program starts, current time:\n",
      "2020-09-17 19:02:29.166099\n",
      "Epoch 1/100\n",
      "10/10 [==============================] - 75s 7s/step - loss: 0.6170 - accuracy: 0.6680 - val_loss: 0.6185 - val_accuracy: 0.7100\n",
      "Epoch 2/100\n",
      "10/10 [==============================] - 97s 10s/step - loss: 0.5917 - accuracy: 0.7320 - val_loss: 0.6076 - val_accuracy: 0.7100\n",
      "Epoch 3/100\n",
      "10/10 [==============================] - 100s 10s/step - loss: 0.5865 - accuracy: 0.7320 - val_loss: 0.5900 - val_accuracy: 0.7100\n",
      "Epoch 4/100\n",
      "10/10 [==============================] - 110s 11s/step - loss: 0.5725 - accuracy: 0.7330 - val_loss: 0.6214 - val_accuracy: 0.7100\n",
      "Epoch 5/100\n",
      "10/10 [==============================] - 101s 10s/step - loss: 0.5629 - accuracy: 0.7420 - val_loss: 0.5792 - val_accuracy: 0.7100\n",
      "Epoch 6/100\n",
      "10/10 [==============================] - 102s 10s/step - loss: 0.5369 - accuracy: 0.7370 - val_loss: 0.4989 - val_accuracy: 0.7800\n",
      "Epoch 7/100\n",
      "10/10 [==============================] - 103s 10s/step - loss: 0.5126 - accuracy: 0.7680 - val_loss: 0.5095 - val_accuracy: 0.8200\n",
      "Epoch 8/100\n",
      "10/10 [==============================] - 109s 11s/step - loss: 0.5154 - accuracy: 0.7640 - val_loss: 0.4544 - val_accuracy: 0.8500\n",
      "Epoch 9/100\n",
      "10/10 [==============================] - 103s 10s/step - loss: 0.5235 - accuracy: 0.7670 - val_loss: 0.4437 - val_accuracy: 0.8400\n",
      "Epoch 10/100\n",
      "10/10 [==============================] - 96s 10s/step - loss: 0.4915 - accuracy: 0.7670 - val_loss: 0.4222 - val_accuracy: 0.8200\n",
      "Epoch 11/100\n",
      "10/10 [==============================] - 96s 10s/step - loss: 0.4615 - accuracy: 0.7750 - val_loss: 0.5087 - val_accuracy: 0.7600\n",
      "Epoch 12/100\n",
      "10/10 [==============================] - 95s 10s/step - loss: 0.4576 - accuracy: 0.7830 - val_loss: 0.5184 - val_accuracy: 0.7500\n",
      "Epoch 13/100\n",
      "10/10 [==============================] - 94s 9s/step - loss: 0.4462 - accuracy: 0.8080 - val_loss: 0.5954 - val_accuracy: 0.7100\n",
      "Epoch 14/100\n",
      "10/10 [==============================] - 95s 9s/step - loss: 0.4485 - accuracy: 0.7950 - val_loss: 0.3837 - val_accuracy: 0.8300\n",
      "Epoch 15/100\n",
      "10/10 [==============================] - 94s 9s/step - loss: 0.4071 - accuracy: 0.8210 - val_loss: 0.4635 - val_accuracy: 0.8000\n",
      "Epoch 16/100\n",
      "10/10 [==============================] - 97s 10s/step - loss: 0.4874 - accuracy: 0.7550 - val_loss: 0.4085 - val_accuracy: 0.8200\n",
      "Epoch 17/100\n",
      "10/10 [==============================] - 96s 10s/step - loss: 0.4276 - accuracy: 0.8050 - val_loss: 0.3564 - val_accuracy: 0.8300\n",
      "Epoch 18/100\n",
      "10/10 [==============================] - 101s 10s/step - loss: 0.3718 - accuracy: 0.8330 - val_loss: 0.5891 - val_accuracy: 0.7100\n",
      "Epoch 19/100\n",
      "10/10 [==============================] - 151s 15s/step - loss: 0.4535 - accuracy: 0.7900 - val_loss: 0.3477 - val_accuracy: 0.8500\n",
      "Epoch 20/100\n",
      "10/10 [==============================] - 135s 14s/step - loss: 0.3954 - accuracy: 0.8180 - val_loss: 0.4096 - val_accuracy: 0.8300\n",
      "Epoch 21/100\n",
      "10/10 [==============================] - 108s 11s/step - loss: 0.3850 - accuracy: 0.8440 - val_loss: 0.4907 - val_accuracy: 0.7800\n",
      "Epoch 22/100\n",
      "10/10 [==============================] - 104s 10s/step - loss: 0.3675 - accuracy: 0.8400 - val_loss: 0.3753 - val_accuracy: 0.8100\n",
      "Epoch 23/100\n",
      "10/10 [==============================] - 105s 11s/step - loss: 0.3828 - accuracy: 0.8170 - val_loss: 0.3426 - val_accuracy: 0.8200\n",
      "Epoch 24/100\n",
      "10/10 [==============================] - 105s 11s/step - loss: 0.3925 - accuracy: 0.8240 - val_loss: 0.3735 - val_accuracy: 0.8300\n",
      "Epoch 25/100\n",
      "10/10 [==============================] - 104s 10s/step - loss: 0.3704 - accuracy: 0.8330 - val_loss: 0.4100 - val_accuracy: 0.8300\n",
      "Epoch 26/100\n",
      "10/10 [==============================] - 105s 10s/step - loss: 0.3569 - accuracy: 0.8490 - val_loss: 0.4039 - val_accuracy: 0.7800\n",
      "Epoch 27/100\n",
      "10/10 [==============================] - 103s 10s/step - loss: 0.3444 - accuracy: 0.8460 - val_loss: 0.4483 - val_accuracy: 0.8000\n",
      "Epoch 28/100\n",
      "10/10 [==============================] - 103s 10s/step - loss: 0.3628 - accuracy: 0.8540 - val_loss: 0.4121 - val_accuracy: 0.8100\n",
      "Epoch 29/100\n",
      "10/10 [==============================] - 105s 11s/step - loss: 0.3599 - accuracy: 0.8330 - val_loss: 0.3232 - val_accuracy: 0.8600\n",
      "Epoch 30/100\n",
      "10/10 [==============================] - 104s 10s/step - loss: 0.3554 - accuracy: 0.8490 - val_loss: 0.3482 - val_accuracy: 0.8700\n",
      "Epoch 31/100\n",
      "10/10 [==============================] - 105s 10s/step - loss: 0.3582 - accuracy: 0.8360 - val_loss: 0.3219 - val_accuracy: 0.8300\n",
      "Epoch 32/100\n",
      "10/10 [==============================] - 110s 11s/step - loss: 0.3489 - accuracy: 0.8340 - val_loss: 0.3170 - val_accuracy: 0.8800\n",
      "Epoch 33/100\n",
      "10/10 [==============================] - 105s 10s/step - loss: 0.3185 - accuracy: 0.8580 - val_loss: 0.5850 - val_accuracy: 0.7100\n",
      "Epoch 34/100\n",
      "10/10 [==============================] - 107s 11s/step - loss: 0.3193 - accuracy: 0.8670 - val_loss: 0.3070 - val_accuracy: 0.8800\n",
      "Epoch 35/100\n",
      "10/10 [==============================] - 106s 11s/step - loss: 0.3343 - accuracy: 0.8490 - val_loss: 0.3185 - val_accuracy: 0.8800\n",
      "Epoch 36/100\n",
      "10/10 [==============================] - 105s 10s/step - loss: 0.3610 - accuracy: 0.8340 - val_loss: 0.3182 - val_accuracy: 0.8800\n",
      "Epoch 37/100\n",
      "10/10 [==============================] - 102s 10s/step - loss: 0.2840 - accuracy: 0.8710 - val_loss: 0.3509 - val_accuracy: 0.8500\n",
      "Epoch 38/100\n",
      "10/10 [==============================] - 102s 10s/step - loss: 0.3367 - accuracy: 0.8380 - val_loss: 0.3271 - val_accuracy: 0.8700\n",
      "Epoch 39/100\n",
      "10/10 [==============================] - 102s 10s/step - loss: 0.3364 - accuracy: 0.8450 - val_loss: 0.3739 - val_accuracy: 0.8200\n",
      "Epoch 40/100\n",
      "10/10 [==============================] - 102s 10s/step - loss: 0.3022 - accuracy: 0.8590 - val_loss: 0.3191 - val_accuracy: 0.8300\n",
      "Epoch 41/100\n",
      "10/10 [==============================] - 98s 10s/step - loss: 0.3315 - accuracy: 0.8570 - val_loss: 0.3183 - val_accuracy: 0.8100\n",
      "Epoch 42/100\n",
      "10/10 [==============================] - 97s 10s/step - loss: 0.2556 - accuracy: 0.8960 - val_loss: 0.3530 - val_accuracy: 0.8600\n",
      "Epoch 43/100\n",
      "10/10 [==============================] - 96s 10s/step - loss: 0.3207 - accuracy: 0.8540 - val_loss: 0.4443 - val_accuracy: 0.7900\n",
      "Epoch 44/100\n",
      "10/10 [==============================] - 95s 10s/step - loss: 0.3132 - accuracy: 0.8630 - val_loss: 0.3276 - val_accuracy: 0.8600\n",
      "Epoch 45/100\n",
      "10/10 [==============================] - 94s 9s/step - loss: 0.2730 - accuracy: 0.8850 - val_loss: 0.3356 - val_accuracy: 0.8500\n",
      "Epoch 46/100\n",
      "10/10 [==============================] - 94s 9s/step - loss: 0.3042 - accuracy: 0.8680 - val_loss: 0.3217 - val_accuracy: 0.8800\n",
      "Epoch 47/100\n",
      "10/10 [==============================] - 94s 9s/step - loss: 0.2797 - accuracy: 0.8880 - val_loss: 0.3232 - val_accuracy: 0.8800\n",
      "Epoch 48/100\n",
      "10/10 [==============================] - 94s 9s/step - loss: 0.2685 - accuracy: 0.8800 - val_loss: 0.5157 - val_accuracy: 0.7900\n",
      "Epoch 49/100\n",
      "10/10 [==============================] - 93s 9s/step - loss: 0.2492 - accuracy: 0.8930 - val_loss: 0.3175 - val_accuracy: 0.8500\n",
      "Epoch 50/100\n",
      "10/10 [==============================] - 94s 9s/step - loss: 0.2813 - accuracy: 0.8810 - val_loss: 0.3372 - val_accuracy: 0.8200\n",
      "Epoch 51/100\n",
      "10/10 [==============================] - 93s 9s/step - loss: 0.2778 - accuracy: 0.8850 - val_loss: 0.3848 - val_accuracy: 0.8200\n",
      "Epoch 52/100\n",
      "10/10 [==============================] - 93s 9s/step - loss: 0.2664 - accuracy: 0.8880 - val_loss: 0.3699 - val_accuracy: 0.8500\n",
      "Epoch 53/100\n",
      "10/10 [==============================] - 93s 9s/step - loss: 0.2338 - accuracy: 0.8940 - val_loss: 0.4095 - val_accuracy: 0.8100\n",
      "Epoch 54/100\n",
      "10/10 [==============================] - 93s 9s/step - loss: 0.3017 - accuracy: 0.8610 - val_loss: 0.3094 - val_accuracy: 0.8600\n",
      "Epoch 55/100\n",
      "10/10 [==============================] - 93s 9s/step - loss: 0.2538 - accuracy: 0.8990 - val_loss: 0.3023 - val_accuracy: 0.8500\n",
      "Epoch 56/100\n",
      "10/10 [==============================] - 94s 9s/step - loss: 0.2353 - accuracy: 0.9000 - val_loss: 0.5353 - val_accuracy: 0.7500\n",
      "Epoch 57/100\n",
      "10/10 [==============================] - 94s 9s/step - loss: 0.2475 - accuracy: 0.8820 - val_loss: 0.4210 - val_accuracy: 0.7900\n"
     ]
    },
    {
     "name": "stdout",
     "output_type": "stream",
     "text": [
      "Epoch 58/100\n",
      "10/10 [==============================] - 93s 9s/step - loss: 0.2817 - accuracy: 0.8770 - val_loss: 0.3053 - val_accuracy: 0.8400\n",
      "Epoch 59/100\n",
      "10/10 [==============================] - 93s 9s/step - loss: 0.2261 - accuracy: 0.9050 - val_loss: 0.3255 - val_accuracy: 0.8400\n",
      "Epoch 60/100\n",
      "10/10 [==============================] - 92s 9s/step - loss: 0.2084 - accuracy: 0.9230 - val_loss: 0.3133 - val_accuracy: 0.8600\n",
      "Epoch 61/100\n",
      "10/10 [==============================] - 93s 9s/step - loss: 0.2575 - accuracy: 0.8830 - val_loss: 0.3003 - val_accuracy: 0.8600\n",
      "Epoch 62/100\n",
      "10/10 [==============================] - 93s 9s/step - loss: 0.2270 - accuracy: 0.9020 - val_loss: 0.3010 - val_accuracy: 0.8600\n",
      "Epoch 63/100\n",
      "10/10 [==============================] - 92s 9s/step - loss: 0.2312 - accuracy: 0.9090 - val_loss: 0.5025 - val_accuracy: 0.8000\n",
      "Epoch 64/100\n",
      "10/10 [==============================] - 107s 11s/step - loss: 0.2262 - accuracy: 0.9030 - val_loss: 0.3664 - val_accuracy: 0.8300\n",
      "Epoch 65/100\n",
      "10/10 [==============================] - 116s 12s/step - loss: 0.2472 - accuracy: 0.8950 - val_loss: 0.3182 - val_accuracy: 0.8100\n",
      "Epoch 66/100\n",
      "10/10 [==============================] - 138s 14s/step - loss: 0.2220 - accuracy: 0.9080 - val_loss: 0.3845 - val_accuracy: 0.8200\n",
      "Epoch 67/100\n",
      "10/10 [==============================] - 123s 12s/step - loss: 0.2156 - accuracy: 0.9130 - val_loss: 0.2988 - val_accuracy: 0.8800\n",
      "Epoch 68/100\n",
      "10/10 [==============================] - 115s 12s/step - loss: 0.1871 - accuracy: 0.9240 - val_loss: 0.6318 - val_accuracy: 0.7800\n",
      "Epoch 69/100\n",
      "10/10 [==============================] - 103s 10s/step - loss: 0.2351 - accuracy: 0.8990 - val_loss: 0.3692 - val_accuracy: 0.8300\n",
      "Epoch 70/100\n",
      "10/10 [==============================] - 101s 10s/step - loss: 0.2078 - accuracy: 0.9200 - val_loss: 0.3084 - val_accuracy: 0.8700\n",
      "Epoch 71/100\n",
      "10/10 [==============================] - 100s 10s/step - loss: 0.1833 - accuracy: 0.9320 - val_loss: 0.3094 - val_accuracy: 0.8500\n",
      "Epoch 72/100\n",
      "10/10 [==============================] - 100s 10s/step - loss: 0.2162 - accuracy: 0.9150 - val_loss: 0.4107 - val_accuracy: 0.8100\n",
      "Epoch 73/100\n",
      "10/10 [==============================] - 103s 10s/step - loss: 0.1984 - accuracy: 0.9260 - val_loss: 0.3109 - val_accuracy: 0.8600\n",
      "Epoch 74/100\n",
      "10/10 [==============================] - 101s 10s/step - loss: 0.2058 - accuracy: 0.9110 - val_loss: 0.3123 - val_accuracy: 0.8500\n",
      "Epoch 75/100\n",
      "10/10 [==============================] - 100s 10s/step - loss: 0.1839 - accuracy: 0.9250 - val_loss: 0.3357 - val_accuracy: 0.8600\n",
      "Epoch 76/100\n",
      "10/10 [==============================] - 100s 10s/step - loss: 0.1624 - accuracy: 0.9390 - val_loss: 0.5117 - val_accuracy: 0.8000\n",
      "Epoch 77/100\n",
      "10/10 [==============================] - 96s 10s/step - loss: 0.1970 - accuracy: 0.9130 - val_loss: 0.3253 - val_accuracy: 0.8500\n",
      "Epoch 78/100\n",
      "10/10 [==============================] - 93s 9s/step - loss: 0.1798 - accuracy: 0.9330 - val_loss: 0.4500 - val_accuracy: 0.7900\n",
      "Epoch 79/100\n",
      "10/10 [==============================] - 92s 9s/step - loss: 0.1666 - accuracy: 0.9350 - val_loss: 0.3334 - val_accuracy: 0.8700\n",
      "Epoch 80/100\n",
      "10/10 [==============================] - 92s 9s/step - loss: 0.2352 - accuracy: 0.8980 - val_loss: 0.3198 - val_accuracy: 0.8300\n",
      "Epoch 81/100\n",
      "10/10 [==============================] - 91s 9s/step - loss: 0.1330 - accuracy: 0.9590 - val_loss: 0.3187 - val_accuracy: 0.8500\n",
      "Epoch 82/100\n",
      "10/10 [==============================] - 92s 9s/step - loss: 0.1631 - accuracy: 0.9380 - val_loss: 0.6343 - val_accuracy: 0.8100\n",
      "Epoch 83/100\n",
      "10/10 [==============================] - 92s 9s/step - loss: 0.1582 - accuracy: 0.9490 - val_loss: 0.3397 - val_accuracy: 0.8600\n",
      "Epoch 84/100\n",
      "10/10 [==============================] - 92s 9s/step - loss: 0.1980 - accuracy: 0.9080 - val_loss: 0.3189 - val_accuracy: 0.8400\n",
      "Epoch 85/100\n",
      "10/10 [==============================] - 91s 9s/step - loss: 0.1238 - accuracy: 0.9650 - val_loss: 0.5004 - val_accuracy: 0.8000\n",
      "Epoch 86/100\n",
      "10/10 [==============================] - 103s 10s/step - loss: 0.1969 - accuracy: 0.9100 - val_loss: 0.3273 - val_accuracy: 0.8200\n",
      "Epoch 87/100\n",
      "10/10 [==============================] - 103s 10s/step - loss: 0.1146 - accuracy: 0.9690 - val_loss: 0.3975 - val_accuracy: 0.8200\n",
      "Epoch 88/100\n",
      "10/10 [==============================] - 96s 10s/step - loss: 0.1920 - accuracy: 0.9350 - val_loss: 0.3400 - val_accuracy: 0.8300\n",
      "Epoch 89/100\n",
      "10/10 [==============================] - 92s 9s/step - loss: 0.1182 - accuracy: 0.9610 - val_loss: 0.3657 - val_accuracy: 0.8500\n",
      "Epoch 90/100\n",
      "10/10 [==============================] - 105s 10s/step - loss: 0.1815 - accuracy: 0.9260 - val_loss: 0.3453 - val_accuracy: 0.8300\n",
      "Epoch 91/100\n",
      "10/10 [==============================] - 101s 10s/step - loss: 0.0997 - accuracy: 0.9740 - val_loss: 0.3854 - val_accuracy: 0.8500\n",
      "Epoch 92/100\n",
      "10/10 [==============================] - 99s 10s/step - loss: 0.1895 - accuracy: 0.9140 - val_loss: 0.3488 - val_accuracy: 0.8500\n",
      "Epoch 93/100\n",
      "10/10 [==============================] - 97s 10s/step - loss: 0.1405 - accuracy: 0.9530 - val_loss: 0.9317 - val_accuracy: 0.7300\n",
      "Epoch 94/100\n",
      "10/10 [==============================] - 98s 10s/step - loss: 0.1280 - accuracy: 0.9600 - val_loss: 0.3848 - val_accuracy: 0.8400\n",
      "Epoch 95/100\n",
      "10/10 [==============================] - 98s 10s/step - loss: 0.1479 - accuracy: 0.9300 - val_loss: 0.3819 - val_accuracy: 0.8200\n",
      "Epoch 96/100\n",
      "10/10 [==============================] - 98s 10s/step - loss: 0.0931 - accuracy: 0.9770 - val_loss: 0.4472 - val_accuracy: 0.8000\n",
      "Epoch 97/100\n",
      "10/10 [==============================] - 98s 10s/step - loss: 0.1622 - accuracy: 0.9410 - val_loss: 0.3516 - val_accuracy: 0.8500\n",
      "Epoch 98/100\n",
      "10/10 [==============================] - 99s 10s/step - loss: 0.0885 - accuracy: 0.9760 - val_loss: 0.4743 - val_accuracy: 0.8200\n",
      "Epoch 99/100\n",
      "10/10 [==============================] - 93s 9s/step - loss: 0.1532 - accuracy: 0.9340 - val_loss: 0.3491 - val_accuracy: 0.8500\n",
      "Epoch 100/100\n",
      "10/10 [==============================] - 109s 11s/step - loss: 0.1262 - accuracy: 0.9550 - val_loss: 0.7471 - val_accuracy: 0.7900\n",
      "program ends, current time:\n",
      "2020-09-17 22:07:28.306580\n",
      "Training took a total of 3:04:59.140481\n"
     ]
    }
   ],
   "source": [
    "# Set the model to train \n",
    "# ⏰ This cell may take several hours to run \n",
    "start = datetime.datetime.now()\n",
    "print('program starts, current time:')\n",
    "print(start)\n",
    "history = model.fit(train_images, train_y, epochs=100, batch_size=100, validation_data=(val_images, val_y))\n",
    "end = datetime.datetime.now()\n",
    "print('program ends, current time:')\n",
    "print(end)\n",
    "elapsed = end - start\n",
    "print('Training took a total of {}'.format(elapsed))"
   ]
  },
  {
   "cell_type": "markdown",
   "metadata": {},
   "source": [
    "## CNN Model Evaluation\n",
    "\n",
    "Now use the test set to perform an evaluation on the model of choice. "
   ]
  },
  {
   "cell_type": "code",
   "execution_count": 12,
   "metadata": {},
   "outputs": [
    {
     "name": "stdout",
     "output_type": "stream",
     "text": [
      "32/32 [==============================] - 29s 917ms/step - loss: 0.2311 - accuracy: 0.8750\n"
     ]
    }
   ],
   "source": [
    "results_train = model.evaluate(train_images, train_y)"
   ]
  },
  {
   "cell_type": "code",
   "execution_count": 13,
   "metadata": {},
   "outputs": [
    {
     "name": "stdout",
     "output_type": "stream",
     "text": [
      "4/4 [==============================] - 2s 474ms/step - loss: 0.7139 - accuracy: 0.7500\n"
     ]
    }
   ],
   "source": [
    "results_test = model.evaluate(test_images, test_y)"
   ]
  },
  {
   "cell_type": "code",
   "execution_count": 14,
   "metadata": {},
   "outputs": [
    {
     "data": {
      "text/plain": [
       "[0.23107947409152985, 0.875]"
      ]
     },
     "execution_count": 14,
     "metadata": {},
     "output_type": "execute_result"
    }
   ],
   "source": [
    "results_train"
   ]
  },
  {
   "cell_type": "code",
   "execution_count": 15,
   "metadata": {},
   "outputs": [
    {
     "data": {
      "text/plain": [
       "[0.713898777961731, 0.75]"
      ]
     },
     "execution_count": 15,
     "metadata": {},
     "output_type": "execute_result"
    }
   ],
   "source": [
    "results_test"
   ]
  },
  {
   "cell_type": "code",
   "execution_count": 16,
   "metadata": {},
   "outputs": [
    {
     "data": {
      "image/png": "[encoded data removed]",
      "text/plain": [
       "<Figure size 432x288 with 1 Axes>"
      ]
     },
     "metadata": {
      "needs_background": "light"
     },
     "output_type": "display_data"
    },
    {
     "data": {
      "image/png": "[encoded data removed]",
      "text/plain": [
       "<Figure size 432x288 with 1 Axes>"
      ]
     },
     "metadata": {
      "needs_background": "light"
     },
     "output_type": "display_data"
    }
   ],
   "source": [
    "visualize_training_results(history)"
   ]
  },
  {
   "cell_type": "markdown",
   "metadata": {},
   "source": [
    "## Saving CNN Model"
   ]
  },
  {
   "cell_type": "code",
   "execution_count": 17,
   "metadata": {},
   "outputs": [],
   "source": [
    "# Your code here; save the model for future reference \n",
    "model.save('cnn1_chest_xray_data_augmentation_'+str(date.today())+'.h5')"
   ]
  },
  {
   "cell_type": "markdown",
   "metadata": {},
   "source": [
    "## Saving history in CSV"
   ]
  },
  {
   "cell_type": "code",
   "execution_count": 19,
   "metadata": {},
   "outputs": [],
   "source": [
    "import pandas as pd\n",
    "# convert the history.history dict to a pandas DataFrame:     \n",
    "hist_df = pd.DataFrame(history.history) \n",
    "# or save to csv: \n",
    "hist_csv_file = 'cnn1_chest_xray_data_augmentation'+str(date.today())+'_history.csv'\n",
    "with open(hist_csv_file, mode='w') as f:\n",
    "    hist_df.to_csv(f)"
   ]
  },
  {
   "cell_type": "markdown",
   "metadata": {},
   "source": [
    "## Learning rate tuning (hyper-parameter tuning)"
   ]
  },
  {
   "cell_type": "code",
   "execution_count": 20,
   "metadata": {},
   "outputs": [],
   "source": [
    "# Your code here; design and compile the model\n",
    "model2 = models.Sequential()\n",
    "model2.add(layers.Conv2D(32, (3, 3), activation='relu', input_shape=(150, 150, 3)))\n",
    "model2.add(layers.MaxPooling2D((2, 2)))\n",
    "model2.add(layers.Conv2D(64, (3, 3), activation='relu'))\n",
    "model2.add(layers.MaxPooling2D((2, 2)))\n",
    "model2.add(layers.Conv2D(128, (3, 3), activation='relu'))\n",
    "model2.add(layers.MaxPooling2D((2, 2)))\n",
    "model2.add(layers.Conv2D(128, (3, 3), activation='relu'))\n",
    "model2.add(layers.MaxPooling2D((2, 2)))\n",
    "model2.add(layers.Flatten())\n",
    "model2.add(layers.Dense(512, activation='relu'))\n",
    "model2.add(layers.Dense(1, activation='sigmoid'))"
   ]
  },
  {
   "cell_type": "code",
   "execution_count": 21,
   "metadata": {},
   "outputs": [],
   "source": [
    "model2.compile(loss='binary_crossentropy', optimizer=optimizers.RMSprop(lr=2e-5), metrics=['accuracy'])"
   ]
  },
  {
   "cell_type": "code",
   "execution_count": 22,
   "metadata": {
    "scrolled": false
   },
   "outputs": [
    {
     "name": "stdout",
     "output_type": "stream",
     "text": [
      "program starts, current time:\n",
      "2020-09-17 22:51:41.460493\n",
      "Epoch 1/100\n",
      "10/10 [==============================] - 77s 8s/step - loss: 0.6292 - accuracy: 0.6900 - val_loss: 0.6149 - val_accuracy: 0.7100\n",
      "Epoch 2/100\n",
      "10/10 [==============================] - 74s 7s/step - loss: 0.5907 - accuracy: 0.7320 - val_loss: 0.6118 - val_accuracy: 0.7100\n",
      "Epoch 3/100\n",
      "10/10 [==============================] - 73s 7s/step - loss: 0.5882 - accuracy: 0.7320 - val_loss: 0.6083 - val_accuracy: 0.7100\n",
      "Epoch 4/100\n",
      "10/10 [==============================] - 73s 7s/step - loss: 0.5852 - accuracy: 0.7320 - val_loss: 0.6061 - val_accuracy: 0.7100\n",
      "Epoch 5/100\n",
      "10/10 [==============================] - 73s 7s/step - loss: 0.5830 - accuracy: 0.7320 - val_loss: 0.6037 - val_accuracy: 0.7100\n",
      "Epoch 6/100\n",
      "10/10 [==============================] - 75s 7s/step - loss: 0.5823 - accuracy: 0.7320 - val_loss: 0.6019 - val_accuracy: 0.7100\n",
      "Epoch 7/100\n",
      "10/10 [==============================] - 84s 8s/step - loss: 0.5756 - accuracy: 0.7320 - val_loss: 0.5966 - val_accuracy: 0.7100\n",
      "Epoch 8/100\n",
      "10/10 [==============================] - 84s 8s/step - loss: 0.5733 - accuracy: 0.7320 - val_loss: 0.6039 - val_accuracy: 0.7100\n",
      "Epoch 9/100\n",
      "10/10 [==============================] - 86s 9s/step - loss: 0.5699 - accuracy: 0.7320 - val_loss: 0.5903 - val_accuracy: 0.7100\n",
      "Epoch 10/100\n",
      "10/10 [==============================] - 87s 9s/step - loss: 0.5624 - accuracy: 0.7320 - val_loss: 0.5833 - val_accuracy: 0.7100\n",
      "Epoch 11/100\n",
      "10/10 [==============================] - 89s 9s/step - loss: 0.5588 - accuracy: 0.7320 - val_loss: 0.5729 - val_accuracy: 0.7100\n",
      "Epoch 12/100\n",
      "10/10 [==============================] - 86s 9s/step - loss: 0.5556 - accuracy: 0.7320 - val_loss: 0.5801 - val_accuracy: 0.7100\n",
      "Epoch 13/100\n",
      "10/10 [==============================] - 86s 9s/step - loss: 0.5507 - accuracy: 0.7320 - val_loss: 0.5654 - val_accuracy: 0.7100\n",
      "Epoch 14/100\n",
      "10/10 [==============================] - 87s 9s/step - loss: 0.5424 - accuracy: 0.7320 - val_loss: 0.5550 - val_accuracy: 0.7100\n",
      "Epoch 15/100\n",
      "10/10 [==============================] - 86s 9s/step - loss: 0.5415 - accuracy: 0.7330 - val_loss: 0.5457 - val_accuracy: 0.7100\n",
      "Epoch 16/100\n",
      "10/10 [==============================] - 86s 9s/step - loss: 0.5297 - accuracy: 0.7340 - val_loss: 0.5410 - val_accuracy: 0.7100\n",
      "Epoch 17/100\n",
      "10/10 [==============================] - 86s 9s/step - loss: 0.5292 - accuracy: 0.7350 - val_loss: 0.5297 - val_accuracy: 0.7200\n",
      "Epoch 18/100\n",
      "10/10 [==============================] - 87s 9s/step - loss: 0.5220 - accuracy: 0.7360 - val_loss: 0.5233 - val_accuracy: 0.7400\n",
      "Epoch 19/100\n",
      "10/10 [==============================] - 86s 9s/step - loss: 0.5147 - accuracy: 0.7450 - val_loss: 0.5140 - val_accuracy: 0.7500\n",
      "Epoch 20/100\n",
      "10/10 [==============================] - 86s 9s/step - loss: 0.5026 - accuracy: 0.7350 - val_loss: 0.5148 - val_accuracy: 0.7800\n",
      "Epoch 21/100\n",
      "10/10 [==============================] - 86s 9s/step - loss: 0.5002 - accuracy: 0.7540 - val_loss: 0.4947 - val_accuracy: 0.7400\n",
      "Epoch 22/100\n",
      "10/10 [==============================] - 87s 9s/step - loss: 0.4928 - accuracy: 0.7560 - val_loss: 0.4969 - val_accuracy: 0.8200\n",
      "Epoch 23/100\n",
      "10/10 [==============================] - 87s 9s/step - loss: 0.4918 - accuracy: 0.7600 - val_loss: 0.4902 - val_accuracy: 0.7300\n",
      "Epoch 24/100\n",
      "10/10 [==============================] - 87s 9s/step - loss: 0.4792 - accuracy: 0.7620 - val_loss: 0.4695 - val_accuracy: 0.7600\n",
      "Epoch 25/100\n",
      "10/10 [==============================] - 87s 9s/step - loss: 0.4885 - accuracy: 0.7680 - val_loss: 0.4693 - val_accuracy: 0.7500\n",
      "Epoch 26/100\n",
      "10/10 [==============================] - 87s 9s/step - loss: 0.4759 - accuracy: 0.7700 - val_loss: 0.4596 - val_accuracy: 0.7900\n",
      "Epoch 27/100\n",
      "10/10 [==============================] - 87s 9s/step - loss: 0.4630 - accuracy: 0.7860 - val_loss: 0.4540 - val_accuracy: 0.8200\n",
      "Epoch 28/100\n",
      "10/10 [==============================] - 87s 9s/step - loss: 0.4566 - accuracy: 0.7910 - val_loss: 0.4639 - val_accuracy: 0.8400\n",
      "Epoch 29/100\n",
      "10/10 [==============================] - 88s 9s/step - loss: 0.4599 - accuracy: 0.7880 - val_loss: 0.4400 - val_accuracy: 0.8300\n",
      "Epoch 30/100\n",
      "10/10 [==============================] - 87s 9s/step - loss: 0.4535 - accuracy: 0.7820 - val_loss: 0.5199 - val_accuracy: 0.7600\n",
      "Epoch 31/100\n",
      "10/10 [==============================] - 87s 9s/step - loss: 0.4453 - accuracy: 0.7910 - val_loss: 0.4422 - val_accuracy: 0.7700\n",
      "Epoch 32/100\n",
      "10/10 [==============================] - 89s 9s/step - loss: 0.4495 - accuracy: 0.7820 - val_loss: 0.4819 - val_accuracy: 0.7900\n",
      "Epoch 33/100\n",
      "10/10 [==============================] - 88s 9s/step - loss: 0.4387 - accuracy: 0.8010 - val_loss: 0.4201 - val_accuracy: 0.8400\n",
      "Epoch 34/100\n",
      "10/10 [==============================] - 88s 9s/step - loss: 0.4323 - accuracy: 0.7960 - val_loss: 0.4546 - val_accuracy: 0.8000\n",
      "Epoch 35/100\n",
      "10/10 [==============================] - 88s 9s/step - loss: 0.4471 - accuracy: 0.7870 - val_loss: 0.4231 - val_accuracy: 0.8500\n",
      "Epoch 36/100\n",
      "10/10 [==============================] - 87s 9s/step - loss: 0.4206 - accuracy: 0.8100 - val_loss: 0.4380 - val_accuracy: 0.8300\n",
      "Epoch 37/100\n",
      "10/10 [==============================] - 87s 9s/step - loss: 0.4301 - accuracy: 0.7980 - val_loss: 0.3974 - val_accuracy: 0.8100\n",
      "Epoch 38/100\n",
      "10/10 [==============================] - 87s 9s/step - loss: 0.4257 - accuracy: 0.8060 - val_loss: 0.3937 - val_accuracy: 0.8500\n",
      "Epoch 39/100\n",
      "10/10 [==============================] - 87s 9s/step - loss: 0.4176 - accuracy: 0.8110 - val_loss: 0.4463 - val_accuracy: 0.7900\n",
      "Epoch 40/100\n",
      "10/10 [==============================] - 87s 9s/step - loss: 0.4156 - accuracy: 0.8080 - val_loss: 0.4071 - val_accuracy: 0.8500\n",
      "Epoch 41/100\n",
      "10/10 [==============================] - 88s 9s/step - loss: 0.4153 - accuracy: 0.8060 - val_loss: 0.3827 - val_accuracy: 0.8500\n",
      "Epoch 42/100\n",
      "10/10 [==============================] - 88s 9s/step - loss: 0.4227 - accuracy: 0.8060 - val_loss: 0.4738 - val_accuracy: 0.7800\n",
      "Epoch 43/100\n",
      "10/10 [==============================] - 88s 9s/step - loss: 0.4015 - accuracy: 0.8130 - val_loss: 0.4066 - val_accuracy: 0.8400\n",
      "Epoch 44/100\n",
      "10/10 [==============================] - 90s 9s/step - loss: 0.4031 - accuracy: 0.8190 - val_loss: 0.3751 - val_accuracy: 0.8500\n",
      "Epoch 45/100\n",
      "10/10 [==============================] - 88s 9s/step - loss: 0.3916 - accuracy: 0.8240 - val_loss: 0.3693 - val_accuracy: 0.8700\n",
      "Epoch 46/100\n",
      "10/10 [==============================] - 87s 9s/step - loss: 0.3988 - accuracy: 0.8190 - val_loss: 0.4800 - val_accuracy: 0.7500\n",
      "Epoch 47/100\n",
      "10/10 [==============================] - 88s 9s/step - loss: 0.3958 - accuracy: 0.8220 - val_loss: 0.3647 - val_accuracy: 0.8500\n",
      "Epoch 48/100\n",
      "10/10 [==============================] - 88s 9s/step - loss: 0.4009 - accuracy: 0.8060 - val_loss: 0.6049 - val_accuracy: 0.6900\n",
      "Epoch 49/100\n",
      "10/10 [==============================] - 88s 9s/step - loss: 0.4034 - accuracy: 0.8250 - val_loss: 0.4223 - val_accuracy: 0.7900\n",
      "Epoch 50/100\n",
      "10/10 [==============================] - 88s 9s/step - loss: 0.3942 - accuracy: 0.8220 - val_loss: 0.4914 - val_accuracy: 0.7400\n",
      "Epoch 51/100\n",
      "10/10 [==============================] - 88s 9s/step - loss: 0.3795 - accuracy: 0.8360 - val_loss: 0.3568 - val_accuracy: 0.8900\n",
      "Epoch 52/100\n",
      "10/10 [==============================] - 87s 9s/step - loss: 0.3900 - accuracy: 0.8270 - val_loss: 0.4820 - val_accuracy: 0.7700\n",
      "Epoch 53/100\n",
      "10/10 [==============================] - 90s 9s/step - loss: 0.3906 - accuracy: 0.8290 - val_loss: 0.3603 - val_accuracy: 0.8700\n",
      "Epoch 54/100\n",
      "10/10 [==============================] - 89s 9s/step - loss: 0.3896 - accuracy: 0.8210 - val_loss: 0.3469 - val_accuracy: 0.8700\n",
      "Epoch 55/100\n",
      "10/10 [==============================] - 87s 9s/step - loss: 0.3918 - accuracy: 0.8080 - val_loss: 0.3658 - val_accuracy: 0.8500\n",
      "Epoch 56/100\n",
      "10/10 [==============================] - 93s 9s/step - loss: 0.3709 - accuracy: 0.8340 - val_loss: 0.3724 - val_accuracy: 0.8400\n",
      "Epoch 57/100\n",
      "10/10 [==============================] - 87s 9s/step - loss: 0.3867 - accuracy: 0.8240 - val_loss: 0.3461 - val_accuracy: 0.8800\n",
      "Epoch 58/100\n"
     ]
    },
    {
     "name": "stdout",
     "output_type": "stream",
     "text": [
      "10/10 [==============================] - 87s 9s/step - loss: 0.3652 - accuracy: 0.8330 - val_loss: 0.3957 - val_accuracy: 0.8100\n",
      "Epoch 59/100\n",
      "10/10 [==============================] - 88s 9s/step - loss: 0.3873 - accuracy: 0.8200 - val_loss: 0.3686 - val_accuracy: 0.8400\n",
      "Epoch 60/100\n",
      "10/10 [==============================] - 88s 9s/step - loss: 0.3752 - accuracy: 0.8320 - val_loss: 0.3543 - val_accuracy: 0.8500\n",
      "Epoch 61/100\n",
      "10/10 [==============================] - 87s 9s/step - loss: 0.3763 - accuracy: 0.8390 - val_loss: 0.3687 - val_accuracy: 0.8300\n",
      "Epoch 62/100\n",
      "10/10 [==============================] - 87s 9s/step - loss: 0.3574 - accuracy: 0.8470 - val_loss: 0.4425 - val_accuracy: 0.7700\n",
      "Epoch 63/100\n",
      "10/10 [==============================] - 88s 9s/step - loss: 0.3857 - accuracy: 0.8310 - val_loss: 0.5230 - val_accuracy: 0.7400\n",
      "Epoch 64/100\n",
      "10/10 [==============================] - 88s 9s/step - loss: 0.3500 - accuracy: 0.8550 - val_loss: 0.4257 - val_accuracy: 0.7700\n",
      "Epoch 65/100\n",
      "10/10 [==============================] - 88s 9s/step - loss: 0.3740 - accuracy: 0.8280 - val_loss: 0.4213 - val_accuracy: 0.7700\n",
      "Epoch 66/100\n",
      "10/10 [==============================] - 87s 9s/step - loss: 0.3502 - accuracy: 0.8550 - val_loss: 0.3445 - val_accuracy: 0.8600\n",
      "Epoch 67/100\n",
      "10/10 [==============================] - 87s 9s/step - loss: 0.3659 - accuracy: 0.8380 - val_loss: 0.5172 - val_accuracy: 0.7400\n",
      "Epoch 68/100\n",
      "10/10 [==============================] - 87s 9s/step - loss: 0.3604 - accuracy: 0.8470 - val_loss: 0.4389 - val_accuracy: 0.7700\n",
      "Epoch 69/100\n",
      "10/10 [==============================] - 88s 9s/step - loss: 0.3570 - accuracy: 0.8470 - val_loss: 0.3256 - val_accuracy: 0.8800\n",
      "Epoch 70/100\n",
      "10/10 [==============================] - 87s 9s/step - loss: 0.3663 - accuracy: 0.8320 - val_loss: 0.3307 - val_accuracy: 0.8600\n",
      "Epoch 71/100\n",
      "10/10 [==============================] - 87s 9s/step - loss: 0.3558 - accuracy: 0.8400 - val_loss: 0.5266 - val_accuracy: 0.7300\n",
      "Epoch 72/100\n",
      "10/10 [==============================] - 87s 9s/step - loss: 0.3608 - accuracy: 0.8330 - val_loss: 0.4321 - val_accuracy: 0.7600\n",
      "Epoch 73/100\n",
      "10/10 [==============================] - 87s 9s/step - loss: 0.3448 - accuracy: 0.8550 - val_loss: 0.3792 - val_accuracy: 0.8100\n",
      "Epoch 74/100\n",
      "10/10 [==============================] - 88s 9s/step - loss: 0.3423 - accuracy: 0.8530 - val_loss: 0.5874 - val_accuracy: 0.7300\n",
      "Epoch 75/100\n",
      "10/10 [==============================] - 87s 9s/step - loss: 0.3537 - accuracy: 0.8460 - val_loss: 0.3821 - val_accuracy: 0.8100\n",
      "Epoch 76/100\n",
      "10/10 [==============================] - 87s 9s/step - loss: 0.3495 - accuracy: 0.8500 - val_loss: 0.6624 - val_accuracy: 0.6700\n",
      "Epoch 77/100\n",
      "10/10 [==============================] - 86s 9s/step - loss: 0.3373 - accuracy: 0.8480 - val_loss: 0.3102 - val_accuracy: 0.9000\n",
      "Epoch 78/100\n",
      "10/10 [==============================] - 87s 9s/step - loss: 0.3520 - accuracy: 0.8420 - val_loss: 0.4355 - val_accuracy: 0.7700\n",
      "Epoch 79/100\n",
      "10/10 [==============================] - 94s 9s/step - loss: 0.3559 - accuracy: 0.8410 - val_loss: 0.5019 - val_accuracy: 0.7400\n",
      "Epoch 80/100\n",
      "10/10 [==============================] - 88s 9s/step - loss: 0.3203 - accuracy: 0.8570 - val_loss: 0.4383 - val_accuracy: 0.7700\n",
      "Epoch 81/100\n",
      "10/10 [==============================] - 86s 9s/step - loss: 0.3607 - accuracy: 0.8320 - val_loss: 0.3894 - val_accuracy: 0.7900\n",
      "Epoch 82/100\n",
      "10/10 [==============================] - 87s 9s/step - loss: 0.3404 - accuracy: 0.8450 - val_loss: 0.7313 - val_accuracy: 0.6500\n",
      "Epoch 83/100\n",
      "10/10 [==============================] - 86s 9s/step - loss: 0.3450 - accuracy: 0.8400 - val_loss: 0.4734 - val_accuracy: 0.7700\n",
      "Epoch 84/100\n",
      "10/10 [==============================] - 87s 9s/step - loss: 0.3281 - accuracy: 0.8600 - val_loss: 0.4743 - val_accuracy: 0.7600\n",
      "Epoch 85/100\n",
      "10/10 [==============================] - 88s 9s/step - loss: 0.3383 - accuracy: 0.8620 - val_loss: 0.3179 - val_accuracy: 0.8500\n",
      "Epoch 86/100\n",
      "10/10 [==============================] - 87s 9s/step - loss: 0.3371 - accuracy: 0.8540 - val_loss: 0.3941 - val_accuracy: 0.7900\n",
      "Epoch 87/100\n",
      "10/10 [==============================] - 88s 9s/step - loss: 0.3338 - accuracy: 0.8540 - val_loss: 0.3339 - val_accuracy: 0.8400\n",
      "Epoch 88/100\n",
      "10/10 [==============================] - 88s 9s/step - loss: 0.3391 - accuracy: 0.8470 - val_loss: 0.2984 - val_accuracy: 0.9100\n",
      "Epoch 89/100\n",
      "10/10 [==============================] - 89s 9s/step - loss: 0.3239 - accuracy: 0.8610 - val_loss: 0.5782 - val_accuracy: 0.7300\n",
      "Epoch 90/100\n",
      "10/10 [==============================] - 94s 9s/step - loss: 0.3397 - accuracy: 0.8560 - val_loss: 0.3267 - val_accuracy: 0.8400\n",
      "Epoch 91/100\n",
      "10/10 [==============================] - 86s 9s/step - loss: 0.3311 - accuracy: 0.8510 - val_loss: 0.3080 - val_accuracy: 0.8600\n",
      "Epoch 92/100\n",
      "10/10 [==============================] - 86s 9s/step - loss: 0.3185 - accuracy: 0.8620 - val_loss: 0.2940 - val_accuracy: 0.9000\n",
      "Epoch 93/100\n",
      "10/10 [==============================] - 86s 9s/step - loss: 0.3182 - accuracy: 0.8550 - val_loss: 0.4147 - val_accuracy: 0.7900\n",
      "Epoch 94/100\n",
      "10/10 [==============================] - 87s 9s/step - loss: 0.3303 - accuracy: 0.8500 - val_loss: 0.5043 - val_accuracy: 0.7400\n",
      "Epoch 95/100\n",
      "10/10 [==============================] - 86s 9s/step - loss: 0.3052 - accuracy: 0.8700 - val_loss: 0.3101 - val_accuracy: 0.8600\n",
      "Epoch 96/100\n",
      "10/10 [==============================] - 87s 9s/step - loss: 0.3303 - accuracy: 0.8550 - val_loss: 0.4590 - val_accuracy: 0.7700\n",
      "Epoch 97/100\n",
      "10/10 [==============================] - 87s 9s/step - loss: 0.3238 - accuracy: 0.8600 - val_loss: 0.2981 - val_accuracy: 0.8700\n",
      "Epoch 98/100\n",
      "10/10 [==============================] - 85s 9s/step - loss: 0.3300 - accuracy: 0.8590 - val_loss: 0.2921 - val_accuracy: 0.9000\n",
      "Epoch 99/100\n",
      "10/10 [==============================] - 86s 9s/step - loss: 0.3184 - accuracy: 0.8610 - val_loss: 0.3898 - val_accuracy: 0.8000\n",
      "Epoch 100/100\n",
      "10/10 [==============================] - 86s 9s/step - loss: 0.3253 - accuracy: 0.8560 - val_loss: 0.4452 - val_accuracy: 0.7800\n",
      "program ends, current time:\n",
      "2020-09-18 01:31:31.579573\n",
      "Training took a total of 2:39:50.119080\n"
     ]
    }
   ],
   "source": [
    "# Set the model to train \n",
    "# ⏰ This cell may take several hours to run \n",
    "start2 = datetime.datetime.now()\n",
    "print('program starts, current time:')\n",
    "print(start2)\n",
    "history2 = model2.fit(train_images, train_y, epochs=100, batch_size=100, validation_data=(val_images, val_y))\n",
    "end2 = datetime.datetime.now()\n",
    "print('program ends, current time:')\n",
    "print(end2)\n",
    "elapsed2 = end2 - start2\n",
    "print('Training took a total of {}'.format(elapsed2))"
   ]
  },
  {
   "cell_type": "code",
   "execution_count": 23,
   "metadata": {},
   "outputs": [
    {
     "name": "stdout",
     "output_type": "stream",
     "text": [
      "32/32 [==============================] - 28s 871ms/step - loss: 0.2967 - accuracy: 0.8840\n"
     ]
    }
   ],
   "source": [
    "results2_train = model2.evaluate(train_images, train_y)"
   ]
  },
  {
   "cell_type": "code",
   "execution_count": 24,
   "metadata": {},
   "outputs": [
    {
     "name": "stdout",
     "output_type": "stream",
     "text": [
      "4/4 [==============================] - 2s 438ms/step - loss: 0.7139 - accuracy: 0.7500\n"
     ]
    }
   ],
   "source": [
    "results2_test = model.evaluate(test_images, test_y)"
   ]
  },
  {
   "cell_type": "code",
   "execution_count": 25,
   "metadata": {},
   "outputs": [
    {
     "data": {
      "text/plain": [
       "[0.29667192697525024, 0.8840000033378601]"
      ]
     },
     "execution_count": 25,
     "metadata": {},
     "output_type": "execute_result"
    }
   ],
   "source": [
    "results2_train"
   ]
  },
  {
   "cell_type": "code",
   "execution_count": 26,
   "metadata": {},
   "outputs": [
    {
     "data": {
      "text/plain": [
       "[0.713898777961731, 0.75]"
      ]
     },
     "execution_count": 26,
     "metadata": {},
     "output_type": "execute_result"
    }
   ],
   "source": [
    "results2_test"
   ]
  },
  {
   "cell_type": "code",
   "execution_count": 27,
   "metadata": {},
   "outputs": [
    {
     "data": {
      "image/png": "[encoded data removed]",
      "text/plain": [
       "<Figure size 432x288 with 1 Axes>"
      ]
     },
     "metadata": {
      "needs_background": "light"
     },
     "output_type": "display_data"
    },
    {
     "data": {
      "image/png": "[encoded data removed]",
      "text/plain": [
       "<Figure size 432x288 with 1 Axes>"
      ]
     },
     "metadata": {
      "needs_background": "light"
     },
     "output_type": "display_data"
    }
   ],
   "source": [
    "visualize_training_results(history2)"
   ]
  },
  {
   "cell_type": "code",
   "execution_count": 28,
   "metadata": {},
   "outputs": [],
   "source": [
    "# Your code here; save the model for future reference \n",
    "model2.save('cnn1_chest_xray_data_augmentation_LearningRate_Tuning_'+str(date.today())+'.h5')"
   ]
  },
  {
   "cell_type": "code",
   "execution_count": 29,
   "metadata": {},
   "outputs": [],
   "source": [
    "# convert the history.history dict to a pandas DataFrame:     \n",
    "hist_df = pd.DataFrame(history2.history) \n",
    "# or save to csv: \n",
    "hist_csv_file = 'cnn1_chest_xray_data_augmentation_LearningRate_Tuning'+str(date.today())+'_history.csv'\n",
    "with open(hist_csv_file, mode='w') as f:\n",
    "    hist_df.to_csv(f)"
   ]
  },
  {
   "cell_type": "code",
   "execution_count": null,
   "metadata": {},
   "outputs": [],
   "source": []
  }
 ],
 "metadata": {
  "kernelspec": {
   "display_name": "Python 3",
   "language": "python",
   "name": "python3"
  },
  "language_info": {
   "codemirror_mode": {
    "name": "ipython",
    "version": 3
   },
   "file_extension": ".py",
   "mimetype": "text/x-python",
   "name": "python",
   "nbconvert_exporter": "python",
   "pygments_lexer": "ipython3",
   "version": "3.7.6"
  },
  "toc": {
   "base_numbering": 1,
   "nav_menu": {},
   "number_sections": true,
   "sideBar": true,
   "skip_h1_title": false,
   "title_cell": "Table of Contents",
   "title_sidebar": "Contents",
   "toc_cell": false,
   "toc_position": {},
   "toc_section_display": true,
   "toc_window_display": false
  }
 },
 "nbformat": 4,
 "nbformat_minor": 2
}
