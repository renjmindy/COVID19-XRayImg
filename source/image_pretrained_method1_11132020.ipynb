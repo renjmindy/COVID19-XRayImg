{
 "cells": [
  {
   "cell_type": "markdown",
   "metadata": {},
   "source": [
    "## Final Project Submission\n",
    "\n",
    "Please fill out:\n",
    "* Student name: Mindy Jen\n",
    "* Student pace: full time, ds-ft-online-05262020\n",
    "* Scheduled project review date/time: Sep. 24th, 2020/12:45-13:30 (CDT)\n",
    "* Instructor name: Yish Lim\n",
    "* Blog post URL: [Mod4_Blog](https://renjmindy.github.io/diagnosis_of_covid-19_alike_viral_pneumonia)\n",
    "* fine data: [Kaggle](https://www.kaggle.com/paultimothymooney/chest-xray-pneumonia)\n",
    "* full data: [Mendeley](https://data.mendeley.com/datasets/rscbjbr9sj/3)"
   ]
  },
  {
   "cell_type": "code",
   "execution_count": 1,
   "metadata": {},
   "outputs": [],
   "source": [
    "import time\n",
    "import datetime\n",
    "from datetime import date\n",
    "import os, shutil\n",
    "import matplotlib.pyplot as plt\n",
    "import matplotlib.image as mpimg\n",
    "%matplotlib inline\n",
    "import itertools\n",
    "import scipy\n",
    "import numpy as np\n",
    "import pandas as pd\n",
    "import pickle\n",
    "from PIL import Image\n",
    "from scipy import ndimage\n",
    "from sklearn.preprocessing import LabelBinarizer, StandardScaler, OneHotEncoder\n",
    "from sklearn.impute import SimpleImputer\n",
    "from sklearn.model_selection import train_test_split, cross_val_predict\n",
    "from sklearn.metrics import accuracy_score, precision_score, recall_score, f1_score, mean_squared_error\n",
    "from sklearn.metrics import roc_auc_score, roc_curve, auc, classification_report, confusion_matrix, plot_confusion_matrix\n",
    "from sklearn.multiclass import OneVsRestClassifier\n",
    "from keras.utils.np_utils import to_categorical\n",
    "from keras.preprocessing.text import Tokenizer\n",
    "from keras.preprocessing.image import ImageDataGenerator, array_to_img, img_to_array, load_img\n",
    "from keras.applications import VGG19\n",
    "from keras.models import load_model\n",
    "from keras.wrappers.scikit_learn import KerasRegressor\n",
    "from keras import models\n",
    "from keras import layers\n",
    "from keras import regularizers\n",
    "from keras import optimizers\n",
    "\n",
    "np.random.seed(123)\n",
    "original_start = datetime.datetime.now()\n",
    "start = datetime.datetime.now()\n",
    "\n",
    "import warnings\n",
    "warnings.filterwarnings('ignore')"
   ]
  },
  {
   "cell_type": "code",
   "execution_count": 2,
   "metadata": {},
   "outputs": [],
   "source": [
    "train_folder = 'split/train'\n",
    "test_folder = 'split/test'\n",
    "val_folder = 'split/validation'"
   ]
  },
  {
   "cell_type": "code",
   "execution_count": 3,
   "metadata": {},
   "outputs": [],
   "source": [
    "datagen = ImageDataGenerator(rescale=1./255) \n",
    "batch_size = 5"
   ]
  },
  {
   "cell_type": "markdown",
   "metadata": {},
   "source": [
    "## VGG19: Feature extraction"
   ]
  },
  {
   "cell_type": "code",
   "execution_count": 4,
   "metadata": {},
   "outputs": [],
   "source": [
    "vgg19_base = VGG19(weights='imagenet', include_top=False, input_shape=(150, 150, 3))"
   ]
  },
  {
   "cell_type": "code",
   "execution_count": 5,
   "metadata": {},
   "outputs": [
    {
     "name": "stdout",
     "output_type": "stream",
     "text": [
      "Model: \"vgg19\"\n",
      "_________________________________________________________________\n",
      "Layer (type)                 Output Shape              Param #   \n",
      "=================================================================\n",
      "input_1 (InputLayer)         [(None, 150, 150, 3)]     0         \n",
      "_________________________________________________________________\n",
      "block1_conv1 (Conv2D)        (None, 150, 150, 64)      1792      \n",
      "_________________________________________________________________\n",
      "block1_conv2 (Conv2D)        (None, 150, 150, 64)      36928     \n",
      "_________________________________________________________________\n",
      "block1_pool (MaxPooling2D)   (None, 75, 75, 64)        0         \n",
      "_________________________________________________________________\n",
      "block2_conv1 (Conv2D)        (None, 75, 75, 128)       73856     \n",
      "_________________________________________________________________\n",
      "block2_conv2 (Conv2D)        (None, 75, 75, 128)       147584    \n",
      "_________________________________________________________________\n",
      "block2_pool (MaxPooling2D)   (None, 37, 37, 128)       0         \n",
      "_________________________________________________________________\n",
      "block3_conv1 (Conv2D)        (None, 37, 37, 256)       295168    \n",
      "_________________________________________________________________\n",
      "block3_conv2 (Conv2D)        (None, 37, 37, 256)       590080    \n",
      "_________________________________________________________________\n",
      "block3_conv3 (Conv2D)        (None, 37, 37, 256)       590080    \n",
      "_________________________________________________________________\n",
      "block3_conv4 (Conv2D)        (None, 37, 37, 256)       590080    \n",
      "_________________________________________________________________\n",
      "block3_pool (MaxPooling2D)   (None, 18, 18, 256)       0         \n",
      "_________________________________________________________________\n",
      "block4_conv1 (Conv2D)        (None, 18, 18, 512)       1180160   \n",
      "_________________________________________________________________\n",
      "block4_conv2 (Conv2D)        (None, 18, 18, 512)       2359808   \n",
      "_________________________________________________________________\n",
      "block4_conv3 (Conv2D)        (None, 18, 18, 512)       2359808   \n",
      "_________________________________________________________________\n",
      "block4_conv4 (Conv2D)        (None, 18, 18, 512)       2359808   \n",
      "_________________________________________________________________\n",
      "block4_pool (MaxPooling2D)   (None, 9, 9, 512)         0         \n",
      "_________________________________________________________________\n",
      "block5_conv1 (Conv2D)        (None, 9, 9, 512)         2359808   \n",
      "_________________________________________________________________\n",
      "block5_conv2 (Conv2D)        (None, 9, 9, 512)         2359808   \n",
      "_________________________________________________________________\n",
      "block5_conv3 (Conv2D)        (None, 9, 9, 512)         2359808   \n",
      "_________________________________________________________________\n",
      "block5_conv4 (Conv2D)        (None, 9, 9, 512)         2359808   \n",
      "_________________________________________________________________\n",
      "block5_pool (MaxPooling2D)   (None, 4, 4, 512)         0         \n",
      "=================================================================\n",
      "Total params: 20,024,384\n",
      "Trainable params: 20,024,384\n",
      "Non-trainable params: 0\n",
      "_________________________________________________________________\n"
     ]
    }
   ],
   "source": [
    "vgg19_base.summary()"
   ]
  },
  {
   "cell_type": "code",
   "execution_count": 6,
   "metadata": {},
   "outputs": [],
   "source": [
    "def extract_features(directory, sample_amount):\n",
    "    features = np.zeros(shape=(sample_amount, 4, 4, 512)) \n",
    "    labels = np.zeros(shape=(sample_amount))\n",
    "    generator = datagen.flow_from_directory(directory, target_size=(150, 150), batch_size=5, class_mode='binary')\n",
    "    print(generator)\n",
    "    i=0\n",
    "    for inputs_batch, labels_batch in generator:\n",
    "        #print('i:',i,labels_batch)\n",
    "        features_batch = vgg19_base.predict(inputs_batch)\n",
    "        features[i * batch_size : (i + 1) * batch_size] = features_batch \n",
    "        labels[i * batch_size : (i + 1) * batch_size] = labels_batch\n",
    "        #print('\\t',features.shape,' ',labels.shape)\n",
    "        i = i + 1\n",
    "        if i * batch_size >= sample_amount:\n",
    "            break\n",
    "    return features, labels"
   ]
  },
  {
   "cell_type": "code",
   "execution_count": 7,
   "metadata": {
    "scrolled": false
   },
   "outputs": [
    {
     "name": "stdout",
     "output_type": "stream",
     "text": [
      "Found 4685 images belonging to 2 classes.\n",
      "<tensorflow.python.keras.preprocessing.image.DirectoryIterator object at 0x1a411d8050>\n"
     ]
    }
   ],
   "source": [
    "# You should be able to divide sample_amount by batch_size\n",
    "train_features, train_labels = extract_features(train_folder, 3410) \n",
    "train_features = np.reshape(train_features, (3410, 4 * 4 * 512))"
   ]
  },
  {
   "cell_type": "code",
   "execution_count": 8,
   "metadata": {},
   "outputs": [
    {
     "name": "stdout",
     "output_type": "stream",
     "text": [
      "Found 792 images belonging to 2 classes.\n",
      "<tensorflow.python.keras.preprocessing.image.DirectoryIterator object at 0x1a424b8590>\n"
     ]
    }
   ],
   "source": [
    "validation_features, validation_labels = extract_features(val_folder, 420) \n",
    "validation_features = np.reshape(validation_features, (420, 4 * 4 * 512))"
   ]
  },
  {
   "cell_type": "code",
   "execution_count": 9,
   "metadata": {},
   "outputs": [
    {
     "name": "stdout",
     "output_type": "stream",
     "text": [
      "Found 770 images belonging to 2 classes.\n",
      "<tensorflow.python.keras.preprocessing.image.DirectoryIterator object at 0x1a44f9da10>\n"
     ]
    }
   ],
   "source": [
    "test_features, test_labels = extract_features(test_folder, 420)\n",
    "test_features = np.reshape(test_features, (420, 4 * 4 * 512))"
   ]
  },
  {
   "cell_type": "code",
   "execution_count": 10,
   "metadata": {},
   "outputs": [],
   "source": [
    "model = models.Sequential()\n",
    "model.add(layers.Dense(256, activation='relu', input_dim=4*4*512))\n",
    "model.add(layers.Dense(1, activation='sigmoid'))\n",
    "\n",
    "model.compile(optimizer=optimizers.RMSprop(lr=1e-4), loss='binary_crossentropy', metrics=['accuracy'])"
   ]
  },
  {
   "cell_type": "code",
   "execution_count": 11,
   "metadata": {
    "scrolled": false
   },
   "outputs": [
    {
     "name": "stdout",
     "output_type": "stream",
     "text": [
      "program starts, current time:\n",
      "2020-11-12 22:44:36.168919\n",
      "Epoch 1/100\n",
      "682/682 [==============================] - 18s 27ms/step - loss: 0.2188 - accuracy: 0.9097 - val_loss: 0.1576 - val_accuracy: 0.9452\n",
      "Epoch 2/100\n",
      "682/682 [==============================] - 20s 30ms/step - loss: 0.1486 - accuracy: 0.9472 - val_loss: 0.1545 - val_accuracy: 0.9452\n",
      "Epoch 3/100\n",
      "682/682 [==============================] - 19s 28ms/step - loss: 0.1293 - accuracy: 0.9534 - val_loss: 0.2180 - val_accuracy: 0.9262\n",
      "Epoch 4/100\n",
      "682/682 [==============================] - 20s 29ms/step - loss: 0.1193 - accuracy: 0.9560 - val_loss: 0.1490 - val_accuracy: 0.9476\n",
      "Epoch 5/100\n",
      "682/682 [==============================] - 21s 30ms/step - loss: 0.1098 - accuracy: 0.9625 - val_loss: 0.1725 - val_accuracy: 0.9405\n",
      "Epoch 6/100\n",
      "682/682 [==============================] - 27s 40ms/step - loss: 0.1049 - accuracy: 0.9651 - val_loss: 0.2896 - val_accuracy: 0.9048\n",
      "Epoch 7/100\n",
      "682/682 [==============================] - 58s 85ms/step - loss: 0.0983 - accuracy: 0.9683 - val_loss: 0.1669 - val_accuracy: 0.9500\n",
      "Epoch 8/100\n",
      "682/682 [==============================] - 62s 91ms/step - loss: 0.0945 - accuracy: 0.9683 - val_loss: 0.2072 - val_accuracy: 0.9357\n",
      "Epoch 9/100\n",
      "682/682 [==============================] - 48s 70ms/step - loss: 0.0896 - accuracy: 0.9701 - val_loss: 0.1720 - val_accuracy: 0.9429\n",
      "Epoch 10/100\n",
      "682/682 [==============================] - 47s 69ms/step - loss: 0.0832 - accuracy: 0.9704 - val_loss: 0.1968 - val_accuracy: 0.9429\n",
      "Epoch 11/100\n",
      "682/682 [==============================] - 54s 78ms/step - loss: 0.0826 - accuracy: 0.9742 - val_loss: 0.1981 - val_accuracy: 0.9357\n",
      "Epoch 12/100\n",
      "682/682 [==============================] - 68s 100ms/step - loss: 0.0757 - accuracy: 0.9754 - val_loss: 0.2151 - val_accuracy: 0.9333\n",
      "Epoch 13/100\n",
      "682/682 [==============================] - 52s 76ms/step - loss: 0.0746 - accuracy: 0.9765 - val_loss: 0.2018 - val_accuracy: 0.9381\n",
      "Epoch 14/100\n",
      "682/682 [==============================] - 51s 74ms/step - loss: 0.0720 - accuracy: 0.9745 - val_loss: 0.2145 - val_accuracy: 0.9381\n",
      "Epoch 15/100\n",
      "682/682 [==============================] - 52s 76ms/step - loss: 0.0683 - accuracy: 0.9806 - val_loss: 0.1875 - val_accuracy: 0.9452\n",
      "Epoch 16/100\n",
      "682/682 [==============================] - 53s 78ms/step - loss: 0.0626 - accuracy: 0.9777 - val_loss: 0.2164 - val_accuracy: 0.9405\n",
      "Epoch 17/100\n",
      "682/682 [==============================] - 54s 79ms/step - loss: 0.0657 - accuracy: 0.9809 - val_loss: 0.1994 - val_accuracy: 0.9357\n",
      "Epoch 18/100\n",
      "682/682 [==============================] - 55s 80ms/step - loss: 0.0634 - accuracy: 0.9795 - val_loss: 0.2119 - val_accuracy: 0.9381\n",
      "Epoch 19/100\n",
      "682/682 [==============================] - 55s 80ms/step - loss: 0.0601 - accuracy: 0.9806 - val_loss: 0.2090 - val_accuracy: 0.9405\n",
      "Epoch 20/100\n",
      "682/682 [==============================] - 55s 80ms/step - loss: 0.0582 - accuracy: 0.9815 - val_loss: 0.2330 - val_accuracy: 0.9381\n",
      "Epoch 21/100\n",
      "682/682 [==============================] - 55s 81ms/step - loss: 0.0545 - accuracy: 0.9818 - val_loss: 0.2494 - val_accuracy: 0.9429\n",
      "Epoch 22/100\n",
      "682/682 [==============================] - 56s 81ms/step - loss: 0.0522 - accuracy: 0.9862 - val_loss: 0.2366 - val_accuracy: 0.9381\n",
      "Epoch 23/100\n",
      "682/682 [==============================] - 56s 82ms/step - loss: 0.0525 - accuracy: 0.9848 - val_loss: 0.2815 - val_accuracy: 0.9429\n",
      "Epoch 24/100\n",
      "682/682 [==============================] - 56s 82ms/step - loss: 0.0481 - accuracy: 0.9856 - val_loss: 0.2373 - val_accuracy: 0.9405\n",
      "Epoch 25/100\n",
      "682/682 [==============================] - 57s 83ms/step - loss: 0.0476 - accuracy: 0.9853 - val_loss: 0.2832 - val_accuracy: 0.9381\n",
      "Epoch 26/100\n",
      "682/682 [==============================] - 56s 82ms/step - loss: 0.0465 - accuracy: 0.9874 - val_loss: 0.3027 - val_accuracy: 0.9238\n",
      "Epoch 27/100\n",
      "682/682 [==============================] - 59s 86ms/step - loss: 0.0470 - accuracy: 0.9868 - val_loss: 0.2954 - val_accuracy: 0.9405\n",
      "Epoch 28/100\n",
      "682/682 [==============================] - 58s 85ms/step - loss: 0.0420 - accuracy: 0.9886 - val_loss: 0.2801 - val_accuracy: 0.9429\n",
      "Epoch 29/100\n",
      "682/682 [==============================] - 52s 77ms/step - loss: 0.0446 - accuracy: 0.9886 - val_loss: 0.2785 - val_accuracy: 0.9381\n",
      "Epoch 30/100\n",
      "682/682 [==============================] - 40s 59ms/step - loss: 0.0395 - accuracy: 0.9877 - val_loss: 0.2698 - val_accuracy: 0.9381\n",
      "Epoch 31/100\n",
      "682/682 [==============================] - 38s 56ms/step - loss: 0.0396 - accuracy: 0.9894 - val_loss: 0.3106 - val_accuracy: 0.9381\n",
      "Epoch 32/100\n",
      "682/682 [==============================] - 37s 55ms/step - loss: 0.0384 - accuracy: 0.9894 - val_loss: 0.3328 - val_accuracy: 0.9381\n",
      "Epoch 33/100\n",
      "682/682 [==============================] - 40s 58ms/step - loss: 0.0341 - accuracy: 0.9897 - val_loss: 0.3144 - val_accuracy: 0.9333\n",
      "Epoch 34/100\n",
      "682/682 [==============================] - 39s 58ms/step - loss: 0.0360 - accuracy: 0.9906 - val_loss: 0.3490 - val_accuracy: 0.9429\n",
      "Epoch 35/100\n",
      "682/682 [==============================] - 40s 59ms/step - loss: 0.0349 - accuracy: 0.9894 - val_loss: 0.2892 - val_accuracy: 0.9381\n",
      "Epoch 36/100\n",
      "682/682 [==============================] - 40s 59ms/step - loss: 0.0320 - accuracy: 0.9897 - val_loss: 0.3459 - val_accuracy: 0.9381\n",
      "Epoch 37/100\n",
      "682/682 [==============================] - 39s 58ms/step - loss: 0.0320 - accuracy: 0.9918 - val_loss: 0.3005 - val_accuracy: 0.9405\n",
      "Epoch 38/100\n",
      "682/682 [==============================] - 38s 56ms/step - loss: 0.0281 - accuracy: 0.9903 - val_loss: 0.3259 - val_accuracy: 0.9357\n",
      "Epoch 39/100\n",
      "682/682 [==============================] - 38s 56ms/step - loss: 0.0286 - accuracy: 0.9927 - val_loss: 0.3374 - val_accuracy: 0.9357\n",
      "Epoch 40/100\n",
      "682/682 [==============================] - 39s 57ms/step - loss: 0.0286 - accuracy: 0.9924 - val_loss: 0.2980 - val_accuracy: 0.9405\n",
      "Epoch 41/100\n",
      "682/682 [==============================] - 39s 57ms/step - loss: 0.0272 - accuracy: 0.9933 - val_loss: 0.3728 - val_accuracy: 0.9405\n",
      "Epoch 42/100\n",
      "682/682 [==============================] - 40s 58ms/step - loss: 0.0241 - accuracy: 0.9933 - val_loss: 0.3492 - val_accuracy: 0.9310\n",
      "Epoch 43/100\n",
      "682/682 [==============================] - 39s 57ms/step - loss: 0.0301 - accuracy: 0.9918 - val_loss: 0.3528 - val_accuracy: 0.9333\n",
      "Epoch 44/100\n",
      "682/682 [==============================] - 39s 57ms/step - loss: 0.0246 - accuracy: 0.9941 - val_loss: 0.3381 - val_accuracy: 0.9333\n",
      "Epoch 45/100\n",
      "682/682 [==============================] - 39s 57ms/step - loss: 0.0222 - accuracy: 0.9941 - val_loss: 0.3260 - val_accuracy: 0.9333\n",
      "Epoch 46/100\n",
      "682/682 [==============================] - 40s 59ms/step - loss: 0.0213 - accuracy: 0.9953 - val_loss: 0.3896 - val_accuracy: 0.9357\n",
      "Epoch 47/100\n",
      "682/682 [==============================] - 39s 57ms/step - loss: 0.0227 - accuracy: 0.9950 - val_loss: 0.3407 - val_accuracy: 0.9381\n",
      "Epoch 48/100\n",
      "682/682 [==============================] - 39s 56ms/step - loss: 0.0230 - accuracy: 0.9950 - val_loss: 0.3383 - val_accuracy: 0.9381\n",
      "Epoch 49/100\n",
      "682/682 [==============================] - 39s 57ms/step - loss: 0.0208 - accuracy: 0.9953 - val_loss: 0.3609 - val_accuracy: 0.9357\n",
      "Epoch 50/100\n",
      "682/682 [==============================] - 38s 56ms/step - loss: 0.0202 - accuracy: 0.9950 - val_loss: 0.3743 - val_accuracy: 0.9429\n",
      "Epoch 51/100\n",
      "682/682 [==============================] - 38s 55ms/step - loss: 0.0203 - accuracy: 0.9947 - val_loss: 0.4148 - val_accuracy: 0.9405\n",
      "Epoch 52/100\n",
      "682/682 [==============================] - 38s 56ms/step - loss: 0.0174 - accuracy: 0.9959 - val_loss: 0.3926 - val_accuracy: 0.9381\n",
      "Epoch 53/100\n",
      "682/682 [==============================] - 38s 55ms/step - loss: 0.0177 - accuracy: 0.9965 - val_loss: 0.3707 - val_accuracy: 0.9381\n",
      "Epoch 54/100\n",
      "682/682 [==============================] - 38s 55ms/step - loss: 0.0178 - accuracy: 0.9956 - val_loss: 0.3625 - val_accuracy: 0.9405\n",
      "Epoch 55/100\n",
      "682/682 [==============================] - 38s 56ms/step - loss: 0.0174 - accuracy: 0.9953 - val_loss: 0.3673 - val_accuracy: 0.9381\n",
      "Epoch 56/100\n",
      "682/682 [==============================] - 38s 56ms/step - loss: 0.0162 - accuracy: 0.9968 - val_loss: 0.3604 - val_accuracy: 0.9405\n"
     ]
    },
    {
     "name": "stdout",
     "output_type": "stream",
     "text": [
      "Epoch 57/100\n",
      "682/682 [==============================] - 38s 56ms/step - loss: 0.0154 - accuracy: 0.9971 - val_loss: 0.4054 - val_accuracy: 0.9405\n",
      "Epoch 58/100\n",
      "682/682 [==============================] - 38s 56ms/step - loss: 0.0178 - accuracy: 0.9968 - val_loss: 0.4307 - val_accuracy: 0.9333\n",
      "Epoch 59/100\n",
      "682/682 [==============================] - 38s 56ms/step - loss: 0.0148 - accuracy: 0.9971 - val_loss: 0.4015 - val_accuracy: 0.9381\n",
      "Epoch 60/100\n",
      "682/682 [==============================] - 38s 56ms/step - loss: 0.0142 - accuracy: 0.9982 - val_loss: 0.4051 - val_accuracy: 0.9381\n",
      "Epoch 61/100\n",
      "682/682 [==============================] - 38s 56ms/step - loss: 0.0126 - accuracy: 0.9979 - val_loss: 0.4348 - val_accuracy: 0.9405\n",
      "Epoch 62/100\n",
      "682/682 [==============================] - 38s 56ms/step - loss: 0.0154 - accuracy: 0.9977 - val_loss: 0.4618 - val_accuracy: 0.9405\n",
      "Epoch 63/100\n",
      "682/682 [==============================] - 38s 56ms/step - loss: 0.0130 - accuracy: 0.9974 - val_loss: 0.4700 - val_accuracy: 0.9357\n",
      "Epoch 64/100\n",
      "682/682 [==============================] - 39s 57ms/step - loss: 0.0134 - accuracy: 0.9974 - val_loss: 0.4587 - val_accuracy: 0.9357\n",
      "Epoch 65/100\n",
      "682/682 [==============================] - 38s 56ms/step - loss: 0.0121 - accuracy: 0.9979 - val_loss: 0.4381 - val_accuracy: 0.9405\n",
      "Epoch 66/100\n",
      "682/682 [==============================] - 38s 56ms/step - loss: 0.0111 - accuracy: 0.9985 - val_loss: 0.4661 - val_accuracy: 0.9429\n",
      "Epoch 67/100\n",
      "682/682 [==============================] - 38s 56ms/step - loss: 0.0126 - accuracy: 0.9979 - val_loss: 0.4491 - val_accuracy: 0.9429\n",
      "Epoch 68/100\n",
      "682/682 [==============================] - 38s 56ms/step - loss: 0.0140 - accuracy: 0.9971 - val_loss: 0.4656 - val_accuracy: 0.9357\n",
      "Epoch 69/100\n",
      "682/682 [==============================] - 39s 57ms/step - loss: 0.0106 - accuracy: 0.9988 - val_loss: 0.4383 - val_accuracy: 0.9357\n",
      "Epoch 70/100\n",
      "682/682 [==============================] - 38s 56ms/step - loss: 0.0111 - accuracy: 0.9982 - val_loss: 0.4597 - val_accuracy: 0.9405\n",
      "Epoch 71/100\n",
      "682/682 [==============================] - 38s 56ms/step - loss: 0.0105 - accuracy: 0.9988 - val_loss: 0.4568 - val_accuracy: 0.9381\n",
      "Epoch 72/100\n",
      "682/682 [==============================] - 39s 57ms/step - loss: 0.0102 - accuracy: 0.9985 - val_loss: 0.5053 - val_accuracy: 0.9357\n",
      "Epoch 73/100\n",
      "682/682 [==============================] - 38s 56ms/step - loss: 0.0106 - accuracy: 0.9985 - val_loss: 0.4567 - val_accuracy: 0.9381\n",
      "Epoch 74/100\n",
      "682/682 [==============================] - 39s 57ms/step - loss: 0.0085 - accuracy: 0.9988 - val_loss: 0.4638 - val_accuracy: 0.9429\n",
      "Epoch 75/100\n",
      "682/682 [==============================] - 39s 57ms/step - loss: 0.0099 - accuracy: 0.9988 - val_loss: 0.4407 - val_accuracy: 0.9405\n",
      "Epoch 76/100\n",
      "682/682 [==============================] - 42s 61ms/step - loss: 0.0103 - accuracy: 0.9988 - val_loss: 0.4550 - val_accuracy: 0.9405\n",
      "Epoch 77/100\n",
      "682/682 [==============================] - 69s 101ms/step - loss: 0.0075 - accuracy: 0.9985 - val_loss: 0.5152 - val_accuracy: 0.9381\n",
      "Epoch 78/100\n",
      "682/682 [==============================] - 71s 105ms/step - loss: 0.0093 - accuracy: 0.9991 - val_loss: 0.5017 - val_accuracy: 0.9381\n",
      "Epoch 79/100\n",
      "682/682 [==============================] - 62s 91ms/step - loss: 0.0083 - accuracy: 0.9991 - val_loss: 0.5413 - val_accuracy: 0.9381\n",
      "Epoch 80/100\n",
      "682/682 [==============================] - 60s 88ms/step - loss: 0.0090 - accuracy: 0.9991 - val_loss: 0.5471 - val_accuracy: 0.9381\n",
      "Epoch 81/100\n",
      "682/682 [==============================] - 60s 88ms/step - loss: 0.0091 - accuracy: 0.9988 - val_loss: 0.4672 - val_accuracy: 0.9357\n",
      "Epoch 82/100\n",
      "682/682 [==============================] - 60s 88ms/step - loss: 0.0094 - accuracy: 0.9991 - val_loss: 0.5283 - val_accuracy: 0.9405\n",
      "Epoch 83/100\n",
      "682/682 [==============================] - 63s 92ms/step - loss: 0.0072 - accuracy: 0.9991 - val_loss: 0.6192 - val_accuracy: 0.9405\n",
      "Epoch 84/100\n",
      "682/682 [==============================] - 61s 90ms/step - loss: 0.0092 - accuracy: 0.9985 - val_loss: 0.5470 - val_accuracy: 0.9333\n",
      "Epoch 85/100\n",
      "682/682 [==============================] - 61s 89ms/step - loss: 0.0080 - accuracy: 0.9988 - val_loss: 0.5170 - val_accuracy: 0.9357\n",
      "Epoch 86/100\n",
      "682/682 [==============================] - 62s 91ms/step - loss: 0.0086 - accuracy: 0.9991 - val_loss: 0.5473 - val_accuracy: 0.9381\n",
      "Epoch 87/100\n",
      "682/682 [==============================] - 64s 94ms/step - loss: 0.0069 - accuracy: 0.9991 - val_loss: 0.5820 - val_accuracy: 0.9357\n",
      "Epoch 88/100\n",
      "682/682 [==============================] - 62s 91ms/step - loss: 0.0083 - accuracy: 0.9988 - val_loss: 0.5862 - val_accuracy: 0.9381\n",
      "Epoch 89/100\n",
      "682/682 [==============================] - 61s 90ms/step - loss: 0.0075 - accuracy: 0.9988 - val_loss: 0.6135 - val_accuracy: 0.9357\n",
      "Epoch 90/100\n",
      "682/682 [==============================] - 60s 89ms/step - loss: 0.0083 - accuracy: 0.9991 - val_loss: 0.6167 - val_accuracy: 0.9357\n",
      "Epoch 91/100\n",
      "682/682 [==============================] - 61s 89ms/step - loss: 0.0078 - accuracy: 0.9991 - val_loss: 0.5865 - val_accuracy: 0.9429\n",
      "Epoch 92/100\n",
      "682/682 [==============================] - 61s 90ms/step - loss: 0.0081 - accuracy: 0.9991 - val_loss: 0.5634 - val_accuracy: 0.9381\n",
      "Epoch 93/100\n",
      "682/682 [==============================] - 52s 77ms/step - loss: 0.0074 - accuracy: 0.9991 - val_loss: 0.6065 - val_accuracy: 0.9381\n",
      "Epoch 94/100\n",
      "682/682 [==============================] - 41s 60ms/step - loss: 0.0078 - accuracy: 0.9991 - val_loss: 0.6345 - val_accuracy: 0.9357\n",
      "Epoch 95/100\n",
      "682/682 [==============================] - 38s 56ms/step - loss: 0.0075 - accuracy: 0.9991 - val_loss: 0.6018 - val_accuracy: 0.9405\n",
      "Epoch 96/100\n",
      "682/682 [==============================] - 38s 56ms/step - loss: 0.0056 - accuracy: 0.9991 - val_loss: 0.6190 - val_accuracy: 0.9357\n",
      "Epoch 97/100\n",
      "682/682 [==============================] - 39s 57ms/step - loss: 0.0078 - accuracy: 0.9991 - val_loss: 0.5899 - val_accuracy: 0.9381\n",
      "Epoch 98/100\n",
      "682/682 [==============================] - 39s 57ms/step - loss: 0.0060 - accuracy: 0.9991 - val_loss: 0.6397 - val_accuracy: 0.9452\n",
      "Epoch 99/100\n",
      "682/682 [==============================] - 39s 58ms/step - loss: 0.0072 - accuracy: 0.9991 - val_loss: 0.6337 - val_accuracy: 0.9405\n",
      "Epoch 100/100\n",
      "682/682 [==============================] - 57s 83ms/step - loss: 0.0078 - accuracy: 0.9991 - val_loss: 0.6470 - val_accuracy: 0.9381\n",
      "program ends, current time:\n",
      "2020-11-13 00:00:34.359833\n",
      "Training took a total of 1:15:58.190914\n"
     ]
    }
   ],
   "source": [
    "start = datetime.datetime.now()\n",
    "print('program starts, current time:')\n",
    "print(start)\n",
    "history = model.fit(train_features, train_labels, epochs=100, batch_size=5, validation_data=(validation_features, validation_labels))\n",
    "end = datetime.datetime.now()\n",
    "print('program ends, current time:')\n",
    "print(end)\n",
    "elapsed = end - start\n",
    "print('Training took a total of {}'.format(elapsed))"
   ]
  },
  {
   "cell_type": "code",
   "execution_count": 12,
   "metadata": {},
   "outputs": [
    {
     "name": "stdout",
     "output_type": "stream",
     "text": [
      "107/107 [==============================] - 1s 6ms/step - loss: 0.0056 - accuracy: 0.9994\n"
     ]
    },
    {
     "data": {
      "text/plain": [
       "[0.0056258924305438995, 0.9994134902954102]"
      ]
     },
     "execution_count": 12,
     "metadata": {},
     "output_type": "execute_result"
    }
   ],
   "source": [
    "results_train = model.evaluate(train_features, train_labels)\n",
    "results_train"
   ]
  },
  {
   "cell_type": "code",
   "execution_count": 13,
   "metadata": {},
   "outputs": [
    {
     "name": "stdout",
     "output_type": "stream",
     "text": [
      "14/14 [==============================] - 0s 6ms/step - loss: 0.2553 - accuracy: 0.9690\n"
     ]
    },
    {
     "data": {
      "text/plain": [
       "[0.25530004501342773, 0.9690476059913635]"
      ]
     },
     "execution_count": 13,
     "metadata": {},
     "output_type": "execute_result"
    }
   ],
   "source": [
    "results_test = model.evaluate(test_features, test_labels)\n",
    "results_test"
   ]
  },
  {
   "cell_type": "code",
   "execution_count": 14,
   "metadata": {},
   "outputs": [
    {
     "data": {
      "text/plain": [
       "dict_keys(['loss', 'accuracy', 'val_loss', 'val_accuracy'])"
      ]
     },
     "execution_count": 14,
     "metadata": {},
     "output_type": "execute_result"
    }
   ],
   "source": [
    "history.history.keys()"
   ]
  },
  {
   "cell_type": "markdown",
   "metadata": {},
   "source": [
    "Using VGG-19 I'm able to get test set performance up to almost 97%."
   ]
  },
  {
   "cell_type": "code",
   "execution_count": 15,
   "metadata": {},
   "outputs": [],
   "source": [
    "def visualize_training_results(results):\n",
    "    history = results.history\n",
    "    plt.figure()\n",
    "    plt.plot(history['val_loss'])\n",
    "    plt.plot(history['loss'])\n",
    "    plt.legend(['val_loss', 'loss'])\n",
    "    plt.title('Loss')\n",
    "    plt.xlabel('Epochs')\n",
    "    plt.ylabel('Loss')\n",
    "    plt.show()\n",
    "    \n",
    "    plt.figure()\n",
    "    plt.plot(history['val_accuracy'])\n",
    "    plt.plot(history['accuracy'])\n",
    "    plt.legend(['val_acc', 'acc'])\n",
    "    plt.title('Accuracy')\n",
    "    plt.xlabel('Epochs')\n",
    "    plt.ylabel('Accuracy')\n",
    "    plt.show()"
   ]
  },
  {
   "cell_type": "code",
   "execution_count": 16,
   "metadata": {},
   "outputs": [
    {
     "data": {
      "image/png": "[encoded data removed]",
      "text/plain": [
       "<Figure size 432x288 with 1 Axes>"
      ]
     },
     "metadata": {
      "needs_background": "light"
     },
     "output_type": "display_data"
    },
    {
     "data": {
      "image/png": "[encoded data removed]",
      "text/plain": [
       "<Figure size 432x288 with 1 Axes>"
      ]
     },
     "metadata": {
      "needs_background": "light"
     },
     "output_type": "display_data"
    }
   ],
   "source": [
    "visualize_training_results(history)"
   ]
  },
  {
   "cell_type": "code",
   "execution_count": 17,
   "metadata": {},
   "outputs": [],
   "source": [
    "saved_model = model.save('vgg19_chest_xray_ALL_data_'+str(date.today())+'_method1.h5')"
   ]
  },
  {
   "cell_type": "code",
   "execution_count": 18,
   "metadata": {},
   "outputs": [],
   "source": [
    "preds_model = model.predict(test_features)"
   ]
  },
  {
   "cell_type": "code",
   "execution_count": 19,
   "metadata": {},
   "outputs": [
    {
     "data": {
      "text/plain": [
       "numpy.ndarray"
      ]
     },
     "execution_count": 19,
     "metadata": {},
     "output_type": "execute_result"
    }
   ],
   "source": [
    "type(preds_model)"
   ]
  },
  {
   "cell_type": "code",
   "execution_count": 20,
   "metadata": {},
   "outputs": [
    {
     "data": {
      "text/plain": [
       "(420, 1)"
      ]
     },
     "execution_count": 20,
     "metadata": {},
     "output_type": "execute_result"
    }
   ],
   "source": [
    "preds_model.shape"
   ]
  },
  {
   "cell_type": "code",
   "execution_count": 21,
   "metadata": {},
   "outputs": [
    {
     "data": {
      "text/plain": [
       "(420,)"
      ]
     },
     "execution_count": 21,
     "metadata": {},
     "output_type": "execute_result"
    }
   ],
   "source": [
    "test_labels.shape"
   ]
  },
  {
   "cell_type": "code",
   "execution_count": 22,
   "metadata": {},
   "outputs": [
    {
     "name": "stdout",
     "output_type": "stream",
     "text": [
      "WARNING:tensorflow:From <ipython-input-22-5a9129955633>:1: Sequential.predict_classes (from tensorflow.python.keras.engine.sequential) is deprecated and will be removed after 2021-01-01.\n",
      "Instructions for updating:\n",
      "Please use instead:* `np.argmax(model.predict(x), axis=-1)`,   if your model does multi-class classification   (e.g. if it uses a `softmax` last-layer activation).* `(model.predict(x) > 0.5).astype(\"int32\")`,   if your model does binary classification   (e.g. if it uses a `sigmoid` last-layer activation).\n"
     ]
    }
   ],
   "source": [
    "pred_model_class = model.predict_classes(test_features)"
   ]
  },
  {
   "cell_type": "code",
   "execution_count": 23,
   "metadata": {},
   "outputs": [
    {
     "data": {
      "text/plain": [
       "(420, 1)"
      ]
     },
     "execution_count": 23,
     "metadata": {},
     "output_type": "execute_result"
    }
   ],
   "source": [
    "pred_model_class.shape"
   ]
  },
  {
   "cell_type": "code",
   "execution_count": 24,
   "metadata": {},
   "outputs": [
    {
     "data": {
      "text/plain": [
       "(420, 1)"
      ]
     },
     "execution_count": 24,
     "metadata": {},
     "output_type": "execute_result"
    }
   ],
   "source": [
    "pred_model_binary_class = (model.predict(test_features) > 0.5).astype(\"int32\")\n",
    "pred_model_binary_class.shape"
   ]
  },
  {
   "cell_type": "code",
   "execution_count": 47,
   "metadata": {},
   "outputs": [
    {
     "data": {
      "text/plain": [
       "0.969047619047619"
      ]
     },
     "execution_count": 47,
     "metadata": {},
     "output_type": "execute_result"
    }
   ],
   "source": [
    "accuracy_model = accuracy_score(test_labels, preds_model.round())\n",
    "accuracy_model"
   ]
  },
  {
   "cell_type": "code",
   "execution_count": 28,
   "metadata": {},
   "outputs": [
    {
     "data": {
      "text/plain": [
       "0.9865319865319865"
      ]
     },
     "execution_count": 28,
     "metadata": {},
     "output_type": "execute_result"
    }
   ],
   "source": [
    "precision_model = precision_score(test_labels, preds_model.round())\n",
    "precision_model"
   ]
  },
  {
   "cell_type": "code",
   "execution_count": 29,
   "metadata": {},
   "outputs": [
    {
     "data": {
      "text/plain": [
       "0.9701986754966887"
      ]
     },
     "execution_count": 29,
     "metadata": {},
     "output_type": "execute_result"
    }
   ],
   "source": [
    "recall_model = recall_score(test_labels, preds_model.round())\n",
    "recall_model"
   ]
  },
  {
   "cell_type": "code",
   "execution_count": 30,
   "metadata": {},
   "outputs": [
    {
     "data": {
      "text/plain": [
       "0.9782971619365608"
      ]
     },
     "execution_count": 30,
     "metadata": {},
     "output_type": "execute_result"
    }
   ],
   "source": [
    "f1_model = f1_score(test_labels, preds_model.round())\n",
    "f1_model"
   ]
  },
  {
   "cell_type": "code",
   "execution_count": 31,
   "metadata": {},
   "outputs": [
    {
     "data": {
      "text/plain": [
       "0.9911886855988327"
      ]
     },
     "execution_count": 31,
     "metadata": {},
     "output_type": "execute_result"
    }
   ],
   "source": [
    "auc_value_model = roc_auc_score(test_labels, preds_model)\n",
    "auc_value_model"
   ]
  },
  {
   "cell_type": "code",
   "execution_count": 32,
   "metadata": {},
   "outputs": [],
   "source": [
    "fpr_model, tpr_model, threshold_model = roc_curve(test_labels, preds_model)"
   ]
  },
  {
   "cell_type": "code",
   "execution_count": 33,
   "metadata": {},
   "outputs": [],
   "source": [
    "roc_auc_model = auc(fpr_model, tpr_model)"
   ]
  },
  {
   "cell_type": "code",
   "execution_count": 34,
   "metadata": {},
   "outputs": [
    {
     "data": {
      "image/png": "[encoded data removed]",
      "text/plain": [
       "<Figure size 432x288 with 1 Axes>"
      ]
     },
     "metadata": {
      "needs_background": "light"
     },
     "output_type": "display_data"
    }
   ],
   "source": [
    "plt.figure()\n",
    "lw=2\n",
    "plt.plot(fpr_model, tpr_model, color='darkorange', lw=lw, label='ROC curve (area=%.2f)' %auc_value_model)\n",
    "plt.plot([0, 1], [0, 1], color='navy', lw=lw, linestyle='--')\n",
    "plt.xlim([0.0, 1.0])\n",
    "plt.ylim([0.0, 1.05])\n",
    "plt.xlabel('False Positive Rate')\n",
    "plt.ylabel('True Positive Rate')\n",
    "plt.title('Receiver operating characteristic for VGG19')\n",
    "plt.legend(loc='lower right')\n",
    "plt.show()"
   ]
  },
  {
   "cell_type": "code",
   "execution_count": 36,
   "metadata": {},
   "outputs": [
    {
     "name": "stdout",
     "output_type": "stream",
     "text": [
      "              precision    recall  f1-score   support\n",
      "\n",
      "         0.0       0.93      0.97      0.95       118\n",
      "         1.0       0.99      0.97      0.98       302\n",
      "\n",
      "    accuracy                           0.97       420\n",
      "   macro avg       0.96      0.97      0.96       420\n",
      "weighted avg       0.97      0.97      0.97       420\n",
      "\n"
     ]
    }
   ],
   "source": [
    "report_model = classification_report(test_labels, preds_model.round())\n",
    "print(report_model)"
   ]
  },
  {
   "cell_type": "code",
   "execution_count": 38,
   "metadata": {},
   "outputs": [
    {
     "name": "stdout",
     "output_type": "stream",
     "text": [
      "[[114   4]\n",
      " [  9 293]]\n"
     ]
    }
   ],
   "source": [
    "cnf_matrix_model = confusion_matrix(y_true=test_labels, y_pred=preds_model.round())\n",
    "np.set_printoptions(precision=2)\n",
    "print(cnf_matrix_model)"
   ]
  },
  {
   "cell_type": "code",
   "execution_count": 39,
   "metadata": {},
   "outputs": [],
   "source": [
    "def plot_confusion_matrix(cm, classes,\n",
    "                          normalize=False,\n",
    "                          title='Confusion matrix',\n",
    "                          cmap=plt.cm.Greens):\n",
    "    \"\"\"\n",
    "    This function prints and plots the confusion matrix.\n",
    "    Normalization can be applied by setting `normalize=True`.\n",
    "    \"\"\"\n",
    "    plt.imshow(cm, interpolation='nearest', cmap=cmap)\n",
    "    plt.title(title)\n",
    "    plt.colorbar()\n",
    "    tick_marks = np.arange(len(classes))\n",
    "    plt.xticks(tick_marks, classes, rotation=45)\n",
    "    plt.yticks(tick_marks, classes)\n",
    "\n",
    "    if normalize:\n",
    "        cm = cm.astype('float') / cm.sum(axis=1)[:, np.newaxis]\n",
    "        print(\"Normalized confusion matrix\")\n",
    "    else:\n",
    "        print('Confusion matrix, without normalization')\n",
    "\n",
    "    print(cm)\n",
    "\n",
    "    thresh = cm.max() / 2.\n",
    "    for i, j in itertools.product(range(cm.shape[0]), range(cm.shape[1])):\n",
    "        plt.text(j, i, np.round(cm[i, j],2),\n",
    "                 horizontalalignment=\"center\",\n",
    "                 color=\"white\" if cm[i, j] > thresh else \"black\")\n",
    "\n",
    "    plt.tight_layout()\n",
    "    plt.ylabel('True label')\n",
    "    plt.xlabel('Predicted label')"
   ]
  },
  {
   "cell_type": "code",
   "execution_count": 40,
   "metadata": {},
   "outputs": [],
   "source": [
    "cm_plot_labels = ['NORMAL','PNEUMONIA']"
   ]
  },
  {
   "cell_type": "code",
   "execution_count": 41,
   "metadata": {},
   "outputs": [
    {
     "name": "stdout",
     "output_type": "stream",
     "text": [
      "Confusion matrix, without normalization\n",
      "[[114   4]\n",
      " [  9 293]]\n"
     ]
    },
    {
     "data": {
      "image/png": "[encoded data removed]",
      "text/plain": [
       "<Figure size 432x288 with 2 Axes>"
      ]
     },
     "metadata": {
      "needs_background": "light"
     },
     "output_type": "display_data"
    }
   ],
   "source": [
    "plt.figure()\n",
    "plot_confusion_matrix(cnf_matrix_model, classes=cm_plot_labels, title='Confusion matrix for Baseline, without normalization')\n",
    "plt.show()"
   ]
  },
  {
   "cell_type": "code",
   "execution_count": 42,
   "metadata": {},
   "outputs": [
    {
     "name": "stdout",
     "output_type": "stream",
     "text": [
      "Normalized confusion matrix\n",
      "[[0.97 0.03]\n",
      " [0.03 0.97]]\n"
     ]
    },
    {
     "data": {
      "image/png": "[encoded data removed]",
      "text/plain": [
       "<Figure size 432x288 with 2 Axes>"
      ]
     },
     "metadata": {
      "needs_background": "light"
     },
     "output_type": "display_data"
    }
   ],
   "source": [
    "plt.figure()\n",
    "plot_confusion_matrix(cnf_matrix_model, classes=cm_plot_labels, normalize=True, title='Normalized confusion matrix for Baseline')\n",
    "plt.show()"
   ]
  },
  {
   "cell_type": "code",
   "execution_count": 43,
   "metadata": {},
   "outputs": [],
   "source": [
    "import pandas as pd\n",
    "\n",
    "# convert the history.history dict to a pandas DataFrame:     \n",
    "hist_df = pd.DataFrame(history.history) \n",
    "# or save to csv: \n",
    "hist_csv_file = 'vgg19_chest_xray_ALL_data'+str(date.today())+'_history.csv'\n",
    "with open(hist_csv_file, mode='w') as f:\n",
    "    hist_df.to_csv(f)"
   ]
  },
  {
   "cell_type": "code",
   "execution_count": null,
   "metadata": {},
   "outputs": [],
   "source": []
  }
 ],
 "metadata": {
  "kernelspec": {
   "display_name": "Python 3",
   "language": "python",
   "name": "python3"
  },
  "language_info": {
   "codemirror_mode": {
    "name": "ipython",
    "version": 3
   },
   "file_extension": ".py",
   "mimetype": "text/x-python",
   "name": "python",
   "nbconvert_exporter": "python",
   "pygments_lexer": "ipython3",
   "version": "3.7.6"
  },
  "toc": {
   "base_numbering": 1,
   "nav_menu": {},
   "number_sections": true,
   "sideBar": true,
   "skip_h1_title": false,
   "title_cell": "Table of Contents",
   "title_sidebar": "Contents",
   "toc_cell": false,
   "toc_position": {},
   "toc_section_display": true,
   "toc_window_display": false
  }
 },
 "nbformat": 4,
 "nbformat_minor": 2
}
