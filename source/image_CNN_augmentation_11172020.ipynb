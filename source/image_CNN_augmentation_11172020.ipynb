{
 "cells": [
  {
   "cell_type": "markdown",
   "metadata": {},
   "source": [
    "## Final Project Submission\n",
    "\n",
    "Please fill out:\n",
    "* Student name: Mindy Jen\n",
    "* Student pace: full time, ds-ft-online-05262020\n",
    "* Scheduled project review date/time: Sep. 24th, 2020/12:45-13:30 (CDT)\n",
    "* Instructor name: Yish Lim\n",
    "* Blog post URL: [Mod4_Blog](https://renjmindy.github.io/diagnosis_of_covid-19_alike_viral_pneumonia)\n",
    "* fine data: [Kaggle](https://www.kaggle.com/paultimothymooney/chest-xray-pneumonia)\n",
    "* full data: [Mendeley](https://data.mendeley.com/datasets/rscbjbr9sj/3)"
   ]
  },
  {
   "cell_type": "code",
   "execution_count": 1,
   "metadata": {},
   "outputs": [],
   "source": [
    "import time\n",
    "import datetime\n",
    "from datetime import date\n",
    "import os, shutil\n",
    "import matplotlib.pyplot as plt\n",
    "import matplotlib.image as mpimg\n",
    "%matplotlib inline\n",
    "import itertools\n",
    "import scipy\n",
    "import numpy as np\n",
    "from PIL import Image\n",
    "from scipy import ndimage\n",
    "from sklearn.preprocessing import LabelBinarizer, StandardScaler, OneHotEncoder\n",
    "from sklearn.impute import SimpleImputer\n",
    "from sklearn.model_selection import train_test_split, cross_val_predict\n",
    "from sklearn.metrics import accuracy_score, precision_score, recall_score, f1_score, mean_squared_error\n",
    "from sklearn.metrics import roc_auc_score, roc_curve, auc, classification_report, confusion_matrix, plot_confusion_matrix\n",
    "from keras.utils.np_utils import to_categorical\n",
    "from keras.preprocessing.text import Tokenizer\n",
    "from keras.preprocessing.image import ImageDataGenerator, array_to_img, img_to_array, load_img\n",
    "from keras import models\n",
    "from keras import layers\n",
    "from keras import regularizers\n",
    "from keras import optimizers\n",
    "from keras.wrappers.scikit_learn import KerasRegressor\n",
    "\n",
    "np.random.seed(123)\n",
    "original_start = datetime.datetime.now()\n",
    "start = datetime.datetime.now()\n",
    "\n",
    "import warnings\n",
    "warnings.filterwarnings('ignore')"
   ]
  },
  {
   "cell_type": "code",
   "execution_count": 2,
   "metadata": {},
   "outputs": [],
   "source": [
    "new_dir = 'split/'\n",
    "\n",
    "train_folder = os.path.join(new_dir, 'train')\n",
    "train_pneumonia = os.path.join(train_folder, 'PNEUMONIA')\n",
    "train_normal = os.path.join(train_folder, 'NORMAL')\n",
    "\n",
    "test_folder = os.path.join(new_dir, 'test')\n",
    "test_pneumonia = os.path.join(test_folder, 'PNEUMONIA')\n",
    "test_normal = os.path.join(test_folder, 'NORMAL')\n",
    "\n",
    "val_folder = os.path.join(new_dir, 'validation')\n",
    "val_pneumonia = os.path.join(val_folder, 'PNEUMONIA')\n",
    "val_normal = os.path.join(val_folder, 'NORMAL')"
   ]
  },
  {
   "cell_type": "markdown",
   "metadata": {},
   "source": [
    "## Data Augmentation"
   ]
  },
  {
   "cell_type": "code",
   "execution_count": 3,
   "metadata": {},
   "outputs": [],
   "source": [
    "train_datagen = ImageDataGenerator(rescale=1./255,\n",
    "                                   rotation_range=40, \n",
    "                                   width_shift_range=0.2, \n",
    "                                   height_shift_range=0.2, \n",
    "                                   shear_range=0.2, \n",
    "                                   zoom_range=0.2, \n",
    "                                   horizontal_flip=True, \n",
    "                                   fill_mode='nearest')"
   ]
  },
  {
   "cell_type": "code",
   "execution_count": 4,
   "metadata": {},
   "outputs": [
    {
     "name": "stdout",
     "output_type": "stream",
     "text": [
      "training data:\n",
      "Found 4685 images belonging to 2 classes.\n"
     ]
    }
   ],
   "source": [
    "# get all the data in the directory split/train (3,418 images), and reshape them\n",
    "print('training data:')\n",
    "\n",
    "train_generator = train_datagen.flow_from_directory(\n",
    "    # This is the target directory\n",
    "    train_folder, \n",
    "    # All images will be resized to 150x150\n",
    "    target_size=(150, 150), batch_size = 10000)\n",
    "    #, \n",
    "    # Since we use binary_crossentropy loss, we need binary labels\n",
    "    #class_mode='binary')"
   ]
  },
  {
   "cell_type": "code",
   "execution_count": 5,
   "metadata": {},
   "outputs": [
    {
     "name": "stdout",
     "output_type": "stream",
     "text": [
      "validating data:\n",
      "Found 792 images belonging to 2 classes.\n"
     ]
    }
   ],
   "source": [
    "# get all the data in the directory split/validation (427 images), and reshape them\n",
    "print('validating data:')\n",
    "val_generator = ImageDataGenerator(rescale=1./255).flow_from_directory(\n",
    "    val_folder, \n",
    "    target_size=(150, 150), batch_size = 2500)\n",
    "    #,\n",
    "    #class_mode='binary')"
   ]
  },
  {
   "cell_type": "code",
   "execution_count": 6,
   "metadata": {},
   "outputs": [
    {
     "name": "stdout",
     "output_type": "stream",
     "text": [
      "testing data:\n",
      "Found 770 images belonging to 2 classes.\n"
     ]
    }
   ],
   "source": [
    "# get all the data in the directory split/test (427 images), and reshape them\n",
    "print('testing data:')\n",
    "test_generator = ImageDataGenerator(rescale=1./255).flow_from_directory(\n",
    "    test_folder, \n",
    "    target_size=(150, 150), batch_size = 2500)\n",
    "    #,\n",
    "    #class_mode='binary') "
   ]
  },
  {
   "cell_type": "code",
   "execution_count": 7,
   "metadata": {},
   "outputs": [],
   "source": [
    "# create the data sets\n",
    "train_images, train_labels = next(train_generator)\n",
    "test_images, test_labels = next(test_generator)\n",
    "val_images, val_labels = next(val_generator)"
   ]
  },
  {
   "cell_type": "code",
   "execution_count": 8,
   "metadata": {},
   "outputs": [
    {
     "name": "stdout",
     "output_type": "stream",
     "text": [
      "(4685, 150, 150, 3)\n",
      "(4685, 2)\n",
      "(770, 150, 150, 3)\n",
      "(770, 2)\n",
      "(792, 150, 150, 3)\n",
      "(792, 2)\n"
     ]
    }
   ],
   "source": [
    "print(train_images.shape)\n",
    "print(train_labels.shape)\n",
    "print(test_images.shape)\n",
    "print(test_labels.shape)\n",
    "print(val_images.shape)\n",
    "print(val_labels.shape)"
   ]
  },
  {
   "cell_type": "code",
   "execution_count": 9,
   "metadata": {},
   "outputs": [],
   "source": [
    "train_y = np.reshape(train_labels[:,0], (train_labels.shape[0],1))\n",
    "test_y = np.reshape(test_labels[:,0], (test_labels.shape[0],1))\n",
    "val_y = np.reshape(val_labels[:,0], (val_labels.shape[0],1))"
   ]
  },
  {
   "cell_type": "code",
   "execution_count": 10,
   "metadata": {},
   "outputs": [],
   "source": [
    "def visualize_training_results(results):\n",
    "    history = results.history\n",
    "    plt.figure()\n",
    "    plt.plot(history['val_loss'])\n",
    "    plt.plot(history['loss'])\n",
    "    plt.legend(['val_loss', 'loss'])\n",
    "    plt.title('Loss')\n",
    "    plt.xlabel('Epochs')\n",
    "    plt.ylabel('Loss')\n",
    "    plt.show()\n",
    "    \n",
    "    plt.figure()\n",
    "    plt.plot(history['val_accuracy'])\n",
    "    plt.plot(history['accuracy'])\n",
    "    plt.legend(['val_acc', 'acc'])\n",
    "    plt.title('Accuracy')\n",
    "    plt.xlabel('Epochs')\n",
    "    plt.ylabel('Accuracy')\n",
    "    plt.show()"
   ]
  },
  {
   "cell_type": "code",
   "execution_count": 11,
   "metadata": {},
   "outputs": [],
   "source": [
    "# Your code here; design and compile the model\n",
    "model = models.Sequential()\n",
    "model.add(layers.Conv2D(32, (3, 3), activation='relu', input_shape=(150, 150, 3)))\n",
    "model.add(layers.MaxPooling2D((2, 2)))\n",
    "model.add(layers.Conv2D(64, (3, 3), activation='relu'))\n",
    "model.add(layers.MaxPooling2D((2, 2)))\n",
    "model.add(layers.Conv2D(128, (3, 3), activation='relu'))\n",
    "model.add(layers.MaxPooling2D((2, 2)))\n",
    "model.add(layers.Conv2D(128, (3, 3), activation='relu'))\n",
    "model.add(layers.MaxPooling2D((2, 2)))\n",
    "model.add(layers.Flatten())\n",
    "model.add(layers.Dense(512, activation='relu'))\n",
    "model.add(layers.Dense(1, activation='sigmoid'))"
   ]
  },
  {
   "cell_type": "code",
   "execution_count": 12,
   "metadata": {},
   "outputs": [],
   "source": [
    "model.compile(loss='binary_crossentropy', optimizer=optimizers.RMSprop(lr=1e-4), metrics=['accuracy'])"
   ]
  },
  {
   "cell_type": "code",
   "execution_count": 13,
   "metadata": {
    "scrolled": false
   },
   "outputs": [
    {
     "name": "stdout",
     "output_type": "stream",
     "text": [
      "program starts, current time:\n",
      "2020-11-21 05:37:20.490007\n",
      "Epoch 1/40\n",
      "100/100 [==============================] - 845s 8s/step - loss: 0.5748 - accuracy: 0.7291 - val_loss: 0.4938 - val_accuracy: 0.7790\n",
      "Epoch 2/40\n",
      "100/100 [==============================] - 730s 7s/step - loss: 0.5068 - accuracy: 0.7577 - val_loss: 0.4870 - val_accuracy: 0.7904\n",
      "Epoch 3/40\n",
      "100/100 [==============================] - 670s 7s/step - loss: 0.4545 - accuracy: 0.7878 - val_loss: 0.3560 - val_accuracy: 0.8788\n",
      "Epoch 4/40\n",
      "100/100 [==============================] - 603s 6s/step - loss: 0.4144 - accuracy: 0.7991 - val_loss: 0.3395 - val_accuracy: 0.8460\n",
      "Epoch 5/40\n",
      "100/100 [==============================] - 601s 6s/step - loss: 0.3770 - accuracy: 0.8352 - val_loss: 0.3155 - val_accuracy: 0.8750\n",
      "Epoch 6/40\n",
      "100/100 [==============================] - 616s 6s/step - loss: 0.3525 - accuracy: 0.8408 - val_loss: 0.2980 - val_accuracy: 0.8876\n",
      "Epoch 7/40\n",
      "100/100 [==============================] - 602s 6s/step - loss: 0.3273 - accuracy: 0.8619 - val_loss: 0.3354 - val_accuracy: 0.8586\n",
      "Epoch 8/40\n",
      "100/100 [==============================] - 599s 6s/step - loss: 0.3099 - accuracy: 0.8619 - val_loss: 0.2640 - val_accuracy: 0.9078\n",
      "Epoch 9/40\n",
      "100/100 [==============================] - 587s 6s/step - loss: 0.2849 - accuracy: 0.8785 - val_loss: 0.3820 - val_accuracy: 0.8144\n",
      "Epoch 10/40\n",
      "100/100 [==============================] - 607s 6s/step - loss: 0.2749 - accuracy: 0.8798 - val_loss: 0.2996 - val_accuracy: 0.8763\n",
      "Epoch 11/40\n",
      "100/100 [==============================] - 581s 6s/step - loss: 0.2577 - accuracy: 0.8920 - val_loss: 0.2457 - val_accuracy: 0.9104\n",
      "Epoch 12/40\n",
      "100/100 [==============================] - 581s 6s/step - loss: 0.2510 - accuracy: 0.8993 - val_loss: 0.3010 - val_accuracy: 0.8674\n",
      "Epoch 13/40\n",
      "100/100 [==============================] - 587s 6s/step - loss: 0.2448 - accuracy: 0.8978 - val_loss: 0.2743 - val_accuracy: 0.9040\n",
      "Epoch 14/40\n",
      "100/100 [==============================] - 600s 6s/step - loss: 0.2313 - accuracy: 0.9050 - val_loss: 0.2298 - val_accuracy: 0.9167\n",
      "Epoch 15/40\n",
      "100/100 [==============================] - 635s 6s/step - loss: 0.2176 - accuracy: 0.9142 - val_loss: 0.2519 - val_accuracy: 0.9003\n",
      "Epoch 16/40\n",
      "100/100 [==============================] - 654s 7s/step - loss: 0.2145 - accuracy: 0.9116 - val_loss: 0.2111 - val_accuracy: 0.9268\n",
      "Epoch 17/40\n",
      "100/100 [==============================] - 658s 7s/step - loss: 0.2097 - accuracy: 0.9142 - val_loss: 0.3752 - val_accuracy: 0.8258\n",
      "Epoch 18/40\n",
      "100/100 [==============================] - 679s 7s/step - loss: 0.1940 - accuracy: 0.9270 - val_loss: 0.2274 - val_accuracy: 0.9116\n",
      "Epoch 19/40\n",
      "100/100 [==============================] - 741s 7s/step - loss: 0.1859 - accuracy: 0.9257 - val_loss: 0.2377 - val_accuracy: 0.9268\n",
      "Epoch 20/40\n",
      "100/100 [==============================] - 724s 7s/step - loss: 0.1832 - accuracy: 0.9215 - val_loss: 0.2459 - val_accuracy: 0.9141\n",
      "Epoch 21/40\n",
      "100/100 [==============================] - 723s 7s/step - loss: 0.1741 - accuracy: 0.9321 - val_loss: 0.2347 - val_accuracy: 0.9306\n",
      "Epoch 22/40\n",
      "100/100 [==============================] - 734s 7s/step - loss: 0.1695 - accuracy: 0.9332 - val_loss: 0.2327 - val_accuracy: 0.9306\n",
      "Epoch 23/40\n",
      "100/100 [==============================] - 740s 7s/step - loss: 0.1604 - accuracy: 0.9375 - val_loss: 0.2320 - val_accuracy: 0.9192\n",
      "Epoch 24/40\n",
      "100/100 [==============================] - 741s 7s/step - loss: 0.1496 - accuracy: 0.9409 - val_loss: 0.2830 - val_accuracy: 0.8914\n",
      "Epoch 25/40\n",
      "100/100 [==============================] - 742s 7s/step - loss: 0.1454 - accuracy: 0.9483 - val_loss: 0.2270 - val_accuracy: 0.9242\n",
      "Epoch 26/40\n",
      "100/100 [==============================] - 738s 7s/step - loss: 0.1343 - accuracy: 0.9494 - val_loss: 0.2608 - val_accuracy: 0.9205\n",
      "Epoch 27/40\n",
      "100/100 [==============================] - 732s 7s/step - loss: 0.1304 - accuracy: 0.9471 - val_loss: 0.3017 - val_accuracy: 0.9015\n",
      "Epoch 28/40\n",
      "100/100 [==============================] - 733s 7s/step - loss: 0.1234 - accuracy: 0.9541 - val_loss: 0.4788 - val_accuracy: 0.8030\n",
      "Epoch 29/40\n",
      "100/100 [==============================] - 737s 7s/step - loss: 0.1174 - accuracy: 0.9528 - val_loss: 0.2425 - val_accuracy: 0.9230\n",
      "Epoch 30/40\n",
      "100/100 [==============================] - 734s 7s/step - loss: 0.1103 - accuracy: 0.9580 - val_loss: 0.2410 - val_accuracy: 0.9255\n",
      "Epoch 31/40\n",
      "100/100 [==============================] - 734s 7s/step - loss: 0.1018 - accuracy: 0.9652 - val_loss: 0.3002 - val_accuracy: 0.8952\n",
      "Epoch 32/40\n",
      "100/100 [==============================] - 731s 7s/step - loss: 0.0958 - accuracy: 0.9663 - val_loss: 0.3202 - val_accuracy: 0.8990\n",
      "Epoch 33/40\n",
      "100/100 [==============================] - 726s 7s/step - loss: 0.0903 - accuracy: 0.9701 - val_loss: 0.2573 - val_accuracy: 0.9217\n",
      "Epoch 34/40\n",
      "100/100 [==============================] - 738s 7s/step - loss: 0.0839 - accuracy: 0.9708 - val_loss: 0.2475 - val_accuracy: 0.9293\n",
      "Epoch 35/40\n",
      "100/100 [==============================] - 738s 7s/step - loss: 0.0783 - accuracy: 0.9761 - val_loss: 0.3014 - val_accuracy: 0.9179\n",
      "Epoch 36/40\n",
      "100/100 [==============================] - 776s 8s/step - loss: 0.0741 - accuracy: 0.9733 - val_loss: 0.4079 - val_accuracy: 0.8838\n",
      "Epoch 37/40\n",
      "100/100 [==============================] - 742s 7s/step - loss: 0.0625 - accuracy: 0.9821 - val_loss: 0.2613 - val_accuracy: 0.9343\n",
      "Epoch 38/40\n",
      "100/100 [==============================] - 737s 7s/step - loss: 0.0636 - accuracy: 0.9776 - val_loss: 0.3428 - val_accuracy: 0.9104\n",
      "Epoch 39/40\n",
      "100/100 [==============================] - 761s 8s/step - loss: 0.0586 - accuracy: 0.9827 - val_loss: 0.2732 - val_accuracy: 0.9242\n",
      "Epoch 40/40\n",
      "100/100 [==============================] - 755s 8s/step - loss: 0.0548 - accuracy: 0.9827 - val_loss: 0.4896 - val_accuracy: 0.8864\n",
      "program ends, current time:\n",
      "2020-11-21 13:23:12.329223\n",
      "Training took a total of 7:45:51.839216\n"
     ]
    }
   ],
   "source": [
    "# Set the model to train \n",
    "# ⏰ This cell may take several hours to run \n",
    "start = datetime.datetime.now()\n",
    "print('program starts, current time:')\n",
    "print(start)\n",
    "#history = model.fit(train_images, train_y, epochs=40, batch_size=100, validation_data=(val_images, val_y))\n",
    "history = model.fit(train_images, train_y, epochs=40, steps_per_epoch=100, \n",
    "                    validation_data=(val_images, val_y), validation_steps=50)\n",
    "#history = model.fit(train_generator, steps_per_epoch=100, epochs=30, validation_data=val_generator, validation_steps=50)\n",
    "end = datetime.datetime.now()\n",
    "print('program ends, current time:')\n",
    "print(end)\n",
    "elapsed = end - start\n",
    "print('Training took a total of {}'.format(elapsed))"
   ]
  },
  {
   "cell_type": "markdown",
   "metadata": {},
   "source": [
    "## CNN Model Evaluation\n",
    "\n",
    "Now use the test set to perform an evaluation on the model of choice. "
   ]
  },
  {
   "cell_type": "code",
   "execution_count": 14,
   "metadata": {},
   "outputs": [
    {
     "name": "stdout",
     "output_type": "stream",
     "text": [
      "147/147 [==============================] - 83s 567ms/step - loss: 0.1150 - accuracy: 0.9530\n"
     ]
    }
   ],
   "source": [
    "results_train = model.evaluate(train_images, train_y)"
   ]
  },
  {
   "cell_type": "code",
   "execution_count": 15,
   "metadata": {},
   "outputs": [
    {
     "name": "stdout",
     "output_type": "stream",
     "text": [
      "25/25 [==============================] - 15s 605ms/step - loss: 0.5004 - accuracy: 0.8753\n"
     ]
    }
   ],
   "source": [
    "results_test = model.evaluate(test_images, test_y)"
   ]
  },
  {
   "cell_type": "code",
   "execution_count": 16,
   "metadata": {},
   "outputs": [
    {
     "data": {
      "text/plain": [
       "[0.11502913385629654, 0.9530416131019592]"
      ]
     },
     "execution_count": 16,
     "metadata": {},
     "output_type": "execute_result"
    }
   ],
   "source": [
    "results_train"
   ]
  },
  {
   "cell_type": "code",
   "execution_count": 17,
   "metadata": {},
   "outputs": [
    {
     "data": {
      "text/plain": [
       "[0.5003767013549805, 0.8753246665000916]"
      ]
     },
     "execution_count": 17,
     "metadata": {},
     "output_type": "execute_result"
    }
   ],
   "source": [
    "results_test"
   ]
  },
  {
   "cell_type": "code",
   "execution_count": 18,
   "metadata": {},
   "outputs": [
    {
     "data": {
      "image/png": "[encoded data removed]",
      "text/plain": [
       "<Figure size 432x288 with 1 Axes>"
      ]
     },
     "metadata": {
      "needs_background": "light"
     },
     "output_type": "display_data"
    },
    {
     "data": {
      "image/png": "[encoded data removed]",
      "text/plain": [
       "<Figure size 432x288 with 1 Axes>"
      ]
     },
     "metadata": {
      "needs_background": "light"
     },
     "output_type": "display_data"
    }
   ],
   "source": [
    "visualize_training_results(history)"
   ]
  },
  {
   "cell_type": "markdown",
   "metadata": {},
   "source": [
    "## Saving CNN Model"
   ]
  },
  {
   "cell_type": "code",
   "execution_count": 19,
   "metadata": {},
   "outputs": [],
   "source": [
    "# Your code here; save the model for future reference \n",
    "model.save('cnn1_chest_xray_data_augmentation_'+str(date.today())+'.h5')"
   ]
  },
  {
   "cell_type": "code",
   "execution_count": 20,
   "metadata": {},
   "outputs": [],
   "source": [
    "preds_model = model.predict(test_images)"
   ]
  },
  {
   "cell_type": "code",
   "execution_count": 21,
   "metadata": {},
   "outputs": [
    {
     "data": {
      "text/plain": [
       "numpy.ndarray"
      ]
     },
     "execution_count": 21,
     "metadata": {},
     "output_type": "execute_result"
    }
   ],
   "source": [
    "type(preds_model)"
   ]
  },
  {
   "cell_type": "code",
   "execution_count": 22,
   "metadata": {},
   "outputs": [
    {
     "data": {
      "text/plain": [
       "(770, 1)"
      ]
     },
     "execution_count": 22,
     "metadata": {},
     "output_type": "execute_result"
    }
   ],
   "source": [
    "preds_model.shape"
   ]
  },
  {
   "cell_type": "code",
   "execution_count": 23,
   "metadata": {},
   "outputs": [
    {
     "data": {
      "text/plain": [
       "(770, 1)"
      ]
     },
     "execution_count": 23,
     "metadata": {},
     "output_type": "execute_result"
    }
   ],
   "source": [
    "test_y.shape"
   ]
  },
  {
   "cell_type": "code",
   "execution_count": 24,
   "metadata": {},
   "outputs": [
    {
     "name": "stdout",
     "output_type": "stream",
     "text": [
      "WARNING:tensorflow:From <ipython-input-24-8dfbff9707be>:1: Sequential.predict_classes (from tensorflow.python.keras.engine.sequential) is deprecated and will be removed after 2021-01-01.\n",
      "Instructions for updating:\n",
      "Please use instead:* `np.argmax(model.predict(x), axis=-1)`,   if your model does multi-class classification   (e.g. if it uses a `softmax` last-layer activation).* `(model.predict(x) > 0.5).astype(\"int32\")`,   if your model does binary classification   (e.g. if it uses a `sigmoid` last-layer activation).\n"
     ]
    }
   ],
   "source": [
    "pred_model_class = model.predict_classes(test_images)"
   ]
  },
  {
   "cell_type": "code",
   "execution_count": 25,
   "metadata": {},
   "outputs": [
    {
     "data": {
      "text/plain": [
       "(770, 1)"
      ]
     },
     "execution_count": 25,
     "metadata": {},
     "output_type": "execute_result"
    }
   ],
   "source": [
    "pred_model_class.shape"
   ]
  },
  {
   "cell_type": "code",
   "execution_count": 26,
   "metadata": {},
   "outputs": [
    {
     "data": {
      "text/plain": [
       "(770, 1)"
      ]
     },
     "execution_count": 26,
     "metadata": {},
     "output_type": "execute_result"
    }
   ],
   "source": [
    "pred_model_binary_class = (model.predict(test_images) > 0.5).astype(\"int32\")\n",
    "pred_model_binary_class.shape"
   ]
  },
  {
   "cell_type": "code",
   "execution_count": 27,
   "metadata": {},
   "outputs": [
    {
     "data": {
      "text/plain": [
       "0.8753246753246753"
      ]
     },
     "execution_count": 27,
     "metadata": {},
     "output_type": "execute_result"
    }
   ],
   "source": [
    "accuracy_model = accuracy_score(test_y, preds_model.round())\n",
    "accuracy_model"
   ]
  },
  {
   "cell_type": "code",
   "execution_count": 28,
   "metadata": {},
   "outputs": [
    {
     "data": {
      "text/plain": [
       "0.6833333333333333"
      ]
     },
     "execution_count": 28,
     "metadata": {},
     "output_type": "execute_result"
    }
   ],
   "source": [
    "precision_model = precision_score(test_y, preds_model.round())\n",
    "precision_model"
   ]
  },
  {
   "cell_type": "code",
   "execution_count": 29,
   "metadata": {},
   "outputs": [
    {
     "data": {
      "text/plain": [
       "0.9951456310679612"
      ]
     },
     "execution_count": 29,
     "metadata": {},
     "output_type": "execute_result"
    }
   ],
   "source": [
    "recall_model = recall_score(test_y, preds_model.round())\n",
    "recall_model"
   ]
  },
  {
   "cell_type": "code",
   "execution_count": 30,
   "metadata": {},
   "outputs": [
    {
     "data": {
      "text/plain": [
       "0.8102766798418972"
      ]
     },
     "execution_count": 30,
     "metadata": {},
     "output_type": "execute_result"
    }
   ],
   "source": [
    "f1_model = f1_score(test_y, preds_model.round())\n",
    "f1_model"
   ]
  },
  {
   "cell_type": "code",
   "execution_count": 31,
   "metadata": {},
   "outputs": [
    {
     "data": {
      "text/plain": [
       "0.9881351993389796"
      ]
     },
     "execution_count": 31,
     "metadata": {},
     "output_type": "execute_result"
    }
   ],
   "source": [
    "auc_value_model = roc_auc_score(test_y, preds_model)\n",
    "auc_value_model"
   ]
  },
  {
   "cell_type": "code",
   "execution_count": 32,
   "metadata": {},
   "outputs": [
    {
     "name": "stdout",
     "output_type": "stream",
     "text": [
      "[0 0 0 0 0 0 0 0 0 0 0 0 0 0 0 0 0 0 0 0 0 0 0 0 0 0 0 0 0 0 0 0 0 0 0 0 0\n",
      " 0 0 0 0 0 0 0 0 0 0 0 0 0 0 0 0 0 0 0 0 0 0 0 0 0 0 0 0 0 0 0 0 0 0 0 0 0\n",
      " 0 0 0 0 0 0 0 0 0 0 0 0 0 0 0 0 0 0 0 0 0 0 0 0 0 0 0 0 0 0 0 0 0 0 0 0 0\n",
      " 0 0 0 0 0 0 0 0 0 0 0 0 0 0 0 0 0 0 0 0 0 0 0 0 0 0 0 0 0 0 0 0 0 0 0 0 0\n",
      " 0 0 0 0 0 0 0 0 0 0 0 0 0 0 0 0 0 0 0 0 0 0 0 0 0 0 0 0 0 0 0 0 0 0 0 0 0\n",
      " 0 0 0 0 0 0 0 0 0 0 0 0 0 0 0 0 0 0 0 0 0 1 1 1 1 1 1 1 1 1 1 1 1 1 1 1 1\n",
      " 1 1 1 1 1 1 1 1 1 1 1 1 1 1 1 1 1 1 1 1 1 1 1 1 1 1 1 1 1 1 1 1 1 1 1 1 1\n",
      " 1 1 1 1 1 1 1 1 1 1 1 1 1 1 1 1 1 1 1 1 1 1 1 1 1 1 1 1 1 1 1 1 1 1 1 1 1\n",
      " 1 1 1 1 1 1 1 1 1 1 1 1 1 1 1 1 1 1 1 1 1 1 1 1 1 1 1 1 1 1 1 1 1 1 1 1 1\n",
      " 1 1 1 1 1 1 1 1 1 1 1 1 1 1 1 1 1 1 1 1 1 1 1 1 1 1 1 1 1 1 1 1 1 1 1 1 1\n",
      " 1 1 1 1 1 1 1 1 1 1 1 1 1 1 1 1 1 1 1 1 1 1 1 1 1 1 1 1 1 1 1 1 1 1 1 1 1\n",
      " 1 1 1 1 1 1 1 1 1 1 1 1 1 1 1 1 1 1 1 1 1 1 1 1 1 1 1 1 1 1 1 1 1 1 1 1 1\n",
      " 1 1 1 1 1 1 1 1 1 1 1 1 1 1 1 1 1 1 1 1 1 1 1 1 1 1 1 1 1 1 1 1 1 1 1 1 1\n",
      " 1 1 1 1 1 1 1 1 1 1 1 1 1 1 1 1 1 1 1 1 1 1 1 1 1 1 1 1 1 1 1 1 1 1 1 1 1\n",
      " 1 1 1 1 1 1 1 1 1 1 1 1 1 1 1 1 1 1 1 1 1 1 1 1 1 1 1 1 1 1 1 1 1 1 1 1 1\n",
      " 1 1 1 1 1 1 1 1 1 1 1 1 1 1 1 1 1 1 1 1 1 1 1 1 1 1 1 1 1 1 1 1 1 1 1 1 1\n",
      " 1 1 1 1 1 1 1 1 1 1 1 1 1 1 1 1 1 1 1 1 1 1 1 1 1 1 1 1 1 1 1 1 1 1 1 1 1\n",
      " 1 1 1 1 1 1 1 1 1 1 1 1 1 1 1 1 1 1 1 1 1 1 1 1 1 1 1 1 1 1 1 1 1 1 1 1 1\n",
      " 1 1 1 1 1 1 1 1 1 1 1 1 1 1 1 1 1 1 1 1 1 1 1 1 1 1 1 1 1 1 1 1 1 1 1 1 1\n",
      " 1 1 1 1 1 1 1 1 1 1 1 1 1 1 1 1 1 1 1 1 1 1 1 1 1 1 1 1 1 1 1 1 1 1 1 1 1\n",
      " 1 1 1 1 1 1 1 1 1 1 1 1 1 1 1 1 1 1 1 1 1 1 1 1 1 1 1 1 1 1]\n"
     ]
    },
    {
     "data": {
      "text/plain": [
       "['NORMAL', 'PNEUMONIA']"
      ]
     },
     "execution_count": 32,
     "metadata": {},
     "output_type": "execute_result"
    }
   ],
   "source": [
    "# test set\n",
    "true_classes_vgg19 = test_generator.classes\n",
    "print(true_classes_vgg19)\n",
    "class_labels_vgg19 = list(test_generator.class_indices.keys())\n",
    "class_labels_vgg19"
   ]
  },
  {
   "cell_type": "code",
   "execution_count": 33,
   "metadata": {},
   "outputs": [],
   "source": [
    "fpr_model, tpr_model, threshold_model = roc_curve(test_y, preds_model)"
   ]
  },
  {
   "cell_type": "code",
   "execution_count": 34,
   "metadata": {},
   "outputs": [],
   "source": [
    "roc_auc_model = auc(fpr_model, tpr_model)"
   ]
  },
  {
   "cell_type": "code",
   "execution_count": 35,
   "metadata": {},
   "outputs": [
    {
     "data": {
      "image/png": "[encoded data removed]",
      "text/plain": [
       "<Figure size 432x288 with 1 Axes>"
      ]
     },
     "metadata": {
      "needs_background": "light"
     },
     "output_type": "display_data"
    }
   ],
   "source": [
    "plt.figure()\n",
    "lw=2\n",
    "plt.plot(fpr_model, tpr_model, color='darkorange', lw=lw, label='ROC curve (area=%.2f)' %auc_value_model)\n",
    "plt.plot([0, 1], [0, 1], color='navy', lw=lw, linestyle='--')\n",
    "plt.xlim([0.0, 1.0])\n",
    "plt.ylim([0.0, 1.05])\n",
    "plt.xlabel('False Positive Rate')\n",
    "plt.ylabel('True Positive Rate')\n",
    "plt.title('Receiver operating characteristic for VGG19')\n",
    "plt.legend(loc='lower right')\n",
    "plt.show()"
   ]
  },
  {
   "cell_type": "code",
   "execution_count": 36,
   "metadata": {},
   "outputs": [
    {
     "name": "stdout",
     "output_type": "stream",
     "text": [
      "              precision    recall  f1-score   support\n",
      "\n",
      "         0.0       1.00      0.83      0.91       564\n",
      "         1.0       0.68      1.00      0.81       206\n",
      "\n",
      "    accuracy                           0.88       770\n",
      "   macro avg       0.84      0.91      0.86       770\n",
      "weighted avg       0.91      0.88      0.88       770\n",
      "\n"
     ]
    }
   ],
   "source": [
    "report_model = classification_report(test_y, preds_model.round())\n",
    "print(report_model)"
   ]
  },
  {
   "cell_type": "code",
   "execution_count": 37,
   "metadata": {},
   "outputs": [
    {
     "name": "stdout",
     "output_type": "stream",
     "text": [
      "[[469  95]\n",
      " [  1 205]]\n"
     ]
    }
   ],
   "source": [
    "cnf_matrix_model = confusion_matrix(y_true=test_y, y_pred=preds_model.round())\n",
    "np.set_printoptions(precision=2)\n",
    "print(cnf_matrix_model)"
   ]
  },
  {
   "cell_type": "code",
   "execution_count": 38,
   "metadata": {},
   "outputs": [],
   "source": [
    "def plot_confusion_matrix(cm, classes,\n",
    "                          normalize=False,\n",
    "                          title='Confusion matrix',\n",
    "                          cmap=plt.cm.Greens):\n",
    "    \"\"\"\n",
    "    This function prints and plots the confusion matrix.\n",
    "    Normalization can be applied by setting `normalize=True`.\n",
    "    \"\"\"\n",
    "    plt.imshow(cm, interpolation='nearest', cmap=cmap)\n",
    "    plt.title(title)\n",
    "    plt.colorbar()\n",
    "    tick_marks = np.arange(len(classes))\n",
    "    plt.xticks(tick_marks, classes, rotation=45)\n",
    "    plt.yticks(tick_marks, classes)\n",
    "\n",
    "    if normalize:\n",
    "        cm = cm.astype('float') / cm.sum(axis=1)[:, np.newaxis]\n",
    "        print(\"Normalized confusion matrix\")\n",
    "    else:\n",
    "        print('Confusion matrix, without normalization')\n",
    "\n",
    "    print(cm)\n",
    "\n",
    "    thresh = cm.max() / 2.\n",
    "    for i, j in itertools.product(range(cm.shape[0]), range(cm.shape[1])):\n",
    "        plt.text(j, i, np.round(cm[i, j],2),\n",
    "                 horizontalalignment=\"center\",\n",
    "                 color=\"white\" if cm[i, j] > thresh else \"black\")\n",
    "\n",
    "    plt.tight_layout()\n",
    "    plt.ylabel('True label')\n",
    "    plt.xlabel('Predicted label')"
   ]
  },
  {
   "cell_type": "code",
   "execution_count": 39,
   "metadata": {},
   "outputs": [],
   "source": [
    "cm_plot_labels = ['NORMAL','PNEUMONIA']"
   ]
  },
  {
   "cell_type": "code",
   "execution_count": 40,
   "metadata": {},
   "outputs": [
    {
     "name": "stdout",
     "output_type": "stream",
     "text": [
      "Confusion matrix, without normalization\n",
      "[[469  95]\n",
      " [  1 205]]\n"
     ]
    },
    {
     "data": {
      "image/png": "[encoded data removed]",
      "text/plain": [
       "<Figure size 432x288 with 2 Axes>"
      ]
     },
     "metadata": {
      "needs_background": "light"
     },
     "output_type": "display_data"
    }
   ],
   "source": [
    "plt.figure()\n",
    "plot_confusion_matrix(cnf_matrix_model, classes=cm_plot_labels, title='Confusion matrix for Baseline, without normalization')\n",
    "plt.show()"
   ]
  },
  {
   "cell_type": "code",
   "execution_count": 41,
   "metadata": {},
   "outputs": [
    {
     "name": "stdout",
     "output_type": "stream",
     "text": [
      "Normalized confusion matrix\n",
      "[[0.83 0.17]\n",
      " [0.   1.  ]]\n"
     ]
    },
    {
     "data": {
      "image/png": "[encoded data removed]",
      "text/plain": [
       "<Figure size 432x288 with 2 Axes>"
      ]
     },
     "metadata": {
      "needs_background": "light"
     },
     "output_type": "display_data"
    }
   ],
   "source": [
    "plt.figure()\n",
    "plot_confusion_matrix(cnf_matrix_model, classes=cm_plot_labels, normalize=True, title='Normalized confusion matrix for Baseline')\n",
    "plt.show()"
   ]
  },
  {
   "cell_type": "markdown",
   "metadata": {},
   "source": [
    "## Saving history in CSV"
   ]
  },
  {
   "cell_type": "code",
   "execution_count": 42,
   "metadata": {},
   "outputs": [],
   "source": [
    "import pandas as pd\n",
    "# convert the history.history dict to a pandas DataFrame:     \n",
    "hist_df = pd.DataFrame(history.history) \n",
    "# or save to csv: \n",
    "hist_csv_file = 'cnn1_chest_xray_data_augmentation'+str(date.today())+'_history.csv'\n",
    "with open(hist_csv_file, mode='w') as f:\n",
    "    hist_df.to_csv(f)"
   ]
  },
  {
   "cell_type": "markdown",
   "metadata": {},
   "source": [
    "## Learning rate tuning (hyper-parameter tuning)"
   ]
  },
  {
   "cell_type": "code",
   "execution_count": 43,
   "metadata": {},
   "outputs": [],
   "source": [
    "# Your code here; design and compile the model\n",
    "model2 = models.Sequential()\n",
    "model2.add(layers.Conv2D(32, (3, 3), activation='relu', input_shape=(150, 150, 3)))\n",
    "model2.add(layers.MaxPooling2D((2, 2)))\n",
    "model2.add(layers.Conv2D(64, (3, 3), activation='relu'))\n",
    "model2.add(layers.MaxPooling2D((2, 2)))\n",
    "model2.add(layers.Conv2D(128, (3, 3), activation='relu'))\n",
    "model2.add(layers.MaxPooling2D((2, 2)))\n",
    "model2.add(layers.Conv2D(128, (3, 3), activation='relu'))\n",
    "model2.add(layers.MaxPooling2D((2, 2)))\n",
    "model2.add(layers.Flatten())\n",
    "model2.add(layers.Dense(512, activation='relu'))\n",
    "model2.add(layers.Dense(1, activation='sigmoid'))"
   ]
  },
  {
   "cell_type": "code",
   "execution_count": 44,
   "metadata": {},
   "outputs": [],
   "source": [
    "model2.compile(loss='binary_crossentropy', optimizer=optimizers.RMSprop(lr=2e-5), metrics=['accuracy'])"
   ]
  },
  {
   "cell_type": "code",
   "execution_count": 45,
   "metadata": {
    "scrolled": false
   },
   "outputs": [
    {
     "name": "stdout",
     "output_type": "stream",
     "text": [
      "program starts, current time:\n",
      "2020-11-21 17:38:45.176506\n",
      "Epoch 1/40\n",
      "100/100 [==============================] - 436s 4s/step - loss: 0.5855 - accuracy: 0.7296 - val_loss: 0.5717 - val_accuracy: 0.7134\n",
      "Epoch 2/40\n",
      "100/100 [==============================] - 693s 7s/step - loss: 0.5417 - accuracy: 0.7321 - val_loss: 0.5043 - val_accuracy: 0.7563\n",
      "Epoch 3/40\n",
      "100/100 [==============================] - 763s 8s/step - loss: 0.4952 - accuracy: 0.7550 - val_loss: 0.4589 - val_accuracy: 0.7487\n",
      "Epoch 4/40\n",
      "100/100 [==============================] - 827s 8s/step - loss: 0.4584 - accuracy: 0.7808 - val_loss: 0.4081 - val_accuracy: 0.7904\n",
      "Epoch 5/40\n",
      "100/100 [==============================] - 832s 8s/step - loss: 0.4406 - accuracy: 0.7912 - val_loss: 0.3913 - val_accuracy: 0.7955\n",
      "Epoch 6/40\n",
      "100/100 [==============================] - 693s 7s/step - loss: 0.4224 - accuracy: 0.7994 - val_loss: 0.3776 - val_accuracy: 0.8598\n",
      "Epoch 7/40\n",
      "100/100 [==============================] - 679s 7s/step - loss: 0.4063 - accuracy: 0.8062 - val_loss: 0.3572 - val_accuracy: 0.8674\n",
      "Epoch 8/40\n",
      "100/100 [==============================] - 679s 7s/step - loss: 0.3972 - accuracy: 0.8177 - val_loss: 0.3687 - val_accuracy: 0.8535\n",
      "Epoch 9/40\n",
      "100/100 [==============================] - 674s 7s/step - loss: 0.3783 - accuracy: 0.8177 - val_loss: 0.3549 - val_accuracy: 0.8308\n",
      "Epoch 10/40\n",
      "100/100 [==============================] - 688s 7s/step - loss: 0.3769 - accuracy: 0.8224 - val_loss: 0.4011 - val_accuracy: 0.8245\n",
      "Epoch 11/40\n",
      "100/100 [==============================] - 681s 7s/step - loss: 0.3627 - accuracy: 0.8359 - val_loss: 0.5528 - val_accuracy: 0.7071\n",
      "Epoch 12/40\n",
      "100/100 [==============================] - 676s 7s/step - loss: 0.3607 - accuracy: 0.8382 - val_loss: 0.4866 - val_accuracy: 0.7588\n",
      "Epoch 13/40\n",
      "100/100 [==============================] - 685s 7s/step - loss: 0.3470 - accuracy: 0.8455 - val_loss: 0.2930 - val_accuracy: 0.8952\n",
      "Epoch 14/40\n",
      "100/100 [==============================] - 681s 7s/step - loss: 0.3412 - accuracy: 0.8474 - val_loss: 0.3029 - val_accuracy: 0.8889\n",
      "Epoch 15/40\n",
      "100/100 [==============================] - 681s 7s/step - loss: 0.3389 - accuracy: 0.8514 - val_loss: 0.7231 - val_accuracy: 0.6162\n",
      "Epoch 16/40\n",
      "100/100 [==============================] - 688s 7s/step - loss: 0.3214 - accuracy: 0.8589 - val_loss: 0.3417 - val_accuracy: 0.8611\n",
      "Epoch 17/40\n",
      "100/100 [==============================] - 693s 7s/step - loss: 0.3253 - accuracy: 0.8619 - val_loss: 0.6175 - val_accuracy: 0.6717\n",
      "Epoch 18/40\n",
      "100/100 [==============================] - 708s 7s/step - loss: 0.3172 - accuracy: 0.8606 - val_loss: 0.3338 - val_accuracy: 0.8624\n",
      "Epoch 19/40\n",
      "100/100 [==============================] - 697s 7s/step - loss: 0.3082 - accuracy: 0.8674 - val_loss: 0.2624 - val_accuracy: 0.9154\n",
      "Epoch 20/40\n",
      "100/100 [==============================] - 697s 7s/step - loss: 0.3044 - accuracy: 0.8679 - val_loss: 0.4377 - val_accuracy: 0.7891\n",
      "Epoch 21/40\n",
      "100/100 [==============================] - 707s 7s/step - loss: 0.3015 - accuracy: 0.8709 - val_loss: 0.2537 - val_accuracy: 0.9217\n",
      "Epoch 22/40\n",
      "100/100 [==============================] - 710s 7s/step - loss: 0.2957 - accuracy: 0.8668 - val_loss: 0.2890 - val_accuracy: 0.8788\n",
      "Epoch 23/40\n",
      "100/100 [==============================] - 687s 7s/step - loss: 0.2865 - accuracy: 0.8751 - val_loss: 0.2506 - val_accuracy: 0.9104\n",
      "Epoch 24/40\n",
      "100/100 [==============================] - 703s 7s/step - loss: 0.2944 - accuracy: 0.8743 - val_loss: 0.5712 - val_accuracy: 0.7083\n",
      "Epoch 25/40\n",
      "100/100 [==============================] - 703s 7s/step - loss: 0.2875 - accuracy: 0.8717 - val_loss: 0.2561 - val_accuracy: 0.9040\n",
      "Epoch 26/40\n",
      "100/100 [==============================] - 702s 7s/step - loss: 0.2831 - accuracy: 0.8785 - val_loss: 0.2831 - val_accuracy: 0.8826\n",
      "Epoch 27/40\n",
      "100/100 [==============================] - 697s 7s/step - loss: 0.2815 - accuracy: 0.8794 - val_loss: 0.2565 - val_accuracy: 0.9104\n",
      "Epoch 28/40\n",
      "100/100 [==============================] - 716s 7s/step - loss: 0.2795 - accuracy: 0.8768 - val_loss: 0.3735 - val_accuracy: 0.8258\n",
      "Epoch 29/40\n",
      "100/100 [==============================] - 729s 7s/step - loss: 0.2764 - accuracy: 0.8841 - val_loss: 0.3672 - val_accuracy: 0.8321\n",
      "Epoch 30/40\n",
      "100/100 [==============================] - 740s 7s/step - loss: 0.2711 - accuracy: 0.8850 - val_loss: 0.2454 - val_accuracy: 0.9242\n",
      "Epoch 31/40\n",
      "100/100 [==============================] - 729s 7s/step - loss: 0.2659 - accuracy: 0.8882 - val_loss: 0.2428 - val_accuracy: 0.9179\n",
      "Epoch 32/40\n",
      "100/100 [==============================] - 731s 7s/step - loss: 0.2605 - accuracy: 0.8907 - val_loss: 0.2434 - val_accuracy: 0.9167\n",
      "Epoch 33/40\n",
      "100/100 [==============================] - 722s 7s/step - loss: 0.2624 - accuracy: 0.8873 - val_loss: 0.4122 - val_accuracy: 0.8018\n",
      "Epoch 34/40\n",
      "100/100 [==============================] - 735s 7s/step - loss: 0.2661 - accuracy: 0.8869 - val_loss: 0.2727 - val_accuracy: 0.8990\n",
      "Epoch 35/40\n",
      "100/100 [==============================] - 875s 9s/step - loss: 0.2575 - accuracy: 0.8941 - val_loss: 0.2519 - val_accuracy: 0.9192\n",
      "Epoch 36/40\n",
      "100/100 [==============================] - 808s 8s/step - loss: 0.2529 - accuracy: 0.8969 - val_loss: 0.2380 - val_accuracy: 0.9217\n",
      "Epoch 37/40\n",
      "100/100 [==============================] - 767s 8s/step - loss: 0.2598 - accuracy: 0.8920 - val_loss: 0.3416 - val_accuracy: 0.8485\n",
      "Epoch 38/40\n",
      "100/100 [==============================] - 754s 8s/step - loss: 0.2511 - accuracy: 0.8935 - val_loss: 0.2381 - val_accuracy: 0.9217\n",
      "Epoch 39/40\n",
      "100/100 [==============================] - 737s 7s/step - loss: 0.2532 - accuracy: 0.8982 - val_loss: 0.2521 - val_accuracy: 0.9141\n",
      "Epoch 40/40\n",
      "100/100 [==============================] - 749s 7s/step - loss: 0.2500 - accuracy: 0.8956 - val_loss: 0.2654 - val_accuracy: 0.9154\n",
      "program ends, current time:\n",
      "2020-11-22 01:39:10.196049\n",
      "Training took a total of 8:00:25.019543\n"
     ]
    }
   ],
   "source": [
    "# Set the model to train \n",
    "# ⏰ This cell may take several hours to run \n",
    "start2 = datetime.datetime.now()\n",
    "print('program starts, current time:')\n",
    "print(start2)\n",
    "#history2 = model2.fit(train_images, train_y, epochs=100, batch_size=100, validation_data=(val_images, val_y))\n",
    "history2 = model2.fit(train_images, train_y, epochs=40, steps_per_epoch=100, \n",
    "                      validation_data=(val_images, val_y), validation_steps=50)\n",
    "end2 = datetime.datetime.now()\n",
    "print('program ends, current time:')\n",
    "print(end2)\n",
    "elapsed2 = end2 - start2\n",
    "print('Training took a total of {}'.format(elapsed2))"
   ]
  },
  {
   "cell_type": "code",
   "execution_count": 46,
   "metadata": {},
   "outputs": [
    {
     "name": "stdout",
     "output_type": "stream",
     "text": [
      "147/147 [==============================] - 83s 566ms/step - loss: 0.2731 - accuracy: 0.8751\n"
     ]
    }
   ],
   "source": [
    "results2_train = model2.evaluate(train_images, train_y)"
   ]
  },
  {
   "cell_type": "code",
   "execution_count": 47,
   "metadata": {},
   "outputs": [
    {
     "name": "stdout",
     "output_type": "stream",
     "text": [
      "25/25 [==============================] - 15s 610ms/step - loss: 0.5004 - accuracy: 0.8753\n"
     ]
    }
   ],
   "source": [
    "results2_test = model.evaluate(test_images, test_y)"
   ]
  },
  {
   "cell_type": "code",
   "execution_count": 48,
   "metadata": {},
   "outputs": [
    {
     "data": {
      "text/plain": [
       "[0.27313166856765747, 0.8751333951950073]"
      ]
     },
     "execution_count": 48,
     "metadata": {},
     "output_type": "execute_result"
    }
   ],
   "source": [
    "results2_train"
   ]
  },
  {
   "cell_type": "code",
   "execution_count": 49,
   "metadata": {},
   "outputs": [
    {
     "data": {
      "text/plain": [
       "[0.5003767013549805, 0.8753246665000916]"
      ]
     },
     "execution_count": 49,
     "metadata": {},
     "output_type": "execute_result"
    }
   ],
   "source": [
    "results2_test"
   ]
  },
  {
   "cell_type": "code",
   "execution_count": 50,
   "metadata": {},
   "outputs": [
    {
     "data": {
      "image/png": "[encoded data removed]",
      "text/plain": [
       "<Figure size 432x288 with 1 Axes>"
      ]
     },
     "metadata": {
      "needs_background": "light"
     },
     "output_type": "display_data"
    },
    {
     "data": {
      "image/png": "[encoded data removed]",
      "text/plain": [
       "<Figure size 432x288 with 1 Axes>"
      ]
     },
     "metadata": {
      "needs_background": "light"
     },
     "output_type": "display_data"
    }
   ],
   "source": [
    "visualize_training_results(history2)"
   ]
  },
  {
   "cell_type": "code",
   "execution_count": 51,
   "metadata": {},
   "outputs": [],
   "source": [
    "# Your code here; save the model for future reference \n",
    "model2.save('cnn1_chest_xray_data_augmentation_LearningRate_Tuning_'+str(date.today())+'.h5')"
   ]
  },
  {
   "cell_type": "code",
   "execution_count": 52,
   "metadata": {},
   "outputs": [],
   "source": [
    "preds_cnn2 = model2.predict(test_images)"
   ]
  },
  {
   "cell_type": "code",
   "execution_count": 53,
   "metadata": {},
   "outputs": [
    {
     "data": {
      "text/plain": [
       "numpy.ndarray"
      ]
     },
     "execution_count": 53,
     "metadata": {},
     "output_type": "execute_result"
    }
   ],
   "source": [
    "type(preds_cnn2)"
   ]
  },
  {
   "cell_type": "code",
   "execution_count": 54,
   "metadata": {},
   "outputs": [
    {
     "data": {
      "text/plain": [
       "(770, 1)"
      ]
     },
     "execution_count": 54,
     "metadata": {},
     "output_type": "execute_result"
    }
   ],
   "source": [
    "preds_cnn2.shape"
   ]
  },
  {
   "cell_type": "code",
   "execution_count": 55,
   "metadata": {},
   "outputs": [],
   "source": [
    "pred_cnn2_class = model2.predict_classes(test_images)"
   ]
  },
  {
   "cell_type": "code",
   "execution_count": 56,
   "metadata": {},
   "outputs": [
    {
     "data": {
      "text/plain": [
       "(770, 1)"
      ]
     },
     "execution_count": 56,
     "metadata": {},
     "output_type": "execute_result"
    }
   ],
   "source": [
    "pred_cnn2_class.shape"
   ]
  },
  {
   "cell_type": "code",
   "execution_count": 57,
   "metadata": {},
   "outputs": [
    {
     "data": {
      "text/plain": [
       "(770, 1)"
      ]
     },
     "execution_count": 57,
     "metadata": {},
     "output_type": "execute_result"
    }
   ],
   "source": [
    "pred_cnn2_binary_class = (model2.predict(test_images) > 0.5).astype(\"int32\")\n",
    "pred_cnn2_binary_class.shape"
   ]
  },
  {
   "cell_type": "code",
   "execution_count": 58,
   "metadata": {},
   "outputs": [
    {
     "name": "stdout",
     "output_type": "stream",
     "text": [
      "[0 0 0 0 0 0 0 0 0 0 0 0 0 0 0 0 0 0 0 0 0 0 0 0 0 0 0 0 0 0 0 0 0 0 0 0 0\n",
      " 0 0 0 0 0 0 0 0 0 0 0 0 0 0 0 0 0 0 0 0 0 0 0 0 0 0 0 0 0 0 0 0 0 0 0 0 0\n",
      " 0 0 0 0 0 0 0 0 0 0 0 0 0 0 0 0 0 0 0 0 0 0 0 0 0 0 0 0 0 0 0 0 0 0 0 0 0\n",
      " 0 0 0 0 0 0 0 0 0 0 0 0 0 0 0 0 0 0 0 0 0 0 0 0 0 0 0 0 0 0 0 0 0 0 0 0 0\n",
      " 0 0 0 0 0 0 0 0 0 0 0 0 0 0 0 0 0 0 0 0 0 0 0 0 0 0 0 0 0 0 0 0 0 0 0 0 0\n",
      " 0 0 0 0 0 0 0 0 0 0 0 0 0 0 0 0 0 0 0 0 0 1 1 1 1 1 1 1 1 1 1 1 1 1 1 1 1\n",
      " 1 1 1 1 1 1 1 1 1 1 1 1 1 1 1 1 1 1 1 1 1 1 1 1 1 1 1 1 1 1 1 1 1 1 1 1 1\n",
      " 1 1 1 1 1 1 1 1 1 1 1 1 1 1 1 1 1 1 1 1 1 1 1 1 1 1 1 1 1 1 1 1 1 1 1 1 1\n",
      " 1 1 1 1 1 1 1 1 1 1 1 1 1 1 1 1 1 1 1 1 1 1 1 1 1 1 1 1 1 1 1 1 1 1 1 1 1\n",
      " 1 1 1 1 1 1 1 1 1 1 1 1 1 1 1 1 1 1 1 1 1 1 1 1 1 1 1 1 1 1 1 1 1 1 1 1 1\n",
      " 1 1 1 1 1 1 1 1 1 1 1 1 1 1 1 1 1 1 1 1 1 1 1 1 1 1 1 1 1 1 1 1 1 1 1 1 1\n",
      " 1 1 1 1 1 1 1 1 1 1 1 1 1 1 1 1 1 1 1 1 1 1 1 1 1 1 1 1 1 1 1 1 1 1 1 1 1\n",
      " 1 1 1 1 1 1 1 1 1 1 1 1 1 1 1 1 1 1 1 1 1 1 1 1 1 1 1 1 1 1 1 1 1 1 1 1 1\n",
      " 1 1 1 1 1 1 1 1 1 1 1 1 1 1 1 1 1 1 1 1 1 1 1 1 1 1 1 1 1 1 1 1 1 1 1 1 1\n",
      " 1 1 1 1 1 1 1 1 1 1 1 1 1 1 1 1 1 1 1 1 1 1 1 1 1 1 1 1 1 1 1 1 1 1 1 1 1\n",
      " 1 1 1 1 1 1 1 1 1 1 1 1 1 1 1 1 1 1 1 1 1 1 1 1 1 1 1 1 1 1 1 1 1 1 1 1 1\n",
      " 1 1 1 1 1 1 1 1 1 1 1 1 1 1 1 1 1 1 1 1 1 1 1 1 1 1 1 1 1 1 1 1 1 1 1 1 1\n",
      " 1 1 1 1 1 1 1 1 1 1 1 1 1 1 1 1 1 1 1 1 1 1 1 1 1 1 1 1 1 1 1 1 1 1 1 1 1\n",
      " 1 1 1 1 1 1 1 1 1 1 1 1 1 1 1 1 1 1 1 1 1 1 1 1 1 1 1 1 1 1 1 1 1 1 1 1 1\n",
      " 1 1 1 1 1 1 1 1 1 1 1 1 1 1 1 1 1 1 1 1 1 1 1 1 1 1 1 1 1 1 1 1 1 1 1 1 1\n",
      " 1 1 1 1 1 1 1 1 1 1 1 1 1 1 1 1 1 1 1 1 1 1 1 1 1 1 1 1 1 1]\n"
     ]
    },
    {
     "data": {
      "text/plain": [
       "['NORMAL', 'PNEUMONIA']"
      ]
     },
     "execution_count": 58,
     "metadata": {},
     "output_type": "execute_result"
    }
   ],
   "source": [
    "# test set\n",
    "true_classes_cnn2 = test_generator.classes\n",
    "print(true_classes_cnn2)\n",
    "class_labels_cnn2 = list(test_generator.class_indices.keys())\n",
    "class_labels_cnn2"
   ]
  },
  {
   "cell_type": "code",
   "execution_count": 59,
   "metadata": {},
   "outputs": [
    {
     "data": {
      "text/plain": [
       "0.9467532467532468"
      ]
     },
     "execution_count": 59,
     "metadata": {},
     "output_type": "execute_result"
    }
   ],
   "source": [
    "accuracy_cnn2 = accuracy_score(test_y, preds_cnn2.round())\n",
    "accuracy_cnn2"
   ]
  },
  {
   "cell_type": "code",
   "execution_count": 60,
   "metadata": {},
   "outputs": [
    {
     "data": {
      "text/plain": [
       "0.9411764705882353"
      ]
     },
     "execution_count": 60,
     "metadata": {},
     "output_type": "execute_result"
    }
   ],
   "source": [
    "precision_cnn2 = precision_score(test_y, preds_cnn2.round())\n",
    "precision_cnn2"
   ]
  },
  {
   "cell_type": "code",
   "execution_count": 61,
   "metadata": {},
   "outputs": [
    {
     "data": {
      "text/plain": [
       "0.8543689320388349"
      ]
     },
     "execution_count": 61,
     "metadata": {},
     "output_type": "execute_result"
    }
   ],
   "source": [
    "recall_cnn2 = recall_score(test_y, preds_cnn2.round())\n",
    "recall_cnn2"
   ]
  },
  {
   "cell_type": "code",
   "execution_count": 62,
   "metadata": {},
   "outputs": [
    {
     "data": {
      "text/plain": [
       "0.8956743002544529"
      ]
     },
     "execution_count": 62,
     "metadata": {},
     "output_type": "execute_result"
    }
   ],
   "source": [
    "f1_cnn2 = f1_score(test_y, preds_cnn2.round())\n",
    "f1_cnn2"
   ]
  },
  {
   "cell_type": "code",
   "execution_count": 63,
   "metadata": {},
   "outputs": [
    {
     "data": {
      "text/plain": [
       "0.9835691661502444"
      ]
     },
     "execution_count": 63,
     "metadata": {},
     "output_type": "execute_result"
    }
   ],
   "source": [
    "auc_value_cnn2 = roc_auc_score(test_y, preds_cnn2)\n",
    "auc_value_cnn2"
   ]
  },
  {
   "cell_type": "code",
   "execution_count": 64,
   "metadata": {},
   "outputs": [],
   "source": [
    "fpr_cnn2, tpr_cnn2, threshold_cnn2 = roc_curve(test_y, preds_cnn2)"
   ]
  },
  {
   "cell_type": "code",
   "execution_count": 65,
   "metadata": {},
   "outputs": [],
   "source": [
    "roc_auc_cnn2 = auc(fpr_cnn2, tpr_cnn2)"
   ]
  },
  {
   "cell_type": "code",
   "execution_count": 66,
   "metadata": {},
   "outputs": [
    {
     "data": {
      "image/png": "[encoded data removed]",
      "text/plain": [
       "<Figure size 432x288 with 1 Axes>"
      ]
     },
     "metadata": {
      "needs_background": "light"
     },
     "output_type": "display_data"
    }
   ],
   "source": [
    "plt.figure()\n",
    "lw=2\n",
    "plt.plot(fpr_cnn2, tpr_cnn2, color='darkorange', lw=lw, label='ROC curve (area=%.2f)' %auc_value_cnn2)\n",
    "plt.plot([0, 1], [0, 1], color='navy', lw=lw, linestyle='--')\n",
    "plt.xlim([0.0, 1.0])\n",
    "plt.ylim([0.0, 1.05])\n",
    "plt.xlabel('False Positive Rate')\n",
    "plt.ylabel('True Positive Rate')\n",
    "plt.title('Receiver operating characteristic for CNN')\n",
    "plt.legend(loc='lower right')\n",
    "plt.show()"
   ]
  },
  {
   "cell_type": "code",
   "execution_count": 67,
   "metadata": {},
   "outputs": [
    {
     "name": "stdout",
     "output_type": "stream",
     "text": [
      "              precision    recall  f1-score   support\n",
      "\n",
      "      NORMAL       0.95      0.98      0.96       564\n",
      "   PNEUMONIA       0.94      0.85      0.90       206\n",
      "\n",
      "    accuracy                           0.95       770\n",
      "   macro avg       0.94      0.92      0.93       770\n",
      "weighted avg       0.95      0.95      0.95       770\n",
      "\n"
     ]
    }
   ],
   "source": [
    "report_cnn2 = classification_report(test_y, preds_cnn2.round(), target_names=class_labels_cnn2)\n",
    "print(report_cnn2)"
   ]
  },
  {
   "cell_type": "code",
   "execution_count": 68,
   "metadata": {},
   "outputs": [
    {
     "name": "stdout",
     "output_type": "stream",
     "text": [
      "[[553  11]\n",
      " [ 30 176]]\n"
     ]
    }
   ],
   "source": [
    "cnf_matrix_cnn2 = confusion_matrix(y_true=test_y, y_pred=preds_cnn2.round())\n",
    "np.set_printoptions(precision=2)\n",
    "print(cnf_matrix_cnn2)"
   ]
  },
  {
   "cell_type": "code",
   "execution_count": 69,
   "metadata": {},
   "outputs": [
    {
     "name": "stdout",
     "output_type": "stream",
     "text": [
      "Confusion matrix, without normalization\n",
      "[[553  11]\n",
      " [ 30 176]]\n"
     ]
    },
    {
     "data": {
      "image/png": "[encoded data removed]",
      "text/plain": [
       "<Figure size 432x288 with 2 Axes>"
      ]
     },
     "metadata": {
      "needs_background": "light"
     },
     "output_type": "display_data"
    }
   ],
   "source": [
    "plt.figure()\n",
    "plot_confusion_matrix(cnf_matrix_cnn2, classes=cm_plot_labels, title='Confusion matrix for CNN, without normalization')\n",
    "plt.show()"
   ]
  },
  {
   "cell_type": "code",
   "execution_count": 70,
   "metadata": {},
   "outputs": [
    {
     "name": "stdout",
     "output_type": "stream",
     "text": [
      "Normalized confusion matrix\n",
      "[[0.98 0.02]\n",
      " [0.15 0.85]]\n"
     ]
    },
    {
     "data": {
      "image/png": "[encoded data removed]",
      "text/plain": [
       "<Figure size 432x288 with 2 Axes>"
      ]
     },
     "metadata": {
      "needs_background": "light"
     },
     "output_type": "display_data"
    }
   ],
   "source": [
    "plt.figure()\n",
    "plot_confusion_matrix(cnf_matrix_cnn2, classes=cm_plot_labels, normalize=True, title='Normalized confusion matrix for Baseline')\n",
    "plt.show()"
   ]
  },
  {
   "cell_type": "code",
   "execution_count": 71,
   "metadata": {},
   "outputs": [],
   "source": [
    "# convert the history.history dict to a pandas DataFrame:     \n",
    "hist_df = pd.DataFrame(history2.history) \n",
    "# or save to csv: \n",
    "hist_csv_file = 'cnn1_chest_xray_data_augmentation_LearningRate_Tuning'+str(date.today())+'_history.csv'\n",
    "with open(hist_csv_file, mode='w') as f:\n",
    "    hist_df.to_csv(f)"
   ]
  },
  {
   "cell_type": "code",
   "execution_count": null,
   "metadata": {},
   "outputs": [],
   "source": []
  }
 ],
 "metadata": {
  "kernelspec": {
   "display_name": "Python 3",
   "language": "python",
   "name": "python3"
  },
  "language_info": {
   "codemirror_mode": {
    "name": "ipython",
    "version": 3
   },
   "file_extension": ".py",
   "mimetype": "text/x-python",
   "name": "python",
   "nbconvert_exporter": "python",
   "pygments_lexer": "ipython3",
   "version": "3.7.6"
  },
  "toc": {
   "base_numbering": 1,
   "nav_menu": {},
   "number_sections": true,
   "sideBar": true,
   "skip_h1_title": false,
   "title_cell": "Table of Contents",
   "title_sidebar": "Contents",
   "toc_cell": false,
   "toc_position": {},
   "toc_section_display": true,
   "toc_window_display": false
  }
 },
 "nbformat": 4,
 "nbformat_minor": 2
}
