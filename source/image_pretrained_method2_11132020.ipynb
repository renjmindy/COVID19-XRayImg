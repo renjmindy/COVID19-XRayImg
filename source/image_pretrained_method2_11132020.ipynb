{
 "cells": [
  {
   "cell_type": "markdown",
   "metadata": {},
   "source": [
    "## Final Project Submission\n",
    "\n",
    "Please fill out:\n",
    "* Student name: Mindy Jen\n",
    "* Student pace: full time, ds-ft-online-05262020\n",
    "* Scheduled project review date/time: Sep. 24th, 2020/12:45-13:30 (CDT)\n",
    "* Instructor name: Yish Lim\n",
    "* Blog post URL: in progress\n",
    "* fine data: [Kaggle](https://www.kaggle.com/paultimothymooney/chest-xray-pneumonia)\n",
    "* full data: [Mendeley](https://data.mendeley.com/datasets/rscbjbr9sj/3)"
   ]
  },
  {
   "cell_type": "code",
   "execution_count": 1,
   "metadata": {},
   "outputs": [],
   "source": [
    "import time\n",
    "import datetime\n",
    "from datetime import date\n",
    "import os, shutil\n",
    "import matplotlib.pyplot as plt\n",
    "import matplotlib.image as mpimg\n",
    "%matplotlib inline\n",
    "import itertools\n",
    "import scipy\n",
    "import numpy as np\n",
    "import pandas as pd\n",
    "import pickle\n",
    "from PIL import Image\n",
    "from scipy import ndimage\n",
    "from sklearn.preprocessing import LabelBinarizer, StandardScaler, OneHotEncoder\n",
    "from sklearn.impute import SimpleImputer\n",
    "from sklearn.model_selection import train_test_split, cross_val_predict\n",
    "from sklearn.metrics import accuracy_score, precision_score, recall_score, f1_score, mean_squared_error\n",
    "from sklearn.metrics import roc_auc_score, roc_curve, auc, classification_report, confusion_matrix, plot_confusion_matrix\n",
    "from sklearn.multiclass import OneVsRestClassifier\n",
    "from keras.utils.np_utils import to_categorical\n",
    "from keras.preprocessing.text import Tokenizer\n",
    "from keras.preprocessing.image import ImageDataGenerator, array_to_img, img_to_array, load_img\n",
    "from keras.applications import VGG19\n",
    "from keras.models import load_model\n",
    "from keras.wrappers.scikit_learn import KerasRegressor\n",
    "from keras import models\n",
    "from keras import layers\n",
    "from keras import regularizers\n",
    "from keras import optimizers\n",
    "\n",
    "np.random.seed(123)\n",
    "original_start = datetime.datetime.now()\n",
    "start = datetime.datetime.now()\n",
    "\n",
    "import warnings\n",
    "warnings.filterwarnings('ignore')"
   ]
  },
  {
   "cell_type": "code",
   "execution_count": 2,
   "metadata": {},
   "outputs": [],
   "source": [
    "train_folder = 'split/train'\n",
    "test_folder = 'split/test'\n",
    "val_folder = 'split/validation'"
   ]
  },
  {
   "cell_type": "markdown",
   "metadata": {},
   "source": [
    "## VGG19: Feature extraction"
   ]
  },
  {
   "cell_type": "code",
   "execution_count": 3,
   "metadata": {},
   "outputs": [],
   "source": [
    "vgg19_base = VGG19(weights='imagenet', include_top=False, input_shape=(150, 150, 3))"
   ]
  },
  {
   "cell_type": "code",
   "execution_count": 4,
   "metadata": {},
   "outputs": [
    {
     "name": "stdout",
     "output_type": "stream",
     "text": [
      "Model: \"vgg19\"\n",
      "_________________________________________________________________\n",
      "Layer (type)                 Output Shape              Param #   \n",
      "=================================================================\n",
      "input_1 (InputLayer)         [(None, 150, 150, 3)]     0         \n",
      "_________________________________________________________________\n",
      "block1_conv1 (Conv2D)        (None, 150, 150, 64)      1792      \n",
      "_________________________________________________________________\n",
      "block1_conv2 (Conv2D)        (None, 150, 150, 64)      36928     \n",
      "_________________________________________________________________\n",
      "block1_pool (MaxPooling2D)   (None, 75, 75, 64)        0         \n",
      "_________________________________________________________________\n",
      "block2_conv1 (Conv2D)        (None, 75, 75, 128)       73856     \n",
      "_________________________________________________________________\n",
      "block2_conv2 (Conv2D)        (None, 75, 75, 128)       147584    \n",
      "_________________________________________________________________\n",
      "block2_pool (MaxPooling2D)   (None, 37, 37, 128)       0         \n",
      "_________________________________________________________________\n",
      "block3_conv1 (Conv2D)        (None, 37, 37, 256)       295168    \n",
      "_________________________________________________________________\n",
      "block3_conv2 (Conv2D)        (None, 37, 37, 256)       590080    \n",
      "_________________________________________________________________\n",
      "block3_conv3 (Conv2D)        (None, 37, 37, 256)       590080    \n",
      "_________________________________________________________________\n",
      "block3_conv4 (Conv2D)        (None, 37, 37, 256)       590080    \n",
      "_________________________________________________________________\n",
      "block3_pool (MaxPooling2D)   (None, 18, 18, 256)       0         \n",
      "_________________________________________________________________\n",
      "block4_conv1 (Conv2D)        (None, 18, 18, 512)       1180160   \n",
      "_________________________________________________________________\n",
      "block4_conv2 (Conv2D)        (None, 18, 18, 512)       2359808   \n",
      "_________________________________________________________________\n",
      "block4_conv3 (Conv2D)        (None, 18, 18, 512)       2359808   \n",
      "_________________________________________________________________\n",
      "block4_conv4 (Conv2D)        (None, 18, 18, 512)       2359808   \n",
      "_________________________________________________________________\n",
      "block4_pool (MaxPooling2D)   (None, 9, 9, 512)         0         \n",
      "_________________________________________________________________\n",
      "block5_conv1 (Conv2D)        (None, 9, 9, 512)         2359808   \n",
      "_________________________________________________________________\n",
      "block5_conv2 (Conv2D)        (None, 9, 9, 512)         2359808   \n",
      "_________________________________________________________________\n",
      "block5_conv3 (Conv2D)        (None, 9, 9, 512)         2359808   \n",
      "_________________________________________________________________\n",
      "block5_conv4 (Conv2D)        (None, 9, 9, 512)         2359808   \n",
      "_________________________________________________________________\n",
      "block5_pool (MaxPooling2D)   (None, 4, 4, 512)         0         \n",
      "=================================================================\n",
      "Total params: 20,024,384\n",
      "Trainable params: 20,024,384\n",
      "Non-trainable params: 0\n",
      "_________________________________________________________________\n"
     ]
    }
   ],
   "source": [
    "vgg19_base.summary()"
   ]
  },
  {
   "cell_type": "code",
   "execution_count": 5,
   "metadata": {},
   "outputs": [],
   "source": [
    "def visualize_training_results(results):\n",
    "    history = results.history\n",
    "    plt.figure()\n",
    "    plt.plot(history['val_loss'])\n",
    "    plt.plot(history['loss'])\n",
    "    plt.legend(['val_loss', 'loss'])\n",
    "    plt.title('Loss')\n",
    "    plt.xlabel('Epochs')\n",
    "    plt.ylabel('Loss')\n",
    "    plt.show()\n",
    "    \n",
    "    plt.figure()\n",
    "    plt.plot(history['val_accuracy'])\n",
    "    plt.plot(history['accuracy'])\n",
    "    plt.legend(['val_acc', 'acc'])\n",
    "    plt.title('Accuracy')\n",
    "    plt.xlabel('Epochs')\n",
    "    plt.ylabel('Accuracy')\n",
    "    plt.show()"
   ]
  },
  {
   "cell_type": "markdown",
   "metadata": {},
   "source": [
    "## Feature Extraction: Method 2\n",
    "\n",
    "Here, another method is employed to perform feature extraction which will segue naturally into methods for fine tuning a pretrained network. This method of feature extraction is more costly than the previous methodology but has some added benefits in that it will allow us to also perform our usual data augmentation techniques.  \n",
    "\n",
    "Here's an overview of the process:\n",
    "* Add the pretrained model as the first layer\n",
    "* Add some dense layers for a classifier on top\n",
    "* Freeze the convolutional base\n",
    "* Train the model\n",
    "\n",
    "The new part of this process which you have yet to see is freezing layers. This means that all of the weights associated with that layer(s) will remain unchanged through the optimization process. Freezing the base is important as you wish to preserve the features encoded in this CNN base. Without this, the volatile gradients will quickly erase the useful features of the pretrained model. "
   ]
  },
  {
   "cell_type": "code",
   "execution_count": 6,
   "metadata": {},
   "outputs": [],
   "source": [
    "model = models.Sequential()\n",
    "model.add(vgg19_base)\n",
    "model.add(layers.Flatten())\n",
    "model.add(layers.Dense(132, activation='relu'))\n",
    "model.add(layers.Dense(1, activation='sigmoid'))"
   ]
  },
  {
   "cell_type": "code",
   "execution_count": 7,
   "metadata": {},
   "outputs": [
    {
     "name": "stdout",
     "output_type": "stream",
     "text": [
      "Model: \"sequential\"\n",
      "_________________________________________________________________\n",
      "Layer (type)                 Output Shape              Param #   \n",
      "=================================================================\n",
      "vgg19 (Functional)           (None, 4, 4, 512)         20024384  \n",
      "_________________________________________________________________\n",
      "flatten (Flatten)            (None, 8192)              0         \n",
      "_________________________________________________________________\n",
      "dense (Dense)                (None, 132)               1081476   \n",
      "_________________________________________________________________\n",
      "dense_1 (Dense)              (None, 1)                 133       \n",
      "=================================================================\n",
      "Total params: 21,105,993\n",
      "Trainable params: 21,105,993\n",
      "Non-trainable params: 0\n",
      "_________________________________________________________________\n"
     ]
    }
   ],
   "source": [
    "model.summary()"
   ]
  },
  {
   "cell_type": "markdown",
   "metadata": {},
   "source": [
    "## Freezing\n",
    "\n",
    "Now that you've designed the model architecture, you'll freeze the base. With this, learning to check whether layers are frozen or not is a valuable skill."
   ]
  },
  {
   "cell_type": "code",
   "execution_count": 8,
   "metadata": {},
   "outputs": [
    {
     "name": "stdout",
     "output_type": "stream",
     "text": [
      "vgg19 True\n",
      "flatten True\n",
      "dense True\n",
      "dense_1 True\n",
      "36\n"
     ]
    }
   ],
   "source": [
    "# You can check whether a layer is trainable (or alter its setting) through the layer.trainable attribute\n",
    "for layer in model.layers:\n",
    "    print(layer.name, layer.trainable)\n",
    "    \n",
    "# Similarly, you can check how many trainable weights are in the model\n",
    "print(len(model.trainable_weights))"
   ]
  },
  {
   "cell_type": "markdown",
   "metadata": {},
   "source": [
    "Freezing a layer is very straightforward: set the `trainable` attribute to False."
   ]
  },
  {
   "cell_type": "code",
   "execution_count": 9,
   "metadata": {},
   "outputs": [],
   "source": [
    "vgg19_base.trainable = False"
   ]
  },
  {
   "cell_type": "markdown",
   "metadata": {},
   "source": [
    "A quick sanity check is also prudent and verifies that the base model is indeed frozen:"
   ]
  },
  {
   "cell_type": "code",
   "execution_count": 10,
   "metadata": {},
   "outputs": [
    {
     "name": "stdout",
     "output_type": "stream",
     "text": [
      "vgg19 False\n",
      "flatten True\n",
      "dense True\n",
      "dense_1 True\n",
      "4\n"
     ]
    }
   ],
   "source": [
    "# You can check whether a layer is trainable (or alter its setting) through the layer.trainable attribute\n",
    "for layer in model.layers:\n",
    "    print(layer.name, layer.trainable)\n",
    "    \n",
    "# Similarly, we can check how many trainable weights are in the model\n",
    "print(len(model.trainable_weights))"
   ]
  },
  {
   "cell_type": "markdown",
   "metadata": {},
   "source": [
    "From there, training the model happens as usual.   \n",
    "\n",
    "Define the training-validation-test sets (now with data augmentation; the advantage of this method of feature-extraction)."
   ]
  },
  {
   "cell_type": "code",
   "execution_count": 11,
   "metadata": {},
   "outputs": [
    {
     "name": "stdout",
     "output_type": "stream",
     "text": [
      "Found 4685 images belonging to 2 classes.\n",
      "Found 792 images belonging to 2 classes.\n",
      "Found 770 images belonging to 2 classes.\n"
     ]
    }
   ],
   "source": [
    "# Get all the data in the directory split/train (3410 images), and reshape them\n",
    "train_datagen = ImageDataGenerator(rescale=1./255, rotation_range=40, width_shift_range=0.2, height_shift_range=0.2, \n",
    "                                   shear_range=0.2, zoom_range=0.2, horizontal_flip=True, fill_mode='nearest')\n",
    "\n",
    "train_generator = train_datagen.flow_from_directory(train_folder, target_size=(150, 150), batch_size=1000)\n",
    "                                                    #, \n",
    "                                                    #class_mode= 'binary') \n",
    "\n",
    "# Get all the data in the directory split/validation (420 images), and reshape them\n",
    "val_generator = ImageDataGenerator(rescale=1./255).flow_from_directory(val_folder, target_size=(150, 150), batch_size=400)\n",
    "                                                                       #, \n",
    "                                                                       #class_mode='binary')\n",
    "\n",
    "# Get all the data in the directory split/test (420 images), and reshape them\n",
    "test_generator = ImageDataGenerator(rescale=1./255).flow_from_directory(test_folder, target_size=(150, 150), batch_size=400)\n",
    "                                                                        #,\n",
    "                                                                        #class_mode='binary')"
   ]
  },
  {
   "cell_type": "code",
   "execution_count": 12,
   "metadata": {},
   "outputs": [],
   "source": [
    "test_images, test_labels = next(test_generator)\n",
    "train_images, train_labels = next(train_generator)\n",
    "val_images, val_labels = next(val_generator)"
   ]
  },
  {
   "cell_type": "code",
   "execution_count": 13,
   "metadata": {},
   "outputs": [
    {
     "name": "stdout",
     "output_type": "stream",
     "text": [
      "(1000, 2)\n",
      "(400, 2)\n",
      "(400, 2)\n"
     ]
    }
   ],
   "source": [
    "print(train_labels.shape)\n",
    "print(test_labels.shape)\n",
    "print(val_labels.shape)"
   ]
  },
  {
   "cell_type": "code",
   "execution_count": 14,
   "metadata": {},
   "outputs": [
    {
     "data": {
      "text/plain": [
       "array([[0., 1.],\n",
       "       [0., 1.],\n",
       "       [0., 1.],\n",
       "       ...,\n",
       "       [1., 0.],\n",
       "       [1., 0.],\n",
       "       [1., 0.]], dtype=float32)"
      ]
     },
     "execution_count": 14,
     "metadata": {},
     "output_type": "execute_result"
    }
   ],
   "source": [
    "train_labels"
   ]
  },
  {
   "cell_type": "code",
   "execution_count": 15,
   "metadata": {},
   "outputs": [
    {
     "data": {
      "text/plain": [
       "{'NORMAL': 0, 'PNEUMONIA': 1}"
      ]
     },
     "execution_count": 15,
     "metadata": {},
     "output_type": "execute_result"
    }
   ],
   "source": [
    "train_generator.class_indices"
   ]
  },
  {
   "cell_type": "code",
   "execution_count": 16,
   "metadata": {},
   "outputs": [
    {
     "name": "stdout",
     "output_type": "stream",
     "text": [
      "(1000, 1)\n",
      "(400, 1)\n",
      "(400, 1)\n"
     ]
    }
   ],
   "source": [
    "train_y = np.reshape(train_labels[:,0], (train_labels.shape[0],1))\n",
    "test_y = np.reshape(test_labels[:,0], (test_labels.shape[0],1))\n",
    "val_y = np.reshape(val_labels[:,0], (val_labels.shape[0],1))\n",
    "print(train_y.shape)\n",
    "print(test_y.shape)\n",
    "print(val_y.shape)"
   ]
  },
  {
   "cell_type": "markdown",
   "metadata": {},
   "source": [
    "Compile the model as usual:"
   ]
  },
  {
   "cell_type": "code",
   "execution_count": 17,
   "metadata": {},
   "outputs": [],
   "source": [
    "model.compile(loss='binary_crossentropy', optimizer=optimizers.RMSprop(lr=2e-5), metrics=['accuracy'])"
   ]
  },
  {
   "cell_type": "markdown",
   "metadata": {},
   "source": [
    "And fit the model:"
   ]
  },
  {
   "cell_type": "code",
   "execution_count": 18,
   "metadata": {
    "scrolled": false
   },
   "outputs": [
    {
     "name": "stdout",
     "output_type": "stream",
     "text": [
      "program starts, current time:\n",
      "2020-11-16 08:01:24.143300\n",
      "Epoch 1/40\n",
      "40/40 [==============================] - 1213s 30s/step - loss: 0.5695 - accuracy: 0.7000 - val_loss: 0.5068 - val_accuracy: 0.7050\n",
      "Epoch 2/40\n",
      "40/40 [==============================] - 1307s 33s/step - loss: 0.4482 - accuracy: 0.7660 - val_loss: 0.3991 - val_accuracy: 0.8250\n",
      "Epoch 3/40\n",
      "40/40 [==============================] - 1319s 33s/step - loss: 0.3832 - accuracy: 0.8220 - val_loss: 0.3505 - val_accuracy: 0.8725\n",
      "Epoch 4/40\n",
      "40/40 [==============================] - 1322s 33s/step - loss: 0.3447 - accuracy: 0.8560 - val_loss: 0.3220 - val_accuracy: 0.8675\n",
      "Epoch 5/40\n",
      "40/40 [==============================] - 1316s 33s/step - loss: 0.3179 - accuracy: 0.8640 - val_loss: 0.3057 - val_accuracy: 0.8700\n",
      "Epoch 6/40\n",
      "40/40 [==============================] - 1294s 32s/step - loss: 0.2959 - accuracy: 0.8800 - val_loss: 0.3038 - val_accuracy: 0.8950\n",
      "Epoch 7/40\n",
      "40/40 [==============================] - 1290s 32s/step - loss: 0.2831 - accuracy: 0.8880 - val_loss: 0.2937 - val_accuracy: 0.8950\n",
      "Epoch 8/40\n",
      "40/40 [==============================] - 1288s 32s/step - loss: 0.2704 - accuracy: 0.8930 - val_loss: 0.2941 - val_accuracy: 0.9000\n",
      "Epoch 9/40\n",
      "40/40 [==============================] - 1288s 32s/step - loss: 0.2608 - accuracy: 0.9010 - val_loss: 0.2947 - val_accuracy: 0.9000\n",
      "Epoch 10/40\n",
      "40/40 [==============================] - 1289s 32s/step - loss: 0.2542 - accuracy: 0.8950 - val_loss: 0.2749 - val_accuracy: 0.9000\n",
      "Epoch 11/40\n",
      "40/40 [==============================] - 1285s 32s/step - loss: 0.2446 - accuracy: 0.9000 - val_loss: 0.2749 - val_accuracy: 0.9000\n",
      "Epoch 12/40\n",
      "40/40 [==============================] - 1293s 32s/step - loss: 0.2415 - accuracy: 0.9060 - val_loss: 0.2738 - val_accuracy: 0.9000\n",
      "Epoch 13/40\n",
      "40/40 [==============================] - 1308s 33s/step - loss: 0.2350 - accuracy: 0.9120 - val_loss: 0.2666 - val_accuracy: 0.9075\n",
      "Epoch 14/40\n",
      "40/40 [==============================] - 1297s 32s/step - loss: 0.2277 - accuracy: 0.9120 - val_loss: 0.2644 - val_accuracy: 0.9075\n",
      "Epoch 15/40\n",
      "40/40 [==============================] - 1285s 32s/step - loss: 0.2229 - accuracy: 0.9140 - val_loss: 0.2587 - val_accuracy: 0.9075\n",
      "Epoch 16/40\n",
      "40/40 [==============================] - 1287s 32s/step - loss: 0.2166 - accuracy: 0.9230 - val_loss: 0.2610 - val_accuracy: 0.9050\n",
      "Epoch 17/40\n",
      "40/40 [==============================] - 1282s 32s/step - loss: 0.2123 - accuracy: 0.9200 - val_loss: 0.2707 - val_accuracy: 0.9075\n",
      "Epoch 18/40\n",
      "40/40 [==============================] - 1288s 32s/step - loss: 0.2079 - accuracy: 0.9200 - val_loss: 0.2535 - val_accuracy: 0.9100\n",
      "Epoch 19/40\n",
      "40/40 [==============================] - 1287s 32s/step - loss: 0.2017 - accuracy: 0.9250 - val_loss: 0.2514 - val_accuracy: 0.9125\n",
      "Epoch 20/40\n",
      "40/40 [==============================] - 1286s 32s/step - loss: 0.1982 - accuracy: 0.9280 - val_loss: 0.2569 - val_accuracy: 0.9075\n",
      "Epoch 21/40\n",
      "40/40 [==============================] - 1299s 32s/step - loss: 0.1956 - accuracy: 0.9300 - val_loss: 0.2488 - val_accuracy: 0.9100\n",
      "Epoch 22/40\n",
      "40/40 [==============================] - 1286s 32s/step - loss: 0.1899 - accuracy: 0.9330 - val_loss: 0.2469 - val_accuracy: 0.9150\n",
      "Epoch 23/40\n",
      "40/40 [==============================] - 1284s 32s/step - loss: 0.1864 - accuracy: 0.9370 - val_loss: 0.2456 - val_accuracy: 0.9100\n",
      "Epoch 24/40\n",
      "40/40 [==============================] - 1347s 34s/step - loss: 0.1814 - accuracy: 0.9370 - val_loss: 0.2439 - val_accuracy: 0.9150\n",
      "Epoch 25/40\n",
      "40/40 [==============================] - 1295s 32s/step - loss: 0.1808 - accuracy: 0.9360 - val_loss: 0.2422 - val_accuracy: 0.9150\n",
      "Epoch 26/40\n",
      "40/40 [==============================] - 1317s 33s/step - loss: 0.1764 - accuracy: 0.9370 - val_loss: 0.2494 - val_accuracy: 0.9100\n",
      "Epoch 27/40\n",
      "40/40 [==============================] - 1282s 32s/step - loss: 0.1744 - accuracy: 0.9380 - val_loss: 0.2403 - val_accuracy: 0.9125\n",
      "Epoch 28/40\n",
      "40/40 [==============================] - 1300s 32s/step - loss: 0.1708 - accuracy: 0.9360 - val_loss: 0.2464 - val_accuracy: 0.9125\n",
      "Epoch 29/40\n",
      "40/40 [==============================] - 1329s 33s/step - loss: 0.1652 - accuracy: 0.9510 - val_loss: 0.2385 - val_accuracy: 0.9150\n",
      "Epoch 30/40\n",
      "40/40 [==============================] - 1335s 33s/step - loss: 0.1651 - accuracy: 0.9460 - val_loss: 0.2408 - val_accuracy: 0.9100\n",
      "Epoch 31/40\n",
      "40/40 [==============================] - 1334s 33s/step - loss: 0.1614 - accuracy: 0.9460 - val_loss: 0.2357 - val_accuracy: 0.9225\n",
      "Epoch 32/40\n",
      "40/40 [==============================] - 1344s 34s/step - loss: 0.1585 - accuracy: 0.9470 - val_loss: 0.2400 - val_accuracy: 0.9100\n",
      "Epoch 33/40\n",
      "40/40 [==============================] - 1355s 34s/step - loss: 0.1546 - accuracy: 0.9490 - val_loss: 0.2357 - val_accuracy: 0.9200\n",
      "Epoch 34/40\n",
      "40/40 [==============================] - 1364s 34s/step - loss: 0.1529 - accuracy: 0.9510 - val_loss: 0.2381 - val_accuracy: 0.9125\n",
      "Epoch 35/40\n",
      "40/40 [==============================] - 1375s 34s/step - loss: 0.1495 - accuracy: 0.9560 - val_loss: 0.2353 - val_accuracy: 0.9200\n",
      "Epoch 36/40\n",
      "40/40 [==============================] - 1433s 36s/step - loss: 0.1485 - accuracy: 0.9530 - val_loss: 0.2344 - val_accuracy: 0.9200\n",
      "Epoch 37/40\n",
      "40/40 [==============================] - 1398s 35s/step - loss: 0.1447 - accuracy: 0.9500 - val_loss: 0.2358 - val_accuracy: 0.9125\n",
      "Epoch 38/40\n",
      "40/40 [==============================] - 1390s 35s/step - loss: 0.1415 - accuracy: 0.9520 - val_loss: 0.2409 - val_accuracy: 0.9075\n",
      "Epoch 39/40\n",
      "40/40 [==============================] - 1513s 38s/step - loss: 0.1396 - accuracy: 0.9540 - val_loss: 0.2335 - val_accuracy: 0.9175\n",
      "Epoch 40/40\n",
      "40/40 [==============================] - 1493s 37s/step - loss: 0.1361 - accuracy: 0.9580 - val_loss: 0.2332 - val_accuracy: 0.9200\n",
      "program ends, current time:\n",
      "2020-11-16 22:58:51.420782\n",
      "Training took a total of 14:57:27.277482\n"
     ]
    }
   ],
   "source": [
    "# ⏰ This cell may take several minutes to run\n",
    "start = datetime.datetime.now()\n",
    "print('program starts, current time:')\n",
    "print(start)\n",
    "history = model.fit(train_images, train_y, epochs=40, batch_size=25, validation_data=(val_images, val_y))\n",
    "end = datetime.datetime.now()\n",
    "print('program ends, current time:')\n",
    "print(end)\n",
    "elapsed = end - start\n",
    "print('Training took a total of {}'.format(elapsed))"
   ]
  },
  {
   "cell_type": "code",
   "execution_count": 19,
   "metadata": {},
   "outputs": [
    {
     "name": "stdout",
     "output_type": "stream",
     "text": [
      "32/32 [==============================] - 742s 23s/step - loss: 0.1322 - accuracy: 0.9620\n"
     ]
    },
    {
     "data": {
      "text/plain": [
       "[0.13219694793224335, 0.9620000123977661]"
      ]
     },
     "execution_count": 19,
     "metadata": {},
     "output_type": "execute_result"
    }
   ],
   "source": [
    "results_train = model.evaluate(train_images, train_y)\n",
    "results_train"
   ]
  },
  {
   "cell_type": "code",
   "execution_count": 20,
   "metadata": {},
   "outputs": [
    {
     "name": "stdout",
     "output_type": "stream",
     "text": [
      "13/13 [==============================] - 360s 28s/step - loss: 0.1519 - accuracy: 0.9375\n"
     ]
    },
    {
     "data": {
      "text/plain": [
       "[0.15193124115467072, 0.9375]"
      ]
     },
     "execution_count": 20,
     "metadata": {},
     "output_type": "execute_result"
    }
   ],
   "source": [
    "results_test = model.evaluate(test_images, test_y)\n",
    "results_test"
   ]
  },
  {
   "cell_type": "code",
   "execution_count": 21,
   "metadata": {},
   "outputs": [
    {
     "data": {
      "image/png": "[encoded data removed]",
      "text/plain": [
       "<Figure size 432x288 with 1 Axes>"
      ]
     },
     "metadata": {
      "needs_background": "light"
     },
     "output_type": "display_data"
    },
    {
     "data": {
      "image/png": "[encoded data removed]",
      "text/plain": [
       "<Figure size 432x288 with 1 Axes>"
      ]
     },
     "metadata": {
      "needs_background": "light"
     },
     "output_type": "display_data"
    }
   ],
   "source": [
    "visualize_training_results(history)"
   ]
  },
  {
   "cell_type": "markdown",
   "metadata": {},
   "source": [
    "## Saving Whole Base Freezed VGG19 Model"
   ]
  },
  {
   "cell_type": "code",
   "execution_count": 22,
   "metadata": {},
   "outputs": [],
   "source": [
    "from datetime import date\n",
    "model.save('vgg19_whole_base_frozen_chest_xray_ALL_data_'+str(date.today())+'_method2.h5')"
   ]
  },
  {
   "cell_type": "code",
   "execution_count": 23,
   "metadata": {},
   "outputs": [],
   "source": [
    "preds_model = model.predict(test_images)"
   ]
  },
  {
   "cell_type": "code",
   "execution_count": 24,
   "metadata": {},
   "outputs": [
    {
     "data": {
      "text/plain": [
       "numpy.ndarray"
      ]
     },
     "execution_count": 24,
     "metadata": {},
     "output_type": "execute_result"
    }
   ],
   "source": [
    "type(preds_model)"
   ]
  },
  {
   "cell_type": "code",
   "execution_count": 25,
   "metadata": {},
   "outputs": [
    {
     "data": {
      "text/plain": [
       "(400, 1)"
      ]
     },
     "execution_count": 25,
     "metadata": {},
     "output_type": "execute_result"
    }
   ],
   "source": [
    "preds_model.shape"
   ]
  },
  {
   "cell_type": "code",
   "execution_count": 26,
   "metadata": {},
   "outputs": [
    {
     "data": {
      "text/plain": [
       "(400, 1)"
      ]
     },
     "execution_count": 26,
     "metadata": {},
     "output_type": "execute_result"
    }
   ],
   "source": [
    "test_y.shape"
   ]
  },
  {
   "cell_type": "code",
   "execution_count": 27,
   "metadata": {},
   "outputs": [
    {
     "name": "stdout",
     "output_type": "stream",
     "text": [
      "WARNING:tensorflow:From <ipython-input-27-8dfbff9707be>:1: Sequential.predict_classes (from tensorflow.python.keras.engine.sequential) is deprecated and will be removed after 2021-01-01.\n",
      "Instructions for updating:\n",
      "Please use instead:* `np.argmax(model.predict(x), axis=-1)`,   if your model does multi-class classification   (e.g. if it uses a `softmax` last-layer activation).* `(model.predict(x) > 0.5).astype(\"int32\")`,   if your model does binary classification   (e.g. if it uses a `sigmoid` last-layer activation).\n"
     ]
    }
   ],
   "source": [
    "pred_model_class = model.predict_classes(test_images)"
   ]
  },
  {
   "cell_type": "code",
   "execution_count": 28,
   "metadata": {},
   "outputs": [
    {
     "data": {
      "text/plain": [
       "(400, 1)"
      ]
     },
     "execution_count": 28,
     "metadata": {},
     "output_type": "execute_result"
    }
   ],
   "source": [
    "pred_model_class.shape"
   ]
  },
  {
   "cell_type": "code",
   "execution_count": 29,
   "metadata": {},
   "outputs": [
    {
     "data": {
      "text/plain": [
       "(400, 1)"
      ]
     },
     "execution_count": 29,
     "metadata": {},
     "output_type": "execute_result"
    }
   ],
   "source": [
    "pred_model_binary_class = (model.predict(test_images) > 0.5).astype(\"int32\")\n",
    "pred_model_binary_class.shape"
   ]
  },
  {
   "cell_type": "code",
   "execution_count": 30,
   "metadata": {},
   "outputs": [
    {
     "data": {
      "text/plain": [
       "0.9375"
      ]
     },
     "execution_count": 30,
     "metadata": {},
     "output_type": "execute_result"
    }
   ],
   "source": [
    "accuracy_model = accuracy_score(test_y, preds_model.round())\n",
    "accuracy_model"
   ]
  },
  {
   "cell_type": "code",
   "execution_count": 31,
   "metadata": {},
   "outputs": [
    {
     "data": {
      "text/plain": [
       "0.8739495798319328"
      ]
     },
     "execution_count": 31,
     "metadata": {},
     "output_type": "execute_result"
    }
   ],
   "source": [
    "precision_model = precision_score(test_y, preds_model.round())\n",
    "precision_model"
   ]
  },
  {
   "cell_type": "code",
   "execution_count": 32,
   "metadata": {},
   "outputs": [
    {
     "data": {
      "text/plain": [
       "0.9122807017543859"
      ]
     },
     "execution_count": 32,
     "metadata": {},
     "output_type": "execute_result"
    }
   ],
   "source": [
    "recall_model = recall_score(test_y, preds_model.round())\n",
    "recall_model"
   ]
  },
  {
   "cell_type": "code",
   "execution_count": 33,
   "metadata": {},
   "outputs": [
    {
     "data": {
      "text/plain": [
       "0.8927038626609443"
      ]
     },
     "execution_count": 33,
     "metadata": {},
     "output_type": "execute_result"
    }
   ],
   "source": [
    "f1_model = f1_score(test_y, preds_model.round())\n",
    "f1_model"
   ]
  },
  {
   "cell_type": "code",
   "execution_count": 34,
   "metadata": {},
   "outputs": [
    {
     "data": {
      "text/plain": [
       "0.983008219850325"
      ]
     },
     "execution_count": 34,
     "metadata": {},
     "output_type": "execute_result"
    }
   ],
   "source": [
    "auc_value_model = roc_auc_score(test_y, preds_model)\n",
    "auc_value_model"
   ]
  },
  {
   "cell_type": "code",
   "execution_count": 35,
   "metadata": {},
   "outputs": [
    {
     "name": "stdout",
     "output_type": "stream",
     "text": [
      "[0 0 0 0 0 0 0 0 0 0 0 0 0 0 0 0 0 0 0 0 0 0 0 0 0 0 0 0 0 0 0 0 0 0 0 0 0\n",
      " 0 0 0 0 0 0 0 0 0 0 0 0 0 0 0 0 0 0 0 0 0 0 0 0 0 0 0 0 0 0 0 0 0 0 0 0 0\n",
      " 0 0 0 0 0 0 0 0 0 0 0 0 0 0 0 0 0 0 0 0 0 0 0 0 0 0 0 0 0 0 0 0 0 0 0 0 0\n",
      " 0 0 0 0 0 0 0 0 0 0 0 0 0 0 0 0 0 0 0 0 0 0 0 0 0 0 0 0 0 0 0 0 0 0 0 0 0\n",
      " 0 0 0 0 0 0 0 0 0 0 0 0 0 0 0 0 0 0 0 0 0 0 0 0 0 0 0 0 0 0 0 0 0 0 0 0 0\n",
      " 0 0 0 0 0 0 0 0 0 0 0 0 0 0 0 0 0 0 0 0 0 1 1 1 1 1 1 1 1 1 1 1 1 1 1 1 1\n",
      " 1 1 1 1 1 1 1 1 1 1 1 1 1 1 1 1 1 1 1 1 1 1 1 1 1 1 1 1 1 1 1 1 1 1 1 1 1\n",
      " 1 1 1 1 1 1 1 1 1 1 1 1 1 1 1 1 1 1 1 1 1 1 1 1 1 1 1 1 1 1 1 1 1 1 1 1 1\n",
      " 1 1 1 1 1 1 1 1 1 1 1 1 1 1 1 1 1 1 1 1 1 1 1 1 1 1 1 1 1 1 1 1 1 1 1 1 1\n",
      " 1 1 1 1 1 1 1 1 1 1 1 1 1 1 1 1 1 1 1 1 1 1 1 1 1 1 1 1 1 1 1 1 1 1 1 1 1\n",
      " 1 1 1 1 1 1 1 1 1 1 1 1 1 1 1 1 1 1 1 1 1 1 1 1 1 1 1 1 1 1 1 1 1 1 1 1 1\n",
      " 1 1 1 1 1 1 1 1 1 1 1 1 1 1 1 1 1 1 1 1 1 1 1 1 1 1 1 1 1 1 1 1 1 1 1 1 1\n",
      " 1 1 1 1 1 1 1 1 1 1 1 1 1 1 1 1 1 1 1 1 1 1 1 1 1 1 1 1 1 1 1 1 1 1 1 1 1\n",
      " 1 1 1 1 1 1 1 1 1 1 1 1 1 1 1 1 1 1 1 1 1 1 1 1 1 1 1 1 1 1 1 1 1 1 1 1 1\n",
      " 1 1 1 1 1 1 1 1 1 1 1 1 1 1 1 1 1 1 1 1 1 1 1 1 1 1 1 1 1 1 1 1 1 1 1 1 1\n",
      " 1 1 1 1 1 1 1 1 1 1 1 1 1 1 1 1 1 1 1 1 1 1 1 1 1 1 1 1 1 1 1 1 1 1 1 1 1\n",
      " 1 1 1 1 1 1 1 1 1 1 1 1 1 1 1 1 1 1 1 1 1 1 1 1 1 1 1 1 1 1 1 1 1 1 1 1 1\n",
      " 1 1 1 1 1 1 1 1 1 1 1 1 1 1 1 1 1 1 1 1 1 1 1 1 1 1 1 1 1 1 1 1 1 1 1 1 1\n",
      " 1 1 1 1 1 1 1 1 1 1 1 1 1 1 1 1 1 1 1 1 1 1 1 1 1 1 1 1 1 1 1 1 1 1 1 1 1\n",
      " 1 1 1 1 1 1 1 1 1 1 1 1 1 1 1 1 1 1 1 1 1 1 1 1 1 1 1 1 1 1 1 1 1 1 1 1 1\n",
      " 1 1 1 1 1 1 1 1 1 1 1 1 1 1 1 1 1 1 1 1 1 1 1 1 1 1 1 1 1 1]\n"
     ]
    },
    {
     "data": {
      "text/plain": [
       "['NORMAL', 'PNEUMONIA']"
      ]
     },
     "execution_count": 35,
     "metadata": {},
     "output_type": "execute_result"
    }
   ],
   "source": [
    "# test set\n",
    "true_classes_vgg19 = test_generator.classes\n",
    "print(true_classes_vgg19)\n",
    "class_labels_vgg19 = list(test_generator.class_indices.keys())\n",
    "class_labels_vgg19"
   ]
  },
  {
   "cell_type": "code",
   "execution_count": 36,
   "metadata": {},
   "outputs": [],
   "source": [
    "fpr_model, tpr_model, threshold_model = roc_curve(test_y, preds_model)"
   ]
  },
  {
   "cell_type": "code",
   "execution_count": 37,
   "metadata": {},
   "outputs": [],
   "source": [
    "roc_auc_model = auc(fpr_model, tpr_model)"
   ]
  },
  {
   "cell_type": "code",
   "execution_count": 38,
   "metadata": {},
   "outputs": [
    {
     "data": {
      "image/png": "[encoded data removed]",
      "text/plain": [
       "<Figure size 432x288 with 1 Axes>"
      ]
     },
     "metadata": {
      "needs_background": "light"
     },
     "output_type": "display_data"
    }
   ],
   "source": [
    "plt.figure()\n",
    "lw=2\n",
    "plt.plot(fpr_model, tpr_model, color='darkorange', lw=lw, label='ROC curve (area=%.2f)' %auc_value_model)\n",
    "plt.plot([0, 1], [0, 1], color='navy', lw=lw, linestyle='--')\n",
    "plt.xlim([0.0, 1.0])\n",
    "plt.ylim([0.0, 1.05])\n",
    "plt.xlabel('False Positive Rate')\n",
    "plt.ylabel('True Positive Rate')\n",
    "plt.title('Receiver operating characteristic for VGG19')\n",
    "plt.legend(loc='lower right')\n",
    "plt.show()"
   ]
  },
  {
   "cell_type": "code",
   "execution_count": 39,
   "metadata": {},
   "outputs": [
    {
     "name": "stdout",
     "output_type": "stream",
     "text": [
      "              precision    recall  f1-score   support\n",
      "\n",
      "         0.0       0.96      0.95      0.96       286\n",
      "         1.0       0.87      0.91      0.89       114\n",
      "\n",
      "    accuracy                           0.94       400\n",
      "   macro avg       0.92      0.93      0.92       400\n",
      "weighted avg       0.94      0.94      0.94       400\n",
      "\n"
     ]
    }
   ],
   "source": [
    "report_model = classification_report(test_y, preds_model.round())\n",
    "print(report_model)"
   ]
  },
  {
   "cell_type": "code",
   "execution_count": 40,
   "metadata": {},
   "outputs": [
    {
     "name": "stdout",
     "output_type": "stream",
     "text": [
      "[[271  15]\n",
      " [ 10 104]]\n"
     ]
    }
   ],
   "source": [
    "cnf_matrix_model = confusion_matrix(y_true=test_y, y_pred=preds_model.round())\n",
    "np.set_printoptions(precision=2)\n",
    "print(cnf_matrix_model)"
   ]
  },
  {
   "cell_type": "code",
   "execution_count": 41,
   "metadata": {},
   "outputs": [],
   "source": [
    "def plot_confusion_matrix(cm, classes,\n",
    "                          normalize=False,\n",
    "                          title='Confusion matrix',\n",
    "                          cmap=plt.cm.Greens):\n",
    "    \"\"\"\n",
    "    This function prints and plots the confusion matrix.\n",
    "    Normalization can be applied by setting `normalize=True`.\n",
    "    \"\"\"\n",
    "    plt.imshow(cm, interpolation='nearest', cmap=cmap)\n",
    "    plt.title(title)\n",
    "    plt.colorbar()\n",
    "    tick_marks = np.arange(len(classes))\n",
    "    plt.xticks(tick_marks, classes, rotation=45)\n",
    "    plt.yticks(tick_marks, classes)\n",
    "\n",
    "    if normalize:\n",
    "        cm = cm.astype('float') / cm.sum(axis=1)[:, np.newaxis]\n",
    "        print(\"Normalized confusion matrix\")\n",
    "    else:\n",
    "        print('Confusion matrix, without normalization')\n",
    "\n",
    "    print(cm)\n",
    "\n",
    "    thresh = cm.max() / 2.\n",
    "    for i, j in itertools.product(range(cm.shape[0]), range(cm.shape[1])):\n",
    "        plt.text(j, i, np.round(cm[i, j],2),\n",
    "                 horizontalalignment=\"center\",\n",
    "                 color=\"white\" if cm[i, j] > thresh else \"black\")\n",
    "\n",
    "    plt.tight_layout()\n",
    "    plt.ylabel('True label')\n",
    "    plt.xlabel('Predicted label')"
   ]
  },
  {
   "cell_type": "code",
   "execution_count": 42,
   "metadata": {},
   "outputs": [],
   "source": [
    "cm_plot_labels = ['NORMAL','PNEUMONIA']"
   ]
  },
  {
   "cell_type": "code",
   "execution_count": 43,
   "metadata": {},
   "outputs": [
    {
     "name": "stdout",
     "output_type": "stream",
     "text": [
      "Confusion matrix, without normalization\n",
      "[[271  15]\n",
      " [ 10 104]]\n"
     ]
    },
    {
     "data": {
      "image/png": "[encoded data removed]",
      "text/plain": [
       "<Figure size 432x288 with 2 Axes>"
      ]
     },
     "metadata": {
      "needs_background": "light"
     },
     "output_type": "display_data"
    }
   ],
   "source": [
    "plt.figure()\n",
    "plot_confusion_matrix(cnf_matrix_model, classes=cm_plot_labels, title='Confusion matrix for Baseline, without normalization')\n",
    "plt.show()"
   ]
  },
  {
   "cell_type": "code",
   "execution_count": 44,
   "metadata": {},
   "outputs": [
    {
     "name": "stdout",
     "output_type": "stream",
     "text": [
      "Normalized confusion matrix\n",
      "[[0.95 0.05]\n",
      " [0.09 0.91]]\n"
     ]
    },
    {
     "data": {
      "image/png": "[encoded data removed]",
      "text/plain": [
       "<Figure size 432x288 with 2 Axes>"
      ]
     },
     "metadata": {
      "needs_background": "light"
     },
     "output_type": "display_data"
    }
   ],
   "source": [
    "plt.figure()\n",
    "plot_confusion_matrix(cnf_matrix_model, classes=cm_plot_labels, normalize=True, title='Normalized confusion matrix for Baseline')\n",
    "plt.show()"
   ]
  },
  {
   "cell_type": "markdown",
   "metadata": {},
   "source": [
    "## Saving history in CSV"
   ]
  },
  {
   "cell_type": "code",
   "execution_count": 45,
   "metadata": {},
   "outputs": [],
   "source": [
    "import pandas as pd\n",
    "\n",
    "# convert the history.history dict to a pandas DataFrame:     \n",
    "hist_df = pd.DataFrame(history.history) \n",
    "# or save to csv: \n",
    "hist_csv_file = 'vgg19_whole_base_frozen_chest_xray_ALL_data'+str(date.today())+'_history.csv'\n",
    "with open(hist_csv_file, mode='w') as f:\n",
    "    hist_df.to_csv(f)"
   ]
  },
  {
   "cell_type": "markdown",
   "metadata": {},
   "source": [
    "> Note that whenever training AND VALIDATION accuracy continue to drop, then the model is probably underfit and can benefit from additional epochs."
   ]
  },
  {
   "cell_type": "markdown",
   "metadata": {},
   "source": [
    "## Fine Tuning\n",
    "\n",
    "Fine tuning starts with the same procedure as that for feature extraction. From there, we can further fine tune the weights of the most abstract layers of the convolutional base. \n",
    "\n",
    "When fine tuning these layers from the convolutional base, it is essential that we first freeze the entire convolutional base and train a classifier as we discussed with the feature engineering technique above. Without this, when gradient descent is initialized to optimize our loss function, we're apt to loose any significant patterns learned by the original classifier that we're adapting to the current situation. As a result, we must first tune the fully connected classifier that sits on top of the pretrained convolutional base. From there, the model should have a relatively strong accuracy and you can fine tune the weights of the last few layers of the convolutional base. Unfreezing initial layers of the convolutional base will typically not produce substantial gains as these early layers learn simple representations such as colors and edges which are useful in all forms of image recognition, regardless of application.   \n",
    "\n",
    "With that, let's continue fine-tuning the model.\n",
    "\n",
    "**Warning: Fine tuning can be a resource intensive procedure.** \n",
    "\n",
    "Recall that model's architecture: "
   ]
  },
  {
   "cell_type": "code",
   "execution_count": 46,
   "metadata": {},
   "outputs": [
    {
     "name": "stdout",
     "output_type": "stream",
     "text": [
      "Model: \"sequential\"\n",
      "_________________________________________________________________\n",
      "Layer (type)                 Output Shape              Param #   \n",
      "=================================================================\n",
      "vgg19 (Functional)           (None, 4, 4, 512)         20024384  \n",
      "_________________________________________________________________\n",
      "flatten (Flatten)            (None, 8192)              0         \n",
      "_________________________________________________________________\n",
      "dense (Dense)                (None, 132)               1081476   \n",
      "_________________________________________________________________\n",
      "dense_1 (Dense)              (None, 1)                 133       \n",
      "=================================================================\n",
      "Total params: 21,105,993\n",
      "Trainable params: 1,081,609\n",
      "Non-trainable params: 20,024,384\n",
      "_________________________________________________________________\n"
     ]
    }
   ],
   "source": [
    "model.summary()"
   ]
  },
  {
   "cell_type": "markdown",
   "metadata": {},
   "source": [
    "And you can also further investigate the borrowed convolutional base:"
   ]
  },
  {
   "cell_type": "code",
   "execution_count": 47,
   "metadata": {},
   "outputs": [
    {
     "name": "stdout",
     "output_type": "stream",
     "text": [
      "Model: \"vgg19\"\n",
      "_________________________________________________________________\n",
      "Layer (type)                 Output Shape              Param #   \n",
      "=================================================================\n",
      "input_1 (InputLayer)         [(None, 150, 150, 3)]     0         \n",
      "_________________________________________________________________\n",
      "block1_conv1 (Conv2D)        (None, 150, 150, 64)      1792      \n",
      "_________________________________________________________________\n",
      "block1_conv2 (Conv2D)        (None, 150, 150, 64)      36928     \n",
      "_________________________________________________________________\n",
      "block1_pool (MaxPooling2D)   (None, 75, 75, 64)        0         \n",
      "_________________________________________________________________\n",
      "block2_conv1 (Conv2D)        (None, 75, 75, 128)       73856     \n",
      "_________________________________________________________________\n",
      "block2_conv2 (Conv2D)        (None, 75, 75, 128)       147584    \n",
      "_________________________________________________________________\n",
      "block2_pool (MaxPooling2D)   (None, 37, 37, 128)       0         \n",
      "_________________________________________________________________\n",
      "block3_conv1 (Conv2D)        (None, 37, 37, 256)       295168    \n",
      "_________________________________________________________________\n",
      "block3_conv2 (Conv2D)        (None, 37, 37, 256)       590080    \n",
      "_________________________________________________________________\n",
      "block3_conv3 (Conv2D)        (None, 37, 37, 256)       590080    \n",
      "_________________________________________________________________\n",
      "block3_conv4 (Conv2D)        (None, 37, 37, 256)       590080    \n",
      "_________________________________________________________________\n",
      "block3_pool (MaxPooling2D)   (None, 18, 18, 256)       0         \n",
      "_________________________________________________________________\n",
      "block4_conv1 (Conv2D)        (None, 18, 18, 512)       1180160   \n",
      "_________________________________________________________________\n",
      "block4_conv2 (Conv2D)        (None, 18, 18, 512)       2359808   \n",
      "_________________________________________________________________\n",
      "block4_conv3 (Conv2D)        (None, 18, 18, 512)       2359808   \n",
      "_________________________________________________________________\n",
      "block4_conv4 (Conv2D)        (None, 18, 18, 512)       2359808   \n",
      "_________________________________________________________________\n",
      "block4_pool (MaxPooling2D)   (None, 9, 9, 512)         0         \n",
      "_________________________________________________________________\n",
      "block5_conv1 (Conv2D)        (None, 9, 9, 512)         2359808   \n",
      "_________________________________________________________________\n",
      "block5_conv2 (Conv2D)        (None, 9, 9, 512)         2359808   \n",
      "_________________________________________________________________\n",
      "block5_conv3 (Conv2D)        (None, 9, 9, 512)         2359808   \n",
      "_________________________________________________________________\n",
      "block5_conv4 (Conv2D)        (None, 9, 9, 512)         2359808   \n",
      "_________________________________________________________________\n",
      "block5_pool (MaxPooling2D)   (None, 4, 4, 512)         0         \n",
      "=================================================================\n",
      "Total params: 20,024,384\n",
      "Trainable params: 0\n",
      "Non-trainable params: 20,024,384\n",
      "_________________________________________________________________\n"
     ]
    }
   ],
   "source": [
    "vgg19_base.summary()"
   ]
  },
  {
   "cell_type": "markdown",
   "metadata": {},
   "source": [
    "Important Reminders on Fine Tuning: Feature Extraction Must Come First!\n",
    "\n",
    "Up to now, the entire convolutional base has been frozen. Again, it cannot be stressed enough how important this is before fine tuning the weights of the later layers of this base. Without training a classifier on the frozen base first, there will be too much noise in the model and initial epochs will overwrite any useful representations encoded in the pretrained model. That said, now that `a classifier to the frozen base has been tuned, a few of the deeper layers from this base can be now unfrozen, and we can further fine tune them to our problem scenario`. In practice, this is apt to be particularly helpful where adapted models span new domain categories. For example, if the pretrained model is on cats and dogs and this is adapted to a problem specific to cats (a very relatively similar domain) there is apt to be little performance gain from fine tuning. On the other hand, `if the problem domain is substantially different, additional gains are more likely in adjusting these more abstract layers of the convolutional base`. With that, here's how to unfreeze and fine tune these later layers.\n",
    "\n",
    "First, unfreeze the base."
   ]
  },
  {
   "cell_type": "code",
   "execution_count": 48,
   "metadata": {},
   "outputs": [],
   "source": [
    "vgg19_base.trainable = True"
   ]
  },
  {
   "cell_type": "markdown",
   "metadata": {},
   "source": [
    "Then, we refreeze all layers up to a specific layer. Here we're unfreezing the final *block* of layers.  \n",
    "(We will see diminishing returns if you continue to unfreeze additional layers.) "
   ]
  },
  {
   "cell_type": "code",
   "execution_count": 49,
   "metadata": {},
   "outputs": [],
   "source": [
    "vgg19_base.trainable = True\n",
    "set_trainable = False\n",
    "#layer_list = ['block5_conv1', 'block5_conv2', 'block5_conv3', 'block5_conv4', 'block5_pool']\n",
    "layer_list = ['block5_conv4', 'block5_pool']\n",
    "for layer in vgg19_base.layers:\n",
    "    if layer.name in layer_list :\n",
    "        set_trainable = True\n",
    "        layer.trainable = True\n",
    "    else:\n",
    "        layer.trainable = False"
   ]
  },
  {
   "cell_type": "code",
   "execution_count": 50,
   "metadata": {},
   "outputs": [],
   "source": [
    "model2 = models.Sequential()\n",
    "model2.add(vgg19_base)\n",
    "model2.add(layers.Flatten())\n",
    "model2.add(layers.Dense(16, activation='relu'))\n",
    "model2.add(layers.Dense(1, activation='sigmoid'))"
   ]
  },
  {
   "cell_type": "code",
   "execution_count": 51,
   "metadata": {},
   "outputs": [
    {
     "name": "stdout",
     "output_type": "stream",
     "text": [
      "Model: \"sequential_1\"\n",
      "_________________________________________________________________\n",
      "Layer (type)                 Output Shape              Param #   \n",
      "=================================================================\n",
      "vgg19 (Functional)           (None, 4, 4, 512)         20024384  \n",
      "_________________________________________________________________\n",
      "flatten_1 (Flatten)          (None, 8192)              0         \n",
      "_________________________________________________________________\n",
      "dense_2 (Dense)              (None, 16)                131088    \n",
      "_________________________________________________________________\n",
      "dense_3 (Dense)              (None, 1)                 17        \n",
      "=================================================================\n",
      "Total params: 20,155,489\n",
      "Trainable params: 2,490,913\n",
      "Non-trainable params: 17,664,576\n",
      "_________________________________________________________________\n"
     ]
    }
   ],
   "source": [
    "model2.summary()"
   ]
  },
  {
   "cell_type": "code",
   "execution_count": 52,
   "metadata": {},
   "outputs": [
    {
     "name": "stdout",
     "output_type": "stream",
     "text": [
      "vgg19 True\n",
      "flatten_1 True\n",
      "dense_2 True\n",
      "dense_3 True\n",
      "-------------------------------\n",
      "input_1 False\n",
      "block1_conv1 False\n",
      "block1_conv2 False\n",
      "block1_pool False\n",
      "block2_conv1 False\n",
      "block2_conv2 False\n",
      "block2_pool False\n",
      "block3_conv1 False\n",
      "block3_conv2 False\n",
      "block3_conv3 False\n",
      "block3_conv4 False\n",
      "block3_pool False\n",
      "block4_conv1 False\n",
      "block4_conv2 False\n",
      "block4_conv3 False\n",
      "block4_conv4 False\n",
      "block4_pool False\n",
      "block5_conv1 False\n",
      "block5_conv2 False\n",
      "block5_conv3 False\n",
      "block5_conv4 True\n",
      "block5_pool True\n",
      "-------------------------------\n",
      "6\n"
     ]
    }
   ],
   "source": [
    "# You can check whether a layer is trainable (or alter its setting) through the layer.trainable attribute\n",
    "for layer in model2.layers:\n",
    "    print(layer.name, layer.trainable)\n",
    "\n",
    "print('-------------------------------')\n",
    "for layer in vgg19_base.layers:\n",
    "    print(layer.name, layer.trainable)    \n",
    "    \n",
    "print('-------------------------------')\n",
    "# Similarly, we can check how many trainable weights are in the model\n",
    "print(len(model2.trainable_weights))"
   ]
  },
  {
   "cell_type": "markdown",
   "metadata": {},
   "source": [
    "Finally, we must recompile our model before fitting."
   ]
  },
  {
   "cell_type": "code",
   "execution_count": 53,
   "metadata": {},
   "outputs": [],
   "source": [
    "model2.compile(loss='binary_crossentropy', optimizer=optimizers.RMSprop(lr=2e-5), metrics=['accuracy'])"
   ]
  },
  {
   "cell_type": "markdown",
   "metadata": {},
   "source": [
    "Afterwards, we can then fit the model as usual."
   ]
  },
  {
   "cell_type": "code",
   "execution_count": 54,
   "metadata": {
    "scrolled": false
   },
   "outputs": [
    {
     "name": "stdout",
     "output_type": "stream",
     "text": [
      "program starts, current time:\n",
      "2020-11-17 01:51:35.047095\n",
      "Epoch 1/40\n",
      "40/40 [==============================] - 1173s 29s/step - loss: 0.5162 - accuracy: 0.7370 - val_loss: 0.3839 - val_accuracy: 0.8600\n",
      "Epoch 2/40\n",
      "40/40 [==============================] - 1358s 34s/step - loss: 0.3792 - accuracy: 0.8300 - val_loss: 0.3136 - val_accuracy: 0.8900\n",
      "Epoch 3/40\n",
      "40/40 [==============================] - 1374s 34s/step - loss: 0.3084 - accuracy: 0.8760 - val_loss: 0.2944 - val_accuracy: 0.8925\n",
      "Epoch 4/40\n",
      "40/40 [==============================] - 1385s 35s/step - loss: 0.2670 - accuracy: 0.8920 - val_loss: 0.2679 - val_accuracy: 0.9075\n",
      "Epoch 5/40\n",
      "40/40 [==============================] - 1393s 35s/step - loss: 0.2399 - accuracy: 0.9060 - val_loss: 0.2679 - val_accuracy: 0.9050\n",
      "Epoch 6/40\n",
      "40/40 [==============================] - 1392s 35s/step - loss: 0.2174 - accuracy: 0.9140 - val_loss: 0.2579 - val_accuracy: 0.9125\n",
      "Epoch 7/40\n",
      "40/40 [==============================] - 1391s 35s/step - loss: 0.2009 - accuracy: 0.9310 - val_loss: 0.2712 - val_accuracy: 0.8900\n",
      "Epoch 8/40\n",
      "40/40 [==============================] - 1367s 34s/step - loss: 0.1842 - accuracy: 0.9340 - val_loss: 0.2501 - val_accuracy: 0.9150\n",
      "Epoch 9/40\n",
      "40/40 [==============================] - 1378s 34s/step - loss: 0.1702 - accuracy: 0.9460 - val_loss: 0.2521 - val_accuracy: 0.9150\n",
      "Epoch 10/40\n",
      "40/40 [==============================] - 1392s 35s/step - loss: 0.1585 - accuracy: 0.9420 - val_loss: 0.2691 - val_accuracy: 0.8975\n",
      "Epoch 11/40\n",
      "40/40 [==============================] - 1379s 34s/step - loss: 0.1483 - accuracy: 0.9510 - val_loss: 0.2453 - val_accuracy: 0.9150\n",
      "Epoch 12/40\n",
      "40/40 [==============================] - 1366s 34s/step - loss: 0.1368 - accuracy: 0.9620 - val_loss: 0.2523 - val_accuracy: 0.9125\n",
      "Epoch 13/40\n",
      "40/40 [==============================] - 1417s 35s/step - loss: 0.1249 - accuracy: 0.9610 - val_loss: 0.2640 - val_accuracy: 0.9075\n",
      "Epoch 14/40\n",
      "40/40 [==============================] - 1376s 34s/step - loss: 0.1164 - accuracy: 0.9690 - val_loss: 0.2468 - val_accuracy: 0.9175\n",
      "Epoch 15/40\n",
      "40/40 [==============================] - 1452s 36s/step - loss: 0.1073 - accuracy: 0.9710 - val_loss: 0.2408 - val_accuracy: 0.9175\n",
      "Epoch 16/40\n",
      "40/40 [==============================] - 1389s 35s/step - loss: 0.1021 - accuracy: 0.9760 - val_loss: 0.2391 - val_accuracy: 0.9175\n",
      "Epoch 17/40\n",
      "40/40 [==============================] - 1374s 34s/step - loss: 0.0916 - accuracy: 0.9780 - val_loss: 0.2432 - val_accuracy: 0.9150\n",
      "Epoch 18/40\n",
      "40/40 [==============================] - 1369s 34s/step - loss: 0.0853 - accuracy: 0.9840 - val_loss: 0.2402 - val_accuracy: 0.9175\n",
      "Epoch 19/40\n",
      "40/40 [==============================] - 1363s 34s/step - loss: 0.0777 - accuracy: 0.9840 - val_loss: 0.2500 - val_accuracy: 0.9175\n",
      "Epoch 20/40\n",
      "40/40 [==============================] - 1357s 34s/step - loss: 0.0724 - accuracy: 0.9870 - val_loss: 0.2404 - val_accuracy: 0.9150\n",
      "Epoch 21/40\n",
      "40/40 [==============================] - 1362s 34s/step - loss: 0.0659 - accuracy: 0.9890 - val_loss: 0.2439 - val_accuracy: 0.9225\n",
      "Epoch 22/40\n",
      "40/40 [==============================] - 1347s 34s/step - loss: 0.0598 - accuracy: 0.9910 - val_loss: 0.2450 - val_accuracy: 0.9175\n",
      "Epoch 23/40\n",
      "40/40 [==============================] - 1343s 34s/step - loss: 0.0551 - accuracy: 0.9930 - val_loss: 0.2526 - val_accuracy: 0.9225\n",
      "Epoch 24/40\n",
      "40/40 [==============================] - 1345s 34s/step - loss: 0.0484 - accuracy: 0.9960 - val_loss: 0.2492 - val_accuracy: 0.9175\n",
      "Epoch 25/40\n",
      "40/40 [==============================] - 1337s 33s/step - loss: 0.0446 - accuracy: 0.9960 - val_loss: 0.2517 - val_accuracy: 0.9200\n",
      "Epoch 26/40\n",
      "40/40 [==============================] - 1334s 33s/step - loss: 0.0417 - accuracy: 0.9950 - val_loss: 0.2547 - val_accuracy: 0.9125\n",
      "Epoch 27/40\n",
      "40/40 [==============================] - 1329s 33s/step - loss: 0.0366 - accuracy: 0.9970 - val_loss: 0.2649 - val_accuracy: 0.9100\n",
      "Epoch 28/40\n",
      "40/40 [==============================] - 1327s 33s/step - loss: 0.0323 - accuracy: 0.9990 - val_loss: 0.2714 - val_accuracy: 0.9200\n",
      "Epoch 29/40\n",
      "40/40 [==============================] - 1330s 33s/step - loss: 0.0296 - accuracy: 0.9990 - val_loss: 0.2683 - val_accuracy: 0.9125\n",
      "Epoch 30/40\n",
      "40/40 [==============================] - 1340s 34s/step - loss: 0.0262 - accuracy: 0.9990 - val_loss: 0.2697 - val_accuracy: 0.9225\n",
      "Epoch 31/40\n",
      "40/40 [==============================] - 1326s 33s/step - loss: 0.0242 - accuracy: 0.9990 - val_loss: 0.2733 - val_accuracy: 0.9150\n",
      "Epoch 32/40\n",
      "40/40 [==============================] - 1325s 33s/step - loss: 0.0203 - accuracy: 1.0000 - val_loss: 0.2754 - val_accuracy: 0.9150\n",
      "Epoch 33/40\n",
      "40/40 [==============================] - 1330s 33s/step - loss: 0.0177 - accuracy: 1.0000 - val_loss: 0.2813 - val_accuracy: 0.9150\n",
      "Epoch 34/40\n",
      "40/40 [==============================] - 1325s 33s/step - loss: 0.0162 - accuracy: 1.0000 - val_loss: 0.2880 - val_accuracy: 0.9150\n",
      "Epoch 35/40\n",
      "40/40 [==============================] - 1328s 33s/step - loss: 0.0141 - accuracy: 1.0000 - val_loss: 0.2901 - val_accuracy: 0.9175\n",
      "Epoch 36/40\n",
      "40/40 [==============================] - 1402s 35s/step - loss: 0.0124 - accuracy: 1.0000 - val_loss: 0.2969 - val_accuracy: 0.9150\n",
      "Epoch 37/40\n",
      "40/40 [==============================] - 1355s 34s/step - loss: 0.0111 - accuracy: 1.0000 - val_loss: 0.3027 - val_accuracy: 0.9150\n",
      "Epoch 38/40\n",
      "40/40 [==============================] - 1299s 32s/step - loss: 0.0102 - accuracy: 1.0000 - val_loss: 0.3105 - val_accuracy: 0.9100\n",
      "Epoch 39/40\n",
      "40/40 [==============================] - 1320s 33s/step - loss: 0.0084 - accuracy: 1.0000 - val_loss: 0.3175 - val_accuracy: 0.9200\n",
      "Epoch 40/40\n",
      "40/40 [==============================] - 1333s 33s/step - loss: 0.0074 - accuracy: 1.0000 - val_loss: 0.3260 - val_accuracy: 0.9125\n",
      "program ends, current time:\n",
      "2020-11-17 17:10:53.740857\n",
      "Training took a total of 15:19:18.693762\n"
     ]
    }
   ],
   "source": [
    "# ⏰ This cell may take several minutes to run\n",
    "start2 = datetime.datetime.now()\n",
    "print('program starts, current time:')\n",
    "print(start2)\n",
    "#history3 = model2.fit_generator(train_generator, steps_per_epoch=27, epochs=10, validation_data=val_generator, validation_steps=10)\n",
    "history2 = model2.fit(train_images, train_y, epochs=40, batch_size=25, validation_data=(val_images, val_y))\n",
    "end2 = datetime.datetime.now()\n",
    "print('program ends, current time:')\n",
    "print(end2)\n",
    "elapsed2 = end2 - start2\n",
    "print('Training took a total of {}'.format(elapsed2))"
   ]
  },
  {
   "cell_type": "code",
   "execution_count": 55,
   "metadata": {},
   "outputs": [
    {
     "name": "stdout",
     "output_type": "stream",
     "text": [
      "32/32 [==============================] - 780s 24s/step - loss: 0.0060 - accuracy: 1.0000\n"
     ]
    },
    {
     "data": {
      "text/plain": [
       "[0.005969819147139788, 1.0]"
      ]
     },
     "execution_count": 55,
     "metadata": {},
     "output_type": "execute_result"
    }
   ],
   "source": [
    "results2_train = model2.evaluate(train_images, train_y)\n",
    "results2_train"
   ]
  },
  {
   "cell_type": "code",
   "execution_count": 56,
   "metadata": {},
   "outputs": [
    {
     "name": "stdout",
     "output_type": "stream",
     "text": [
      "13/13 [==============================] - 353s 27s/step - loss: 0.1670 - accuracy: 0.9375\n"
     ]
    },
    {
     "data": {
      "text/plain": [
       "[0.16695906221866608, 0.9375]"
      ]
     },
     "execution_count": 56,
     "metadata": {},
     "output_type": "execute_result"
    }
   ],
   "source": [
    "results2_test = model2.evaluate(test_images, test_y)\n",
    "results2_test"
   ]
  },
  {
   "cell_type": "code",
   "execution_count": 57,
   "metadata": {},
   "outputs": [
    {
     "data": {
      "image/png": "[encoded data removed]",
      "text/plain": [
       "<Figure size 432x288 with 1 Axes>"
      ]
     },
     "metadata": {
      "needs_background": "light"
     },
     "output_type": "display_data"
    },
    {
     "data": {
      "image/png": "[encoded data removed]",
      "text/plain": [
       "<Figure size 432x288 with 1 Axes>"
      ]
     },
     "metadata": {
      "needs_background": "light"
     },
     "output_type": "display_data"
    }
   ],
   "source": [
    "visualize_training_results(history2)"
   ]
  },
  {
   "cell_type": "markdown",
   "metadata": {},
   "source": [
    "## Saving Fine-tuned (Top Abstract Layer Unfreezed) VGG19 Model"
   ]
  },
  {
   "cell_type": "code",
   "execution_count": 58,
   "metadata": {},
   "outputs": [],
   "source": [
    "model2.save('vgg19_fine_tuned_chest_xray_ALL_data_'+str(date.today())+'.h5')"
   ]
  },
  {
   "cell_type": "code",
   "execution_count": 59,
   "metadata": {},
   "outputs": [],
   "source": [
    "preds_model2 = model2.predict(test_images)"
   ]
  },
  {
   "cell_type": "code",
   "execution_count": 60,
   "metadata": {},
   "outputs": [
    {
     "data": {
      "text/plain": [
       "numpy.ndarray"
      ]
     },
     "execution_count": 60,
     "metadata": {},
     "output_type": "execute_result"
    }
   ],
   "source": [
    "type(preds_model2)"
   ]
  },
  {
   "cell_type": "code",
   "execution_count": 61,
   "metadata": {},
   "outputs": [
    {
     "data": {
      "text/plain": [
       "(400, 1)"
      ]
     },
     "execution_count": 61,
     "metadata": {},
     "output_type": "execute_result"
    }
   ],
   "source": [
    "preds_model2.shape"
   ]
  },
  {
   "cell_type": "code",
   "execution_count": 62,
   "metadata": {},
   "outputs": [
    {
     "data": {
      "text/plain": [
       "(400, 150, 150, 3)"
      ]
     },
     "execution_count": 62,
     "metadata": {},
     "output_type": "execute_result"
    }
   ],
   "source": [
    "test_images.shape"
   ]
  },
  {
   "cell_type": "code",
   "execution_count": 63,
   "metadata": {},
   "outputs": [],
   "source": [
    "pred_model2_class = model2.predict_classes(test_images)"
   ]
  },
  {
   "cell_type": "code",
   "execution_count": 64,
   "metadata": {},
   "outputs": [
    {
     "data": {
      "text/plain": [
       "(400, 1)"
      ]
     },
     "execution_count": 64,
     "metadata": {},
     "output_type": "execute_result"
    }
   ],
   "source": [
    "pred_model2_class.shape"
   ]
  },
  {
   "cell_type": "code",
   "execution_count": 65,
   "metadata": {},
   "outputs": [
    {
     "data": {
      "text/plain": [
       "(400, 1)"
      ]
     },
     "execution_count": 65,
     "metadata": {},
     "output_type": "execute_result"
    }
   ],
   "source": [
    "pred_model2_binary_class = (model2.predict(test_images) > 0.5).astype(\"int32\")\n",
    "pred_model2_binary_class.shape"
   ]
  },
  {
   "cell_type": "code",
   "execution_count": 66,
   "metadata": {},
   "outputs": [
    {
     "data": {
      "text/plain": [
       "0.9375"
      ]
     },
     "execution_count": 66,
     "metadata": {},
     "output_type": "execute_result"
    }
   ],
   "source": [
    "accuracy_model2 = accuracy_score(test_y, preds_model2.round())\n",
    "accuracy_model2"
   ]
  },
  {
   "cell_type": "code",
   "execution_count": 67,
   "metadata": {},
   "outputs": [
    {
     "data": {
      "text/plain": [
       "0.8503937007874016"
      ]
     },
     "execution_count": 67,
     "metadata": {},
     "output_type": "execute_result"
    }
   ],
   "source": [
    "precision_model2 = precision_score(test_y, preds_model2.round())\n",
    "precision_model2"
   ]
  },
  {
   "cell_type": "code",
   "execution_count": 68,
   "metadata": {},
   "outputs": [
    {
     "data": {
      "text/plain": [
       "0.9473684210526315"
      ]
     },
     "execution_count": 68,
     "metadata": {},
     "output_type": "execute_result"
    }
   ],
   "source": [
    "recall_model2 = recall_score(test_y, preds_model2.round())\n",
    "recall_model2"
   ]
  },
  {
   "cell_type": "code",
   "execution_count": 69,
   "metadata": {},
   "outputs": [
    {
     "data": {
      "text/plain": [
       "0.896265560165975"
      ]
     },
     "execution_count": 69,
     "metadata": {},
     "output_type": "execute_result"
    }
   ],
   "source": [
    "f1_model2 = f1_score(test_y, preds_model2.round())\n",
    "f1_model2"
   ]
  },
  {
   "cell_type": "code",
   "execution_count": 70,
   "metadata": {},
   "outputs": [
    {
     "data": {
      "text/plain": [
       "0.9873635136793031"
      ]
     },
     "execution_count": 70,
     "metadata": {},
     "output_type": "execute_result"
    }
   ],
   "source": [
    "auc_value_model2 = roc_auc_score(test_y, preds_model2)\n",
    "auc_value_model2"
   ]
  },
  {
   "cell_type": "code",
   "execution_count": 71,
   "metadata": {},
   "outputs": [],
   "source": [
    "fpr_model2, tpr_model2, threshold_model2 = roc_curve(test_y, preds_model2)"
   ]
  },
  {
   "cell_type": "code",
   "execution_count": 72,
   "metadata": {},
   "outputs": [],
   "source": [
    "roc_auc_model2 = auc(fpr_model2, tpr_model2)"
   ]
  },
  {
   "cell_type": "code",
   "execution_count": 73,
   "metadata": {},
   "outputs": [
    {
     "data": {
      "image/png": "[encoded data removed]",
      "text/plain": [
       "<Figure size 432x288 with 1 Axes>"
      ]
     },
     "metadata": {
      "needs_background": "light"
     },
     "output_type": "display_data"
    }
   ],
   "source": [
    "plt.figure()\n",
    "lw=2\n",
    "plt.plot(fpr_model2, tpr_model2, color='darkorange', lw=lw, label='ROC curve (area=%.2f)' %auc_value_model2)\n",
    "plt.plot([0, 1], [0, 1], color='navy', lw=lw, linestyle='--')\n",
    "plt.xlim([0.0, 1.0])\n",
    "plt.ylim([0.0, 1.05])\n",
    "plt.xlabel('False Positive Rate')\n",
    "plt.ylabel('True Positive Rate')\n",
    "plt.title('Receiver operating characteristic for VGG19')\n",
    "plt.legend(loc='lower right')\n",
    "plt.show()"
   ]
  },
  {
   "cell_type": "code",
   "execution_count": 74,
   "metadata": {},
   "outputs": [
    {
     "name": "stdout",
     "output_type": "stream",
     "text": [
      "              precision    recall  f1-score   support\n",
      "\n",
      "         0.0       0.98      0.93      0.96       286\n",
      "         1.0       0.85      0.95      0.90       114\n",
      "\n",
      "    accuracy                           0.94       400\n",
      "   macro avg       0.91      0.94      0.93       400\n",
      "weighted avg       0.94      0.94      0.94       400\n",
      "\n"
     ]
    }
   ],
   "source": [
    "report_model2 = classification_report(test_y, preds_model2.round())\n",
    "print(report_model2)"
   ]
  },
  {
   "cell_type": "code",
   "execution_count": 75,
   "metadata": {},
   "outputs": [
    {
     "name": "stdout",
     "output_type": "stream",
     "text": [
      "[[267  19]\n",
      " [  6 108]]\n"
     ]
    }
   ],
   "source": [
    "cnf_matrix_model2 = confusion_matrix(y_true=test_y, y_pred=preds_model2.round())\n",
    "np.set_printoptions(precision=2)\n",
    "print(cnf_matrix_model2)"
   ]
  },
  {
   "cell_type": "code",
   "execution_count": 76,
   "metadata": {},
   "outputs": [
    {
     "name": "stdout",
     "output_type": "stream",
     "text": [
      "Confusion matrix, without normalization\n",
      "[[267  19]\n",
      " [  6 108]]\n"
     ]
    },
    {
     "data": {
      "image/png": "[encoded data removed]",
      "text/plain": [
       "<Figure size 432x288 with 2 Axes>"
      ]
     },
     "metadata": {
      "needs_background": "light"
     },
     "output_type": "display_data"
    }
   ],
   "source": [
    "plt.figure()\n",
    "plot_confusion_matrix(cnf_matrix_model2, classes=cm_plot_labels, title='Confusion matrix for Baseline, without normalization')\n",
    "plt.show()"
   ]
  },
  {
   "cell_type": "code",
   "execution_count": 77,
   "metadata": {},
   "outputs": [
    {
     "name": "stdout",
     "output_type": "stream",
     "text": [
      "Normalized confusion matrix\n",
      "[[0.93 0.07]\n",
      " [0.05 0.95]]\n"
     ]
    },
    {
     "data": {
      "image/png": "[encoded data removed]",
      "text/plain": [
       "<Figure size 432x288 with 2 Axes>"
      ]
     },
     "metadata": {
      "needs_background": "light"
     },
     "output_type": "display_data"
    }
   ],
   "source": [
    "plt.figure()\n",
    "plot_confusion_matrix(cnf_matrix_model2, classes=cm_plot_labels, normalize=True, title='Normalized confusion matrix for Baseline')\n",
    "plt.show()"
   ]
  },
  {
   "cell_type": "markdown",
   "metadata": {},
   "source": [
    "## Saving history in CSV"
   ]
  },
  {
   "cell_type": "code",
   "execution_count": 78,
   "metadata": {},
   "outputs": [],
   "source": [
    "# convert the history.history dict to a pandas DataFrame:     \n",
    "hist_df = pd.DataFrame(history2.history) \n",
    "# or save to csv: \n",
    "hist_csv_file = 'vgg19_fine_tuned_chest_xray_ALL_data'+str(date.today())+'_history.csv'\n",
    "with open(hist_csv_file, mode='w') as f:\n",
    "    hist_df.to_csv(f)"
   ]
  },
  {
   "cell_type": "markdown",
   "metadata": {},
   "source": [
    "## Comparing Methods\n",
    "\n",
    "* accuracy history plot for freezing and unfreezing the last few abstract layers of VGG19 convolutional base "
   ]
  },
  {
   "cell_type": "code",
   "execution_count": null,
   "metadata": {},
   "outputs": [],
   "source": [
    "# frozen model details\n",
    "vgg19_dict = history2.history\n",
    "vgg19_acc_values = vgg19_dict['accuracy'] \n",
    "vgg19_val_acc_values = vgg19_dict['val_accuracy']\n",
    "\n",
    "# unfrozen model\n",
    "vgg19_tuned_dict = history3.history\n",
    "vgg19_tuned_acc = vgg19_tuned_dict['accuracy'] \n",
    "vgg19_tuned_val_acc = vgg19_tuned_dict['val_accuracy']\n",
    "\n",
    "# Plot the accuracy for these models\n",
    "fig, ax = plt.subplots(figsize=(12, 8))\n",
    "epochs = range(1, len(vgg19_tuned_acc) + 1)\n",
    "ax.plot(epochs, vgg19_acc_values[:10], label='Training accuracy (frozen VGG19 base)')\n",
    "ax.plot(epochs, vgg19_val_acc_values[:10], label='Validation accuracy (frozen VGG19 base)')\n",
    "ax.plot(epochs, vgg19_tuned_acc, label='Training accuracy (unfrozen VGG19 base)')\n",
    "ax.plot(epochs, vgg19_tuned_val_acc, label='Validation accuracy (unfrozen VGG19 base)')\n",
    "ax.set_title('Training & validation accuracy frozen VGG19 vs unfrozen VGG19')\n",
    "ax.set_xlabel('Epochs')\n",
    "ax.set_ylabel('Accuracy')\n",
    "ax.legend();"
   ]
  },
  {
   "cell_type": "markdown",
   "metadata": {},
   "source": [
    "* loss history plot for freezing and unfreezing the last few abstract layers of VGG19 convolutional base"
   ]
  },
  {
   "cell_type": "code",
   "execution_count": null,
   "metadata": {},
   "outputs": [],
   "source": [
    "# CNN model details\n",
    "vgg19_dict = history2.history\n",
    "vgg19_loss_values = vgg19_dict['loss'] \n",
    "vgg19_val_loss_values = vgg19_dict['val_loss']\n",
    "\n",
    "# Baseline model\n",
    "vgg19_tuned_dict = history3.history\n",
    "vgg19_tuned_loss = vgg19_tuned_dict['loss'] \n",
    "vgg19_tuned_val_loss = vgg19_tuned_dict['val_loss']\n",
    "\n",
    "# Plot the accuracy for these models\n",
    "fig, ax = plt.subplots(figsize=(12, 8))\n",
    "epochs = range(1, len(vgg19_tuned_loss) + 1)\n",
    "ax.plot(epochs, vgg19_loss_values[:10], label='Training loss (frozen VGG19 base)')\n",
    "ax.plot(epochs, vgg19_val_loss_values[:10], label='Validation loss (frozen VGG19 base)')\n",
    "ax.plot(epochs, vgg19_tuned_loss, label='Training loss (unfrozen VGG19 base)')\n",
    "ax.plot(epochs, vgg19_tuned_val_loss, label='Validation loss (unfrozen VGG19 base)')\n",
    "ax.set_title('Training & validation frozen VGG19 vs unfrozen VGG19')\n",
    "ax.set_xlabel('Epochs')\n",
    "ax.set_ylabel('Loss')\n",
    "ax.legend();"
   ]
  },
  {
   "cell_type": "code",
   "execution_count": null,
   "metadata": {},
   "outputs": [],
   "source": []
  }
 ],
 "metadata": {
  "kernelspec": {
   "display_name": "Python 3",
   "language": "python",
   "name": "python3"
  },
  "language_info": {
   "codemirror_mode": {
    "name": "ipython",
    "version": 3
   },
   "file_extension": ".py",
   "mimetype": "text/x-python",
   "name": "python",
   "nbconvert_exporter": "python",
   "pygments_lexer": "ipython3",
   "version": "3.7.6"
  },
  "toc": {
   "base_numbering": 1,
   "nav_menu": {},
   "number_sections": true,
   "sideBar": true,
   "skip_h1_title": false,
   "title_cell": "Table of Contents",
   "title_sidebar": "Contents",
   "toc_cell": false,
   "toc_position": {},
   "toc_section_display": true,
   "toc_window_display": false
  }
 },
 "nbformat": 4,
 "nbformat_minor": 2
}
